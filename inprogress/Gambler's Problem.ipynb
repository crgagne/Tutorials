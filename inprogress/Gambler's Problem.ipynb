{
 "cells": [
  {
   "cell_type": "code",
   "execution_count": 292,
   "metadata": {
    "collapsed": true
   },
   "outputs": [],
   "source": [
    "# re-written from Fred's github"
   ]
  },
  {
   "cell_type": "code",
   "execution_count": 109,
   "metadata": {
    "collapsed": true
   },
   "outputs": [],
   "source": [
    "from scipy.stats import bernoulli\n",
    "import numpy as np\n",
    "from collections import namedtuple\n",
    "%matplotlib inline\n",
    "\n",
    "import matplotlib.pyplot as plt\n",
    "import numpy as np\n",
    "import pandas as pd\n",
    "import seaborn as sns\n",
    "sns.set_style('whitegrid')\n",
    "sns.set_context('notebook', font_scale=1.2)"
   ]
  },
  {
   "cell_type": "code",
   "execution_count": 110,
   "metadata": {
    "collapsed": false
   },
   "outputs": [
    {
     "data": {
      "text/plain": [
       "[Results(p=0.5, s1=20, reward=0, Done=False),\n",
       " Results(p=0.5, s1=20, reward=0, Done=False)]"
      ]
     },
     "execution_count": 110,
     "metadata": {},
     "output_type": "execute_result"
    }
   ],
   "source": [
    "Results = namedtuple('Results',('p','s1','reward','Done'))\n",
    "r = Results(0.5,20,0,False)\n",
    "[r,r]"
   ]
  },
  {
   "cell_type": "code",
   "execution_count": 285,
   "metadata": {
    "collapsed": false
   },
   "outputs": [],
   "source": [
    "\n",
    "# gamblers problem. \n",
    "def gambers_problem(goal,ph):\n",
    "    # returns a dictionnary that is indexed by s,a and returns new state with some p\n",
    "    \n",
    "    def results(s,a):\n",
    "        results = [] # list for results \n",
    "        if s==0:\n",
    "            return[Results(1,0,0,True)] # game over \n",
    "        \n",
    "        if not 0 < a <= s:\n",
    "            # Penalty for illegal bets.\n",
    "            # this is necessary for smoothness of results # \n",
    "            return [Results(1, 0, -1, True)]\n",
    "        \n",
    "        for p,s1 in [(ph,s+a),(1-ph,s-a)]:\n",
    "            \n",
    "            if s1<=0: # if terminal states, list is just one option\n",
    "                results.append(Results(p,0,0,True)) \n",
    "            elif s1>=goal:\n",
    "                results.append(Results(p,0,1,True))\n",
    "            else:# otherwise its two states. \n",
    "                results.append(Results(p,s1,0,False)) \n",
    "        \n",
    "        return(results)\n",
    "        \n",
    "    P = {}\n",
    "    for s in range(goal):\n",
    "        P[s]={}\n",
    "        for a in range(s+1): # only can bet up to s\n",
    "            P[s][a] =results(s,a) # a list of possible results \n",
    "            \n",
    "            \n",
    "    return(P)\n",
    "     "
   ]
  },
  {
   "cell_type": "code",
   "execution_count": 279,
   "metadata": {
    "collapsed": false
   },
   "outputs": [],
   "source": [
    "\n",
    "def expected_value(V,results,discount=1):\n",
    "    \"\"\"expected value of a list of possible results of an action\"\"\"\n",
    "    return np.sum(p*(r+discount*V[s1]) for p,s1,r,_ in results)\n",
    "\n",
    "def value_iteration(P,discount=1,epsilon=0.001,max_iters=10000):\n",
    "    \n",
    "    V = np.random.rand(len(P.keys())) # initialize value to 0\n",
    "\n",
    "    for i in range(1,max_iters+1):\n",
    "        delta=0\n",
    "        for state in P.keys():\n",
    "            v = V[state].copy()\n",
    "            V[state] = np.max([expected_value(V,P[state][action]) for action in P[state].keys()])\n",
    "            delta = np.max([delta,v-V[state]])\n",
    "        if delta<epsilon:\n",
    "            return(V)\n",
    "\n",
    "    print('failed')\n",
    "    return(V) \n",
    "\n",
    "def value_policy(P, V):\n",
    "    \"\"\"Policy that greedily maximizes expected value.\n",
    "    \n",
    "    The optimal policy if V is the optimal value function.\"\"\"\n",
    "    return np.array([max(P[s], key=lambda a: expected_value(V, P[s][a]))\n",
    "                     for s in P])\n",
    "    \n",
    "    #policy\n"
   ]
  },
  {
   "cell_type": "code",
   "execution_count": 294,
   "metadata": {
    "collapsed": false
   },
   "outputs": [
    {
     "data": {
      "image/png": "[encoded data removed]",
      "text/plain": [
       "<matplotlib.figure.Figure at 0x7f335c400450>"
      ]
     },
     "metadata": {},
     "output_type": "display_data"
    }
   ],
   "source": [
    "P = gambers_problem(goal=50,ph=0.4)\n",
    "V = value_iteration(P)\n",
    "policy = value_policy(P,V)\n",
    "states = np.arange(len(P))\n",
    "\n",
    "fig, axes = plt.subplots(2)\n",
    "plt.sca(axes[0])\n",
    "plt.plot(V,color='b')\n",
    "\n",
    "plt.xlim(0,states.max())\n",
    "plt.title('Value Function')\n",
    "\n",
    "plt.sca(axes[1])\n",
    "plt.plot(states,policy,color='b')\n",
    "plt.xlim(0,states.max())\n",
    "plt.title('Optimal Policy')\n",
    "plt.xlabel('state')\n",
    "plt.ylabel('action')\n",
    "plt.tight_layout()\n",
    "None"
   ]
  }
 ],
 "metadata": {
  "hide_input": false,
  "kernelspec": {
   "display_name": "Python 2",
   "language": "python",
   "name": "python2"
  },
  "language_info": {
   "codemirror_mode": {
    "name": "ipython",
    "version": 2
   },
   "file_extension": ".py",
   "mimetype": "text/x-python",
   "name": "python",
   "nbconvert_exporter": "python",
   "pygments_lexer": "ipython2",
   "version": "2.7.12"
  }
 },
 "nbformat": 4,
 "nbformat_minor": 0
}
