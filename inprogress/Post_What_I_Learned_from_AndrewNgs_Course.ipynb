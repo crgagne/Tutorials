{
 "cells": [
  {
   "cell_type": "markdown",
   "metadata": {},
   "source": [
    "Alternative Title: key take aways from Andrew Ng's Course \n",
    "\n",
    "\n",
    "My knowledge: I've come with a lot of statistical knowledge and exposure to a lot methods. \n",
    "\n",
    "The structure of Andrew's Course is worth noting: learning agorithms, learning theory, ... \n",
    "\n",
    "Part I: Learning Algorithms\n",
    "- new terminonogy \n",
    "- new links between least squares closed form solution, gradient descent, newton-raphson method for optimization. \n",
    "\n",
    "\n",
    "Although I was a bit rusty, it wasnt too bad to complete HW1 [asdf]()\n",
    "- What was difficult in the math? I became much more comfortable moving between sums and matrices. Example 1.3. Here, it actually took me quite awhile to double check all the dimensions and make sure the sums captured appropriately by the matrix multiplication. "
   ]
  },
  {
   "cell_type": "code",
   "execution_count": null,
   "metadata": {
    "collapsed": true
   },
   "outputs": [],
   "source": []
  }
 ],
 "metadata": {
  "hide_input": false,
  "kernelspec": {
   "display_name": "Python 2",
   "language": "python",
   "name": "python2"
  },
  "language_info": {
   "codemirror_mode": {
    "name": "ipython",
    "version": 2
   },
   "file_extension": ".py",
   "mimetype": "text/x-python",
   "name": "python",
   "nbconvert_exporter": "python",
   "pygments_lexer": "ipython2",
   "version": "2.7.10"
  },
  "toc": {
   "colors": {
    "hover_highlight": "#DAA520",
    "navigate_num": "#000000",
    "navigate_text": "#333333",
    "running_highlight": "#FF0000",
    "selected_highlight": "#FFD700",
    "sidebar_border": "#EEEEEE",
    "wrapper_background": "#FFFFFF"
   },
   "moveMenuLeft": true,
   "nav_menu": {
    "height": "-0.22222000000000008px",
    "width": "249.77778px"
   },
   "navigate_menu": true,
   "number_sections": true,
   "sideBar": true,
   "threshold": 4,
   "toc_cell": false,
   "toc_section_display": "block",
   "toc_window_display": false,
   "widenNotebook": false
  }
 },
 "nbformat": 4,
 "nbformat_minor": 2
}
