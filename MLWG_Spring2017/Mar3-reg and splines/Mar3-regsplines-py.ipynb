{
 "cells": [
  {
   "cell_type": "code",
   "execution_count": 19,
   "metadata": {
    "collapsed": false
   },
   "outputs": [
    {
     "name": "stderr",
     "output_type": "stream",
     "text": [
      "UsageError: unrecognized arguments: # % starts the magic code - google search for built-in magic commands\n"
     ]
    }
   ],
   "source": [
    "import numpy as np\n",
    "import matplotlib.pyplot as plt\n",
    "from sklearn.preprocessing import PolynomialFeatures\n",
    "from sklearn import linear_model\n",
    "import scipy.interpolate as si\n",
    "from numpy import linspace,exp\n",
    "from numpy.random import randn\n",
    "import matplotlib.pyplot as plt\n",
    "from scipy.interpolate import UnivariateSpline\n",
    "\n",
<<<<<<< HEAD
    "%matplotlib inline # % starts the magic code - google search for built-in magic commands"
=======
    "%matplotlib inline"
>>>>>>> c25524c5840e1a7260ff406a16d78e53566ce623
   ]
  },
  {
   "cell_type": "markdown",
   "metadata": {},
   "source": [
    "## LinReg"
   ]
  },
  {
   "cell_type": "code",
   "execution_count": 20,
   "metadata": {
    "collapsed": false
   },
   "outputs": [],
   "source": [
    "X = np.array([2, 4, 8, 12, 18, 20])\n",
    "y = np.array([1, 3, 5, 9, 19, 21])"
   ]
  },
  {
   "cell_type": "code",
   "execution_count": 21,
   "metadata": {
    "collapsed": false
   },
   "outputs": [
    {
     "name": "stdout",
     "output_type": "stream",
     "text": [
      "10.6666666667\n",
      "9.66666666667\n"
     ]
    }
   ],
   "source": [
    "print(np.mean(X))\n",
    "print(np.mean(y))"
   ]
  },
  {
   "cell_type": "code",
   "execution_count": 22,
   "metadata": {
    "collapsed": false
   },
   "outputs": [
    {
     "name": "stdout",
     "output_type": "stream",
     "text": [
      "[-8.66666667 -6.66666667 -2.66666667  1.33333333  7.33333333  9.33333333]\n",
      "[ -8.66666667  -6.66666667  -4.66666667  -0.66666667   9.33333333\n",
      "  11.33333333]\n"
     ]
    }
   ],
   "source": [
    "print(X - np.mean(X))\n",
    "print(y - np.mean(y))"
   ]
  },
  {
   "cell_type": "code",
   "execution_count": 23,
   "metadata": {
    "collapsed": false
   },
   "outputs": [
    {
     "data": {
      "image/png": "iVBORw0KGgoAAAANSUhEUgAAAgcAAAFkCAYAAAC0KZhSAAAABHNCSVQICAgIfAhkiAAAAAlwSFlz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\ncCBJkjKGA0mSlDEcSJKkjOFAkiRl/h8H8Ge2SnvG2AAAAABJRU5ErkJggg==\n",
      "text/plain": [
<<<<<<< HEAD
       "<matplotlib.figure.Figure at 0x1126f8be0>"
=======
       "<matplotlib.figure.Figure at 0x1048b0320>"
>>>>>>> c25524c5840e1a7260ff406a16d78e53566ce623
      ]
     },
     "metadata": {},
     "output_type": "display_data"
    }
   ],
   "source": [
    "plt.scatter(X,y)\n",
    "plt.show()"
   ]
  },
  {
   "cell_type": "code",
   "execution_count": 24,
   "metadata": {
    "collapsed": false
   },
   "outputs": [
    {
     "name": "stdout",
     "output_type": "stream",
     "text": [
      "-2.42574257426 1.13366336634\n"
     ]
    }
   ],
   "source": [
    "B1 = sum((X - np.mean(X)) * (y - np.mean(y))) / sum((X - np.mean(X))**2)\n",
    "B0 = np.mean(y) - (B1 * np.mean(X))\n",
    "print(B0, B1)"
   ]
  },
  {
   "cell_type": "code",
   "execution_count": 25,
   "metadata": {
    "collapsed": false
   },
   "outputs": [
    {
     "name": "stdout",
     "output_type": "stream",
     "text": [
      "-2.42574257426 1.13366336634\n"
     ]
    }
   ],
   "source": [
    "# alternatively\n",
    "B1, B0 = np.polyfit(X, y, 1)\n",
    "print(B0, B1)"
   ]
  },
  {
   "cell_type": "code",
   "execution_count": 26,
   "metadata": {
    "collapsed": false
   },
   "outputs": [
    {
     "data": {
      "image/png": "iVBORw0KGgoAAAANSUhEUgAAAgcAAAFkCAYAAAC0KZhSAAAABHNCSVQICAgIfAhkiAAAAAlwSFlz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\nknIYDiRJUg7DgSRJyvH/ASlh8KTJEEIKAAAAAElFTkSuQmCC\n",
      "text/plain": [
<<<<<<< HEAD
       "<matplotlib.figure.Figure at 0x11285fef0>"
=======
       "<matplotlib.figure.Figure at 0x108e6fba8>"
>>>>>>> c25524c5840e1a7260ff406a16d78e53566ce623
      ]
     },
     "metadata": {},
     "output_type": "display_data"
    }
   ],
   "source": [
    "# Create a list of values in the best fit line\n",
    "abline_values = [B1 * i + B0 for i in X]\n",
    "\n",
    "# Plot the best fit line over the actual values\n",
    "plt.scatter(X,y)\n",
    "plt.plot(X, abline_values, 'b')\n",
    "plt.show()"
   ]
  },
  {
   "cell_type": "code",
   "execution_count": 27,
   "metadata": {
    "collapsed": false
   },
   "outputs": [
    {
     "name": "stdout",
     "output_type": "stream",
     "text": [
      "[  2.    3.6   6.8  10.   14.8  16.4]\n"
     ]
    }
   ],
   "source": [
    "y_hat = 0.4 + 0.8 * X\n",
    "print(y_hat)"
   ]
  },
  {
   "cell_type": "code",
   "execution_count": 28,
   "metadata": {
    "collapsed": false
   },
   "outputs": [
    {
     "name": "stdout",
     "output_type": "stream",
     "text": [
      "[ 1.   0.6  1.8  1.  -4.2 -4.6]\n"
     ]
    }
   ],
   "source": [
    "y_err = y_hat - y\n",
    "print(y_err)"
   ]
  },
  {
   "cell_type": "code",
   "execution_count": 29,
   "metadata": {
    "collapsed": false
   },
   "outputs": [
    {
     "name": "stdout",
     "output_type": "stream",
     "text": [
      "[  1.     0.36   3.24   1.    17.64  21.16]\n"
     ]
    }
   ],
   "source": [
    "y_err_sq = y_err**2\n",
    "print(y_err_sq)"
   ]
  },
  {
   "cell_type": "code",
   "execution_count": 30,
   "metadata": {
    "collapsed": false
   },
   "outputs": [
    {
     "name": "stdout",
     "output_type": "stream",
     "text": [
      "2.72029410175\n"
     ]
    }
   ],
   "source": [
    "RMSE = (sum(y_err_sq) / len(y))**.5\n",
    "print(RMSE)"
   ]
  },
  {
   "cell_type": "code",
   "execution_count": 31,
   "metadata": {
    "collapsed": false
   },
   "outputs": [
    {
     "data": {
      "text/plain": [
       "True"
      ]
     },
     "execution_count": 31,
     "metadata": {},
     "output_type": "execute_result"
    }
   ],
   "source": [
    "RMSE == (sum((y_hat-y)**2) / len(y))**.5"
   ]
  },
  {
   "cell_type": "code",
   "execution_count": 32,
   "metadata": {
    "collapsed": true
   },
   "outputs": [],
   "source": [
    "X_reg = np.array([[x] for x in X])"
   ]
  },
  {
   "cell_type": "code",
   "execution_count": 33,
   "metadata": {
    "collapsed": false
   },
   "outputs": [
    {
     "name": "stdout",
     "output_type": "stream",
     "text": [
      "1.13366336634\n",
      "-2.42574257426\n"
     ]
    }
   ],
   "source": [
    "from sklearn import linear_model\n",
    "reg = linear_model.LinearRegression()\n",
    "reg.fit (X_reg, y)\n",
    "print(reg.coef_[0])\n",
    "print(reg.intercept_)"
   ]
  },
  {
   "cell_type": "code",
   "execution_count": 34,
   "metadata": {
    "collapsed": false
   },
   "outputs": [
    {
     "data": {
      "text/plain": [
       "True"
      ]
     },
     "execution_count": 34,
     "metadata": {},
     "output_type": "execute_result"
    }
   ],
   "source": [
    "round(B1, 5) == round(reg.coef_[0], 5)"
   ]
  },
  {
   "cell_type": "code",
   "execution_count": 35,
   "metadata": {
    "collapsed": false
   },
   "outputs": [
    {
     "data": {
      "text/plain": [
       "True"
      ]
     },
     "execution_count": 35,
     "metadata": {},
     "output_type": "execute_result"
    }
   ],
   "source": [
    "round(B0, 5) == round(reg.intercept_, 5)"
   ]
  },
  {
   "cell_type": "markdown",
   "metadata": {},
   "source": [
    "## PolynomialReg"
   ]
  },
  {
   "cell_type": "code",
   "execution_count": 36,
   "metadata": {
    "collapsed": false
   },
   "outputs": [],
   "source": [
    "poly = PolynomialFeatures(degree=3)\n",
    "X_ = poly.fit_transform(X_reg)"
   ]
  },
  {
   "cell_type": "code",
   "execution_count": 37,
   "metadata": {
    "collapsed": false
   },
   "outputs": [
    {
     "data": {
      "text/plain": [
       "array([[  1.00000000e+00,   2.00000000e+00,   4.00000000e+00,\n",
       "          8.00000000e+00],\n",
       "       [  1.00000000e+00,   4.00000000e+00,   1.60000000e+01,\n",
       "          6.40000000e+01],\n",
       "       [  1.00000000e+00,   8.00000000e+00,   6.40000000e+01,\n",
       "          5.12000000e+02],\n",
       "       [  1.00000000e+00,   1.20000000e+01,   1.44000000e+02,\n",
       "          1.72800000e+03],\n",
       "       [  1.00000000e+00,   1.80000000e+01,   3.24000000e+02,\n",
       "          5.83200000e+03],\n",
       "       [  1.00000000e+00,   2.00000000e+01,   4.00000000e+02,\n",
       "          8.00000000e+03]])"
      ]
     },
     "execution_count": 37,
     "metadata": {},
     "output_type": "execute_result"
    }
   ],
   "source": [
    "X_"
   ]
  },
  {
   "cell_type": "code",
   "execution_count": 41,
   "metadata": {
    "collapsed": false
   },
   "outputs": [
    {
     "name": "stdout",
     "output_type": "stream",
     "text": [
      "[ 0.          0.02127992  0.06607715 -0.00081573]\n",
      "1.15029858187\n"
     ]
    }
   ],
   "source": [
    "reg = linear_model.LinearRegression()\n",
    "reg.fit (X_, y)\n",
    "print(reg.coef_)\n",
    "print(reg.intercept_)"
   ]
  },
  {
   "cell_type": "code",
   "execution_count": 42,
   "metadata": {
    "collapsed": false
   },
   "outputs": [],
   "source": [
    "X = np.array([2, 4, 8, 12, 18, 20])\n",
    "y = np.array([1, 3, 5, 9, 19, 21])\n",
    "pfit = np.polyfit(X, y, 3)"
   ]
  },
  {
   "cell_type": "code",
   "execution_count": 43,
   "metadata": {
    "collapsed": false
   },
   "outputs": [
    {
     "data": {
      "text/plain": [
       "array([ -8.15730438e-04,   6.60771487e-02,   2.12799245e-02,\n",
       "         1.15029858e+00])"
      ]
     },
     "execution_count": 22,
     "metadata": {},
     "output_type": "execute_result"
    }
   ],
   "source": [
    "pfit"
   ]
  },
  {
   "cell_type": "code",
   "execution_count": 23,
   "metadata": {
    "collapsed": false
   },
   "outputs": [
    {
     "data": {
      "image/png": "iVBORw0KGgoAAAANSUhEUgAAAgcAAAFkCAYAAAC0KZhSAAAABHNCSVQICAgIfAhkiAAAAAlwSFlz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\n",
      "text/plain": [
<<<<<<< HEAD
       "<matplotlib.figure.Figure at 0x1128be0f0>"
=======
       "<matplotlib.figure.Figure at 0x109029fd0>"
>>>>>>> c25524c5840e1a7260ff406a16d78e53566ce623
      ]
     },
     "metadata": {},
     "output_type": "display_data"
    }
   ],
   "source": [
    "p = np.poly1d(pfit)\n",
    "plt.scatter(X,y)\n",
    "plt.plot(X, abline_values, 'b')\n",
    "plt.plot(X, p(X), '-', color=\"red\")\n",
    "plt.show()"
   ]
  },
  {
   "cell_type": "code",
<<<<<<< HEAD
   "execution_count": 44,
   "metadata": {
    "collapsed": false
   },
   "outputs": [
    {
     "data": {
      "text/plain": [
       "array([ -8.15730438e-04,   6.60771487e-02,   2.12799245e-02,\n",
       "         1.15029858e+00])"
      ]
     },
     "execution_count": 44,
     "metadata": {},
     "output_type": "execute_result"
    }
   ],
   "source": [
    "pfit"
   ]
  },
  {
   "cell_type": "code",
   "execution_count": 45,
=======
   "execution_count": 24,
>>>>>>> c25524c5840e1a7260ff406a16d78e53566ce623
   "metadata": {
    "collapsed": true
   },
   "outputs": [],
   "source": [
    "# http://stackoverflow.com/questions/24612626/b-spline-interpolation-with-python\n",
    "x = X\n",
    "\n",
    "t = range(len(x))\n",
    "ipl_t = np.linspace(0.0, len(x) - 1, 100)\n",
    "\n",
    "x_tup = si.splrep(t, x, k=3)\n",
    "y_tup = si.splrep(t, y, k=3)\n",
    "\n",
    "x_list = list(x_tup)\n",
    "xl = x.tolist()\n",
    "x_list[1] = xl + [0.0, 0.0, 0.0, 0.0]\n",
    "\n",
    "y_list = list(y_tup)\n",
    "yl = y.tolist()\n",
    "y_list[1] = yl + [0.0, 0.0, 0.0, 0.0]\n",
    "\n",
    "x_i = si.splev(ipl_t, x_list)\n",
    "y_i = si.splev(ipl_t, y_list)"
   ]
  },
  {
   "cell_type": "code",
<<<<<<< HEAD
   "execution_count": 46,
=======
   "execution_count": 25,
>>>>>>> c25524c5840e1a7260ff406a16d78e53566ce623
   "metadata": {
    "collapsed": false
   },
   "outputs": [
    {
     "data": {
      "image/png": "iVBORw0KGgoAAAANSUhEUgAAAgkAAAFyCAYAAAB/b0lnAAAABHNCSVQICAgIfAhkiAAAAAlwSFlz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\n",
      "text/plain": [
<<<<<<< HEAD
       "<matplotlib.figure.Figure at 0x112ca6f98>"
=======
       "<matplotlib.figure.Figure at 0x1091a3860>"
>>>>>>> c25524c5840e1a7260ff406a16d78e53566ce623
      ]
     },
     "metadata": {},
     "output_type": "display_data"
    }
   ],
   "source": [
    "fig = plt.figure()\n",
    "\n",
    "ax = fig.add_subplot(231)\n",
    "plt.plot(t, x, '-og')\n",
    "plt.plot(ipl_t, x_i, 'r')\n",
    "plt.xlim([0.0, max(t)])\n",
    "plt.title('Splined x(t)')\n",
    "\n",
    "ax = fig.add_subplot(232)\n",
    "plt.plot(t, y, '-og')\n",
    "plt.plot(ipl_t, y_i, 'r')\n",
    "plt.xlim([0.0, max(t)])\n",
    "plt.title('Splined y(t)')\n",
    "\n",
    "ax = fig.add_subplot(233)\n",
    "plt.plot(x, y, '-og')\n",
    "plt.plot(x_i, y_i, 'r')\n",
    "plt.xlim([min(x) - 0.3, max(x) + 0.3])\n",
    "plt.ylim([min(y) - 0.3, max(y) + 0.3])\n",
    "plt.title('Splined f(x(t), y(t))')\n",
    "\n",
    "ax = fig.add_subplot(234)\n",
    "for i in range(7):\n",
    "    vec = np.zeros(11)\n",
    "    vec[i] = 1.0\n",
    "    x_list = list(x_tup)\n",
    "    x_list[1] = vec.tolist()\n",
    "    x_i = si.splev(ipl_t, x_list)\n",
    "    plt.plot(ipl_t, x_i)\n",
    "plt.xlim([0.0, max(t)])\n",
    "plt.title('Basis splines')\n",
    "plt.show()"
   ]
  },
  {
   "cell_type": "markdown",
   "metadata": {},
   "source": [
    "## smooth splining"
   ]
  },
  {
   "cell_type": "code",
<<<<<<< HEAD
   "execution_count": 47,
=======
   "execution_count": 26,
>>>>>>> c25524c5840e1a7260ff406a16d78e53566ce623
   "metadata": {
    "collapsed": false
   },
   "outputs": [
    {
     "data": {
      "image/png": "iVBORw0KGgoAAAANSUhEUgAAAgUAAAFkCAYAAACw3EhvAAAABHNCSVQICAgIfAhkiAAAAAlwSFlz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\n",
      "text/plain": [
<<<<<<< HEAD
       "<matplotlib.figure.Figure at 0x112c602e8>"
=======
       "<matplotlib.figure.Figure at 0x1090b5668>"
>>>>>>> c25524c5840e1a7260ff406a16d78e53566ce623
      ]
     },
     "metadata": {},
     "output_type": "display_data"
    }
   ],
   "source": [
    "s = UnivariateSpline(x, y, s=1)\n",
    "xs = x\n",
    "ys = s(xs)\n",
    "plt.plot(x, y, '.-', color=\"green\")\n",
    "plt.plot(xs, ys, color=\"blue\")\n",
    "plt.show()"
   ]
  },
  {
   "cell_type": "markdown",
   "metadata": {},
   "source": [
    "## macro data"
   ]
  },
  {
   "cell_type": "code",
<<<<<<< HEAD
   "execution_count": 48,
=======
   "execution_count": 27,
>>>>>>> c25524c5840e1a7260ff406a16d78e53566ce623
   "metadata": {
    "collapsed": false
   },
   "outputs": [],
   "source": [
    "import csv\n",
    "\n",
    "with open('macro.csv', 'r', encoding=\"utf-8\") as f:\n",
    "    reader = csv.reader(f)\n",
    "    data = list(reader)"
   ]
  },
  {
   "cell_type": "code",
<<<<<<< HEAD
   "execution_count": 49,
=======
   "execution_count": 28,
>>>>>>> c25524c5840e1a7260ff406a16d78e53566ce623
   "metadata": {
    "collapsed": false
   },
   "outputs": [],
   "source": [
    "gdp = np.array([float(x[2]) for x in data[1:]])\n",
    "trade = np.array([float(x[-1]) for x in data[1:]])"
   ]
  },
  {
   "cell_type": "code",
<<<<<<< HEAD
   "execution_count": 50,
=======
   "execution_count": 29,
>>>>>>> c25524c5840e1a7260ff406a16d78e53566ce623
   "metadata": {
    "collapsed": true
   },
   "outputs": [],
   "source": [
    "y = gdp\n",
    "X = trade"
   ]
  },
  {
   "cell_type": "code",
<<<<<<< HEAD
   "execution_count": 51,
=======
   "execution_count": 30,
>>>>>>> c25524c5840e1a7260ff406a16d78e53566ce623
   "metadata": {
    "collapsed": false
   },
   "outputs": [
    {
     "name": "stdout",
     "output_type": "stream",
     "text": [
      "57.0762536314\n",
      "3.25422300771\n"
     ]
    }
   ],
   "source": [
    "print(np.mean(X))\n",
    "print(np.mean(y))"
   ]
  },
  {
   "cell_type": "code",
<<<<<<< HEAD
   "execution_count": 52,
=======
   "execution_count": 31,
>>>>>>> c25524c5840e1a7260ff406a16d78e53566ce623
   "metadata": {
    "collapsed": false
   },
   "outputs": [
    {
     "name": "stdout",
     "output_type": "stream",
     "text": [
      "[ -4.74533476e+01  -4.70927076e+01  -4.69871336e+01  -4.66403236e+01\n",
      "  -4.65809036e+01  -4.57979836e+01  -4.58585436e+01  -4.53092036e+01\n",
      "  -4.33037036e+01  -3.96529936e+01  -4.05541436e+01  -3.98413336e+01\n",
      "  -3.95352636e+01  -3.89003436e+01  -3.73434036e+01  -3.55656836e+01\n",
      "  -3.65373036e+01  -3.85065336e+01  -3.92603736e+01  -3.90472636e+01\n",
      "  -3.98725436e+01  -3.98453036e+01  -3.87820736e+01  -3.76627276e+01\n",
      "  -3.64378896e+01  -1.86215836e+01  -1.69145836e+01  -1.60105136e+01\n",
      "  -1.43077636e+01  -1.29109236e+01  -1.32263536e+01  -1.43981236e+01\n",
      "  -1.31915336e+01  -1.06608236e+01  -6.58294363e+00  -8.91463363e+00\n",
      "  -1.09545936e+01  -9.07314363e+00  -5.84969363e+00  -2.14422363e+00\n",
      "  -1.30464363e+00  -2.75125363e+00  -8.49270363e+00  -8.67417363e+00\n",
      "  -3.55280363e+00  -2.76805363e+00  -3.61515363e+00  -4.91942363e+00\n",
      "  -4.99885863e+00  -7.14377763e+00  -1.91443536e+01  -1.92459336e+01\n",
      "  -1.93132936e+01  -1.51507936e+01  -1.42783636e+01  -1.29919136e+01\n",
      "  -1.35655636e+01  -1.42090436e+01  -8.25345363e+00   2.55211637e+00\n",
      "  -4.56588363e+00  -2.01373631e-01   1.98873637e+00  -1.54491363e+00\n",
      "  -1.28732363e+00  -4.56275363e+00  -6.53039363e+00  -6.04466363e+00\n",
      "  -4.30303363e+00   1.00038637e+00   5.06596369e-01  -3.55290363e+00\n",
      "  -4.42610363e+00  -6.82807163e+00  -4.72028363e+00   2.99826964e+01\n",
      "   2.83734664e+01   2.54842564e+01   2.55548064e+01   2.89625364e+01\n",
      "   3.48000264e+01   3.41928564e+01   3.01138264e+01   3.40816964e+01\n",
      "   4.78994464e+01   3.92043664e+01   4.12641464e+01   3.68167364e+01\n",
      "   3.26749364e+01   4.15912864e+01   4.84739464e+01   5.53964464e+01\n",
      "   5.42574464e+01   5.57342464e+01   6.19268464e+01   6.55958464e+01\n",
      "   4.70510464e+01   4.52357464e+01   4.79810344e+01   5.46859724e+01\n",
      "   1.65421864e+01   1.74657864e+01   1.65093364e+01   2.13715364e+01\n",
      "   2.73029964e+01   2.96832164e+01   2.90298364e+01   2.80804064e+01\n",
      "   3.73386164e+01   5.11011464e+01   3.65329564e+01   4.11912064e+01\n",
      "   5.00918464e+01   4.73141464e+01   5.81383464e+01   6.43133464e+01\n",
      "   7.34951464e+01   8.14094464e+01   8.01133464e+01   8.89439464e+01\n",
      "   8.41992464e+01   7.01339464e+01   6.98313464e+01   7.62048684e+01\n",
      "   8.56098304e+01  -3.27736936e+01  -3.20674736e+01  -3.22261136e+01\n",
      "  -3.16741936e+01  -2.92465036e+01  -2.55642936e+01  -2.48904036e+01\n",
      "  -2.44603036e+01  -2.23158936e+01  -1.38705036e+01  -1.97497436e+01\n",
      "  -1.66465236e+01  -1.55074236e+01  -1.68208536e+01  -1.45346036e+01\n",
      "  -1.21843236e+01  -1.01808636e+01  -1.08519336e+01  -1.13830436e+01\n",
      "  -9.42973363e+00  -9.86602363e+00  -1.54490636e+01  -1.56111136e+01\n",
      "  -1.42150206e+01  -7.40913563e+00  -1.91817936e+01  -1.82625836e+01\n",
      "  -1.75698336e+01  -1.56721136e+01  -1.40073236e+01  -1.38658336e+01\n",
      "  -1.38285536e+01  -1.43079136e+01  -1.28798936e+01  -4.88141363e+00\n",
      "  -7.15955363e+00  -4.48134363e+00  -5.04091363e+00  -6.34248363e+00\n",
      "  -3.67436363e+00   1.27926369e-01   4.37621637e+00   5.26127637e+00\n",
      "   3.60213637e+00   7.09245637e+00   9.23921637e+00   2.90463637e+00\n",
      "   1.01928637e+00   2.17816237e+00   7.39612637e+00  -6.24807363e+00\n",
      "  -5.53639363e+00  -6.19912363e+00  -5.44989363e+00  -1.55221363e+00\n",
      "   4.08687637e+00   3.55002637e+00   3.41921637e+00   3.60897637e+00\n",
      "   9.28755637e+00   5.99050637e+00   9.65019637e+00   1.01572864e+01\n",
      "   9.54845637e+00   1.47006864e+01   1.85236664e+01   2.08409064e+01\n",
      "   1.70567264e+01   1.62099764e+01   2.06101964e+01   2.38581164e+01\n",
      "   1.56482164e+01   1.32865164e+01   1.73456384e+01   2.23966754e+01\n",
      "  -3.01362736e+01  -2.88391336e+01  -2.83151536e+01  -2.76575236e+01\n",
      "  -2.56316336e+01  -2.46032536e+01  -2.44094936e+01  -2.28794636e+01\n",
      "  -1.99269736e+01  -1.01827736e+01  -1.38948436e+01  -8.73497363e+00\n",
      "  -8.59743363e+00  -9.08612363e+00  -5.77314363e+00  -6.62503363e+00\n",
      "  -1.10682536e+01  -1.25450236e+01  -1.59410036e+01  -1.34273236e+01\n",
      "  -1.32266436e+01  -2.00599236e+01  -2.02509536e+01  -1.82377726e+01\n",
      "  -1.84262656e+01  -1.49121036e+01  -1.56810036e+01  -1.67199436e+01\n",
      "  -1.33255636e+01  -9.69422363e+00  -4.47804363e+00  -6.59573363e+00\n",
      "  -6.32999363e+00  -5.57970363e+00   1.65451637e+00  -3.69677363e+00\n",
      "  -4.98540363e+00  -1.92283363e+00  -1.12305363e+00   4.27413637e+00\n",
      "   9.60564637e+00   8.63978637e+00   4.41526637e+00   3.57067637e+00\n",
      "   1.17607637e+00   2.41506369e-01  -5.13860363e+00  -6.80008363e+00\n",
      "  -7.28958463e+00  -8.09443763e+00  -1.22906836e+01  -1.33477336e+01\n",
      "  -1.46138836e+01  -1.35586836e+01  -1.07978636e+01  -8.30313363e+00\n",
      "  -9.55592363e+00  -1.02118436e+01  -5.03078363e+00   8.10234637e+00\n",
      "  -5.77433631e-01  -9.75036314e-02  -6.35453631e-01  -1.65863363e+00\n",
      "   4.73764637e+00   4.44356637e+00   3.08707637e+00   7.68465637e+00\n",
      "   1.14358464e+01   1.11787564e+01   1.11512764e+01   5.71144637e+00\n",
      "   4.75728637e+00   6.37864537e+00   6.74307137e+00   2.51775664e+01\n",
      "   2.60127264e+01   2.85853864e+01   2.71603564e+01   2.53663364e+01\n",
      "   2.78407364e+01   2.65871964e+01   2.35513664e+01   3.05379564e+01\n",
      "   3.83534464e+01   3.32587664e+01   3.46470864e+01   3.32627964e+01\n",
      "   2.56817864e+01   2.86323964e+01   3.13901664e+01   3.04375464e+01\n",
      "   2.80343364e+01   2.65414364e+01   2.84306764e+01   2.86837164e+01\n",
      "   2.19321564e+01   1.63083664e+01   1.67874514e+01   2.25799204e+01\n",
      "   5.21042637e+00   1.70611637e+00  -2.09973631e-01  -3.03123631e-01\n",
      "  -6.86436314e-02   1.72991637e+00  -4.49636314e-02  -3.48303363e+00\n",
      "   1.88508637e+00   9.36041637e+00   4.02233637e+00   5.26103637e+00\n",
      "   4.18900637e+00   6.57616369e-01   4.23677637e+00   9.39760637e+00\n",
      "   1.52869664e+01   1.47942164e+01   1.32478964e+01   1.55220764e+01\n",
      "   1.58720364e+01   7.29076637e+00   4.37195637e+00   5.39717737e+00\n",
      "   4.36704537e+00  -3.64350336e+01  -3.64814536e+01  -3.70210636e+01\n",
      "  -3.69941436e+01  -3.64779936e+01  -3.55681536e+01  -3.51231636e+01\n",
      "  -3.69098536e+01  -3.55370036e+01  -2.71587636e+01  -2.96477336e+01\n",
      "  -2.90396436e+01  -3.09601736e+01  -3.50740736e+01  -3.07601336e+01\n",
      "  -2.58609336e+01  -2.45574336e+01  -2.42701736e+01  -2.73404536e+01\n",
      "  -2.64221536e+01  -2.79146636e+01  -3.51663836e+01  -3.53639036e+01\n",
      "  -3.39474566e+01  -3.70759496e+01]\n",
      "[ 1.85691769 -0.97694011  1.44577699 -0.45422301 -3.45422301 -0.15422301\n",
      "  2.14577699  2.44577699 -4.15422301 -4.05422301  1.44577699  2.24577699\n",
      "  1.44577699 -0.65422301 -3.65422301  0.14577699 -6.25422301 -0.35422301\n",
      "  3.94577699  0.54577699 -0.45422301  0.44577699  1.34577699 -0.45422301\n",
      " -2.35422301  3.54794459 -0.33057721  2.34577699  1.94577699 -0.65422301\n",
      "  3.74577699  2.54577699  4.24577699  0.24577699 -2.15422301  2.84577699\n",
      " -1.05422301  0.64577699  0.14577699 -2.25422301  0.74577699 -7.55422301\n",
      " -0.45422301  2.14577699  1.44577699 -0.15422301  1.24577699  1.74577699\n",
      " -0.85422301 -2.85422301 -1.37712471 -0.99915791  0.84577699 -1.75422301\n",
      " -1.05422301 -0.55422301 -0.95422301  4.34577699 -4.25422301 -3.95422301\n",
      "  0.54577699 -2.25422301  0.34577699 -1.05422301 -5.55422301 -4.65422301\n",
      " -1.75422301  0.14577699 -1.45422301  0.44577699  0.24577699  1.44577699\n",
      "  0.84577699 -0.95422301 -2.45422301 -1.37712471 -0.99915791 -0.95422301\n",
      "  3.14577699  3.44577699  0.94577699  0.04577699  1.44577699  0.74577699\n",
      " -3.35422301  1.84577699 -0.95422301 -0.75422301 -0.85422301 -2.35422301\n",
      " -3.95422301 -4.65422301 -2.35422301 -1.55422301 -0.65422301 -1.25422301\n",
      " -2.15422301 -0.55422301  0.74577699  0.64577699 -0.09196411  0.62117459\n",
      "  0.94577699  3.34577699  3.14577699  0.44577699  2.04577699  2.64577699\n",
      "  0.84577699 -4.75422301  2.04577699 -2.85422301 -0.25422301 -1.15422301\n",
      "  0.74577699 -4.75422301 -1.75422301 -3.35422301 -1.85422301 -2.35422301\n",
      " -1.65422301 -1.35422301  1.04577699  0.34577699  0.54577699  1.95995939\n",
      "  1.43398769  1.04577699  3.74577699  2.44577699  2.14577699  2.64577699\n",
      "  2.14577699 -0.05422301 -3.05422301  1.94577699 -0.15422301  0.54577699\n",
      "  0.04577699 -2.15422301 -2.75422301 -1.45422301 -2.55422301 -1.95422301\n",
      " -1.35422301 -0.95422301 -1.35422301  0.24577699  0.34577699 -0.65422301\n",
      " -0.31280671 -3.37311131  3.04577699  4.54577699  2.74577699 -0.35422301\n",
      "  0.94577699  1.44577699 -2.95422301 -4.85422301  2.14577699 -0.25422301\n",
      " -0.35422301  0.94577699 -1.85422301 -3.05422301 -3.85422301 -2.05422301\n",
      " -0.65422301 -1.25422301 -0.95422301 -1.45422301  0.44577699 -0.05422301\n",
      "  1.44577699  2.38877589 -0.24653631  1.24577699  3.04577699  3.84577699\n",
      "  1.84577699  2.94577699  1.64577699  0.64577699 -3.65422301  1.34577699\n",
      "  1.14577699 -2.75422301  1.44577699 -0.25422301 -3.35422301 -2.05422301\n",
      " -1.15422301 -1.25422301 -0.75422301 -2.15422301 -1.35422301  0.94577699\n",
      "  0.44577699  1.64577699  2.73070709  3.92340279  3.24577699  2.84577699\n",
      "  2.04577699 -1.65422301 -0.05422301  3.74577699  0.84577699 -6.85422301\n",
      "  2.64577699 -1.35422301 -0.55422301  1.64577699  0.64577699 -3.05422301\n",
      " -3.75422301 -3.45422301 -0.45422301 -0.65422301 -0.75422301 -0.25422301\n",
      "  0.64577699 -0.25422301 -1.25422301 -0.88208141 -1.08536171 -0.75422301\n",
      "  6.34577699  4.64577699 -1.15422301  4.34577699  3.44577699 -0.25422301\n",
      " -2.05422301 -2.95422301 -3.05422301 -0.65422301  4.14577699  2.34577699\n",
      " -1.45422301 -0.25422301 -0.35422301 -0.25422301  0.04577699 -1.15422301\n",
      "  0.74577699  1.94577699  2.14577699 -2.85422301 -1.16325321  0.11140339\n",
      "  0.34577699  1.74577699  3.24577699 -2.35422301 -0.95422301  0.74577699\n",
      " -0.05422301 -0.65422301 -2.15422301 -4.85422301 -1.45422301  0.54577699\n",
      " -1.55422301 -3.55422301 -2.45422301 -0.85422301  0.14577699 -1.05422301\n",
      " -0.95422301 -0.35422301 -0.95422301 -0.85422301 -2.65422301  0.53192339\n",
      "  3.00263519 -0.95422301  3.14577699  3.44577699  1.34577699  1.94577699\n",
      "  0.84577699  1.94577699  0.94577699  3.54577699  0.34577699  1.24577699\n",
      "  1.84577699  0.94577699 -2.35422301 -2.95422301  0.64577699  0.54577699\n",
      "  2.04577699  0.94577699  0.14577699 -2.15422301 -2.85422301 -1.45422301\n",
      " -0.51298281  0.16698639  0.54577699  3.24577699 -0.95422301 -0.55422301\n",
      "  2.04577699  0.34577699 -4.15422301 -3.95422301  3.24577699 -1.65422301\n",
      " -1.75422301  0.24577699 -3.65422301 -4.15422301 -0.25422301 -1.15422301\n",
      "  0.24577699  1.04577699  0.34577699 -3.85422301 -3.45422301 -2.45422301\n",
      " -1.55422301  7.38405269  7.82811779  9.54577699  9.04577699  6.54577699\n",
      "  0.94577699  5.14577699  4.64577699 -4.45422301 -0.65422301  1.54577699\n",
      "  2.04577699  1.84577699  1.94577699  1.14577699  0.64577699 -0.45422301\n",
      " -0.05422301  1.74577699  1.44577699 -0.75422301  1.14577699  2.44577699\n",
      "  1.44577699  1.94577699]\n"
     ]
    }
   ],
   "source": [
    "print(X - np.mean(X))\n",
    "print(y - np.mean(y))"
   ]
  },
  {
   "cell_type": "code",
<<<<<<< HEAD
   "execution_count": 53,
=======
   "execution_count": 32,
>>>>>>> c25524c5840e1a7260ff406a16d78e53566ce623
   "metadata": {
    "collapsed": false
   },
   "outputs": [
    {
     "data": {
      "image/png": "iVBORw0KGgoAAAANSUhEUgAAAhUAAAFkCAYAAACXcsmHAAAABHNCSVQICAgIfAhkiAAAAAlwSFlz\nAAAPYQAAD2EBqD+naQAAIABJREFUeJztnXuYHFd55t/TYyGwhWZGY5CTxSTYGglzsURLMsLRSGYY\nZaTxmoTNPgHJFknYhF0cx8aJbS5JNhH2LsEW2FxtaRIcw0QTEdgEsh5rxAQsWIKsQQMxmxD1aGTW\nXIITpmWHcHWkb/+oKnVdTl27quvS7+95+pGmu7rqnFPV57znO9/5PiUiIIQQQghpl1reBSCEEEJI\nNaCoIIQQQkgqUFQQQgghJBUoKgghhBCSChQVhBBCCEkFigpCCCGEpAJFBSGEEEJSgaKCEEIIIalA\nUUEIIYSQVKCoIIQQQkgqZCoqlFJDSqlPKaW+pZQ6q5R6tevz+8337a+pLMtECCGEkGzI2lJxAYCv\nALgegF+SkYcArARwkfnamXGZCCGEEJIB52V5chE5BOAQACillM9hPxaRf8myHIQQQgjJniL4VFyl\nlHpCKfWPSqkPKaVW5F0gQgghhMQnU0tFBB4C8AkAjwG4FMA7AUwppV4hPjnZlVIDAEYBfB3AjzpU\nTkIIIaQKPBPAzwKYFpHFtE+eq6gQkY/Z/vx7pdRXASwAuArAZ32+NgrgzzIuGiGEEFJlrgVwIO2T\n5m2pcCAijymlvgtgFfxFxdcBYGJiApdddlmnipYLN998M+6+++68i5E5rGe16JZ6At1TV9azOnzt\na1/DddddB5hjadoUSlQopZ4HYADAPwUc9iMAuOyyy1Cv1ztSrrzo7e2tfB0B1rNqdEs9ge6pK+tZ\nSTJxH8hUVCilLoBhdbB2flyilFoLoGm+/gCGT8V3zOPeBaABYDrLchFCCCEkfbK2VGyAsYwh5uvd\n5vsPwIhdcTmA1wPoA/BtGGLiv4vI0xmXixBCCCEpk3WciiMI3ra6PcvrE0IIIaRzFCFOBfFh587u\nCC7KelaLbqkn0D11ZT1JVJRPOIjCopSqAzh+/PjxbnKoIYQQQtpmbm4O69evB4D1IjKX9vlpqSCE\nEEJIKlBUEEIIISQVKCoIIYQQkgoUFYQQQghJBYoKQgghhKQCRQUhhBBCUoGighBCCCGpQFFBCCGE\nkFSgqCCEEEJIKlBUEEIIISQVKCoIIYQQkgoUFYQQQghJBYoKQgghhKQCRQUhhBBCUoGighBCCCGp\nQFFBCCGEkFQ4L+8CED2NRgMLCwtYtWoVBgcH8y4OIYQQEgotFQWj2Wxi+/arsWbNGoyNjWH16tXY\nvv1qnD59Ou+iEUIIIYFQVBSMXbt2Y2bmKIAJAI8DmMDMzFHs3HldziUjhBBCguHyR4FoNBqYnp6C\nISiuNd+9FmfOCKand2N+fp5LIYQQQgoLLRUFYmFhwfzfFtcnWwEAJ0+e7Gh5CCGEkDhQVBSISy+9\n1Pzf51yfHAEArFq1qqPlIYQQQuLA5Y8CsXr1aoyOjmFm5kacOfNtACsB/DN6et6JkZExLn0QQggp\nNBQVBeNDH3o/rrjiSiwu3nbuvb6+lbj33g/kWCpCCCEkHC5/FIzrr/8tPPnk07Dv/njyyafxpjfd\nkHPJCCGEkGBoqSgQ3P1BCCGkzNBSUSC4+4MQQkiZoagoENz9QQghpMxQVBQIa/dHT8+NMJZAvgFg\nAj09N2F0lLs/CCGEFBuKioIxOTmBkZFNAHYDeD6A3RgZ2YTJyYmcS0YIIYQEQ0fNgtHf349Dhx7E\n/Pw8Tp48ySylhBBCSgNFRUEZHBykmCCEEFIquPxBCCGEkFSgqCCEEEJIKlBUEEIIISQVKCoIIYQQ\nkgoUFYQQQghJBe7+KDiNRgMLCwvcWkoIIaTw0FJRUJrNJrZvvxpr1qzB2NgYVq9eje3br8bp06fz\nLhohhBCihaKioOzatRszM0dhT4E+M3MUO3del3PJCCGEED1c/iggTIFOCCGkjNBSUUCYAp0QQkgZ\noagoIEyBTgghpIxQVBQQpkAnhBBSRigqCsqHPvR+9PUtgT0Fel/fEtx77wdyLhkhhBCih6KioFx/\n/W/hySefBrAXwAMA9uLJJ5/Gm950Q84lI4QQQvRw90cB0e/+AM6cWcndH4QQQgoLLRUFhLs/CCGE\nlBGKigLC3R+EEELKSKaiQik1pJT6lFLqW0qps0qpV2uOeYdS6ttKqR8opT6tlOr6EZO7PwghhJSR\nrC0VFwD4CoDrAYj7Q6XUWwDcAOCNAK4A8H0A00qpZ2RcrsIzOTmBkZFNsO/+GBnZhMnJiZxLRggh\nhOjJ1FFTRA4BOAQASimlOeQmALeLyP82j3k9gCcA/CKAj2VZtqLT39+PQ4cexPz8PE6ePMkspYQQ\nQgpPbrs/lFIvAHARgL+x3hORf1VKPQLgFehyUWExODhIMUEIIaQU5Lml9CIYSyJPuN5/wvyMwNhe\nurCwQEsFIYSQwlPaOBU333wzent7He/t3LkTO3fuzKlE6dJsNrFr124zXoXB6OgYJicn0N/fn2PJ\nCCGElIHJyUlMTk463nvqqacyvaYS8fhPZnMhpc4C+EUR+ZT59wsALABYJyKP2o57GMCXReRmn/PU\nARw/fvw46vV69gXPie3br8bMzFGcOfM+GPEqPoeenhsxMrIJhw49mHfxcoFWG0IIaY+5uTmsX78e\nANaLyFza588tToWIPAbgOwBeZb2nlFoO4OUA/javchUBK6KmISiuBXAxgGtx5sx7MT09hfn5+ZxL\n2FmazSa2b78aa9aswdjYGFavXo3t26/G6dOn8y4aIYQQG1nHqbhAKbVWKbXOfOsS8++Lzb/vAfB7\nSqlrlFIvBfARAN8E8Mksy1V0GFHTya5duzEzcxRGzI7HAUxgZuYodu68LueSEUIIsZO1T8UGAJ+F\n4ZApAN5tvv8AgDeIyJ1KqfMB7APQB+DzAHaIyE8yLlehcUbUvNb2SfdF1NTnQbkWZ84I86AQQkjB\nyNRSISJHRKQmIj2u1xtsx/yhiPy0iJwvIqMi0l3TcA2MqNmCVhtCCCkPzP1RUBhR04B5UAghpDyU\ndktp1WFETQPLajMzcyPOnBEYFooj6Om5CSMj3WW1IYSQokNRUXAYUdOw2uzceR2mp3efe29kZKzr\nrDaEEFJ0KCpI4aHVhhBCygFFBSkNtNoQQkixoaMmIYQQQlKBooIQQgghqUBRQQghhJBUoKgghBBC\nSCpQVBBCCCEkFbj7o2Qw/TchhJCiQktFSWD6b0IIIUWHoqIkMP03IYSQosPljxLA9N+EEELKAC0V\nJYDpvwkhhJQBiooSwPTfhBBCygBFRYFpNBp46KGHoJTC6OgYenpuhLEE8g0AE+jpuQmjo0z/rcNq\nu/n5+byLQgghXQNFRQHR7fR4+umnsXXregC7ATwfwG6MjGxi+m8X3CVDCCH5QVFRQHQ7PY4cOY4l\nS5ag0WhgamoKjUYDhw49iP7+/pxLmy7tWhi4S4YQQvKDuz8KRthOD+Ae7NixI78CZkSz2cSuXbvN\nuhuMjo5hcnIisnDiLhlCCMkXWioKRrfu9AiyMES1XsRtO/pdEEJIulBUFIxu3OlhWRjOnHkfDAvD\nxTAsDO/F9PSUwz9i/for8KUvfUl7nqhtR78LQgjJBoqKgrF69equ2+kRZmEAboVlvZiba2Djxpdr\nRUDUtqPfBSGEZANFRQGZnJzAyMgmdMtOjzALA/AbsKwXwAcAnMWnP/0FrQgIa7swq0icpRAunxBC\niBM6ahaQ/v5+HDr0IObn53Hy5MnKZyS1LAwzMzfizBmBYaE4AuAGAMMA7HU3rBdnz/4Gpqf3epwv\nw9ouit9FWFun4VRKCCFVhJaKnAma7Q4ODmLHjh2ZCIqizbJ1FgbgewBe6zrSsl5cA8DfcdWv7dLw\nWeHyCSGE+CAipXoBqAOQ48ePS5lZXFyU0dExAXDuNTo6Js1ms5LXjUqj0ZCpqSlpNBoyOjomPT0r\nBPioAI+b/64QYMz8P6TRaMS+hu68PT0rZHR0LPS7J06cMNttQgCxvZKXhxBCOsXx48etvr8uWYzR\nWZw0y1dVREVrYJswB7aJyANbGa+bhGaz6RFAwLAA97VVZt15owirxcVFqdc3mN953CUqHhcAMjU1\nlahMhBDSCSgqKigqOjHbPXHixLkZf1bX1V0jC2ZnZ22DeXrWFbtVJAqjo2NSq/XSUkEIKS1Ziwr6\nVORAlgGugmIwpHXdTsd5uOSSS/Cc5zw39fPG8Vmxdo2cPftBAGMAumfLLyGERIWiIgeyDHAV5ESY\n1nXbcVRM4iBaBMdIpyCbAOB0Kl279tLKbvktA0VzPCaka8nC/JHlCxVY/hBpz1nQjyjLG+1eN+kS\nSlIH0SyXiuIs3+jL0RDgFi57xCBqm0c9ruiOx4QUDfpUVFRUJHUWDGJqairUibDd60a5ho6kDqJJ\nrxdE0oEoCyHYLURt87j3pkyOx4QUAYqKiooKi7jOgkHEmdUnvW4Sy0E71oYsLBVJB6IshGDZiWpR\niNrmce4Nt/cSEh+KioqLirSJO5tOsoMj7jXatTZEuV4cs3q7A5FbkMVtw07tmsmSOBaFqG0e995k\nYcUipOpQVFBUxCLqbLqdtei4M/Z2B/Kg68WtR5oDUdxrV2n9P45FIazNb7/9dtmzZ4/ccccdse4N\nLRWExIeigqIiEWHLG2msRcdZQtFZG2q1XqnXN0Tu/HXXi1uPsIHo8OHD0Sqf4NpVWf+PO5iHHe98\n9QjwnsgigX4uhMSDooKiInXymOF5rQ21tmfsSeuhD//de65MWexKqdKsOom1Z2BgpdnG7jZf6hBZ\nxnvnRRYJ9HMhJB4MfkVSJ8vgW35Y2UMbjQbq9Y3o6elDu3EnktZDn7zsBQC+Erksca+dR5tnRdx4\nJ41GA4uLT6DV1vaEcc4U9EZq+3+HX+p6N/bnampqCo1GA4cOPchssYTkBEVFF+IdFBoAHgJwEEB7\nwbfCEBHMzc3izBnnYHLmzHsxPT0VK3hRlMFNFxTJGoimp6fNd/YC+DKAl0YuS9yBdWBgINbxRcZK\nVd/TEy2qaEtQPQdAL4BbAbwLwFkAO1xnN0TWjTfeGEskZJnRlxASgyzMH1m+wOWPRLh3HBh5LPoE\nWOcwHQ8MrMzUdJzEdB60W8JvTX14eFuoWbwTu1Lsxxqm/n7H8Ur1lXL9P86yQ2vpx778k55vCyEk\nOvSpoKhoC78dB6dOnbKtcwc7Dqa5BTKOb0GU3RJ+g9vw8LZQp8gsd6Xo67xPjLTtdsfEmszOzrbd\nrnkR1VlXn911TIxU9k4/i76+CztUekK6D4oKioq28NtxsHnzltABNastkFFn+K985Yg5u7cPwktl\neHib55z2wS2OWEhj90DYwOq1iDQEmBLgSCSLSBU4duyY5p40xW0pi+MsSwiJD0UFRUViom3l8zf9\nZ7UFMsoM3yh7TYzlAvvugH4BaoEz4zjLGp3YPVClnR/t4Cfgnv3sflFqmQB7U33OCCFeKCoKKiry\niIoY95phg2vQQDc9PZ35QBg0w7/77rsDrz8+Pu573jiDuNWmhw8fzvR+Mp6CXsBt3ryVgouQDkJR\nUTBRkUdUxKwyfAI1UapPO9DlEQLZLppe9KKXBF4/SFSIhA/inb6PugG1Xt9Qan+KpNjFJENtE9JZ\nKCoKJirSWhKIY3Vo55r6QE/9AgyL4Ti4VDuwdtJkrxvgwywp7TpR5hXd8tixY1Kvb+yoKC0yXBoi\npLNQVBRIVKTRAcadIWexQ8Hwum86zjM+Pu45l1eQ3Cm12jLZvHlr5DaLgneAv9Us55AATksK0Ctr\n19Yjn7vRaMj+/fsd9fvjP/5j8/x7Oz6QVSVUd5pwaYiQzkFRUSBRcfDgwbZNtXEHlbTMw+Pj4+Z5\njkQ6z+LiogwPb5NWOO32w2rr0IumdLZg6gTckiXPChBY2ZrcOSvXw1DbhHQOhukuEO9//wfN/yWL\nithoNDA9PRUrmmTcyI1+bNlihYf+BloRNOd9z7Nr1248/PAxAL8DYC2A5Wg3rLYOffjq1QCGAdwG\nYKdZxltQq/VidHQ7NmzYEOncu3btxszMUVu5+/D0089w1AM4CsCqR/LolrrInW6qFKo7Teyhtvfv\n34/x8XH89m/fhKNHj8aKsBqFKPeJENIGWSiVLF/IyVLRmmWuE13AnqGhraHniGN1sPtcRDUPh/lp\nRI378Mgjj3gsE0a9mxJ3dh1WJv/Z+31tWUe85z0UaCUA7kpkco+znEVLhRP7s6H3q3HGrGhnx1WV\n0s4T0g6VX/4A8AcwkgDYX/8QcHxHRYXVkbWWDx7VmuQPHjwY6Vxhg4qu8xse3iZDQ1d5rjk8vE2a\nzWZgh2nviIeHt5m7PVpLL0r1eUSF4UjojLRpCKmxQCFkJ04nrk+L3mdG/Ew2CHgF3J5AQZd0kEme\n/rw7/QdOnDghBw8etG0lNV4DAys97Wg8c+vafhZEot+nPLaKE9JJukVUPAoj29BzzdeKgOM7Iir8\ndyRYgsCKinhXrFlm2KDi1/kNDKyUWq1XDCfGI45OUfcdXUdszPz2aQXN9PS0TE1NhcanMOrtFELB\n9QwfbHVr6t5B5q5YTqJxLRUvecnl574XdVBJYnlYWFjw3JeBgZVy6tSpSPUqK/rf0zoxRPpdIc/c\nZRIlnLwfScU8LRmkinSLqJiLcXxHRIVuUASW+sZ1iEqQU1p4XAn9bgX9d9Z5OmLj72HXcY+Kd6mj\nZr5vP86a0T8QWu+kZn4rboFT2CyK2zI0NLQ1UmfvFXDLzTawL12tECtUtHv2HDaoJHGibZVpr9mW\ne7vCUqH/PVnWr+RB2qKIvyj3ibtySLfQLaLiewC+BWABhvfcxQHHZy4qslrnt6OLJhkeAfOBgE7X\n/p0wcdKwvecnPtb5fDe83u3uWHF+30o6ZbfC9Efq7I2YEBsc5fYKqDExBBSkVlsWa1CJK55ax9/q\nugfV8Knws/KEi+Uw61jyZynK9TsRPZaQotANomIUwC8BeAmAbQC+AOAxABf4HJ+5qAgbFMfHxzNZ\nd03PUhEmTm4RK+5E8PXuErtFZmhoa6R6t+uQ2Pp+sFnc7zw6U3a9vlE+/vGP29pxStxLOUniVkT1\nkVhcXPQEvWptZy139MiwpYNwsTwlLXHrtiJdlsqAH3SfGNWTdBOVFxWeAgG9AJ4E8Gs+n9cByJYt\nW+Saa65xvA4cOJBGm2sGxROSxH/C79z2bJruQdqv82v5GNidGXulXt8gmzdvdX12qwR1xN6XuzN9\n2HNMcse4ZEtFo6NjpuUgfmcfZMrWO4UaScr82uGOO+7wLWfUGAvB5n9/y4afiCuSQ2HY0kG4WL4r\nwAcI0td3oXmP8ll2LEIbE5KEAwcOeMbJLVusDNVdIirEEA7HAPwPn8865lNRq/WJOzXzwMDKRMsd\n3tmc0wxv5YHw6/xOnToV+P1Wh2wPVuWe+VnLGkcEuNXMDGnvTL3+C/X6xkT5KdoNaLSwsCB9fQOx\nO/uwAWJ2djZCUitvO4Q5UwYlRwsrU63WK6OjY+eEwrFjx3zbrmgOhVEHZH24+F6xbxs9duyYjI+P\ny/j4uBw+fNi1SyS7ZUe/8tGnglSRbrRULAPQBHCDz+cdERXNZtMcqJN7ndtxzuaGxci/cZ/5f29n\n6df5NRoNqdc3ameGrRndhBh+Ak5BpI81UbN1pla50nNWCxpso7WXNy5IGhFI3eVyDiredgB6ZWBg\nZaI2CCvT5ZevM6OX2u/VUjF26vhZWorhUBi1vXUic2hoqxw8eNBXRA0Pb3PVdW8mYeL9ysfdH6SK\nVF5UALgLRojBnwFwJYBPA3gCwIDP8R0RFWmaRJ3nsv/f64TYrnOg1y/A8kvw7/ida/35m4CddWxK\nnN0fSZwnp6amNBYM/fcPHz7cZn285xwa2qpZGukXZ1yQoJ0++Znp47a3TmT6CSXDOhHvPrbbBklF\nMCFloRtExSSAbwL4IYzYyQcAvCDg+I6IijSdt5znsv5v+S3EGyD2798fWC7vDhG7f4T/tVrBvfJ3\nVtO3fcOsW3hZopiy/ZYR3vjGNwa2w549exLVya9Mmzdb65thO3X8dvrkc4+i1C2K9SRcJAfnqina\nchAhRafyoiJ2gStjqbCcKaMNEN7O068Tvk0M4XJMvJE/l4qx5OLt+IvkrJZFZlb3QOM3O16//orA\nayexVASVKSxJnXEv7fc3vXuU1uy+naWD8J0htwbWtWjLQSScIjkZdyMUFTmJCpF0nbe8a/bLYw0Q\nmzdvtflLWGv+znI5M3BajprOkNx2hzf/gTZ/ZzW/XRpRcqxY+Jmyw2fHytO+xt+11M3r0WbqrfvQ\n8vNxOjz6+XvoOnDd7H7zZsO/oZ36JVk60Nf/kAD/SQCYUWT1z2OU+BNRt0BzkMseWpWKAUVFjqIi\nTect77lqotuhoTPTe03kXj8DI4y3ldcjeGllfHxc24EWyVlNVxZ3gqmkhFsHIG4HWuvvLJYYdAJK\nJwCPHTtm/q1zwEWocLDaTb+91bkTo5P33Bll9DmOMrtT1ceLfxH8HHOQ6yy0KhUDioocRYVFms5b\n9nPNzs56AiLprAf+8RqOCAC5/fbbXSKiPX+QNOtrzQKjzhrdGBaaZeaAk05HFO7HYJndD0srSFZ2\ny0B+Ym52dtbRZs5BtGErm/e++nXg4XVPJ2x4nNl/q/49oovu2td3YUKLk/8zc+LECd9dVBzk0qdI\ny6vdDkVFAURF1oSb6YMjS3qdLPP/AUdJZR1Gko4oeqp1XQr7ZXLBBctdZR4W4D7toJS2yTxMzEVt\nj/DBNsyHI/lzknT2f+hQcMI3P18W//gXl4ouFLp3+2rnfyN5LbfkuczDqKXFgaKiC0SFH/ocGE4f\nAytokreDHBOd30WcWVg7nZBhYXFmVbWSd0UtR5yOKKqfQOuc7hT2zuBKhpjYJ9ayQFrBp9rt2KP4\nvURbFgjabWIcNz4+3kb54s3+9+wJTk3vt+smaJnMeDlDobesE/EcpdMgq+WWsGeqCMs8tFQUB4qK\niouKsFDMrR9icLwG72Bznxi7PeJ3JO12Qo888ohmkB4zy9SyvATNyKOkYQ+LdaDzE3C26aIAW0Xn\n1OoXQlsnlqxw6UEdY1odexS/l+hxMdx5NsYcxyURTEHXdS+B2SOIrl+/MfC7YbtujKBwG8x7438f\nW9fo/CCXtk9B1GeqKL4MRXIET0JVHHopKioqKuJ3CNYP8S5tVMGo6/JRaLcTMvxEdJ275fyojzeh\naxNdzhPdUkTw7NvpJ9Cqn5XEKui7R86VVS+WnPkq/AbhtDv2sKWSoA5cP7tfJ4b1xtrpMhy7jHEc\nJ715PpYK8FLxLklFi2QaJRR6K2OtVT6v9S+rQS6LmXqUZ6pIFoIiOYLHoQiWnjShqKioqNi8eUsk\nB8S4P8R2nSzTyzAatJ6vt1ToOkldoil3/aNlwWyVv9ls2hwWg83gRkZXnAuP7hRL3rTxVqyLPXv2\nnJtd59GxR3luGo2GK7+G9dogwGzsMkZ3nPS2myFktonbGrd8eb/8yZ/8Sej1w56Ben2DbfeM/y6q\nrAaLtH0Koj5TRfRlKFvU0qJYetKCoqJiosLYIuruxK11X/8OvFM/xHY7ofAB/hLtD1LfSZ4Q4A0C\nQO6///7ECbt0OyRa5Xw45LsXCKDkwx/+sOu4KOLJyLD55je/ObeOPYrz59TUlPzu7/6u6JesHo1V\nRn/HyXUR260h9uipUQd8/+enJQr9yhdl+apd0haWUX+nRbJUpE0nliOq2H4UFRUTFcaavDtZlbXu\nm78ndCcsFbrBwTnIHxTg51yDSk2Gh7f5Dir6wczrJ6DfIeE1gwPPFmOLo7MMxiAr4r9t1xIp7xK3\nX0eRdhrod+c4k5hZjrVxyujvOBnWbnarkv15ib6VuPUM3Ct+ifryNMGn6VMQ53dadl8GN51cjiii\npaddKCoqJCrCB1x/B8ZOOgm12wnpZ4P9Uq9v9C2/019B5zjZL8BSbRkWFxfNLJ/umXbLT0BX/lY5\nvdlijevpHD/9ZtzedOmGE+gN5v9XSVigs3axPyNhHa/esVWfxCxKVlD382lZSLzOttEiiDrbOpoI\nawkG7/Pjbus8TPBpC5qov9Oy+jL40cnlCFoqKCoKTZjqrdWWeX4YeTgJtdsJJfn+6OiYGUUyOCYH\n4N0J4OxkjgjwWwIsCbz+4uKiDA1dJV4hcp75/TDxZ/cNsEKve9Olt86/SoCXZHIfgx1cvR1vtOWi\n1nN58ODBWNd218s7+NnbzRgM3RFEndYN5+8kaHZYhkEgLUHTaX+rIpDH/a2apYeiokKiIuwHsXmz\nN6V3nk5C7XZCUb/vDHwUbQeBfouot039QpK3RIwlRG4VIx/LebbrhO9i6Ou70PZ3kIOitaPCiLmQ\nZufnfUbiBktz18+5BBFU1ijPp27w0znfWjuV4mwldlNFc3UYVRALUcnj/lbN0kNRUSFRIRIvUVbR\nZl2HDh1y7GqwlzNJp+ad5T4u0czjrYErSSfj3653ukSDf8wEq76t64cN0i1LS5r3TV+X4DbZv39/\nhDYOn43FfT7dg1/QYJhkdqjPk5Pvb4akS559YlXEG0VFAUVFO/4NcVRvUWZdJ0+e9MwsBwZWytzc\nXFsKvjVwuGfWYwL0OQYUv/X+JLNab7t6/SGWL++PJP5anVzYcoJxz9aufVkatySgLiJRAjv579Jo\nLUGE3cssn8+kS2it+CPVMVcTJ1Vbjug0FBUFEhVp+jdEUb1FsVS00m07/QWWLHlWpOA77nqeOHFC\nM1u278B4VIxASHarwbAY2269A1fcTsbbrlZI81Y9lOp1LW1Y6/x6nwFj54Q7Jbl398natS9LLEj9\n2lL/jHj9Fuw+FXfffbe8+MWXa9r4HdrgatHaMf3nM+rsME702aJSlYiNWVO15YhOQ1FRIFGRpX+D\nX4eStyoPS/QEvEX7vjdxE+Tyy18mmza5t4paYsE7EGzevFXe/va3hw5c7TmGviXw/M9+dp8odYEE\nbW1sNpty+eXrJGj3iSFa+jz1s3KTBA0o0Xdy2K0q3qBhw8PbzBgp7nL+rLSCXcUTBXk/nxZ6q0kr\n3kWRfSmvuEkzAAAgAElEQVSqFrGxU1RlOaLTUFQURFRkNSsL61DyVuVhiZ6A39a+r0sr3ZrNB21j\nNJZC7r///nPt07KUBA9ccTqZZrPp2obqV7/zJcrWxtbzsVeMOBtbXQP3haaocO8OUZ5B3n/3hF7M\nBj0j9jZpWVTcu1T6XPcg+vJF3s+nRVGseknI0xmbdB8UFQURFS1zfTrrx9bMdPPmra4ORZ/bIy9V\nntRS4f1OFAfMOwVYJoA6155GsLA+sYIwWa+BgZVtZwZt1S2oXJa/hz2Ntv6ee2ftd5n1CUqWVRNj\n10krQZl9QIkzWAY9I9F9P5INxEWYNRbFahKHMoshUk4oKnIWFV5LQns/fn0kw3UCLEgR14EXFxdl\nyZJniddfwO5T4ezEvYmbRMK3iipH3TdsuEKTq6Fhnic4y6m97EGz6JYVZlh0iayMAf+IecyUhN1z\nfTTJSwT4Q5+6f0qCsrk6d5e0J2aj7VJ5oBQDsR9FsppEFVhFccYm3QNFRc6iwmmatAIcJZ8J6SMZ\nrhAj26U7mVZ/Rzt3XWfoZylYsuRZ8uUvf1nbiXvFgEi4pWK5p+5GAi97h3vCHNyNgb5e3xA4YLzy\nlSPiTv8OLJXLL18njUbDZqnYJ95omNZgf4u0LBaPC3BnqCPjsWPHZO3auuZ8+1x1v1SCsrlOTU3Z\nZrK3itNaEk/MRrNUVGM9Py+rSRLfiKJaKug0Wl0oKnIUFd4ffHtZDcPjI+TTsTzyyCM260KQONBb\nCnSduH7L4lLxbhW1/Ar0g6bxus9n0F8mw8PbAtq6JkFRLkdHx6S3d0BaVpgjpohYJpZTZa3Wa3N4\nDPZ98Nbdfd2ltroH33NA7+xqCI77ElkTnD4VzmiWQ0NbYw0iZR50sip7Ut+IIi3b0Gm0+lBU5Cgq\n/E2Txkx5fHw8pfM94PN+tiZQ/VLMsAD7ApYxopVLvxQwJN6toue5/rYytloOnxsEeIboLA5W2Gvd\n4BAe4Gmv9PSskKGhq8zlHfu5+8RIKFY716EODW31JIKLnm3VLZLsL33b1usbAsRJLVFH73VONV5B\nidqiPDNlGXSyLHs7FoeiLNuI0Gm0G6CoyFFUpG2aLJqlwn8pZsw1CCYv1+zsrMcKYm2lNLaX6sz/\nY+fa5P3vf7/oLQ795wZHnbgLc6y1R7mcnZ2V9es3OspYr2+U2dlZEYn3HISnfh8XY3dIkPOmVW9r\n2WVK2nGidNNoNGR8fNw3hHkQRRx0oloesix7Gr4ReTu7FnUphqQLRUWOokIkfdOkfllghRhbDtvz\n14hD+Iza8lvYmEr9p6enHSG+483odf4IrePcouLEiRNy++23i2WR0H+vFeXy4MGDgTPFKAOGNbCF\nRfh0LvFsEp0DbMuS0ONqhzEx4l5484d0YjkijUEnrJxWYLQogieO5aHdskcpd9kHZDqNdgcUFTmK\nCr+U2nHMxW70ywJjApySdvw14hI+ozYcFGdnZ9syzfp1/AcPHgy5/q3iNPkP+xyHc8GjDOvHlZ77\n5QxC5Y1y2dc3YDqj6mewYQPG0NBWx/VaGULdYsEe72JRjOUbv7JO2L5jt+I4HWZf+coR8xnN/rlp\nZ9AJEwCLi4umY23031ocy0PSsscRLkXyjUhCFYQRCYeiIkdR4ey0jEyWtVpvKp1Eo9GQen2D1GrO\nmWqt1iv1+obMf8BhHYi7nklNs34df1jiJ+Cw5j2vI+f69RttnX5N9MGd7LN/t8CwwlnbB/wTYokq\nq756C5M+VLkumuXAwEpTuFjft647Yb7CrCr2vy+z1c0bUEypPl8HVuve6+5llrPxMAHgF5hLqT7t\n7y1uWZKWPY5wCfONKINza9mFEQmHoiInUdEJ1Z63g5bfQJnUEdBNlBl+cFIrp9OmMdBbxy2T889f\nJps2XelKSuZ/vRe/2O0kap3fGqyPidtaVK9vlGazKc1m0yMUgBcGXu8Tn/jEuUFEb6GyvhdmNZpy\n/X1QWuIn+jPqN+teWFjIdDYe9hy0loyi1yWJ5SFu2ZP2AW4BXibn1rz7JJI9FBU5iYpOri/m5aCl\n60DsDort4p9B09jtovNlcJr/dU6jlkXC/Z2Dtr/196wV7OoB0UXINJwn9bNSZxhuy3Ey+Bmp1zd4\n2qTRaGhCn4f5l7gtFdbfwc6obl8Tv1l3X9+FUqstk6D8JkHPTNigE/ZbarVH9N9bkgE/btnT6gOK\n6NwaRpxEbkW3vhAnFBU5iYpuWl/MStQ429CbXtyKGNqaqfqZ/5eb322YA797eWOFOHNthM2Ig5xD\n9Z+Nj49rBphwZ9PgkNn271mZUnV+GH5+GcHbZu2iIrpjrNN6E3U2Hv05CLovwXVJK9lessynyfqA\nqvYj7VpfKEbyg6IiJ1EhwvXFNBge3mZmA10nflaAcKfR88QIgPVwyMC4VXTBnexLOsPD27T39NnP\n7gssg3/ci+eLPuX5sNhns+5O1Pts3SfeWBzPcfzt9Mt4WIA3SGu7rf36xnbbeFtd14qxw8ayDsW3\nyAUNFGG/Jb/AXM7lsM4n22u3D6jqjoqk1pcyLQVVFYqKHEUF1xfbx9iZsCRQDIRbEPpdg63fwPhi\ncwByL48MixXQa3h4m/ae6kOLt8pgZflsDTCPSmsnhvt6rfwduqiYo6NjcurUKZuzqvEy0pJDnNFF\nG2LfiePdIaFEFxjM7agZbqnoFedSU7T8KiLRBoqw35JfYC6jbvsCB64slw/b7QM6bako+tbiMi4F\nVQ2KihxFhUXeQWnKijNvRfBszRhQdTP+1hbKF73oJSED4/nmv2/RDM7OTk93T3Up1gEjTLeIe4Cp\niXPXxV4xwntvEvtsVteJ1mp9smKF0woB1OTyy18W2k7e8+3ziIo4TpZevxUjPkmttixyRx9noAj7\nLVmBue64446ODsZhtNMHdMLi2UkLQFLrS1WXgsoGRUUBRAVJNgNqdT7ByxaNRsOMW6Gb8RvBniz/\nAL8O2viuJV7ihz1vdXjrXGVY5+nwovhmBFs/7NtJLb+QPlMc1HzPG3bdsIBRzWbTlqTN7UPhjE+y\neXO0DLlZDRRVWjbo7DJN9haApPe8bPe0qn4fFBUUFbnSzgzI2fmMiTu9uD7AlH13hbej8tux4hQv\nd0mUTs/eaTg7vIatDN4OL6xztASQ/+6XIEGiRKnl2nZKo1MOy3qq1HIZGtoa+fnIaqCo4qy2Mw7R\nnWmrLLYWx42bkhVV9/ugqKCoyJV2Z0Ct798nlvOi3w/VL27GwMBKzw/a3kHrxYvlGOrt9HSdhj4Y\nlzcIlkj0zlF/XFgk0fNl+XKnD4nVTmkNHmnGJ8lyQKOjdDTysAAktb5EuadZDepFyBFTBCgqKCpy\nI40BQ29Z2KCNhaEPMLVOajV9VEV7OVvRSe3ipabtmPw6jVZ47XsTCSBdx+M9LjhglmVlOXz4sLYD\nTGOgTTs+SVaDPx2lo5GnVSeu9SXKPU17UO9kjpgyQFFBUZEbac6AonQ+UZdALPSp21tCol7f4Ihq\n6bxGUB4PtxOmt1OLOuDpI2l6rSjG9baGtm2aA21a5visB386SodTNquO3z3NYlCPI1LK5veRBIoK\niorc6LRqj/uD9uss6vWNiZ3F/ONR6OscNODZza3OSJqPijsQmCFkDkZu27wHWp0pOe8ydTNVseqk\nPah3KkdMmaCooKjIlU7OgPQ/6Pb8GqJdo/U9feRM/05NN7j6mVu9u0Esh1DLsfSu0GRgWRDHIS6u\nKZkio0Un2qPswi7tQb0TOWLKBkUFRUWudHoG1PpBB/s1tDOjaUX5bHUa1mAeJaT01NSUNqiVFXY8\nyNwa5CRpnMcbuCorkjjERTElV917Pi5sj3ikOah3IkdM2aCo6HJRUZTZXqdmQK0fdLBfQzvb04zI\njf5RKP06NacTaU2M2BLOFOt9fRcGlmt2dlbjY7FVjKWPRuIZWRLiOsRFbfOsvefz+k0kvW5W7VGU\nviFt0h7Uk4qUJH1eGe4JRUWXiopunt3EH7zibU8zBME+ccajaJ1b16m18m5MSHgOknALSmuZ5Ujg\ncXm3sZ0o1qEs16Tz+k2kF6slnfbolr6hLI7EIuW6JxQVXSoqqr5XOoioSxtJt6cZFpBh7bn379/v\ncK6cmprSRLIMS84V7LPhja1xQituitDGdqIMkFl6z+f1m2jnulm0Rzf3De2QpbW1TPeEoqILRUU3\neCAHEbf+jUZD9u/f7wlTHZ5Eyx5R8l7xi2vhHRjCo2LWavZsm/eKLj/H0NBVnvc75VOR9BkLsw5l\n9ezm9Zto97ppl7vb+4YiUrZ7QlHRhaKiG/ZKhxF1HTTI7Bie7vuWc+cGlprOm96Zhr7T2CpBCdCM\neBet5RbduVeseK7nfaX6ZNOmn+vIumySteZ41qH0vOfz+k2kcd0024N9Q/Eo2z2hqOhCUVE25ZsF\nYYOX5RA1NLTV1+wYbqlwv6KmPX9cjMid57m+74z+aVlQ9Oe+M1LZgtZl23UKa2etOciUnMUadlkt\nFSLptgf7huJRtntCUdGFokKk+nulo+IevPSOl3HEwEfPBciyQmFHiU2hGxiGh7fJpk1XBg4W/rOY\n4Eyqxuf6ddm0ncLsviNpWkjSXsPO6zcxOjpmhoC/RQzH2mTXTas92DcUjzLdE4qKLhUVVd8rnRSn\nQ1R4ivOFhQVNPpEeR5v6pyj3zjR0A0NYVM1klgr/EOVpO4WVxXM9j9/E4uKiuQXZ/vzUZHh4W27t\nw76heJTpnlBUdKmosCh7hLw08abtDjc7tgbgvaYI2StAvxi7P4KDUtVqvVKvb8hsZtlKYOb2yxjT\nCiRnG+STGyEv3CHPO/WbKHLbsG8oHmW4JxQVXS4qiDGgHDx4UF784stdM8YxAbaJX4rzcJ+KabFC\ngM/OztrSnxuz0TizjiD/Br9ZzKlTpzRLOesEaPqKhbxzI3SaPK0oRW8bQpLQFaICwG8CeAzADwEc\nBbAx4FiKii7BOaB4I2waYmKbWDsu3INO+O6P1mv58n7Xe0vFCJAVPDuNM+j5zWKs9zdv3hq6LluE\n3AidJE9LQdHbhpAkVF5UAHgtgB8BeD2AFwLYB6AJ4EKf4ykquoTWgHJX4EBaq/XK5s1bPQN2uKVi\nrzlArNMIln5xLkPoB+00B72o67JpOoUVeTaed9nyvj4hWdANouIogPfa/lYAvgngNp/jKSq6AGeH\nHjxjrNc3+JrDdQOwISDWmeeIGiDLOzvNatAJW5ctSm6ErCmCpaCobUNIUiotKgAsAfA0gFe73v9T\nAH/p8x2KipITJb6Cc0BJPnjrBmBjKeVR8xxhSyRTvtfKe9DrRG6EPBMkFcFSkFXMjaI781Wdbr4H\nVRcVPwXgLICXu95/F4Av+nwnF1HRzQ9hWsTxP/AOKGPScsh8WIBbpFbrjTxj9M/jEWap8I9LkEYI\n5yI9U3aRUpRtpkWxFKQh4IrSpt0M7wFFha+o2LJli1xzzTWO14EDB9JpdRt8CNMjrv+Bc0B5VICX\niHtXRpJ4Ad6ByvKpaA1cRvjsWug9TzLoleGZKspWyjLt/w+jKG3azXTbPThw4IBnnNyy5dwut0qK\nisIvf+TxEBZtBpsGSWb13gHFuwMkyb3wS23uHrhmZ2dD70OSQc8IpuSsh1J9kROJZf18FGHZwU0Z\n9v8HUcQ27TZ4DwwqbakQQyToHDW/AeBWn+M7Jio6/RCWYQablHb8D4JzaCS/F+6Bqp2BK+p3H3nk\nkcT16NTzkbevSBVhm+YP74FB1qKihvx5D4DfUEq9Xin1QgD3ATgfhrUiVxYWFsz/bXF9shUAcPLk\nyVSvt2vXbszMHAUwAeBxABOYmTmKnTuvS/U6eXDppZea//uc65MjAIBVq1b5fndwcBDPe97zzL/0\n9+Lhhx/GQw89hPn5+chlGhwcxI4dOzA4OKj9Ow5Rv/trv/ZfzP/p63HkyBHf73bq+WjnXhE9bNP8\n4T3oEFkolbgvANcD+DqM4FdfBLAh4NhKWiq6wTTXjtNdnIyjRbXutOrgX4/x8XHH8Zb1o9PPR1Ec\nJKsE2zR/eA+6YPkjdoFz86nI9iHsBtNcu053unthOFQulSI7XlnioJUNdVjcocUNH4ua786Len2j\n7fk4IcZW10Zmz0eVHCSLgq5N6/UNMjs7m3fRugY+1xQVuYuKLB/CPGeieZLUd8E/5sS+QraZPk07\nzPJ667F8eb+I+DsHG3Vd5/reukzrWnYHySJy7Ngxm0jszoEtb7r5uaaoyFlUWKT5EPo53A0Pb+t6\n01wUrHvRmvkX07qjEweGVcXavnpEjIRmywToEwCaOBpOoWQcaz9frwwMrMy1niQe3batkRQLioqC\niIqoRNnu59epDA9v63rTXByKbN3xpmm3ynaDuGNtAFvFiMMB2bNnT6BQMs5nX/7Iv64kOkV+Zkl3\nkLWoOM/rukmS0Gw2sWvXbkxPT517b3R0DJOTE+jv7z/3XqPRMI+ZAHCt+e61OHNG8JnP7Eaj0QBw\nD06ePIlVq1Yl2onQLaxevRqjo2OYmbkRZ84IjB0UR9DTcxNGRsYcbddoNLCwsNCRNm02m7YdGXeZ\nrzEY9/w/A/gAgL0AXgRgFYBB8zNg06ZN5vc+h9bzAVge6sDnzfNZDAMwdiLxWSk+UXaU8T6SUpOF\nUsnyhYJaKqKaNLvBIbOThPm85BH7Q7/ssUIMP4qPClALXObycw4GesTInurOplrjDLck0FJB8obL\nHyUQFXE6inY6lSpG2kwLP5+XTq9fh93fWq03dJlLJ5Q2b97KwagicFsjyROKihKIirjWh7idSpUj\nbWZJHrPCsGfBnqY9zPnX/jktXNWB2xpJntCnogQ4I7V518HdkdomJyewc+d1mJ7efe69kRHD/0KH\nM5LiFgCfw8zMjdi58zocOvRgWtWoHHmsX4c9C3/+5wfO+dgMDg4GXt/+uRiC2ve8jAZYHvr7+3Ho\n0IOYn5+n7xSpHlkolSxfKKClQiSZSTPKNlWuwSYnadu1u8yUlXmbZnMSBJdHSRS4/FESUZGVSZNm\n7/aIMxCntcyU1bNAs3n3EEcgdHp5lOKl3FBUlERUWKQdqY2WivaIMxCPjo5JrdYrRiyIIxLHqVPX\n0WYVta+bowFWnSQCoVPOyPTtqgYUFSUTFVlAs3f7hA3ERkpyd1CqMQHuCxRv7GhJmsQVCJ2cdDAS\naDWgqKCooNm7Axi5GHrFG1tiOHCZiR0tSYskAqFTy6O0mFYH7v4g9BbPmEajgbm5WbijnBq/O2OH\njm53RVB01Onp3Zifn+d9IpFJslsp7s6zTpaNdCe1vAtAojM4OIgdO3bwx5syYR1mvb5B2+ZROlpC\nouIUCHb8BYIVqr6n50YY4vYbACbQ03MTRkfHUusrkpSNdCcUFaTrCesw9+27N9H32NGSOCQVCJOT\nExgZ2QTDqvZ8ALsxMrLJN+5NJ8tGupAs1lSyfKELfSpI9iR1hqUTLUmTdvynst4VRN+uapC1T4US\nY6AuDUqpOoDjx48fR71ez7s4pCKcPn3ajHIanGU2re8REkSR/aeKXDYSztzcHNavXw8A60VkLu3z\nU1QQYiNph8mOlhBSBrIWFdz9QYiNsHwcFo1GAwsLC+dERNTvEUJIlaGjJiExaDab2L79aqxZswZj\nY2NYvXo1tm+/GqdPn867aIQQkjsUFYTEwJkx9nEAE5iZOYqdO6/LuWSEEJI/XP4gJCIMdkUIIcHQ\nUkFIRBjsihBCgqGoICQiDHZFCCHBUFQQEhFGFSSEkGAoKgiJQSdCIhNCSFmhoyYhMWDGWEII8Yei\nouC4gyyRYsBgV4QQ4oXLHwWFQZYIIYSUDYqKgsIgS4QQQsoGlz8KCIMsEUIIKSO0VBQQBlkihBBS\nRigqCgiDLBFCCCkjFBUFhEGWCCGElBGKioLCIEvJaDQaeOihhzA/P593UQghpOugo2ZBYZCleDSb\nTezatdt0cDUYHR3D5OQE+vv7cywZIYR0D7RUFJzBwUHs2LGDgiIEbsElhJD8oaWClB5uwSWEkGJA\nSwUpPdyCSwghxYCigpQebsElhJBiQFFBSg+34BJCSDGgqCCVgFtwCSEkf+ioSSoBt+ASQkj+UFSQ\nSjE4OJiJmGg0GlhYWKBYIYSQALj8QUgAzWYT27dfjTVr1mBsbAyrV6/G9u1X4/Tp03kXjRBCCgdF\nBSEBMKgWIYREh8sfhPjAoFqEEBIPWioI8YFBtQghJB4UFYT4wKBahBASD4oKQnxgUC1CCIlHrqJC\nKfV1pdRZ2+uMUuq2PMtEiB0G1SKEkOjk7agpAH4PwDgAZb73vfyKQ4gTBtUihJDo5C0qAODfRORf\n8i4EIUFkFVSLEEKqRBF8Kt6qlPquUmpOKXWLUqon7wIRQgghJD55WyreC2AOQBPAlQD+CMBFAG7J\ns1CEEEIIiU/qokIp9U4Abwk4RABcJiINEbnH9v7/VUr9BMA+pdTbROTpoOvcfPPN6O3tdby3c+dO\n7Ny5M2nRCSGEkMowOTmJyclJx3tPPfVUptdUIpLuCZUaADAQctgpEfl3zXdfBOCrAF4oIvM+568D\nOH78+HHU6/W2y0sIIYR0C3Nzc1i/fj0ArBeRubTPn7qlQkQWASwm/PrLAJwF8M/plYgQQgghnSA3\nnwql1CYALwfwWRjbSK8E8B4AHxWRbO0zhBBCCEmdPB01fwzgdQD+AMBSAI8BeDeAu3MsEyGEEEIS\nkpuoEJEvA3hFXtcnhBBCSLoUIU4FIYQQQioARQUhhBBCUoGighBCCCGpQFFBCCGEkFSgqCCEEEJI\nKlBUEEIIISQVKCoIIYQQkgoUFYQQQghJBYoKQgghhKQCRQUhhBBCUoGighBCCCGpQFFBCCGEkFSg\nqCCEEEJIKlBUEEIIISQVKCoIIYQQkgoUFYQQQghJBYoKQgghhKQCRQUhhBBCUoGighBCCCGpQFFB\nCCGEkFSgqCCEEEJIKlBUEEIIISQVKCoIIYQQkgoUFYQQQghJBYoKQgghhKQCRQUhhBBCUoGighBC\nCCGpQFFBCCGEkFSgqCCEEEJIKlBUEEIIISQVKCoIIYQQkgoUFYQQQghJBYoKQgghhKQCRQUhhBBC\nUoGighBCCCGpQFFBCCGEkFSgqCCEEEJIKlBUEEIIISQVKCoIIYQQkgoUFYQQQghJBYoKQgghhKQC\nRQUhhBBCUoGighBCCCGpQFFBCCGEkFSgqCCEEEJIKlBUEEIIISQVKCoIIYQQkgoUFYQQQghJBYoK\nQgghhKQCRQUhhBBCUoGiosBMTk7mXYSOwHpWi26pJ9A9dWU9SVQyExVKqbcrpb6glPq+Uqrpc8zF\nSqkHzWO+o5S6UylFoWPSLQ8461ktuqWeQPfUlfUkUclyAF8C4GMA7tV9aIqHKQDnAdgE4FcA/CqA\nd2RYJkIIIYRkRGaiQkT2iMh7AXzV55BRAC8EcK2IfFVEpgH8PoDfVEqdl1W5CCGEEJINeS41bALw\nVRH5ru29aQC9AF6cT5EIIYQQkpQ8LQIXAXjC9d4Tts/+zud7zwSAr33taxkVqzg89dRTmJuby7sY\nmcN6VotuqSfQPXVlPauDbex8ZhbnVyIS/WCl3gngLQGHCIDLRKRh+86vALhbRFa4zrUPwPNFZIft\nvWcB+D6AHeZyiK4MuwD8WeRCE0IIIcTNtSJyIO2TxrVU7AVwf8gxpyKe6zsANrreW2n7zI9pANcC\n+DqAH0W8FiGEEEIMC8XPwhhLUyeWqBCRRQCLKV37iwDerpS60OZX8fMAngLwDyFlSF1dEUIIIV3C\n32Z14sx8KpRSFwNYAeBnAPQopdaaH50Uke8DOAxDPHxUKfUWAD8F4HYAHxCRp7MqFyGEEEKyIZZP\nRawTK3U/gNdrPnqliHzOPOZiGHEsroLhS/GnAN4mImczKRQhhBBCMiMzUUEIIYSQ7oIhsQkhhBCS\nChQVhBBCCEmFUokKpdRvKqUeU0r9UCl1VCnl3pJaKpRSb1NKHVNK/atS6gml1F8qpVZrjnuHUurb\nSqkfKKU+rZRalUd500Ip9Val1Fml1Htc75e+nkqpn1ZKfVQp9V2zHn+nlKq7jqlCPWtKqduVUqfM\nepxUSv2e5rhS1VUpNaSU+pRS6lvmM/pqzTGBdVJKLVVKfdB8Br6nlPq4Uuq5natFOEH1VEqdp5R6\nl1LqUaXUv5nHPKCU+inXOUpdT82x95nH3Oh6vxL1VEpdppT6pFLqSfO+PqKUep7t81TqWRpRoZR6\nLYB3A/gDAC+DEXFzWil1Ya4Fa48hAO8H8HIAIzCSsB02g4ABAMydMTcAeCOAK2A4tE4rpZ7R+eK2\njykE3whXxNQq1FMp1QfgCwB+DCO3zWUAfgfAadsxpa+nyVsB/FcA18PI4XMbgNuUUjdYB5S0rhcA\n+AqMenkcziLW6R4AVwP4JQBbAPw0gE9kW+zYBNXzfADrAOyB0de+BsAaAJ90HVf2ep5DKfUaGP3w\ntzQfl76eSqlLAXwexo7LLQBeCmO3pT3WUzr1FJFSvAAcBfBe298KwDcB3JZ32VKs44UAzgLYbHvv\n2wButv29HMAPAfxy3uVNUL9lAE4AGAbwWQDvqVI9AfwRgCMhx5S+nma5/xrAuOu9jwP4SFXqav4W\nXx3n/pl//xjAa2zHrDHPdUXedYpaT80xGwCcAfC8qtUTwH8A8DiMScBjAG503d/S1xPAJIAHAr6T\nWj1LYalQSi0BsB7A31jviVHrGQCvyKtcGdAHQ2U2AUAp9QIYeVDs9f5XAI+gnPX+IIC/FpHP2N+s\nUD2vAfAlpdTHzOWsOaXUr1sfVqiegBE851VKqUEAUEYcmp8DMGX+XaW6Aohcpw0w4v/YjzkBY9Aq\nZb1NrL7pSfPv9ahAPZVSCsBHANwpIrqEUqWvp1nHqwHMK6UOmX3TUaXUL9gOS62epRAVMGbwPdAn\nILuo88VJH/PG3wPg/4iIFVH0Ihg/5NLXWyn1Ohgm1bdpPq5KPS8B8CYY1pifhxGD5X1Kqd3m51Wp\nJ1jh7GwAAAOqSURBVGBYZQ4C+Eel1E8AHAdwj4j8ufl5lepqEaVOKwH8xBQbfseUCqXUUhj3+4CI\n/Jv59kWoRj3fCqMeH/D5vAr1fC4MK/FbYIj+bQD+EsD/UkoNmcekVs88s5QSJx8C8CIYs71KYToD\n3QNgRKodLbUG4JiI/L75998ppV4C4L8B+Gh+xcqE1wLYBeB1MNZp1wF4r1Lq2yJStbp2LUqp8wD8\nBQwxdX3OxUkVpdR6ADfC8BupMpbx4K9E5H3m/x9VSl0Jo2/6fBYXKzrfhbGet9L1/koEJx8rBUqp\nDwAYA3CViPyT7aPvwPAdKXu91wN4DoA5pdTTSqmnAWwFcJM5y30C1ajnPwFwm1C/BuD55v+rcj8B\n4E4AfyQifyEify8ifwbgbrQsUVWqq0WUOn0HwDOUUssDjikFNkFxMYCft1kpgGrUczOMfukbtn7p\nZwC8RyllJcasQj2/C+DfEd43pVLPUogKc3Z7HMCrrPfM5YJXIcPEKJ3AFBS/ACN8+eP2z0TkMRg3\n1F7v5TC8lMtU7xkY3sbrAKw1X18CMAFgrYicQjXq+QUYzk121gD4f0Cl7idg7BA443rvLMw+pWJ1\nBRC5TsdhdOD2Y9bA6Ly/2LHCtolNUFwC4FUictp1SBXq+REAl6PVJ62F4Yh7J4zdW0AF6mmOn7Pw\n9k2rYfZNSLOeeXuqxvBo/WUAP4CRT+SFAPbByJj6nLzL1kadPgRju+EQDEVovZ5pO+Y2s57XwBiY\n/wrAPIBn5F3+Nuvu3v1R+nrCcNL7MYzZ+qUwlge+B+B1VaqnWY/7YThxjcGY3b0GwD8D+J9lriuM\nrXlrYQjgswDebP59cdQ6mb/rx2DkNFoPQ2x+Pu+6Ra0njGXxT8IYcF7q6puWVKWePsc7dn9UpZ4A\nfhHG9tFfN/umGwD8BMAr0q5n7o0Rs+GuB/B1GFu4vghgQ95larM+Z2HM9tyv17uO+0MYCvoHAKYB\nrMq77CnU/TOwiYqq1BPGIPuoWYe/B/AGzTFVqOcFAN5jdkLfNwfWPQDOK3NdYSzL6X6XH45aJwBL\nYcSf+S4MUfkXAJ6bd92i1hOGSHR/Zv29pSr19Dn+FLyiohL1BPCrABrm73UOwH/Mop5MKEYIIYSQ\nVCiFTwUhhBBCig9FBSGEEEJSgaKCEEIIIalAUUEIIYSQVKCoIIQQQkgqUFQQQgghJBUoKgghhBCS\nChQVhBBCCEkFigpCCCGEpAJFBSGEEEJSgaKCEEIIIanw/wGCSW5pxHvJOgAAAABJRU5ErkJggg==\n",
      "text/plain": [
<<<<<<< HEAD
       "<matplotlib.figure.Figure at 0x112871470>"
=======
       "<matplotlib.figure.Figure at 0x1093e50f0>"
>>>>>>> c25524c5840e1a7260ff406a16d78e53566ce623
      ]
     },
     "metadata": {},
     "output_type": "display_data"
    }
   ],
   "source": [
    "plt.scatter(X,y)\n",
    "plt.show()"
   ]
  },
  {
   "cell_type": "code",
<<<<<<< HEAD
   "execution_count": 54,
=======
   "execution_count": 33,
>>>>>>> c25524c5840e1a7260ff406a16d78e53566ce623
   "metadata": {
    "collapsed": false
   },
   "outputs": [
    {
     "name": "stdout",
     "output_type": "stream",
     "text": [
      "4.39257149108 -0.0199443448184\n"
     ]
    }
   ],
   "source": [
    "B1 = sum((X - np.mean(X)) * (y - np.mean(y))) / sum((X - np.mean(X))**2)\n",
    "B0 = np.mean(y) - (B1 * np.mean(X))\n",
    "print(B0, B1)"
   ]
  },
  {
   "cell_type": "code",
<<<<<<< HEAD
   "execution_count": 55,
=======
   "execution_count": 34,
>>>>>>> c25524c5840e1a7260ff406a16d78e53566ce623
   "metadata": {
    "collapsed": false
   },
   "outputs": [
    {
     "name": "stdout",
     "output_type": "stream",
     "text": [
      "4.39257149108 -0.0199443448184\n"
     ]
    }
   ],
   "source": [
    "# alternatively\n",
    "B1, B0 = np.polyfit(X, y, 1)\n",
    "print(B0, B1)"
   ]
  },
  {
   "cell_type": "code",
<<<<<<< HEAD
   "execution_count": 56,
=======
   "execution_count": 35,
>>>>>>> c25524c5840e1a7260ff406a16d78e53566ce623
   "metadata": {
    "collapsed": false
   },
   "outputs": [
    {
     "data": {
      "image/png": "iVBORw0KGgoAAAANSUhEUgAAAhUAAAFkCAYAAACXcsmHAAAABHNCSVQICAgIfAhkiAAAAAlwSFlz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\nVBBCCCEkESgqCCGEEJII/x+GJXlloWbCkgAAAABJRU5ErkJggg==\n",
      "text/plain": [
<<<<<<< HEAD
       "<matplotlib.figure.Figure at 0x112cd5da0>"
=======
       "<matplotlib.figure.Figure at 0x10904d5c0>"
>>>>>>> c25524c5840e1a7260ff406a16d78e53566ce623
      ]
     },
     "metadata": {},
     "output_type": "display_data"
    }
   ],
   "source": [
    "# Create a list of values in the best fit line\n",
    "abline_values = [B1 * i + B0 for i in X]\n",
    "\n",
    "# Plot the best fit line over the actual values\n",
    "plt.scatter(X,y)\n",
    "plt.plot(X, abline_values, 'b')\n",
    "plt.show()"
   ]
  },
  {
   "cell_type": "code",
<<<<<<< HEAD
   "execution_count": 57,
=======
   "execution_count": 36,
>>>>>>> c25524c5840e1a7260ff406a16d78e53566ce623
   "metadata": {
    "collapsed": false
   },
   "outputs": [
    {
     "name": "stdout",
     "output_type": "stream",
     "text": [
      "[   8.0983248    8.3868368    8.471296     8.748744     8.79628      9.422616\n",
      "    9.374168     9.81364     11.41804     14.338608    13.617688\n",
      "   14.187936    14.432792    14.940728    16.18628     17.608456    16.83116\n",
      "   15.255776    14.652704    14.823192    14.162968    14.18476     15.035344\n",
      "   15.9308208   16.9106912   31.163736    32.529336    33.252592\n",
      "   34.614792    35.732264    35.47992     34.542504    35.507776\n",
      "   37.532344    40.794648    38.929296    37.297328    38.802488\n",
      "   41.381248    44.345624    45.017288    43.86        39.26684     39.121664\n",
      "   43.21876     43.84656     43.16888     42.125464    42.061916\n",
      "   40.3459808   30.74552     30.664256    30.610368    33.940368\n",
      "   34.638312    35.667472    35.208552    34.693768    39.45824     48.102696\n",
      "   42.408296    45.899904    47.651992    44.825072    45.031144    42.4108\n",
      "   40.836688    41.225272    42.618576    46.861312    46.46628     43.21868\n",
      "   42.52012     40.5985456   42.284776    70.04716     68.759776\n",
      "   66.448408    66.504848    69.231032    73.901024    73.415288\n",
      "   70.152064    73.32636     84.38056     77.424496    79.07232     75.514392\n",
      "   72.200952    79.334032    84.84016     90.37816     89.46696     90.6484\n",
      "   95.60248     98.53768     83.70184     82.2496      84.4458304\n",
      "   89.8097808   59.294752    60.033632    59.268472    63.158232    67.9034\n",
      "   69.807576    69.284872    68.525328    75.931896    86.94192     75.287368\n",
      "   79.013968    86.13448     83.91232     92.57168     97.51168    104.85712\n",
      "  111.18856    110.15168    117.21616    113.4204     102.16816    101.92608\n",
      "  107.0248976  114.5488672   19.842048    20.407024    20.280112\n",
      "   20.721648    22.6638      25.609568    26.14868     26.49276     28.208288\n",
      "   34.9646      30.261208    32.743784    33.655064    32.60432     34.43332\n",
      "   36.313544    37.916312    37.379456    36.954568    38.517216\n",
      "   38.168184    33.701752    33.572112    34.6889864   40.1336944\n",
      "   30.715568    31.450936    32.005136    33.523312    34.855144\n",
      "   34.968336    34.99816     34.614672    35.757088    42.155872    40.33336\n",
      "   42.475928    42.028272    40.987016    43.121512    46.163344\n",
      "   49.561976    50.270024    48.942712    51.734968    53.452376\n",
      "   48.384712    46.876432    47.8035328   51.977904    41.062544\n",
      "   41.631888    41.101704    41.701088    44.819232    49.330504\n",
      "   48.901024    48.796376    48.948184    53.491048    50.853408    53.78116\n",
      "   54.186832    53.699768    57.821552    60.879936    62.733728\n",
      "   59.706384    59.028984    62.54916     65.147496    58.579576\n",
      "   56.690216    59.9375136   63.9783432   21.951984    22.989696    23.40888\n",
      "   23.934984    25.555696    26.3784      26.533408    27.757432\n",
      "   30.119424    37.914784    34.945128    39.073024    39.183056\n",
      "   38.792104    41.442488    40.760976    37.2064      36.024984    33.3082\n",
      "   35.319144    35.479688    30.013064    29.86024     31.4707848\n",
      "   31.3199904   34.13132     33.5162      32.685048    35.400552\n",
      "   38.305624    42.478568    40.784416    40.997008    41.59724     47.384616\n",
      "   43.103584    42.07268     44.522736    45.16256     49.480312    53.74552\n",
      "   52.972832    49.593216    48.917544    47.001864    46.254208    41.95012\n",
      "   40.620936    40.2293352   39.5854528   36.228456    35.382816\n",
      "   34.369896    35.214056    37.422712    39.418496    38.416264\n",
      "   37.891528    42.036376    52.54288     45.599056    45.983       45.55264\n",
      "   44.734096    49.85112     49.615856    48.530664    52.208728    55.20968\n",
      "   55.004008    54.982024    50.63016     49.866832    51.1639192\n",
      "   51.45546     66.203056    66.871184    68.929312    67.789288\n",
      "   66.354072    68.333592    67.33076     64.902096    70.491368    76.74376\n",
      "   72.668016    73.778672    72.67124     66.606432    68.96692     71.173136\n",
      "   70.41104     68.488472    67.294152    68.805544    69.007976\n",
      "   63.606728    59.107696    59.490964    64.1249392   50.229344\n",
      "   47.425896    45.893024    45.818504    46.006088    47.444936\n",
      "   46.025032    43.274576    47.569072    53.549336    49.278872\n",
      "   50.269832    49.412208    46.587096    49.450424    53.579088\n",
      "   58.290576    57.896376    56.65932     58.478664    58.758632\n",
      "   51.893616    49.558568    50.3787448   49.5546392   16.912976    16.87584\n",
      "   16.444152    16.465688    16.878608    17.60648     17.962472    16.53312\n",
      "   17.6314      24.333992    22.342816    22.829288    21.292864\n",
      "   18.001744    21.452896    25.372256    26.415056    26.644864    24.18864\n",
      "   24.92328     23.729272    17.927896    17.76988     18.9030376\n",
      "   16.4002432]\n"
     ]
    }
   ],
   "source": [
    "y_hat = 0.4 + (0.8 * X)\n",
    "print(y_hat)"
   ]
  },
  {
   "cell_type": "code",
<<<<<<< HEAD
   "execution_count": 58,
=======
   "execution_count": 37,
>>>>>>> c25524c5840e1a7260ff406a16d78e53566ce623
   "metadata": {
    "collapsed": false
   },
   "outputs": [
    {
     "name": "stdout",
     "output_type": "stream",
     "text": [
      "[   2.9871841    6.1095539    3.771296     5.948744     8.99628      6.322616\n",
      "    3.974168     4.11364     12.31804     15.138608     8.917688\n",
      "    8.687936     9.732792    12.340728    16.58628     14.208456    19.83116\n",
      "   12.355776     7.452704    11.023192    11.362968    10.48476     10.435344\n",
      "   13.1308208   16.0106912   24.3615684   29.6056902   27.652592\n",
      "   29.414792    33.132264    28.47992     28.742504    28.007776\n",
      "   34.032344    39.694648    32.829296    35.097328    34.902488\n",
      "   37.981248    43.345624    41.017288    48.16        36.46684     33.721664\n",
      "   38.51876     40.74656     38.66888     37.125464    39.661916\n",
      "   39.9459808   28.8684217   28.4091909   26.510368    32.440368\n",
      "   32.438312    32.967472    32.908552    27.093768    40.45824     48.802696\n",
      "   38.608296    44.899904    44.051992    42.625072    47.331144    43.8108\n",
      "   39.336688    37.825272    40.818576    43.161312    42.96628     38.51868\n",
      "   38.42012     38.2985456   41.484776    68.1700617   66.5047109\n",
      "   64.148408    60.104848    62.531032    69.701024    70.115288\n",
      "   65.452064    69.32636     84.48056     72.324496    76.77232     73.014392\n",
      "   69.800952    78.434032    85.54016     91.77816     88.56696     88.9484\n",
      "   93.00248     96.53768     82.60184     79.5496      80.4458304\n",
      "   85.9097808   56.1324931   56.1582344   55.068472    56.558232    61.5034\n",
      "   66.107576    63.984872    62.625328    71.831896    88.44192     69.987368\n",
      "   78.613968    83.13448     81.81232     88.57168     99.01168    103.35712\n",
      "  111.28856    108.75168    116.31616    111.8204     100.26816     97.62608\n",
      "  103.4248976  110.7488672   14.6278656   15.7188133   15.980112\n",
      "   13.721648    16.9638      20.209568    20.24868     21.09276     25.008288\n",
      "   34.7646      25.061208    29.643784    29.855064    29.30432     33.33332\n",
      "   35.813544    36.116312    36.679456    35.654568    36.617216\n",
      "   35.868184    31.801752    30.072112    31.0889864   37.5336944\n",
      "   27.7741517   31.5698243   25.705136    25.723312    28.855144\n",
      "   32.068336    30.79816     29.914672    35.457088    43.755872    34.93336\n",
      "   39.475928    39.128272    36.787016    41.721512    45.963344\n",
      "   50.161976    49.070024    46.342712    49.734968    51.152376\n",
      "   46.584712    43.176432    44.6035328   47.277904    35.4195451\n",
      "   38.6242013   36.601704    35.401088    37.719232    44.230504\n",
      "   42.701024    43.896376    45.048184    53.891048    46.253408    49.38116\n",
      "   53.686832    48.999768    54.821552    60.979936    61.533728\n",
      "   57.606384    57.028984    60.04916     64.047496    56.679576\n",
      "   52.490216    56.2375136   59.0783432   15.9670539   15.8120702\n",
      "   16.90888     17.834984    20.255696    24.7784      23.333408\n",
      "   20.757432    26.019424    41.514784    29.045128    37.173024\n",
      "   36.483056    33.892104    37.542488    40.560976    37.7064      36.224984\n",
      "   30.5082      32.719144    32.979688    27.013064    25.96024\n",
      "   28.4707848   29.3199904   31.7591784   31.3473387   30.185048\n",
      "   25.800552    30.405624    40.378568    33.184416    34.297008    38.59724\n",
      "   46.184616    42.803584    41.87268     41.922736    37.76256     43.880312\n",
      "   51.94552     49.972832    46.693216    45.917544    43.701864\n",
      "   44.154208    37.95012     35.420936    34.8293352   39.1854528\n",
      "   34.1374862   32.0171896   30.769896    30.214056    30.922712\n",
      "   38.518496    36.116264    33.891528    38.836376    49.94288     44.499056\n",
      "   47.583       43.75264     40.934096    48.15112     49.915856\n",
      "   47.730664    49.808728    51.80968     52.804008    52.682024    47.73016\n",
      "   47.566832    48.7639192   50.85546     62.4169096   60.6143258\n",
      "   66.629312    61.389288    59.654072    63.733592    62.13076     60.802096\n",
      "   65.291368    72.54376     65.868016    70.178672    68.17124     61.506432\n",
      "   64.76692     70.273136    70.11104     64.588472    63.494152\n",
      "   63.505544    64.807976    60.206728    58.007696    59.090964\n",
      "   62.3249392   47.4881038   44.0046866   42.093024    39.318504\n",
      "   43.706088    44.744936    40.725032    39.674576    48.469072\n",
      "   54.249336    42.778872    48.669832    47.912208    43.087096\n",
      "   49.850424    54.479088    55.290576    55.796376    53.15932     54.178664\n",
      "   55.158632    52.493616    49.758568    49.5787448   47.8546392\n",
      "    6.2747003    5.7934992    3.644152     4.165688     7.078608    13.40648\n",
      "    9.562472     8.63312     18.8314      21.733992    17.542816\n",
      "   17.529288    16.192864    12.801744    17.052896    21.472256\n",
      "   23.615056    23.444864    19.18864     20.22328     21.229272\n",
      "   13.527896    12.06988     14.2030376   11.2002432]\n"
     ]
    }
   ],
   "source": [
    "y_err = y_hat - y\n",
    "print(y_err)"
   ]
  },
  {
   "cell_type": "code",
<<<<<<< HEAD
   "execution_count": 59,
=======
   "execution_count": 38,
>>>>>>> c25524c5840e1a7260ff406a16d78e53566ce623
   "metadata": {
    "collapsed": false
   },
   "outputs": [
    {
     "name": "stdout",
     "output_type": "stream",
     "text": [
      "[  8.92326885e+00   3.73266489e+01   1.42226735e+01   3.53875552e+01\n",
      "   8.09330538e+01   3.99754731e+01   1.57940113e+01   1.69220340e+01\n",
      "   1.51734109e+02   2.29177452e+02   7.95251593e+01   7.54802319e+01\n",
      "   9.47272401e+01   1.52293568e+02   2.75104684e+02   2.01880222e+02\n",
      "   3.93274907e+02   1.52665201e+02   5.55427969e+01   1.21510762e+02\n",
      "   1.29117042e+02   1.09930192e+02   1.08896404e+02   1.72418455e+02\n",
      "   2.56342233e+02   5.93486015e+02   8.76496892e+02   7.64665844e+02\n",
      "   8.65229988e+02   1.09774692e+03   8.11105843e+02   8.26131536e+02\n",
      "   7.84435516e+02   1.15820044e+03   1.57566508e+03   1.07776268e+03\n",
      "   1.23182243e+03   1.21818367e+03   1.44257520e+03   1.87884312e+03\n",
      "   1.68241791e+03   2.31938560e+03   1.32983042e+03   1.13715062e+03\n",
      "   1.48369487e+03   1.66028215e+03   1.49528228e+03   1.37830008e+03\n",
      "   1.57306758e+03   1.59568138e+03   8.33385771e+02   8.07082128e+02\n",
      "   7.02799611e+02   1.05237748e+03   1.05224409e+03   1.08685421e+03\n",
      "   1.08297279e+03   7.34072264e+02   1.63686918e+03   2.38170314e+03\n",
      "   1.49060052e+03   2.01600138e+03   1.94057800e+03   1.81689676e+03\n",
      "   2.24023719e+03   1.91938620e+03   1.54737502e+03   1.43075120e+03\n",
      "   1.66615615e+03   1.86289885e+03   1.84610122e+03   1.48368871e+03\n",
      "   1.47610562e+03   1.46677860e+03   1.72098664e+03   4.64715731e+03\n",
      "   4.42287657e+03   4.11501825e+03   3.61259275e+03   3.91012996e+03\n",
      "   4.85823275e+03   4.91615361e+03   4.28397268e+03   4.80614419e+03\n",
      "   7.13696502e+03   5.23083272e+03   5.89398912e+03   5.33110144e+03\n",
      "   4.87217290e+03   6.15189738e+03   7.31711897e+03   8.42323065e+03\n",
      "   7.84410640e+03   7.91181786e+03   8.64946129e+03   9.31952366e+03\n",
      "   6.82306397e+03   6.32813886e+03   6.47153163e+03   7.38049044e+03\n",
      "   3.15085678e+03   3.15374729e+03   3.03253661e+03   3.19883361e+03\n",
      "   3.78266821e+03   4.37021160e+03   4.09406384e+03   3.92193171e+03\n",
      "   5.15982128e+03   7.82197321e+03   4.89823168e+03   6.18015596e+03\n",
      "   6.91134176e+03   6.69325570e+03   7.84494250e+03   9.80331278e+03\n",
      "   1.06826943e+04   1.23851436e+04   1.18269279e+04   1.35294491e+04\n",
      "   1.25038019e+04   1.00537039e+04   9.53085150e+03   1.06967094e+04\n",
      "   1.22653116e+04   2.13974452e+02   2.47081092e+02   2.55363980e+02\n",
      "   1.88283624e+02   2.87770510e+02   4.08426639e+02   4.10009042e+02\n",
      "   4.44904524e+02   6.25414469e+02   1.20857741e+03   6.28064146e+02\n",
      "   8.78753930e+02   8.91324846e+02   8.58743171e+02   1.11111022e+03\n",
      "   1.28260993e+03   1.30438799e+03   1.34538249e+03   1.27124822e+03\n",
      "   1.34082051e+03   1.28652662e+03   1.01135143e+03   9.04331920e+02\n",
      "   9.66525075e+02   1.40877822e+03   7.71403503e+02   9.96653806e+02\n",
      "   6.60754017e+02   6.61688780e+02   8.32619335e+02   1.02837817e+03\n",
      "   9.48526659e+02   8.94887601e+02   1.25720509e+03   1.91457633e+03\n",
      "   1.22033964e+03   1.55834889e+03   1.53102167e+03   1.35328455e+03\n",
      "   1.74068456e+03   2.11262899e+03   2.51622384e+03   2.40786726e+03\n",
      "   2.14764696e+03   2.47356704e+03   2.61656557e+03   2.17013539e+03\n",
      "   1.86420428e+03   1.98947514e+03   2.23520021e+03   1.25454418e+03\n",
      "   1.49182893e+03   1.33968474e+03   1.25323703e+03   1.42274046e+03\n",
      "   1.95633748e+03   1.82337745e+03   1.92689183e+03   2.02933888e+03\n",
      "   2.90424505e+03   2.13937775e+03   2.43849896e+03   2.88227593e+03\n",
      "   2.40097726e+03   3.00540256e+03   3.71855259e+03   3.78639968e+03\n",
      "   3.31849548e+03   3.25230502e+03   3.60590162e+03   4.10208174e+03\n",
      "   3.21257434e+03   2.75522278e+03   3.16265794e+03   3.49025064e+03\n",
      "   2.54946810e+02   2.50021564e+02   2.85910223e+02   3.18086654e+02\n",
      "   4.10293220e+02   6.13969107e+02   5.44447929e+02   4.30870983e+02\n",
      "   6.77010425e+02   1.72347729e+03   8.43619461e+02   1.38183371e+03\n",
      "   1.33101338e+03   1.14867471e+03   1.40943841e+03   1.64519277e+03\n",
      "   1.42177260e+03   1.31224947e+03   9.30750267e+02   1.07054238e+03\n",
      "   1.08765982e+03   7.29705627e+02   6.73934061e+02   8.10585587e+02\n",
      "   8.59661837e+02   1.00864541e+03   9.82655644e+02   9.11137123e+02\n",
      "   6.65668484e+02   9.24501971e+02   1.63042875e+03   1.10120547e+03\n",
      "   1.17628476e+03   1.48974694e+03   2.13301876e+03   1.83214680e+03\n",
      "   1.75332133e+03   1.75751579e+03   1.42601094e+03   1.92548178e+03\n",
      "   2.69833705e+03   2.49728394e+03   2.18025642e+03   2.10842085e+03\n",
      "   1.90985292e+03   1.94959408e+03   1.44021161e+03   1.25464271e+03\n",
      "   1.21308259e+03   1.53549971e+03   1.16536796e+03   1.02510043e+03\n",
      "   9.46786500e+02   9.12889180e+02   9.56214117e+02   1.48367453e+03\n",
      "   1.30438453e+03   1.14863567e+03   1.50826410e+03   2.49429126e+03\n",
      "   1.98016598e+03   2.26414189e+03   1.91429351e+03   1.67560022e+03\n",
      "   2.31853036e+03   2.49159268e+03   2.27821629e+03   2.48090938e+03\n",
      "   2.68424294e+03   2.78826326e+03   2.77539565e+03   2.27816817e+03\n",
      "   2.26260351e+03   2.37791982e+03   2.58627781e+03   3.89587060e+03\n",
      "   3.67409649e+03   4.43946522e+03   3.76864468e+03   3.55860831e+03\n",
      "   4.06197075e+03   3.86023134e+03   3.69689488e+03   4.26296274e+03\n",
      "   5.26259711e+03   4.33859553e+03   4.92504600e+03   4.64731796e+03\n",
      "   3.78304118e+03   4.19475393e+03   4.93831364e+03   4.91555793e+03\n",
      "   4.17167072e+03   4.03150734e+03   4.03295412e+03   4.20007375e+03\n",
      "   3.62485010e+03   3.36489280e+03   3.49174203e+03   3.88439805e+03\n",
      "   2.25512000e+03   1.93641244e+03   1.77182267e+03   1.54594476e+03\n",
      "   1.91022213e+03   2.00210930e+03   1.65852823e+03   1.57407198e+03\n",
      "   2.34925094e+03   2.94299046e+03   1.83003189e+03   2.36875255e+03\n",
      "   2.29557968e+03   1.85649784e+03   2.48506477e+03   2.96797103e+03\n",
      "   3.05704779e+03   3.11323557e+03   2.82591330e+03   2.93532763e+03\n",
      "   3.04247468e+03   2.75557972e+03   2.47591509e+03   2.45805194e+03\n",
      "   2.29006649e+03   3.93718639e+01   3.35646330e+01   1.32798438e+01\n",
      "   1.73529565e+01   5.01066912e+01   1.79733706e+02   9.14408708e+01\n",
      "   7.45307609e+01   3.54621626e+02   4.72366408e+02   3.07750393e+02\n",
      "   3.07275938e+02   2.62208845e+02   1.63884649e+02   2.90801262e+02\n",
      "   4.61057778e+02   5.57670870e+02   5.49661648e+02   3.68203905e+02\n",
      "   4.08981054e+02   4.50681990e+02   1.83003970e+02   1.45682003e+02\n",
      "   2.01726277e+02   1.25445448e+02]\n"
     ]
    }
   ],
   "source": [
    "y_err_sq = y_err**2\n",
    "print(y_err_sq)"
   ]
  },
  {
   "cell_type": "code",
<<<<<<< HEAD
   "execution_count": 60,
=======
   "execution_count": 39,
>>>>>>> c25524c5840e1a7260ff406a16d78e53566ce623
   "metadata": {
    "collapsed": false
   },
   "outputs": [
    {
     "name": "stdout",
     "output_type": "stream",
     "text": [
      "48.2043713964\n"
     ]
    }
   ],
   "source": [
    "RMSE = (sum(y_err_sq) / len(y))**.5\n",
    "print(RMSE)"
   ]
  },
  {
   "cell_type": "code",
<<<<<<< HEAD
   "execution_count": 61,
=======
   "execution_count": 40,
>>>>>>> c25524c5840e1a7260ff406a16d78e53566ce623
   "metadata": {
    "collapsed": false
   },
   "outputs": [
    {
     "data": {
      "text/plain": [
       "True"
      ]
     },
<<<<<<< HEAD
     "execution_count": 61,
=======
     "execution_count": 40,
>>>>>>> c25524c5840e1a7260ff406a16d78e53566ce623
     "metadata": {},
     "output_type": "execute_result"
    }
   ],
   "source": [
    "RMSE == (sum((y_hat-y)**2) / len(y))**.5"
   ]
  },
  {
   "cell_type": "code",
<<<<<<< HEAD
   "execution_count": 62,
=======
   "execution_count": 41,
>>>>>>> c25524c5840e1a7260ff406a16d78e53566ce623
   "metadata": {
    "collapsed": true
   },
   "outputs": [],
   "source": [
    "X_reg = np.array([[x] for x in X])"
   ]
  },
  {
   "cell_type": "code",
<<<<<<< HEAD
   "execution_count": 63,
=======
   "execution_count": 42,
>>>>>>> c25524c5840e1a7260ff406a16d78e53566ce623
   "metadata": {
    "collapsed": false
   },
   "outputs": [
    {
     "name": "stdout",
     "output_type": "stream",
     "text": [
      "-0.0199443448184\n",
      "4.39257149108\n"
     ]
    }
   ],
   "source": [
    "from sklearn import linear_model\n",
    "reg = linear_model.LinearRegression()\n",
    "reg.fit (X_reg, y)\n",
    "print(reg.coef_[0])\n",
    "print(reg.intercept_)"
   ]
  },
  {
   "cell_type": "code",
<<<<<<< HEAD
   "execution_count": 64,
=======
   "execution_count": 43,
>>>>>>> c25524c5840e1a7260ff406a16d78e53566ce623
   "metadata": {
    "collapsed": false
   },
   "outputs": [
    {
     "data": {
      "text/plain": [
       "True"
      ]
     },
<<<<<<< HEAD
     "execution_count": 64,
=======
     "execution_count": 43,
>>>>>>> c25524c5840e1a7260ff406a16d78e53566ce623
     "metadata": {},
     "output_type": "execute_result"
    }
   ],
   "source": [
    "round(B1, 5) == round(reg.coef_[0], 5)"
   ]
  },
  {
   "cell_type": "code",
<<<<<<< HEAD
   "execution_count": 65,
=======
   "execution_count": 44,
>>>>>>> c25524c5840e1a7260ff406a16d78e53566ce623
   "metadata": {
    "collapsed": false
   },
   "outputs": [
    {
     "data": {
      "text/plain": [
       "True"
      ]
     },
<<<<<<< HEAD
     "execution_count": 65,
=======
     "execution_count": 44,
>>>>>>> c25524c5840e1a7260ff406a16d78e53566ce623
     "metadata": {},
     "output_type": "execute_result"
    }
   ],
   "source": [
    "round(B0, 5) == round(reg.intercept_, 5)"
   ]
  },
  {
   "cell_type": "markdown",
   "metadata": {},
   "source": [
    "## PolynomialReg"
   ]
  },
  {
   "cell_type": "code",
<<<<<<< HEAD
   "execution_count": 66,
=======
   "execution_count": 45,
>>>>>>> c25524c5840e1a7260ff406a16d78e53566ce623
   "metadata": {
    "collapsed": true
   },
   "outputs": [],
   "source": [
    "poly = PolynomialFeatures(degree=3)\n",
    "X_ = poly.fit_transform(X_reg)"
   ]
  },
  {
   "cell_type": "code",
<<<<<<< HEAD
   "execution_count": 67,
=======
   "execution_count": 46,
>>>>>>> c25524c5840e1a7260ff406a16d78e53566ce623
   "metadata": {
    "collapsed": false
   },
   "outputs": [
    {
     "data": {
      "text/plain": [
       "array([[  1.00000000e+00,   9.62290600e+00,   9.26003199e+01,\n",
       "          8.91084174e+02],\n",
       "       [  1.00000000e+00,   9.98354600e+00,   9.96711907e+01,\n",
       "          9.95071918e+02],\n",
       "       [  1.00000000e+00,   1.00891200e+01,   1.01790342e+02,\n",
       "          1.02697498e+03],\n",
       "       ..., \n",
       "       [  1.00000000e+00,   2.17123500e+01,   4.71426143e+02,\n",
       "          1.02357694e+04],\n",
       "       [  1.00000000e+00,   2.31287970e+01,   5.34941251e+02,\n",
       "          1.23725476e+04],\n",
       "       [  1.00000000e+00,   2.00003040e+01,   4.00012160e+02,\n",
       "          8.00036481e+03]])"
      ]
     },
<<<<<<< HEAD
     "execution_count": 67,
=======
     "execution_count": 46,
>>>>>>> c25524c5840e1a7260ff406a16d78e53566ce623
     "metadata": {},
     "output_type": "execute_result"
    }
   ],
   "source": [
    "X_"
   ]
  },
  {
   "cell_type": "code",
<<<<<<< HEAD
   "execution_count": 68,
=======
   "execution_count": 47,
>>>>>>> c25524c5840e1a7260ff406a16d78e53566ce623
   "metadata": {
    "collapsed": false
   },
   "outputs": [
    {
     "name": "stdout",
     "output_type": "stream",
     "text": [
      "[  0.00000000e+00  -1.19847375e-01   1.43002800e-03  -5.81790447e-06]\n",
      "6.29171907437\n"
     ]
    }
   ],
   "source": [
    "reg = linear_model.LinearRegression()\n",
    "reg.fit (X_, y)\n",
    "print(reg.coef_)\n",
    "print(reg.intercept_)"
   ]
  },
  {
   "cell_type": "code",
<<<<<<< HEAD
   "execution_count": 69,
=======
   "execution_count": 48,
>>>>>>> c25524c5840e1a7260ff406a16d78e53566ce623
   "metadata": {
    "collapsed": false
   },
   "outputs": [],
   "source": [
    "pfit = np.polyfit(X, y, 3)"
   ]
  },
  {
   "cell_type": "code",
<<<<<<< HEAD
   "execution_count": 70,
=======
   "execution_count": 49,
>>>>>>> c25524c5840e1a7260ff406a16d78e53566ce623
   "metadata": {
    "collapsed": false
   },
   "outputs": [
    {
     "data": {
      "image/png": "iVBORw0KGgoAAAANSUhEUgAAAhUAAAFkCAYAAACXcsmHAAAABHNCSVQICAgIfAhkiAAAAAlwSFlz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\nYE45b60AAAAASUVORK5CYII=\n",
      "text/plain": [
<<<<<<< HEAD
       "<matplotlib.figure.Figure at 0x112e77828>"
=======
       "<matplotlib.figure.Figure at 0x109047a90>"
>>>>>>> c25524c5840e1a7260ff406a16d78e53566ce623
      ]
     },
     "metadata": {},
     "output_type": "display_data"
    }
   ],
   "source": [
    "p = np.poly1d(pfit)\n",
    "plt.scatter(X,y)\n",
    "plt.plot(X, abline_values, '-', color=\"green\")\n",
    "plt.plot(X, p(X), '-', color=\"red\")\n",
    "plt.show()"
   ]
  },
  {
   "cell_type": "code",
<<<<<<< HEAD
   "execution_count": 71,
=======
   "execution_count": 50,
>>>>>>> c25524c5840e1a7260ff406a16d78e53566ce623
   "metadata": {
    "collapsed": true
   },
   "outputs": [],
   "source": [
    "# http://stackoverflow.com/questions/24612626/b-spline-interpolation-with-python\n",
    "x = X\n",
    "\n",
    "t = range(len(x))\n",
    "ipl_t = np.linspace(0.0, len(x) - 1, 100)\n",
    "\n",
    "x_tup = si.splrep(t, x, k=3)\n",
    "y_tup = si.splrep(t, y, k=3)\n",
    "\n",
    "x_list = list(x_tup)\n",
    "xl = x.tolist()\n",
    "x_list[1] = xl + [0.0, 0.0, 0.0, 0.0]\n",
    "\n",
    "y_list = list(y_tup)\n",
    "yl = y.tolist()\n",
    "y_list[1] = yl + [0.0, 0.0, 0.0, 0.0]\n",
    "\n",
    "x_i = si.splev(ipl_t, x_list)\n",
    "y_i = si.splev(ipl_t, y_list)"
   ]
  },
  {
   "cell_type": "code",
   "execution_count": 51,
   "metadata": {
    "collapsed": false
   },
   "outputs": [
    {
     "data": {
      "image/png": "iVBORw0KGgoAAAANSUhEUgAAAhUAAAFyCAYAAABC/SgBAAAABHNCSVQICAgIfAhkiAAAAAlwSFlz\nAAAPYQAAD2EBqD+naQAAIABJREFUeJzsnXd4VFX6xz/vpEx6QEroShcVFEGQKqiAhWJZV7Gv7rqu\nYuG3tlXQ3RV2bWtZxF1UrKtgF3CVJogFLAvuUqRDDCShQzLpZc7vj3Nn5s5kJpmEIZmE83meeZI5\n99x7z71z7r3vfc/7fo8opTAYDAaDwWA4WhwN3QCDwWAwGAxNA2NUGAwGg8FgiAjGqDAYDAaDwRAR\njFFhMBgMBoMhIhijwmAwGAwGQ0QwRoXBYDAYDIaIYIwKg8FgMBgMEcEYFQaDwWAwGCKCMSoMBoPB\nYDBEBGNU1DMicqOIuEWkk63sCxFZ3kDt+aOIuCO8TRGRdSLyhzDqxopIlojcGsk2GMLD9McqdU1/\ntGjMfUNErhORjSJSJiKHbOVh94Vqtv2CiCwKs+4cEXmnrvuqCyLyqYjMCrPuKhF5PEj5GBFxiUiL\n2u7fGBU1ICK9ReR9EckUkWIR2S0ii0VkUh03qaxPYFlEb6S1IFh7jpargQ7A854CERkkIo+ISJrf\nzpWqAJ4GpohIfITb0eQw/bFOHBf90fQNjYj0BF4FtgK/Bm6xLfb0hRl1aYCIdAZuBqbbytpafalP\nkFUeBy4Xkd512V8d2jcEOB94zFbWy2pfpyCrPA7cLiKt7YVKqUXANqDWxpcxKqpBRAYDPwC9gReB\n24GXgErgzgjuahQwJoLba2juAeYopVy2ssHAw0CzIPVfBVqiL3hDCEx/rDNNvj+avuHHCECAu5RS\nbyil3rct8/SFgjpu+y5gh1LqS1tZO+AR4IzAykqp/wL/AX5fx/3VlnuAz5VSO21lp6Dbd1KQ+vOA\nfOC2IMtmAb8VkeTaNCC2NpWPQx4CjgD9A25IiEjLSO3EejtqEohIX+B0YHLgolDrKKXyRGQxcCPw\n2jFrXOPH9Mdachz1R9M3fGRYf/PthdX0hbAQkVi0oflC4KIaVn0X+KOI3KaUKqrLvsNBRFoBF+Pv\nmQHdvqAeHqWUEpH3geuBPwYs/gDt0bmCWlwHxlNRPV2ADYEXKYBS6oD9uzX2+HcRuVpENlnux/+I\nyLCadmKNUy6zfT/H2t4VIvKQiOyytrdURLoGWX+giCwUkSMiUmhtb3CQekNF5AdrW1tFJLDzhWrf\nySJSJCKvBdlehYj81VZ8CVAKfGWr9wjwhPU10zq2ygB33BJgqIgEe3M0aEx/xDu2XhZsvFdEXhSR\nQ7ahi+OlP5q+odfbie/huN9q28PW92B9IUF07MVGEXHaypuLSK6IfC0iHqNhGNAC+Nx+/MD36If2\na7a+dL2tWUuAFLSXp1aIL67l9CDLHrTuv22torFATED7bkAbNQBf2No3PKB9JwbuQym1H1gLTKhV\no5VS5hPiAyxEW/+nhlHXbf0Ae9FvDfcAO4AC4BRbvRvQLslOtrLlwDLb93Os7a1Gd9g7ganWtlYF\n7PdcoAT4GrjbqvujVdbfVu80oBDYCdwLPAjkAP8FKsM4vt9b7R5rfU9Cj7mtBeJs9RYDPwSsexrw\nlrX+HWhr/2og0VZnsHXMFzX07x6tH9Mfvet2tdpzW0B5HHAQePF464+mb3jXHY9+w64EfmP9rqeF\n6gtW+QCgHHjKVjbHOoautrIHgQogxVbWGphinYN/2PrSSbY6MdbxPFGH3zUl1LrAemCx7fuLwL6A\nOicBz1rn48+29rWy1WkX7HqybXNvrdrc0BdDNH/QAS9lVof7Bh38MgqIDVLXbf1wZ9jKOgJFwPu2\nstpcqOuBGFv5Hda69gt/M/DvgLY4ge3AQlvZR1bnbG8r62kdWzhGhQBfWhf3Ceigt1Kgb0C9LODd\nIOt7jJJOIbbfxjrmexr6d4/Wj+mPftv8BlgZUHap1Z5hx1t/NH3Db5uPWPs+IaA8aF+wlk23tj8E\n+IV1TJMC6rxBwEPbKu9n1b++mjZtAj6p42/7FrAroKyvtc/rbGVfAt8HWf9y63wMr2YfJcDzQcof\nsNZtGW57zfBHNSillgKD0MEsfdBW8yIgW0TGBVllpdKBOZ71d1nrjrG50GrDK0qpStv3r9AP9y4A\nInIG0B2YIyItPB8gFe0CG27VcwCjgY+UUtm29m22jqdGlO5hN6It58+AW4G/KKV+DKjaAjhcy+PE\ntk7Exn+bGqY/+vEGMFB0NL6Ha9A3369sZcdFfzR9Iyyq6wt/BDag+9VMYLlS6vmAOnXtS1jr1bUv\nvQG0E5GRtrJr0Ebgh7ayY9G+Wl8HxqioAaXUaqXUL4DmaDfZX9AP1vdE5OSA6tuCbGILeqigVR12\nvyvgu+cHbm797W79fQPYb/vsQ6dSxYtIurXvxBDt2xxuY5RSO4A/AWehL8BpIarW5abkWUfVYd3j\nBtMfvbyDfjO/BkB0aujFwL+C1D0u+qPpG2ERtC8opcrRqaKd0efsptqsH+Z+69qXlgB78PV1Aa4C\nPlZKFR7j9tX6OjDZH2GidNTzamC1iGxFp51dATx6DHdbGaLc80N7jMLfA/8LUbcASIhgm8agO1g7\ntGW8L2D5QXw3ktrgWedAtbUMgOmPSqkjIvIJ+kY7DX3s8WhXsZ3jrj8e732jGmrqCxdYfxPQRtDP\nQdYfUMd9N0cbbbVGKeUWkbeBX4vIbeiA0XZUNaDr2tdBp1YH6+u1vg6MUVE3/mP9bRtQ3j2wInos\nsAhtlUea7dZfl1JqWahKIrIfKCZ4+wLfYEIiWmXwPHRw14PoPOZLA6ptQlv7gdRk6XrW2Rhuewxe\njsv+iH7r/VhE+qODz35USgX2n+O9Px6vfSMYofoCooWrpgKvoPUmXhaR3so/m2YTcLWIpAaUV9uX\nRCQGHbMy7yja/gbwf8A44CL0y9zigDqbgMuCrFtT+9qhDfJgfb0zcEApdTDchprhj2oQkREhFl1s\n/Q10xw0SnQvtWb8jOhp5kRWTEGlWoy/WeySIQIlY+elKKTd6PPISEelgW94LPX5ZI9bY9RPoQK7H\n0BHjE0Tk2oCqq4DTRCQuoNzjpguVotcfHXi0Kpz2HI+Y/liFz9BvZ/ejAwbfDFLnuOiPpm+ERdC+\nIFp/4jVgN1rc6lfoQN1ngqwv6MBMOzX1pVPQ3o9v6tpwpdQ6YB06o+VytIBXoLLpKqC5iJwUpH1S\nTfv6oQ2PlSGW1eoaMJ6K6pkhIknoaORNaGtuCPBLdArWqwH11wMLRWQGerz3d+gf64/HonFKKSUi\nvwY+BTaIyKtANtAeGAnk4csxfgTt3vtaRF5Ap99NstocTF42kFfQbzG3Wft+UUQuB54TkaVKqT1W\nvXnoFKtzgKW29VejO/ZfRGQuOtJ6vlKq2Fp+PvCNUqqugUbHA6Y/+u+vwupLk9CpfnODVDte+qPp\nGzUTqi9MtbZ7rhWjsE5E/gxME5EPlFKfWfW+Bg6h+8YXtvW3o9N5bxWRAvRD/DulVKa1fLRVZt8n\nIvIFOiMj3Jf7N4Cn0L9T4DAfwL/Rw1DnAy/byv9rld8vWnelFJ3B4/FIjQay7IG7Vvtaoc9L7STN\n65Licrx8rJP9EjooMQ/tltuMtmBbBtR1A38HJlp1itCyucMC6oVK0/rc9v0cq85lAeueaJVfH1De\nB3gP7RIrQt9E5gAjAuoNReeSF6N18X+DlX5Vw3nwpIdNCCjvgA7IWhBQ/l9sWgG28gfRaV3l9nMA\npKFTmm5s6N88mj+mPwY9Jx6PwqfV1Gny/dH0Db91g6aUBusL6NTMUuCZgHoO4Dt0AGqarfxZYHOQ\n7Y5FexJKA48b/ab/WpB1fgB21+I3zrD66k/V1PkYm3aFrfwm6zyWYUsvRRvW2cAfg6xzK+ACkmvV\nFxv6YmgqH8+F2tDtiIYPcC3ack8Ls/7daNejs6Hb3lQ+x0t/tB5SbuDqauqY/ngc9o1I9IUg63dG\nG5wjw6x/BtqL1jugPMV6wN9ai323sNZ5sJo6Qy3Do2uY27wEHSCbEWTZGmyCYOF+IhpTISLDRGS+\niGRbcqDjg9TpJSLzRMu0FojIdwFjZ04RmSkiB0RPvfq+BMygZoh63kK/Ad5eU0VrPPNu4FGlVOmx\nbliQ/VfbZ0XkVavc/vm0vttpCMkt6Lepj6qp02j6o+GYE3ZfCIbSE3XNRotChcP9wHtKx0TYGY42\nXF+uukpIfoX2oARLm/a072t0AOd9YW7zPmCGUmqvvVBExgDdsM12Gi6RjqlIRruXZuMvygGAaC34\nr9Buuqnom8GpaMvPw7PAhehglHy0EMkH6DQaQyNAaTM37HFxgs+eV19U22ctPkMLf3nS48zDpoER\nkbHoe8dv0G/dxaHqNrL+aDiG1KYvVLONsA0SpdTEEOWfYgmD1YQlenUqerjuI6VUVg37vLi65QF1\nq8y7YpUvQg8D1pqIGhVKqYVoDXqPQEcg09AyrfY52nd6/rEEbG4CrlJKrbDKfgVsFJEBSqnvI9ne\nCKNoREI5Bk0YfRagVPmCmhoLTb0/zkDPu/AJxyi4sAnT1PtGU+NhtFrq10R2GvtjQr1lf1g37IuB\nJ0RkITpAZifwV6WUJ3+3n9Um7yxrSqnNIpKFPqlRa1QopWIaug2GY8YIEdmLDkpdBkxRSh1q4DZV\nS1Pvj0qpoHoDhppp6n2jqaGUGllzreihPlNKW6ODU+5Hiyfdhx7m+FBERiit198GKFNK5Qesu9da\nVgXR+vFjgEz8h1EMBg8JaJf2IlULEReLz9DDbzvRs2P+FfhURAZZrlQ/TH80hMHR9MdaY/qkoQYi\n2h/r06jwBIV+rJT6u/X/WhEZjE5d+Sr4ajUyhuA5uwZDINcAb9dmBaXUu7avG0RkHTovfQQ6vS4Q\n0x8N4VLr/lhHTJ80hENE+mN9GhUH0Kk1gVKgG9EiLaAnTYkXkbQAb0WGtSwYmQD/+te/6NWrV0Qa\nOnnyZJ55JlBMreG3Fe3bi9a2bdy4kWuvvRasvnI0KKV2isgBdGR0MKMiE6K3P0Z6e6ZttSeS/TFM\nMiF4n3ziuSd4d/+7qI6W020h3hkwZJdwZasrufeue+u842j9Dcz2fES6P9abUaGUKheRH9D68nZ6\n4Ju4ZTXa8DgPK0VMRHoCnQgtFVoC0KtXL84888yItDU9PT0qtxXt24vmtlkctevXSn9uAeRWt49o\n7Y+R3p5p21FRX0MRIfvkd+u+Q41XvrymBPRUVYBqq/h2wbdHdczR/huY7fkRkf4YUaPC0nTvhq+L\ndhGR04FDSqldwJPAXBH5Cv2WdyFaiewcAKVUvojMBp4WkcPolNO/o+VyozZI09B4qa7PWp9H0DEV\ne6x6j6NnG1xU/601GCKHUorymHItp7QSrd6wD3gd/Ro3GMod5SilCJ0YZTD4E2lPRX+0seBJWfqb\nVf46cJNS6mPRM10+CDyHloi9TCll90JMRsuIvg840Q65OgmVGAxhUF2fvQ2d0349ejKeHLQx8bBS\nqrz+m2owRA4RIaYsBt5B59aNQAtmTwS2Ae9ATEqMMSgMtSLSOhUrqGHmU6XUa+gZ4UItL0XPNXFH\nJNtmMAQjjD57QX21xWCob5qlNCOrd5b/ROOC/q6g+c/NG6hlhsaKmfo8CBMnBhVBa/BtRfv2orlt\njZloPq+mbY2bI0VH9KCeh962/7vDkcIjR7X9aP8NzPYijwRJtW9UiMiZwOrVq1dHOojK0ERYs2YN\n/fr1A+inlFpzLPdl+qOhJuqzP0LoPqmUouOAjmSPzQbg9FyYtgx+8UsojdN12n/Snl3f7zJDIE2Y\nSPdH46loYBq7UWcwGBonIkJcZZxXsLvXARi7Fa5ba1VQEFcZZwwKQ60wRkUD4HK5uPO+O+l8Zmc6\nDuhI5zM7c+d9d+JyuRq6aQaD4Thi3PnjcOzQj4ESK8Lu9ytB3ODY7mD8qCoTTRsM1VKf4lcGtEEx\naPQgNnbbiHu8WwdFKZi5YybLRi9j1eJVpKamNnQzDQbDccD0qdNZNnoZG9VGSmLcAJx8ECasELaW\n9mLaC9MauIWGxobxVNQzDz36kDYourl9yggC7i5uNnbbyJRpUxq0fQaD4ehpLMOaqamprFq8iknt\nJhG/Us90nRPr4G/b2pgXHEOdMEZFPbNg6QLcXfUbAaXoOS9fB+aC+xs3r8551QyDGAyNkMY6rJma\nmspzjz/HndPvA2D7r0bRJTuX1PXrG7hlhsZIRI0KERkmIvNFJFtE3CISckBORP5p1bkzoNwpIjNF\n5ICIuETkfRFpHcl2NhR+CnZLgFlAB7S00kT91zVMD49E+43IYDD48AxrzsydSeb4TLLHZpM5PpOZ\ne2Y2iuvZ5XLxyQdLAZi67Eu2O2P53w3XRn27DdFHpD0VycB/0UqEIf1/InIpMBDIDrL4WeBi4HJg\nOFqJ/oMIt7NB8FOwK0CLlPfAbxiEHphhEIOhkVFlWFOhhzW7Rv+wpscgWli+AoCK4cU8NqqC3lt3\ncNWwM41hYagVETUqlFILlVIPK6Xm4XtU+iEi7dES3VejJw+zL0sDbgImK6VWKKV+BH4FDBGRAZFs\na0ORlpSmJXHz8RedseHu6mb+0vn12SyDwXAULFi6AHcHtxZ8t4YzeR1YDu4O0X09ewyioq76PTCx\nAt48HfYlw/iibVFtEBmij3qNqRCd8PwG8IRSKnAKdIB+6IyUzz0FSqnN6KluBtVLI48hLpeLzZmb\noSsQDy2LYPymIBXFN5GPwWCIbpRSlFIK71JlOJMOwLtQqkqj9nr2xHl5UkoTKrT41YyBcMMO+Oaz\njxq2gYZGRX0Haj4AlCmlng+xvI21PD+gfK+1rFHz4J8fpDy5XJ/1MvjdDzBvLrQJ9C4a0RmDodEg\nIhQcKNCvPd3xH87sDpwNBQcKovJ6VkpR6igFgWKbUQHwj/5Q4YBrDhyOWoPIEH3Um06FiPQD7gT6\nHovtT548mfT0dL+yiRMnRpVe/yeff6LnX1VAJ+i/VZdfvAVm9/PVM6IzdWfOnDnMmTPHrywvL6+B\nWmM4bogh5HAm3YFVIZY1MCJCwcECUD7xq0Rr/t3DSTC7L9zwnwKkqAiSkxuuoYZGQ32KXw0FWgG7\nbBZ7DPC0iNytlOoC7AHiRSQtwFuRYS0LyTPPPBPVcy14Mz9i0NMKD4Z+X+tl4zdbRoUCtkCvnUZ0\npq4EMyRt2vYGQ8RRSpHSIgWXaJdjpyPgitcPZQAEUk5IQSkVld4KKoFtUN4N3Pg8FQDPtIHb3cCr\nr8KkSQ3UQENjoj6HP94A+gCn2z45wBPAGKvOanTw5nmelUSkJ9CJqLX1w8Ors18BrIKMzdC+Er51\nwqgtkPgSMBNiF8ey+IPFRnTGYGgkiAhOt9Ob7/bWB/DIClsFBU63MyyDIpy0fBH5s4jkiEiRiCwR\nkVA+khpRSpHSMkXfXbdBcZxlVChgK/y8Hj5ploB6+mmoqKhhawZD5HUqkkXkdBE5wyrqYn3vqJQ6\nrJT6yf4ByoE9SqmtAJZ3YjbaezHCGjJ5BfhGKfV9JNvaEIw9b6z2DV0J/aww1UcGQSJwzjnA7VAx\npoLRl482aVwGQyPCPodG8xIdhO2hlsOZ1abli8j9wCTgFmAAUAgsEpH4urRbRHDihF8Cu6GkEhL/\nA7ypv/NLeDmjObJzJ3zQJDL7DceYSHsq+gM/oj0OCvgbsAb4U4j6waJ/JgOfAO8DX6C9GZdHuJ0N\nwl8e/gtxhXEQD/2K4FA8rBiil7UoxuhUGAyNlOlTp9Nray8c2xw4KyClDFDg2Oag17ZeTJsS3nBm\nGGn5dwGPKqU+UUqtR+eYtAMuqWvbx50/Dke2A0ZCSTIknGptdSQ4djvoOuEKOPdcePJJMAGbhhqI\ntE7FCqWUQykVE/C5KUT9LkqpvweUlSql7lBKtVRKpSqlrlBK7YtkOxuS5Phk2Ar99sPqDjq6GiDW\n7atjdCoMhsaFZw6Nc+POxZkPabuEkxacxKR2kyI2h4aIdEZnwdlT7vOB7ziKlPvpU6fTY1MP+AiK\niyFhHVpj4yPosbmHNojuvRdWr4YvvjiqYzBZJE0fM/dHPfLQow+RNygPVkHXctjUEiqDGBVGp8Jg\naFy4XC4eevQh1ny/BieQXAnjzhvHtCnTIhkf1Qbt3d0bUH7UKfciAqdBSXNI6IH2VJwKJRUlusKY\nMdC7t/ZW1JLGOieKoW6Yqc/rkQVLF6DGK+gC6Y/DEScgUCkQY7cfjE6FwdBo8Mhcb+y2Efcv3Dgf\ng+Q0xcw9M1k2elnUzPYZKu1+1Y+r2NxjM3SDkmVWSqk1FJspmUyZNoXnHn8O7rkHbrgB1q+H004L\na59+52a8T8J85o7oOjfHC/WRcm+MinrCm1Jq2QnpCvIK9P8VDn9PhdGpMBgaD37zfoA3psLd1c1G\ntdH3UD569qDvIBn4eysy0LFs1RIq7f7BJx/UD3y0VoU9pZRuMOfDObr9V10FDz4ITz0Fr70WVoMD\nzw3gmxMlsufGEAb1kXJvhj/qCW9KqQLHCkhTkLcT2GIzKhSwGdK/Sg87sMtgMDQsHplrABQkVEJy\nmf4ayfgopdROtGFhT7lPQ0/OuLKO2/R72fGmlHp3AIfKD1FUVgTx8XD33fD225AdbC7IqvidmwBM\n7FjTxBgVx5DAmAhP2lnKFv09bwSQDZUVELManca1Acoryo1L0GBoBNhlrgHiKvXfFMuoQKBUwp/3\no7q0fOv7s8AUERknIr3R+j+7gXl1ab/9ZQe0pyLRblQoqCyt5Jlvn9Hfb7kFEhPhuZq9C4EGS9Wd\nm9ixpogxKiJMdUFJ06dO5+QtJ5NuGe75ycBIqHBC7Ono4KhLobiy2FxoBkMjwC5zDRBvGRUJlRBr\nSfIXHKzVvB/VpuUrpZ4AZgCz0FkficCFSqmyoFsLA7vGRuDwh2O7g74D+/LXr/9KjisH0tLgt7+F\nWbMgP3CKJn8CDZYqmNixJkmkxa9CqsGJSKyIPC4ia0WkwKrzuoi0DdiGU0RmisgBEXGJyPsi0jqS\n7TxWeIKSZubOJHN8Jtljs8kcn8nMPTMZNHoQLpeLoQOHkm5FsuQl6L8VDlugpgB1krEx1IX6VjA0\nNEEsmWsAZ6WvOLkM2GotD5Nw0vKVUn9USrVTSiUppcYopbYdTfPtGhvFsT5FTY/Gxry/zyMxLpEH\nP39Qr3DXXTr39MUXa9y23WAJxMSONU0i7amoTg0uCTgDbXH3BS4FelLVbfcscDFa8Go4WtilUUi5\n+QUl2WYqdHd189OJP9F7SG9ePvQy6dZNJs+p/1baAzUVJDmSjPVef9SrgqGhaeEnc71VB2l6SNkC\nfAspLVOi2vPo0diY1G4S5ZkOkvc5/DQ2OrbqyLSR03j9f6/zQ/YP0L49XH01PPsslFXvILEbLN6r\nqw6iYIbGQ6TFr0KqwSml8i2r+gOl1FZLdnsS0E9EOoA36OgmYLJlsf8I/AoYIiIDItnWY0F1QUkq\nV3Fo8CHc3dykW34Xu6fCa1RsgWsuvebYN9YANIyCoaHpEChz7XzPtyzFkrl2Et68Hw1Jamoqzz3+\nHCn9W5HROp2dq3fy3OPPeWO7bj7zZnq37s3di+7WBtI99+hgzblza9zuqsWruLXNrTpmbA445zgj\nKgpmiC4aOqaiGdp+PWJ974dOc7Urxm0GsjgKxbj6IDBgqwq70FMgA+nW37wsdCCUQIwbZIvQa3sv\nnvjTE/XQYkNNHCsFQ0NkiJa3f6/M9WBw2iSoUrKBz+CC4Rc0WNtqS0V8LHFlFVXObawjlmcveJaV\nu1byzoZ3tE7FhRfq9NIafofU1FSmPDwFrocxU8bgvtbN9EenG4OiidJgRoWIOIHHgLeVUpZiA22A\nsoBpzyECinHHmoKCAg5kHwgelKTQcRIejYpKqBAo3Ae8CRVFELsa7uhwB98t/c5cbNHDMVMwNNSN\naFRn9MpcvwnOVr7y5FHAqbBi1YpGoR7pcrnYtz2fiv0FQc/tuZ3PZULPCdy35D6Ky4u1dPe6dbBo\nUY3bPlKi3xuvOOUKyt3lfPnzl8f0WAwNR4MYFSISC7yHvmHf1hBtiDQPPfoQ5Rnl3oAtPwQ9Em8Z\nHOklkO8EzgWuh4o0SHTG+rkbDQaDP+EEQjcEqampnDPkHDgHnO185SnlQA/Y3GNz1E8Q6Dm3+5Jc\nOONVyHP71Oin2FOwh6dWPgUjRkD//mFJd+eVatXGAe0H0CGtA0t3LD2Wh2NoQOpdUdNmUHQEzrV5\nKUALu8SLSFqAtyLDWhaSUBK0gephx4oFSxfAhcC7VkE3vJK0bAUpEGS74O7mJq3UF08BWqcirWVy\nvbSzqRNhGdo6Kxg2dH9sikSzOuOiFYtgPDizfGUpZcA6cK9z89Lel9i5cScQeVnkSOA5t+fvh4SN\nVmGQc9vthG7cNfAuHvvmMW7qexPt770XrrwS1qyBIGqdHvJK9DE3S2jGqC6jWLJjST0claEhqFej\nwmZQdAFGKqUOB1RZDVSgFeM+stbpCXRCx1eHJJQEbX3gFXlJAK6EmG9g6r9hRgs4qICO0LJ9S/IX\n51PqLiW9xMr8sAyOigJo0bdZg7S9qRFJGVql1E4R8SgYrgU/BcOZ1a3bkP2xqbJg6QKvnHQg7q5u\n5i+Yz3PUv1FhF3nyy/4oA84EesMJn5zAvHnzEJGIyyJHAs+5LTkcoKhJ1XM7ZfgUXv/f6/zh8z/w\nxmWvQOfO2lsRYMzb8Qx/pCekM6rLKF7976vsKdhDRnJG1AexGmpHpHUqQqrBWQbFB+jL7FogTkQy\nrE8ceIPgZgNPi8gIEekHvAJ8Y2WLRCUiQkxFjDYSnDCkCzxyBMaeBlwHjICS/BLKRpZBNqRvsnRj\n3gSy9fBH/s+B9pWhPqhvBUND3YhmdUa7yJNdp8KrqhnlIk/5+fnsP7gf3oCS1RDnhphlQKlVIeDc\npiekM+3caby59k2+27Ma/u//4L33IDMz5D6OlBxBEFLiUxjYaiAsh95n946auBhD5Ih0TEV1anDt\ngXFAB7QuQA6Qa/21R9JPBj4B3ge+sJZfHuF2RhSXy0XewTyw5Lcv3KT/nvwFMBeYDSXlJaiTFYyE\n9HaQ1xEIrEBDAAAgAElEQVSdnDgSKhOh7FBhg7TdUP8KhobaE+3qjB6RJ4+notzhMyqiWeTJ5XIx\neMxgCocWwvVQPFSXJ7QB3kEbFkHO7c19b6ZPRh+dYnrjjZCeDs88U2XbnqDa+26+D96A2ybfxtgJ\nY6EDHPjFAb/YjbNHnW0MiyZApHUqQqrBKaV+DrLM8/1L2zZKlVJ3KKVaKqVSlVJXKKX2RbKdkebe\nqfeSV5gHXwE/wYVrdPnJbYCJwE1QnmybobTEJ3wFlqKmRE+K3PFEQygYGupGNKszekSenNY8W4cS\nIaU0+kWePLEU9ABEy3QDJJyIftVbGfzcxjhieHbMs3y7+1vm7JwPt98OL78Mhw4BVYNq8y/LR12n\nmLV8lt5fd70/SoEvwP21m58O/ET7Pu2N16KR09A6FU2Ctz98W+syXgvtv4PTy2B3KvQ8aFVwAJ5Z\nSIH0wEBNh6VTEaXuUYMhGohmdUaPyFPCAf39YDm02ZIS9SJPgYJ9LksntkUxOth8ByHP7cjOI7n0\n5Eu5f+n9FP32JnC74R//AEKrC+PCq9dDKdob0gHttb0OXDe4/DJOzItW48MYFUeJUorCskItQp4A\nowu1mNU/+0O3Q9akQqXoM71Vr1PFU1EKqWkJVTduMBi82OWkPeqMdjnphn5wp6amktBdcAscaQ1X\njrk4qtPEg8WprGmr338G7QIEkhOTWbloZchjeHLUk+wr3MeTW1+HG26AGTOgpCS4unCAXg8r0d6Q\n7vgZHu4ObjYUb6B9n/Ym5qIRYoyKCCBOgTLADd3ckJUOKzvqgKfOe9HWeB+0LuNmm6fCestSBTE0\naxudNx6DIZrwyElzPXAVVeSkG5r4UkWZCAUHYOm/50X1A7GgoID8A/l+cSp5ibA2A4b/DCholdyK\ntLQ07/JAz0HXE7py98C7efybx9nz22tg3z7UG28ED6oV9H3Ss4kstDfEjsd7cZr2WkSLFokhfIxR\ncZSICEmOJK26sR1alcH+JNjUUi8/+Rt0KOD/gHOAbEgrgbx1wCsQtyiOtE7N6l8wxGBo7ETZaKHL\n5SJ+NZTEKApOgtgWJVH7QPTEPLjSXVUE+746EYZl+WIpalIxfWj4Q6TEp3DPzllwySXI008TXxEb\nPKi2E3p/gV4LD6G8F13dbOy2MepFxAzGqDgqPBebu8wNrYFV0MoBB4DcVD0+eXIOWkJpENAVkt0Q\nA+QJEAulbUvJO1iEw23GDg2GWhFll8xDjz6EswOUxkNBvC/7IxofiN4AzYvwzrDqOZ9fdYLuh2DI\n+i64XC5adG3BjOwZVVRMB5w3gFsn38rpg06n/K1y3rrnLR4iDzZv5g8nneYd7vVjMLACnSln91p4\nCOa9sHB3dTNvscnkjnaMUVFH7NHNhScV6gvzTGjphv37ga3aW3FyJXoysY7AO5BuzQ2Qb0l00xsK\nDhcj5ZUh9mQwRDf1GUznMeR5HZhLVA0vLFi6AGc6lDmg4ACk7NFt5HVwZ7n5eNHHDd1EL96YBydw\nJVp5xYpT+cpSBOrnKuLVla9SPrrcmx0CeOMeNuVuYtb+WWSOz+TIpUfgevhL0jLWpCZxffY+Tlh5\ngjYebEG1ZKElF9cDefgbHm6Cey88CBwoOnDM+pt9u4H7MAGj4WO87nXEL7r5G7TI1VfQqgi+7QZk\nQ/YRyKhAXyirgEFwgjU8medEXzzdoSIDSvYUBN+RwRCFuFwuHnr0IRYsXUB5TDlxlXGMO38c06ce\nu9knPYb8xm4btUEukKkymbljJstGL2vQYE2lFGUxZcSXQ2kxFHSAlBJ0SrkCtkHOxhzy8wPnSqx/\nqgRoOoGRnoWwR2Dro9A1NgfyCe45WIkezu1uK7PuZ3/qW8S8L3/g7K7N+fQTIB0dyF6OfrkaAPwH\nGA4sBDag9xMPHNJtCGpYKCjJK4lYlpxSioKCAm8/LnWUUnCwACohpWUKcZVxNEtpxpGiI1TGVtZL\nH28KRFpRc5iIzBeRbBFxi0iVxHER+bOI5IhIkYgsEZFuAcudIjJTRA6IiEtE3heR1pFsZyTwWvqe\nsUEreaOlggMdgZHg6gYpiUARXrfepRuhMA7WZfi2VZEOlQVGS+l4Jtw3oWh4Y2qoib2CpikSHcML\nHnEu5y4oTYaCDEgu9yxEvzycX8HU6VMbrI0eqhUSs+Yr+joOhh0huOfA43EIMUyxYARsioOb4w5r\ng6IUPaFiHNpruxfoh5ZAVMBpaCNxItCLqpMyetq5DRKcCbjdwaXaw8EeH9K+X3s9tJOjh3Zyx+Xi\nusGFa7iL3MO5ZLmyWNt5LVkTskzAaC2I9PBHMrqr3EaQLisi9wOTgFvQ9mohsEhE4m3VngUuRqto\nDgfaoeW9owY/S98W0RyzGVoo2G/NDVYQD6kJQAnggFg33PofeLMP5Nt1KgRiREXFA8NQf4Q7jXe0\nTfcdSoPgWD/cvYZ8KbAc7xCIZ3jho4UfHZP9hsvF512M8wiUJkKhLabCSw+Yv3R+g7QtkOqExNgK\nX6UKvfdCejH6Tl4KLRfBL16A+LfQMzSFcBgoB/ztBLhkE3SPBW4GuqLvg0XAT8AP1veO6OBNz7aG\noL26G4Bl+H7jl4BPoaS0hE4DO9XpGgg0hnPTcvXQTkBQKN3RxpAJGK0TkVbUXKiUelgpNY/gXe4u\n4FGl1CdKqfVo+7QdcAl4J2u6CZhsKR3+CPwKGCIiAyLZ1qOhiqXfDtgCLayvBxL1X1e8Nf3xdUCe\n9lK0K4CZAUdSYRkcRvyq6eMxHMN924/G6b6DahBYuLu6j8mD02vIl+EvmHQZ+sG0E3Yd3MWJfU9s\nMIPr4QcexgmUxuprP9WSuPbSgPOTBBJKSIytwLfwXVI8DmBIGrAReAcmuOG9fbB5P1xfDI5QYWAK\n3kyAfcnwf/vR3o7BkCjgGIl+5bwR+C3QG58cOOihmEuAL/H/jZ3ARVB5a2Wdr4EqxnA13hby8R/a\nsXGs+nhTod4CNUWkM9AGrdYAeCcQ+w7f3B/90XEe9jqb0T+/fX6QBsdr6eejg5G+hJYxetl+a26w\ngnhILQPSgG5w3n9hbWtYn+G/rYoCSEiIq7/GG+qVYJ6GoRcMDettv6G8AqE42om9anqghlruNeS/\nwfcG6TEwOqJfRX4DWROyGszgSk1L1UZFDOQ79c012e6tiKKJxYIJibWf114HbF4JZX07kJ0Iw1PQ\nMzANgizrIZudBq8fgLV/h0s2UtUnvVUbVjPi4cYCaP0S8C6sOgL37Mfbd7odgh+WQXo/dIyGh9XA\n+fiCQyOUZupnDIdKaa1pmbXvaDEOo5H6zP5og/659gaU77WWAWQAZZaxEapOVDB96nR6bOqh3XOj\noPcF0KpEL9u/Edhqe1spAbKg7W74ORb/N4PN4DgYR3K6M8hejg+a8sUZytOwdtfasN72G8IrYCfw\nt6nLxF41Dd+EWh4Y1Dju/HGwE9/bZZRpGriVG2cilJZpowIgrdS3vKHnJwkkUEjsq2Vf6YBNJ/S+\nrA9rk9IYtg0dZNkNtlqxiX8qgwEdIbcQPnoHvn0ZRu5A94kt6ODLfvCP30BFHEzqCpRBh1IYY4uX\nGLUd+udC/wR0rIWHQA9CBNJMqxjDnnlH7P1Y2ZYFS3e11YsW4zAaaTIppZMnT2b8+PF+nzlz5hyz\n/aWmpnLOkHMgCYbGw9rZcK510R24HNgNBWv08IfMBkZA22awx433zYA3gZ8grlkCMU33uRqUYxUn\nMGfOnCr9YPLkyRFqde0JFVxIIjW+Cbnd7gaZ7rum36Y2E3vVNHyTk5Pjv3xUNpmpmcyYO4MWfVr4\nDWdMmzKNWEes73zU8LCpq8FV1/PpVm6czUAVxJO/X5elWQ+uaJifpFoEfW4tHE4HI//wMGcdEhLL\ngDLIWgilDuhxJvxwM4y6B87vArIXlr0BSx4T+i9FexlOgcNJMPt0uG0VJLkhsRwGZltTFwBn7NF/\ne+9DB3EqqnoJwvAahJNmGtQYjsGb0nriYTj4OHTIs5alEVxng+gzDqON+kwp3YPuGhn4eysy0FNP\ne+rEi0hagLciw1oWkmeeeYYzzzwzgs2tmU+XfwpJ0Ndq2bhynTV1ZA8wAlwtgQ8gOQ4KukPbBfBZ\nX+BcfGlTCgqeK8ZxHM39YU8NdI93e89DJFIDJ06cyMSJE/3K1qxZQ79+/SLQ8tqzYOkCfYweStHj\nxQepNnUurjIOh8PhuxFWU8/+xqSUOqo3qHB+m+lTp7Ns9DI2qo3ai2LVcWy3Hpwv+B6cfkaVB483\nQW3koisu8i33SDQPAkZChVSQpbL89t2ueTuyVJbeTpgu6nDORyRSZJVSON3Qpk9n8g9tBqDTknRK\nU5oz/vzxTHthWoOnIlZ3PuJifEOwle5KKocMIcGtGFgOX3wD7sGwrQB6eCZKTIDPr4eBm+DS5fCU\ncvLDvhLeXwdTW8GmNHgmF26vgJuPQJI1LfwZe+A/7X33zd570Z4Bqx9RhK/P270GR5lmOu78cczc\nMdPn+SsHFuntDi2CE0ogqQxtTOShA0YVvmGYEH3c4E+9eSqUUjvRhsF5njIrMHMgvhG11ei4Ynud\nnuj44FX11dZwUEpxqPgQlMKp1sTsfffCgWQgF3gTXN/q8lQFoiCjUCttAn5uuPIYRUxl3dOkGhvR\nFidwrKjicvU8NAvQQWghJlCXreJ9EwrHK1AXr0+oN7twfhv7eHzy3GSYA20/bht0Yq+ahm/Wb1/v\nWx7GcMaEUROQzaLH+T2aBkEP0GdwVfcW63K5uPXuW0OqRgbGZlQnkORWbpyVIIlO8ofqsiemTIma\n+UnGXj222v5RUljizapZOG0h7a4axaEYGJaAd9hpSwubUeGhJ3wUDz2SS7gxA87KgfUvwOzZ4K6E\n906EP5T7qg/NgphKbUyUOaB3FjoP0OO9jcf/2uhEyGvFk2Yajndp+tTp9NzSUxsNbrS3MAXYDWcu\n03UOfaK/MxEtCvYZdPiog7dtYxLGRMXkddFMpHUqkkXkdBE5wyrqYn3vaH1/FpgiIuNEpDfwBvon\nnAfewM3ZwNMiMkJE+gGvAN8opb6PZFuPloKCAgoPFkIRnGobDzyQjB6XvB4KeuqylBJoWaQnGMtN\nCdiQgkq3EFN5/Ix/VHnQ2A69KUVWV3G5eh6a+cCFVJFH9oxJxy6J9brJa5ru+/677g87O8RufHQ4\nq0PQh0u4MRye8fgLH70QroJ35r1T5cFZY1AnoBKUb3x7CzUOZzxw9wPELYvTRlkwTQML2SSkJ6ZX\na2h5vDKzvpgVXDXSMmbum3qfn7ZBWqc00jqn0f6s9n7bVSicFeCOj/PGVMQUFIY++Hom95zc4P3D\nShm9aMJF3oyLkitKyL+xgG/awPD96IewaKOi+6GADQuQBJWD4HUH9JgEk8fA2P2wdR+0V9DWFrA6\nJAtOPgAJlfDvdnDqYXD8CrhK75tfoq8Njxrn4IDv4I1HYyW0aNYiLE9Famoqj734GOzWQalyWOBE\noAOc2UzXOXw93rgSfgY6wWUXXEbCtQlwPXS+pLMxKGog0p6K/uihjNXon/1vwBrgTwBKqSeAGcAs\ndNZHInChUsoeIz0Z+AR4H/0+koPWrIgaXC4XZ517FlQC58CpB2GnpU2xPwnvw8FlmUEpLaHtT/r/\n3MD+uAWSWqXiOE4cFX6pgXatgdes72VNK7Laz9OQhc7X94ilBcgj8yaQDS07tCQlRVufgVH6jrkO\nv+m+H3v2sbC8Pi6XiwHnDWDG4hlkHskkpyCHzCOZzFgygwHnDdAPxTpkdnj+L6koqVo92Dh2wM8q\nJaIDmefCGGD65wTH2vdjzz5GxegK7c3waBoEGGayUYhfHs+6LuuqNbTuffheNnTdEFo1Ei1HPfvt\n2dpoG5NJbl4uruEuXDe4yB2X67fd/Px8nJXgjo/H5TEqXNFjVHgR/+nFmQvMRiuVBniJvjwFBpVD\nrBUbsvUEOOkIxFfYtqfQ13N3oBIqshzMGAhdW8C04XC6bbB7RwIM3QJ9LUmRfx2GJAVdCm379UiH\nbwBeBN5GD0d8iX4NtcWjUQoXjbwo7EP/dv+3tB7bml0/7uKWibdABshK6JujVY4rY/AFnC4DLtLa\nIukJ6QB8mfVl2Ps6Xom0TsUKpZRDKRUT8LnJVuePSql2SqkkpdQYpdS2gG2UKqXuUEq1VEqlKqWu\nUErti2Q7j5Z7p97L5pzNEANtO0JzN7xuyXft3wv8A/gWCqyzm3oWtF2j//d6Kjwd9zNocXIGMUeh\nEteYEBFiymL0jaw1Oh2wDH0j2QbMBimWJhNZ7fE0yFbRxoQD3xixJY98XR/oPwytZzICnDj9jj81\nNZVnH3sWrof2t7T3c6fPWzKvWs+CJzL+3qn3sil3k7964fXAqbApdxP3Tb2vVpkdHq/HZ1M/g7lw\n7aXXBnWpjzlnjNY5CBCrYrn2JpzW9TSdLTAYLi6EG/9b/b49npRWBTB0D1UMs9hZsfTZ1Yfy0eXV\nGloul4tX5r7iM/JCdbdVUD7K2pYltR9qeGb649NxVoByxlERA0WxEOOKQvn9gOnFmYiWLexGld/+\nq06QXAl9LanxLS0gRkEXK23eex8rRL8CpoJarGALFCTCtBHQ5S59LgC6lECbSrg2GbbHwNeWD7v3\ne3j7BSXAz+DY69B6Fu2g5TnwvRt6XYjPo3EpWiq8Fk+x5ZnLGXHSCESEJx99kl6ZvejcE9LL4VAl\n2oB5BVgCXAM4tTGbGp9Km5Q2rN+3/pjOP9IUaDLZH/XJ2x++DS2BZDg1R5e9M0RfOAdOBX4HDAKX\ndeNJAdpacYJ75uH3VupIcYAz7rjxVACkJaZpn9ZqdKKwx7BIBpyQk5NDTk5OQzYxYng8DXe0vwPH\nEWsIwz5GXArTP4Ob30E/cF+B9MT0Kg9nZd3tHeK7ZJVSHCw6GFZk/Nsfvu2bqyFQPXA4vPXhW0D4\nMRyeIZeiiUUwEfZdui+ocNeyL5fpG7RHyMhjzHSAuOVxvPvqu8TtiQPLOE8vDn4oju0Oxp0/zutJ\n+fUa+HguvnkrrLTIjA4Z5BXn1TiEc8/UeyhPLvc38oKRhU8EqYZsk0VfLMJZCcqp3zDynZEf/hCR\nR6wpEOyfn2q1kcDYlRKgGO0FsBl9lMKatnpageGVwCLYslxvotf7MP1pGDsLWAp0QQcfHwEVq7TS\nkBVweSgJzv61fxPGbIeulXDwDNiXBL174ZNCfBHYjpbjngvsht9/rmM1BmXi3997wMIVC8M6bFep\nix+yf2DkSSMBfW1+9/l3DP5eB8kfVug4nWK0J/FNYBbk/JxD3sI8ejl7wXI4ZeApUaFsG60Yo6KW\nKKUoKi8CF+CAU7+H4hjYciY8PBLePQ3vzbpglF4ntRTaFmulzfIb8FnaIyA5NhkV4ziuYioyczN1\n/k9/6Pk13LDTWiBALLg7uTlt0GlN5mL1xB8Mu2CYNiY8Y8Q/AXOhdTlktEc/cG+CdV3XVYmHqHRX\nlS8UEUrySqr1LJTk6WGJovKiqg9Ez3rd9XKlVPAYDrd/SqQ3mLOjW7+dvg68A+6vtUv9vqn3ATro\nc2vlVj29dhBjpvz8cp5/+XmaZzSHd6F5qn4rjt2M377ZDL229WL61OleT0p6KbQohji7Gx6IrYgN\nawhnzrw5etsKEtrD3FehdaBTQaHvkJ6shDCyTZwVoOK1UZGXcMyGP9ajM+LaWJ+htVrbbhyVAu+i\nM9ICjD7egfJK+LYDDCsCUmHviVp/58O98GA+3B+LVsjsAhwBfmN9fge0RXsxgISA38nDT4uhdRGc\n7skN7Gm1JROdmno9nDARbreMzRNX4lPfhFqlVX+d9TWVqtJrVIA2fPsU6yjSQw5gNHA7Wlr8NuA8\nUKmK/an7WfHHFZAB+y/f7x1Sm5E9gxZdW3Dr3bc2mfvV0WKMilricrmojKnUedUnwql7YVMrcDvg\nb0Pgy5N8dQu76r8pu6BtQZDMjy1wzaXX4I5xEOM+PoyK/Px8CtwFWuxmN9yeBy/vhmZXoG9o16Fz\n3N2HvQ+nxoz9ZjfhxgmwChy7HDoY7Qdo1g+cbsjwPNBCZMFUKm1UBHoqEpwJ4UXGex6IQebN4Avr\n7RKfZ+WSxEv0MN4/IOa1GJK/Tmbo2frZtWDpAtwd3P5y2Z6H0Wkw++3ZuFwuFixdUG28guqumLd4\nHvt37dcz+FqKtOnb9X55Aa8r2rNvjyfFM69GyyL/450wekKNQzixFbEUuYu8HqPuPeHKLBj8Pf6x\nGVuFuEJbSm8NgkixlbFBPBVFVaseveu8Qim1Xym1z/oEhk6GJtA48ngtAoJU6W6Vr4SvkmFoBcgv\ngTxLJRhYmABn74a0fGv9c/Dl6AkwDh0HsR6SgoTZTxkG207Q/1+2CcZ4YmP2ofP/rDbd9S04FGxq\nASc2x199U0FMRUxYw6XLM5fTNqUtPVr0APS9vPeQ3vRppq+tQ22rOQ97wT3GrV+G7Mt76OGxWStm\nmYnGLIxRUQtcLhcDzx+o3WOHgbOhXxn8GEzrsxTUe+CKgdT10Da3ajxFr+29eOJPT6AcguM4MCpc\nLhdDLxiq3a1W2lifZIhVcMEHwHPoB8lXQAnMen1Wox0GeeK5J/wyD+649w5947sSzo07F3lHIB8y\nLMn2jIAX2sAsGLfS7nz7zVNEaNGsRfAskq3AKh0Z73A4SHIk6fMezBDoABTpjCbQv9PSRUv1m+Kt\nUHlTJa4bXLx08CXOHnU2pY7SkPEFHg/EQ48+RImU1Ph2f/DwQVScgm7Q3HobbZYLjEK/7f4auB1e\nOvgSg0YP4oG7H6Dbpm4kW2mNrQt9xyvfCtOmTAtPnKvMav8qOOFnvaxtDtrl/SbwPPy29W+56aqb\nfNuqJrXRsd3B6BGjcVYA8TpK0z78Yc+8ufC6C0OckLDpbs0EvV1E/mXLrquZQOMoCwYmwE/PQ48D\ncPkGW91uwA748iC0cMMpb8H9tt/yd7/RQkcj30Ybq93wV8Z0oo3npZBoGQ9Pn+1b/PU2uPgKeO10\n/X3hW/DFazBoK94hp/RiuOs7+Ed/+LEtnOgO2MdWcMQ42HF4R1Bvnp3lmcsZ2XkkBQUF3HnfnbQ/\ntT2HBh3iTEvw6lCrECt6jqt7wL49dAfyaVLp8EeDMSpqwb1T72VT9ibtNm0Hzp/htHL4T7sglVcC\np0OBG1I6Q9s8yN2Hjqd4Bfg3fPzmx6Smph4XngpP9sG6Het0r7MeBn2sC3rsLrSb/Ha8DxJ1saLz\nGZ0bpWHx7v53yRyTSXZyNplHMnn+o+e558p74Eu44KoL9Dlo5jMmMoLE89nduqFumBPGTEAGSNUs\nkt0gZwmXXHAJAFdfcjV8SkhDQF2gvAGMvYf0Jn9Yvp/oj8eDsqn7JgoOFoSOL7DEguYtnsfBnIM1\nvt0XlxTrGSEFmlsJJOmnVm2jx3vz+HOP8+EHH5JiSeO1WgBJs5Ngmfa29DmnD2VlZfTc3DNkGu70\nqdNJikvSD4groXmurtLO876fBCkJKfzjmX/w5J+f9A0HWUZIYGqjZ7u///3vLU+Fz6iILSiqoiq6\nf9j+ECckLL5Fhy+OAW4FOgNfikhyjWv+G90/CtFGZwnEuOGJJdDrAEz6Hl7/2BbXYv3233bSOlFv\nFcBjViBtTgxkLoYtsTCmHO2REHzKmB6+By6CxNb6698H+hZdngqshBfO0t8fGQHNSmBlLsyfA733\nwJYZeqjrqcHwczqcmGftw41XEjxzWyZde3Yltmss8d3iOfnyk3lk0SPM2zSPrQe3UumuJK8kjzW5\naxjUapD3t3DFuuiQAa0sZ9KhxBDnTaA91hBN4PF5zlMcuLs0nXT4o8EYFbXg7Q/fhlboyMsLofeX\n+kXsP8Hu9z8D/wNXCqSmQ5sY2HM6Op7iZuBi+OVNvwTQRkUTj6m464G72LR7k74ouwNF0D4GmpfC\nmjgt2xDThSoPu7JRZVz0y/BTxqIF1UbpsWqPV+A6PcMi7eCBax5AlSmwDXuklEOSC7+hiT279nDX\n/XfpIbcgwx+gs0tOyTwFR0eHHjq6Su/L0dHBKT+f4tW7ePLPTxK3Ly6kIaC6K+Yvnc9Djz7EoYpD\nOng2SMqvu4MbVaF8sQZQdUjlDcjJzqE8o1zLHVtv9y0LLcVCD1sgsVmifmK5fZ6K9NbBz6nHe5OU\nkkSypSvQqgJKRpTALcBEyByTyawVs9iauZWEFQl6GOU1OHHeiX7iXFdfdjWsALLghC56W+06oaX4\nDsO1v7gW0MNBKxet1Cm97wIxkPJVijfV0Z7em5ychLMSsA1/xBYUhZZqrwNKqUVKqQ+UUuuVUkvQ\npnhztE+gei5G949rgU/B+ToszoHhlkDpW70hrtKWgaOAOCjupi/b04/Ac2lw7WBoVwkpl8HivjC6\nDJ3hU4JPGRN82iPdIdGKqdhnM33u2ALsgg2ttY2QlQ59fwtXnwC99sPaf+p4C4Ckcvi5GXTMg5iD\nwD/RwaBu67ismU/Lry1nc+Jmpt0+jUveuIQez/cg+S/JNHu8GTHlbmY++zw/dftJB/LG+1Q9IbhR\nkVYCf1kCW3fCy/MDjs/7o1jljqaVDl9X6lOmGxFxoDUrrkEHGOUArymlpgXU+zP6fbUZel7C3wWm\nntY33gDNI+gshQTo3xvKc2Ht98AJ+N7s3NanEAqStf5/OxfkpOLrkN1hwzLta1QOR70PfxytnHNt\ncLlcvDb3NR3ZvRcYBvzs81L8JQHed8FNP8JL/QNWtp2nhkBEHgEeCSjepJQ6pdoV/4fPK+DdGLAP\nKkZWwA9AJ2id6Vuc8S7sHA6M0HUrVaVXovrf8/5tbcL/N/PEQEyZNoUZ/5qBilW0TWjLFWOu4NGZ\nj3qFelJSUmjZviW5Yr2Wl6K9aVloy7gM9pXvY/ac2fom+S7QH9qVQM4+tCt7B7ARElslUnqwlHJl\nm4p8kK/dKKiYXaEtxbnoh7eCBStgeWd48Dy8w3+FSYUUphWStB7irYSNZlUlL7znr9xRTqW70htT\n0UYaejkAACAASURBVLojPgnwfOAt4DyomFBBhVR4h0ZSdqQwbYpPJvvJR59kxcoVbFq/yTv80W4D\ncAAogS+++YKbb7+ZZauWUR5TrtOgBSiH9Ix07a1pA2s/Wevd5oE92XpDzgRwQf4+yN6/kRk//6Q9\ncJ5zHmJOibqglMoTkWpkw2wsRGc15AJKK1rutSXJFMXBB6fAbT9oj0LqRrgwQXtbPUweC/2S9XF0\nPwiLusGkH6DrWNj+KXqIyMM3aKNS9LwfABWBr7Gis+YcwK9+hNdSYI7Ae6Nh1wJoY3nydvwdbh6v\nh0rbtYRdV6KDhDtQ9RqzvFw3l9zMxF9PZMP+DXw64y4+fQsUmymK1xkthaXQdbNv1aeWQL9cvWxL\nCyiOg4dX+DwZrxejJ1crRV8PHrZZx62if6KxOXPmVJkTKy8vL0TtulHfnooHgN+i7cqTgfuA+0Rk\nkqeCiNwPTEK/ewxAO+sWiUh8Pbe1Cu4Ytxa8sly6/ffBugwovRVtHnly5V+M1a1OAJcTeh7Ulron\nKAnQLl2nG7fbXW/DH4Fyzif1PaleUqLumXoPKkZpg6Id2u3cCfq4IV/gw3R48Uz45ydw1TprJc/p\nsJ2nBqT20fZ7CH6bz0Sn0lYCgyDDZiq36UVVt38XSwPhsekhd+XJLml+S3O4FAYPGsz8JfM55bxT\nvGlvBQUFvgBGj06BPbbiSihSRdpwLgX6w8krYdd30Gc03swURsHBnINcd9l1yDYJLq0NXsObiWjf\n8WfQNQfarwFmQsySGJZ8uIQJoyZAK2i+zLdqeiijwrppK5R3SvFWnrfLUuBf+E+ZDTy+BK4tqjre\nnZqayveff88FfS7wekjaNkPrViTDph2beOXIK95JzrIKsuBs4AbIHputz1tH/IPzynSjyhF4C/KP\nQKpTQQt8xlcHYGzIn7LWiEgKuqfl1lwZPQlCMvyzAlYpiD3Ztzi1FGaeBT0Owflfw9lfwdyN8Int\nGXT3AWhrHe7wn2FVByh3wGi31YJBVkWFNkKtDJukciiOhfYBt5pTjkDMm9b2siD9v0AcxC/yGRQe\nZlsjC2d4MuyqS/Ht4ubzFZ9zXpfzuGPAHRwe0Ju3bu7PkmYJVDj0trsGyUjJ2A+//hGeWAozPoP5\nbeD9ZDiYAK/8Dt0H3sE3w+kW9JDY4PqfaKwuHpGJEycyf/58v88zzzwT0XbVq6cC3eXmKaU8icVZ\nInI12njwcBfwqFLqEwARuR79OLoE/f7UIIgIsWWxlDvKdfrUNuifA9+1x5crD7AJftfxd7zyzisU\nFhdS0AwGW8E9fkaF0mqCDocDd4yDWDegFBwjK9czrvvTiT+hUpV+sMfDjLkzeOu9t1j3zTratQsW\nHHL0vP3x2/oclQLnQqdX4IVSaOWGtTGgSuHWsdA+D36/COauwfv2TEegCByOBh2pq1BK1W4gPI7g\nbtJSdGT7bmAXZJwEmRvhpFLIsFz6gV4Ed5mbORVz4Nqqwx9+WOmBHw7+EDVeeb0GHm9HWkKafqva\nTVUvyiq0p2Gx1fY9MKwdOHbrG/Ba8L4Fui9wEx8XzynbT2FD9ga9np3AYMD9EHsBtJoD6R2BK6Hy\n/9k77/Co6uz/v+7MpM+kk04oIaGD9A4WLIi9oai41mWt69dVdxe3iutadhWxLK7i2ttiAVEpKqD0\nJp2QhBJCSJ1MZiZ9Zu7vj/O5M3dCQGQF9vk9e54nT5KZO3du+dzP533OeZ/3KfZz/lXns3jeYt4e\n8zZJo53C+QASywBzb0DF6TAm7YAeIE55vkZ4nFXIGDOXSq6Cy9ZB5xh4KzXAa77XwqIVDoeDPTv3\ncGlnoBiyapFFX0fGXb5p3x1FnfJhlyZgZdYTs9BbBA19teQ7aAB3T4gvVMey0rSP/4AipGnaU8AC\nJMGajUR+2xC2xLHtfCAT/jwbft4MP7sUquPg6t3ytuMjWJQOWyPhzi1w+e3AX8N38ffFob+fXSQ/\nAC9+DtMjLVQ/G8BpA6cGtRZwpoBzEVxbJo7VHRvD97ejFs40uYtPl8Dt98P0hQgZHojPgm1V0EWB\ngPn/ht844TkrNJqfMfNzY4P9NfvR0jQBty2CAyNiI/DfIyqfZxfD0yYwC3B2Zfj/M9xQ0gJPj4HG\nKOT+BZD0iw0BzwCfQ0FkwUlvNPZTNL472XaqZ+pVwDmapuUDaJo2EBHb/Vz93w3xBINivaofyFpC\nGPi0WVRslEw4GWBZJY3EvjcqPxRqtSyy8NjvHhNWvg88rUJA82uwL9G0syLo16OffNSqbsNJ9MZn\nPDpDAMV6XSZMw0O9BZxjnPQf0/+kRCx0XadJbxIPKRLYBHdkwuRmGN4K26KBeNC3wYfVMNgLyVcR\nqkzoDBFaxOku1frxbPs2jpCnznbDI27EG1ZaFek1sCtHLk96Ax1HEaaBd5xXtCBajhwjhsfStLwJ\nRoHeQ++Q5Li/fL+Ah70c6eEZEuKxgAM4CCNUNMDR0m7bAvjy2y9ZtWgVFpulY56AUSmhFuS0FHk5\n4YA6v9Wwo3EHv5v5O1r1VpJNzPuEvYiGx9eEeBqvQuJ3iTx838ME9EAw/dHJ8GYPqGM3ymbVNUyM\nhMxkuYaecZ4jyv72l+0nWS1qnQIQ2U3OPez6HG+L9Ra5UJu27oBYcGep1ucNBBtyQQd6GD/OchDd\nx93IlakGRuq63r7NV4d2z1r4nRMeTIDXB0GliePgsALXwgvnwcVO6NwMSQ+Hf/7jXtLbw6fu+RsD\nQu8NaA1wTjNc7YWfe+C39fD0Xpi7BkaXyTa/+e7IY1pmirHc1gxbX4W/bQ291j8Vnukf/pnHv4aS\nvXDnWqVVYn5upiCRwAuRmPitSCXRudDW2kZgN2xOgTdUhOq9Y8TAK2ogzgcrOoFmPHoFCK9O8Ti4\nCbR+R1cBPt6Iwg9t157we6w+P6fTTjWo+Cty63drmtaKBIKf1XX9PfV+BjIVt8OLVKr3Tpvpuo49\nxS5M9Q0QP1Dye1UbCFV0LIVOnTtht9uZdPYkGA0e9cAcSIA2GyHw8aWFzz8Q1yxggArfURRi/kPz\neDy89sFr6If1o7L/naOcJ68cqhWJ7rSAdgCmVsCrdpg2GZ6OBC4AvoKvzpYBefb+8GNrO6/tdJZq\nnRDb3h6FLIzfgP01pLfFG/BoowIPqr9Bej0croQqiyJtrkBCrO3vUQEwCqqXSsCko86kTTubjhkO\nbqJJ6HxWwoGAoV1gkC9b5f+RiiJgLOBBU9wGh8OBzWrruLpjNAIoSoDOkKF6PSTEE3qSPTD3nbl4\nbd5g5UdVLCR2Q3gYZmB1C7jGuTjvyvPweDzB9Eea0UI+ilB0xIgs9BB+RpYndA3NaZBAIIAepZPc\nBC71CHauh4EB0/Ux6TqccRh+2771g2Yi5zULqPD4WwVUREsTweiRhLQugCt3dXC9jtN0Xb9O1/Uc\nXddjdF3P1XV9quoA/YM26DA89yU81QmejpZjqjQ1OHSkAiVC2PRGwvQN4IqBs24KbXNWiahhKlkT\npm0lzJzRUBoPO1NhXTJ8HQWfdz3yWGYfrdIC6N+uKcPKrfDs5iO3ywjAC19A60yofxIei5H0zLSP\nYXJnGBUFPWuEIGwNIM/UeQhYfRMGiZAm15rG94ZM6PJLGHtz+Hd99W+oego+fF84J72NHiEAmhCd\nCwsKufnhmyl2FnO49vBxdQ52u93H3WH4p+7ufLIIpacaVEwBpiIc5EHATcCDmqbdeIqP40ebpmlE\n69HiUl4DSSqEWWeE6bsDt0CMNUYQqw5sAa/yaYsbkP6rLwKfi+iVkW7QjdC+/9h11idiRvMzr997\npAdmtgJOSjmUpmlSvpcDtMHoVujmgjfy4M1E2Nsb0aVIgLKBInAzcW/4Pk5n59ITZdsnVgNLoVsC\n1JTBoAlgV717exili1GQboXKM6AyBtLLCLLlO7Qe0FDS0LHHct7+I8GC2Qw56ihINojEhhlAohmR\nVk4Ah1cY+NABqFDcBq/Xi8/rO7r4VrP63tWQYegO1CJB+2lINOMiwio/9idCQjlHcCPMk+esvz+L\nvVWUHTu5QCvRQqmyYoKRhZg2IX9mmiID5rFksVjQWjSSmmG7It795StYdwBiW0Lfa4CVy3fBn7+B\nKFMb77AW6yr90Rwhn3ErDzh+i2xnLEIdlQ+fCutbBW4bvNK5B4mRiVCkGiAqs+cCq6GhVLQjbtsE\nkW1Q5A6JWCa2wd9Nqtjd74W0y4Ub9WgOpGRCl0zo64AR/eGci2FyAkyfHH4sL7ZbtD+PlujHLFPJ\nqQt4IRoGpMFnEUeez0sJsEO9Hu+H3+6AZxbB64Xw2XJYNRd2vwDVT4HvUah7XMik693wpQ8WfRPa\n1z+j4NkRMPQwHHhWgOgc1VphXm84K1FKXzO88OyXsHM/HP4bvPNvuH0D9KgV4D5v0Tzyn84na3gW\ns8tnh0UUnj/8PD3G9uDvi//OpXdcSka/DFJ6pDD70OzjijwcbwfhY1lHzsiTs578wc/9GDvVnIon\ngcd1Xf9Q/b9D07SuwG8QmqMh1ppOeLQiHel+elS7//77SUhICHvtuuuu47rrrvtJDhxEzW/2ktlw\nEBLPANaBaxIySQLaHi1I1Fm0YhHcAJ535L3iOGTS7wOMgm8Xfxvc78mMVMx4dAaFbYrifBwywyej\nKmTqFVOZM28OZMPVe+FgPHw7iWCFAV8jZDYNluTBhe3Z8T/i2E42u/l42fZ1PiSqtRqu9kP5Ativ\ntBXydsPKLoAuC0xlHFSmQXopMtKPcY90mx7usRi2hjBNiSMPHGIjYum+0cv3pToHnoY7L4PPC9T7\nucAXCD9iHQzzhDyO9qDC4DbMeHQGgfGBkIpiD9MxLETorMuAUshQhMAEKwIWkNc5EyiDpDIBCTWx\nClQcI92w6qNl2HRJJ3aph3GWcaxoWCHXbhWc2QI9N8D8nvIZRyvYW8AbRdhY8nq9WPwWkr0BFlvl\ncK/YJZNi9y2w3WB6qVROcpM00yqohW0Z4ddC13W0ZgEVLW1AZ3BXSBAzrh4ymqDiFSAO5pV2fG4n\n2+J3gNMKH3z0b/y1foacM4QWkw6Xw4+4fatgYSnc1wgtHfCDu/SGUTUwrwo8n0JNAiy0wfmN8Pt7\nCI2BYmRsNEDX/XDYAplqyOZ4hJx9h2q0OKFNoh/3rQ19TyIQ2wveLofePniyNzykojzv9oM7G5C0\nxioYsRv+EitRzo1R8NRFsDVdpNyTG9Vv9ZOyGdITkNVG2dRWiDN99wf/Dv195S6YpMH2Yik7XZgF\nvWuhZwNct11+DNsQF8G2bwqY2X8He9txcPQeOlWtVTww7QEBzSnAGRzB1QnkBdip7+Tiuy/mrofu\nIsOeQYY9gxZry3HN30CH86ThjOzqsYvAJYHgfTqw/sBRdnpidqpBRSyS7TJbADV/6bq+T9O0CoTK\nJtwwTYtHqsdfONaOn3nmGQYPHnysTf5je+x3j7Fk2RJ2L99NkpoY62IIpjR6lfRi5j9mouu6qA5G\ng7cAKIXi4UhIWJl5kdRtSp/4JICKT5d8KqV23YF94nkkN0NFe07PSSyHCpbvNe0m3wcbUkE3Wn+v\nRIhUyhtc3gXuWQfpHqg0jrGDYzvaw9MRkNy0aRNDhgz5Sc7FxLZ/41jbFcTB5tvg5TdgYjVMTYC+\nycAOyNsFdAd7Z4j1KVChQw8j7N4RMFBertamicdySTuPpRRJzBTTcaRjD1x/xfWkfPxvfFoNlha4\naD18bqRZBiOwfhJwCEZWiqfojjWBCl0W0d7FvZn54kwGTBgAlyBcjFXIAqK8dJqRVSETaIAMVRWc\nYOaaGCB3NCS9BHU2aT+dTgfnb5gGUZqECvYnwoAquPRnF7AiewW8D9pwjZvn64xZBSu6hD6W6YGi\nKMLG0oxHZ+Ab7yP5Yyh2QKslVNaatxG2JxKSaf4AUtTM1adaqr7YBYnrEvkk8RPmfT2PYXXNfAy0\nREZAchvuryVzc5UHtmowNAoYBo8ehsva81ROgTlyoc4JLb4mJl85WVIBJtJo/73wgA2uKoaRpgX3\nxlGwwAKZLbBpM/zGDi9PAF6C/HOgJhcWfwGvrpVF22lwW/IRbtFS6OoDhyna/s/58KvzQqCiJUL6\nvrS3m7+HdZkw9A7Ykgnae/DgblnIp2Yg4/5sWHsQzrkRJu6Dx9+H9+bBoiT4TQx850DGZC4wFrTd\n8KaKIm2Ng4GXAqshaqocf44b1r0SfhyxuvDnUqoguQJaIqHMIdvHmqbtoQ1tDF2zg5sBPg29viUd\ntqWBsxZq08DpBOcuqO0MzjKojRXAUh8FugX0PJ3lby5neffloZ0Yqb6Ono1mcB52knNGDoGIAFGB\nKC6ZeEkYgbNDZ0QDPeenTYOcalCxAHhE07QyYAcyld0PmG/hs2qbYqQA71GEr/4pp9mMMrQ7f30n\njW+9BYBnngVHZBzXX3Y9T855EofDQXl5OZWllaBLSSlAUYppR+0WyYBFjZKfOP2h6zo1DTUy0Y+B\nKzbDrL9Dgh+y/w880aaN98AFZ17wk36/YcZ1e2TmI2Ttmc3qKh0KEY/1bCQtkwUUwXYlfNS7xgQq\n1LF5PB4e/N2DvPPRO1L6GAmxllimXjaVp/781ElhP58o2z7OIovxeOUE2KshTnnfeVlAGWSq+aJy\nNVS6hLEcBgzaVYGkucHl0ASwaqb3DwB+ODsb9nwrD0tY1KAYrIut6Dfo9PR42WGVjoyO/Ug6LgKR\nnk9AokejYEgtbGiGjCqwbwb2g6XVwt033c3MF2dit9tDjbuiCHEoStX+fAQVK3kVMlQk16bKCxuN\ntKHiQyR1h7pCcJVCgVGud5SIi6NVYij7kuQlq7MuyFG5x38Puf7nSPWG611keaAoNbzsb8HSBVgv\ngoSPoNYP5RbI1iUMn9eM6DosRkBvIySrtEWfZaBtAL0JXOe5cOY5QYP+e4AScLa2wSpwTwAWCK8i\nz4IkzFZB2mni0zlaoC4a5vztGZyjnfL89UH4K8C1B+DSMvgiH6ZeIUJYr38K20ug/haof1+AwAtf\nwDdd5TMFtbA6F5aMBstaOGcvfNhPfWELsAG4ALosB7upRLRrPTy0MvT/Y6Phb6oSwxktjo9ho9og\n8A3QBitj4EH1evYVcOhLQtU6u2FpJSx1wBU6zPTB6kroMQXKDBG2N+E5L1yvStefiEWetUPQaQfc\nVwl/GQfrs6QrqtmeqYLdeYh42EEERE+BaIuAi06FGrc6Lqd09ddMiHRxkSniOrBSfgojwOGGlJ2I\nUNrb4d/h1+QeOWPA0xJB/9Vn0uSIxm2P4JvELaz/vISaXHm/NkZ+O61Q/wE0TWiiKb8p+NzPLp7N\nP4f+k3EPjiOnUw4fffYRgWtOfmn+qQYVdyMg4QUgDcHJL6nXANB1/UlN02KBOYiv8y0wSdf19pnd\n02IOh4M/z/wzM8vegvlQtb8FzRa6jB6Ph36j+omuQrEQniC8nFQr0sLqmU9W+kPTNFrcLcFB9lQD\nHLRBTitM3gPvDSAUpvwWuPIn/fowM7QUaue8RPE5Pbm389nMXzCfNksbbp8bT50HDkDJOPEY+1TD\nsq6hY3Od4yK3by4u3SWNi9Si6dE9zCmaw4qJK1i7dO3JABYG2z4FYdp/x3Gw7WPb4NwS8Xz9Gtgt\nIY8/rx6u7wkvrpYw3b5roPItSGtGkMX7CGzZQFBUqqsLip+DQYNa2b2pRiIBCgAwCngVXv8MFsbC\n9CVIu/FIJC6YI6TEOdVzuDUKNrdBcgLExyAwaRcSoViK9NzIh8GfwQd9YXwbONKAXhC9IppZT8wK\nnqPVZw2pCbYXwPqX+v5o2V/GhlBIMqFZgQoFJCmApDaoS4H6eki0Eh5xMQEMrVhj/KDBsPvLYDVV\nRE1d8Jh0XSdH10ho00k3ESIzFwM2SLAk8PCqh9F1nTZrG4kqJVUXLYqNu6ohKwbydHVNTOAseTbg\nhD6p8LYTnIlwt8nri1O8kIYcwCUlpSyQtTUxIK3dbcMhqj3Z8xRZfAvUOWDFdyvgiiPfbwHSeoG3\nCdgB1laYaZOmf7e/B/jhxeEwuQheXCi6EwXKez6UANsj4fxiE6gwleJ2NaX7fRo8cjb89avQa2l7\nQn+/OhjuXx0igw65DNarUt8D6xACNDDzW7h5CsS9HUdDoEEE5yYDPvioCyzJhcqn4bpt8NRYOY4/\nbIG7D8E7MTC1CTb5gWUQMwA+nQODW+HSQsh3wqSpkLoX3lwj3zcXGG1IB+QTJAU3nwnlh8FyKJuc\n127gj9cv4+mrCY7Z1AaYVARzP4W5CfDk3fLZmH9ByuUCoFIaTekZlbLpUhjFkOhYIiudJOys5YZa\nL9dVaUSsPzKy4NOg7hMT0IiRVOKzec0seWuJPJdmAvJJtFNK1NR1vUHX9f/Tdb2brutxuq7n67r+\nB13Xfe22+6Ou61m6rsfqun7+6VbTbG9+3U9SE/gccWGAAiTEVNdYJwmc1bC+DRbmQ0kSwTSJ9oUW\nlE+Gk0fUdLvdAm6aIfYz6B6AORNhrQOu+pKwPhHcIGWCJ9X8fhLdbTRmJDLriVns27iPg+sOcmjH\nISzVFrgBfOWwxwp9VpmO7Wp475P3cCUpQNFBZcTuHrtPSoXIibLt4yJh2HZhwlfGiQy3oa2QVwcz\nvoW1OdD7bthvgZomiNchwop49xsJqwLpViX5/PwNiJKluY/HaiBdPOlxTUie+U5ErGocUAj6JB1b\nnqgobu4JngRwlCGQKU7txwL0kAmtaz1sygRvBNjLgDXQqDWGsdMTYxPDykbD7ksXhPSpA+MlpbFf\nRcYSzKH/FUCREDXrGsDVTfEuVgIfIyWl7yARlZfA+p2VHWul5eU+VbkQ4XQFSwpfKH+ebJUa66G8\n0VaLAAVsUGero+uQrtx6963UV9eTrLxlpwVuzoJbLoISC+QZHqwREVoGKQqAjC6Cq6uhoN3jaleL\nXcMk+ZwrBvZGwWMqopK3FXJ/WvHCH2XxKlLRvjX8C6r3xucF4E0FvPLjb4Y5kcI36G/PwWEVwH7L\npVJNEeODs9dD/38B/4LFVrhsN9y7RsbQuxtg3ka4f1U4WbYhEp4aE35sD5eF/n5wVQhQgCzGkT5A\ngwOm0tJp22CAU5rm0YqQfgsQVzVfIrELCmCqGgf3rIE/bodfJ0DxMKWceReQDXPnQs8A3FoAWXWw\nLRK+XA1v7YUxqunfqDL4o4ncST4CyF8CDkLZpDKu+PQKXGmuMPJyTRy8eYaolP6+FnLr5FyaukJZ\nNWzNgG+6w7y+oij813Hw6zwLK2+7BT75BFasgB07sFRU0Oxy8eAvp1PQPYqR3SO5vkc60zpFc/eF\n8MxIWFgAhangt8BFe+Chg3JsWfFZUmhwcgo+wux/vT9OwHwBH4nN4Is/0iuev2S+XNXewBQo9MBF\nfmj7EFkkDwERIptsmG49OZyKR2Y+Ih0grdBbCXDtyIZ5I+DCVoi7AmHhnwVEQ4vWctLKjHRdJ1BV\nhVWHxpTQddM0DbvdjhajiVd7FuzMhz6JpmPbJMeHh2O20f5vauYT1wRJB6DaKpNXXCvEKYe6U6Ok\nd2aNgD0O4A2oVRN7yg4gCoY1wZ4vIboNaIE05dVlDkFE7hWZsbsT+haDzSF53z5uUztwCzLeIoF8\n6FUD0Tps7g/uOoiPlX0QKd+BDdBgsCqD3pQCniqwRyD34jbC2OlOt/PouhdDkMWpWPaZ4YNCpa2W\nUIxMbuXA1cAaSN4voKI+y5S26EtIc+BcYDr4bvbRPE7KZ8qUB2lze4PAJilLD/aZyM8QQLHfCplR\nBHuwtP2sjdfmv4Y3wUuSIk06c2FfBVR0gZIm6GEAH5P+QbJVnIOsgFyq+Ha8CHsNNFvBp0jZvjbI\ny4Tn1CzbfRN0LuS0maMOXCXQ6GwMW1yMfhyONsSjjUJ4Mj+Hf94JNg3erffxfkZPfrYIeh+GP6uq\nkZEtsPUA7KuDi2yQ0gyzvoSXPoNrG6SluVkwC6DBAlnu4z/uftXQMhOmrxdAArAzAooi4KlPIT42\nPiR8ZioBBnh7AJxRCX9ZKuW0RclweQv8foVobgSs8JsKOdZpBTB3Kgz7BVw6HUnpZcCqXpD5gOzv\nD8vh8SVg86vviEXA+0RIiE9g7717qf2klr4lfUVx1rjOOvwxF9wWjefmqdeUVk37DsNGgzqz4xm8\nh/HxPPXMS/R/fDKJfzqLt/Yc5usuKcwZBo+Ph1+dD7dcBpddB/8YKuW/2UkZlN1fxu2X3n7U7r0/\npf0PVJyA+QN+EbRKsIe9boRUUSzzoNLmNKSIVi2SWnR4DCpgOznpjwVLF8jkEA19lZe4K1X0/WN8\ncI7Z39bBW+v9SYmaHo+HW+68hchOkVjSLAw+Q1aVeW+tPLLzqEmBcWcnSX8E7QAyi6vJIrueIxG3\n9t/VzCdWk5C+ywNeN9jTIa4S9qoJ3B0JS7IRumcM1KhFOXUdsBsuaZYQbLoXWAWdVE+FrG3AawR7\nKjy1GF5wQsKh0HePNVcX7CEoCjVIvf59BngaReMqWDK5imCYf/BhOb7i3eBNU6DCGBYeCKwKsKN4\nB2Wuso51L1qAT5AFaimwUKQpClX5X0K5Ou9WhCk1EpISJGTrilG8ixGI19lBi3UjjVQxXCK6Ed7G\nYBlpZ9Nile8DlxXKkyDTZjrG1UjE60JIVtGGukFy7nwKJXbo4lILhwIr1u6Q2ALfmYSS4lsINVP7\nl4gkGYseXZBqmjFQ3wtqIyGvN3Q+FCrPPNUWb4O6IdCU1BTWf8QQwEpoQcZLC4rgA1V2uO8C8NRU\nMaGkhNfWwDfvwGyV/PNpcN2V8FkBJJumr2t2wk0O2GNWEVbWAFz2ptz+yqNMN5/a4f/OC3/tpYVw\nlYoGJejwcDycVwHZu7aHhM9MJcAAX6jnyhDdyndK5vCC6+HGK+CiQpj5NfxpPHykwOyuTrCvBuGa\nHARGCbF9ohI++PVKWPEadFERB9TcmhKbQrekbiQmJLJ68WqSapKIeyeOuLlxWP9hJfB9HH/KoqEg\nHAAAIABJREFUTuLSMrh4KTKfTUGisXOBV8H+nj2s8d3RzGax4df9aJoWkt9vZ1/kSyplmEect8d+\n91io464JxGgHf9qcyP9AxQmYX/eT2Az+hPiw1zVNIzIQKSS1DhY9kNdjLbHhlQw/YfrDWFSDAGcs\n0AL9mmGfRWrQjVx0JxNxiiKOrMs5ju862iLu8XgYcuYQXnvvNdrOb4O7IONcea9woJtug0ItzYNa\nFipkuLOTCESlqPboWOQcaJW2zCXPhUKaoYP572rmE9cFEjtDXR54LUJSi4uHLWoCmh8FrXPVxrGS\n/wRImQAchjGKzJfYDJRCmlqsMhsQr90D6BLxSPWplIGycUaFmMFFaJK/B26BEquUbrojTJ52LhJt\nUCTRwYdhcyboB8GbYqr+cCNciZFIg6wIQgDaPAyMdMhA4BaIrYT4ABTWyNsJPRGFmjaCgCGlEZwI\n+x0gQZVpd6RmaaSRPD3Bo0GEpzEIOHNMTJf8WnDpUJ6mBLAMALBT7TMaktVwcS5VH/JAsU2AzYw3\nYPpG2TZJgZVluVCvwXex4GggpOJ4E9i1EIeK0QSjSYyHvRp0L4PcNKgMnzZOmcW3qGq1C5EFsxAR\nwFLXvEsFko6yqN9qfPxjOIzKDTD20a5EPwgFSXDeDfDzi+DXE+HffeCeydDpoXDdi9c9IibW3tL9\ncLkNvk6CT6KOfB/gAq90eQUYMF0qJ0A0IkDG/BIN6jR40QuWZkJjUJUAx7bCu/NC+/y8B4w+F84c\nAYvyxXF5Zx580gv+dCYCRv6JpNqWIsCwNwIsgK/yZB8g5/X9i3CVScRrb91eahplkHt0D85BTpLs\nSTSNb8I/3U/D1Abm/MzJoiyYvRpiX4P0Rel09XTl3uvu5bKZlzHsN8OY9cSsH+SG2Sw2fAFBcRdP\nvLjDCMTabNFR+nmqeCRG88G7s+6m64KuZH+WTdcFXZnSacoxv+vH2v9AxQmYPyCcivagAuQG04mj\ndyLcI8JXZvtPS0o7EjT5xf2/wFXlksm2B/T1K4Gf1aCXSJg2xgA/RcAasKfaj0sqdvovpxOfG09E\nVgQRXSOI7xbP9Punh4m1zHh0BkVVRTKBKS8zQ+VVK/tB68TwlubBVtRFAioAepcjHq8xMcVDz++F\nNX2tqTYcgD2c0mY+P2RxrZDUCHWHwGsDuxfsVijtIcJCz+UhSqKxQJ0QrABS28A2HoYrgJfUhFR+\nqKhSZhNSX58Ftj2Q55SFMUEBxO2dQhUnIJ9FER8718FeB1ACnoDoNwAhAfwxwGoYXAqbM+Sz3ihw\nNCOL8WsIedGIGhhS3MZvw8xAIBIy1EJTdK5EFhKWIXyegGwX3QapTVCWBi4VoUo0FokOtFUMkNMQ\nCW4rRDQ0BRs8dd4EbRo0aaKF4LLBYQdkuhEAkI10FFb7TE4Uz7VpNAKqoqFEAZo/HoA/qlRS8ir5\nXdIKydfCR2nSFtscRbHHQYO5XDaJYMSypDvk1UDnrVBxmijnNl2BChBAuAN4HaoUoEoLALcjLR+7\nICLgRiVOK2yu2MzFQ6+iyA5LesDLQ+FvY8BnAFoNnhwja7NhMR04KvGtML4SPh4Or3Swdk69Aiqi\n4F4l5ZPlER4HhDqGRgENNZCkQ3c/3OSEqEKR0k4+A37/OTT8JVy99LFusHorUsLcCJ++Kw7WtMtB\n18DSZqFT305yP+1gOWgRYLgUieDo8LAawy91g8UafLgT5syHmFa5VrfefyvdBnej34R+8CqU9SkL\nV8C0wF1XQroO/0zswuENh9m3cR+znphFn+w+FDtDD9Kx5mIzqDhaBELfZ2GtPZ5zm0PrikGYN/hs\n+zbu48H7HuzgG07c/gcqTsAMTkUgMeGI9x773WP0iuoV5gmA+l0IPYt68uSfwhXMApYTT38cTV1x\nzodzaKhvEMBwFvRtkjmEa4AyaNIhdj0hMuQ1EEXUMT19j8fD8HOGM2feHDzjPfh/7sd/ix/PTR7m\nVM1hxMQRlJeXc+9D9/LiGy/KhGTyMjO9sni2WpGW5iWhluZPPfoUvTJ7wXYo+lKCPX0+RvLqvZCH\nsh7yhaPHeSVqsVPXVftS6zAHebos7gAkVoGrM3g1aRUQ1yb8ipsvh/X1yORVD2RBfZmEklM8MHAh\nxKmigsS9QCukKWCV5Uc8p0nQ7VupLknyQ6ICFQsL4IwKiGtBrpkfmYFXQaYfKrKB1eCOk+Ox+gk2\nXCISuAa6eKGoGKhTURY3WLIgTRE5g+c4FD74BL7dAQ9+gYy1AKFmcN+A5XV4slzaW+/IlhLrhEFI\n2Fct7jkqCnCwP7iUbkF+LUeEsnNdsHyu9FBpskFAk6iBzdUopNBiyKmE8nioVhEDF3DYDln1CAAo\nCN9ncgbUWdS9GAs0wcEoqIuA9Q5ID0DXOkhWREJnDQQKwO0VYq2WZ7oencDbQsihaEMQyzewtxzy\nGqCzT9RTT5fVRSORpDFIBUgXqDyz3UaK/MxI2dZSYiGiWwS0gP9rv+QvjrLeLcqT27/yB7rjWIBP\nY2FDB/v5bgM8kAQDXPJ/FxdsyIbfnh2+3Y5kAeyro2CuB5rfg/q/wIEX4U+Kv1RlkajXQStcvwOw\nQac2+PBDAa6XXgcNUUARTJw8kfOnny/6HdNgxLgRWMZZhDNxCHgTtn8t7dnv2wG3DYLbL4Ybt8L6\nl6Hvm7CgYQH7L9lP3WV1QoDugANWkgKPj4Orth1A2707+HqP5B4crD7Inb+68wdlu21aCFQcLQJx\nd9bdTHjsCaybN0P1kf0QT1ZU93+g4gTMrwunQu8gUmFoMky/ajqO7xxY51ixzrXieMPB9IzprP96\n/RGhrWBDsRNIfwQFTToHRL3wdfWTinioK8BRAl38sCMO4SecBU2xENOXIM/DUvbDbXtnPDqD3a27\nj1qBsavLLvqP6c/z5c/jd/hlsdLg3F2w7mnovEp5aXOBl8Hn8wXVLo3rdu/595KV1JVSK3TvQkh9\nMQAMg/xY4f9F+WHyy8DzwHK44aob/mu69AHEpooXVZcJDQ6w+yR64Y0k3AO3ApNAXwPOSEhdC6M1\naFHeX2I14FZeJJBpNGaLhp4j5bVoP2SoMr4vFCdhWLn6nhSEPDEUMtrgcAIwJaSf4tiJXFsVzUjQ\nIVKHqnHyeU+JhPWnNMMeJ1h0oAUiv4LPXoDzmyDSBQ/XISqaLwI1SFQgHR7QROhpymjJS9dHQUIh\nAmZd8h1GRUTpWig8C1ZEw5xPFXfGiIK0wAULpT32uHXgDQCvCCZzrtwnY3IVdNZFsbVaVVy4AuBy\ni4xzEACYIiu966DEuBdRcq38B6Hzr+BCtY8RGyBFPaK1Kn3lVkVfRioG5B57MxCQ/iZycG8BOVAy\nHnJ8MMQHpanHGjkn1+piCI8klUJlH9MG5kW+ANgLvYt7Ez80Hl6Fjz//WKJrc5HoVTuCyLZ6qLDA\nAcexs6lFDqhcBlihvp0E92OJMO8O+EZFuPK/A96Fx/fDY7mh7fo6pVpilOkYHD74IEqA/K4I6DMS\n3DfCuyPgznKYUwcHnoERZXDVNSKgZim2wBq48tYr6ZrQNXgdBl4+UCIABy0yvqYAafB7BzgCIsL1\nihuG/gz0Rlh/GC4M6KF0YAdRNsOeGAuHIq3od94JKiKRFZkF78Ocyjk/KNttjlRAxxGIWU/MIuay\ny2T/ixYd4278tPY/UHEC5g/4jxqpALnBLz37Eu5SN23lbbTtb8O9181Lf3+pw4XvP6n++HjRxwRy\nAuGdLWOQ/LcNuAHGKnLT5lhgEVAIjRGh9Mex2MZmW7B0gezXjL7Nk1AlOEc70fN18Waa5eeahTDM\nK73rD+ciXQPvAM4l7GFxOBzMfGQmF59zMfss0N0o59urzusbIVptSoV1Dri0BVk0LfDZ4s+OJH+e\nRotrE20CV7QsNHafRA8aDiC8hFpkMXcg4GsK1AQgNU0myQ1Zwn1I7ArcId5VTQx00iFCeYo9Tfnq\nbmoCXt0i3vvohcjClkBQqCdDhwpFRnOrVJSjDFn4fLJNuhorVfuAdPB65Nh7OgVwpNYB78NEK5zZ\nDJf0h9fjwa4DudA7Cnr4EPn1DTC2Fb7Mg8+U3F19EyTEIPezN5KWUedRNgYC/eCqO8DfBjM/AfoB\nn8m5DFPAapAuFQScCe7OAhjoI9cwpw0OJkhLb4D6bPCqXjKxBgAYgoS0C2HIYdhgAD2QQRqQ1EpN\nDBQnwsjtoh8A4PQDLUJ0BZUCMd3zBoOcfSMyu44H8mFNZzmmv4+Cd8Z1OGROidVFE1rs1MLnNfEa\nos1TkAZxMXE8+fyT1L5eK1yeW4Db1O8cZN4xUiRFwFpYHAd9imFBztGPI7YRAbJW2NYuWnHjVnBs\ng3tVtOlX9QSJ7mvalaLevyb8/+EJMCIGnA44726oPQ8G1om2BsAdjfB4DnTJguVrgLlgW2SDNnh4\n+sM8deNTopD0Lrz+m9fR0IhdEYv1X1bhW9TDoZvgmTHwQANkJkHJPNjml1SP0RivfZStvbXY4A85\nqWjLlsHbooD14SsfwiiOq2FYe1BhtrAIREYGDBoEX3zR8YGcBDvloELTtCxN097UNK1G07RGTdO2\naJo2uN02f9Y0rVy9v0TTtGP2WTjV5gv4JNedmPiD22ra0VviGnaikYpDhw5RVlsWZMg7jJCjjRCJ\nLlrmtx2dYMfPkHxpOTR5IWYLdJ7f+bjYxrqu02ppDYa2ExfDyDlI3vVfiNdSSkiwyKe+fyGcpZKs\nWU1QYRTMaEDPcH0JI5XzfPnz7IuFbk61/xhkcewJ+VFQ5IUdNshVtetEQF1iHf1G9fuvaf+b2ii3\noM4G3n3g0ESGuCEJmUyzkQ6eJtnqGiAlShp5bUsTQJKoqj/SArBFBcYymoBi6FkbakHdtV5SDK3n\nwOruMDoJWbjHgxapEXeNeFcVhcBC8KiW1fGD1XZ9gKGQpipEqg4CXvDaZZLorsLJGYuAUdDLAg0a\nLO8L3mS51RF94Nko+EsbwvsYBQXNUNgJ8fI2QX0iJKgIllFSl7sPKqzQqnp1VCfDvP4w+iACjHLl\nPIYpIJTaBA1KW6O+HhI0GFgBO16BwT4o84dAhSsDvBPkb7vKe/MJMAESDwhI3aARSlkkIDcOoBXW\ndoaRdsnUeG3Qqqo63Io4GG/iTtlbQ0RNrUiT51A9DzvTIONB+O1EaD7VkoMmcyl10CCJtx2/I6zN\nvQ6d4jrx6yd+Lbo7HXQ3ZgTCtTGlURdZ4YxW+Gjo0Y+jsx9GXQKOaTC0g4X3lc9hu0mF2GjCFtd6\n5LZ/mhD6e109dHLDfZPg4DOw9mX4fk4IUH6SAo/eDM6bEaByK7Se2wq54Gpw0XJWizg8U6FpahPb\n87bjtXnxX+8XcnJ/4AN4Ypg4Zi/tgq+scFkrXHMVvDXQdGC5HJVbZymxkHTlFLjmGnjgAair46vl\nXx2z5425ZP5YoOIImzRJIhUnoWFlR3ZKQYWmaYmIrE0L0kq6N/AAUGfa5mFEefMOYDji8y7SNC3y\niB2eAjNXUwRfa24i2g/6cYCK4/qOE4hUeDweBowdIJNCKWSniXrchTuRsLIX8Anv4LLd8OYA5G4r\nT6qpkyDrdSvWHRfbWNM0bH6bRB/eh1+4YXkFJDapfZbI9xncB2zyfZ0PQl6rtH4HE6gwzt2kL2Gk\ncvR8nb0W6FaDNNwxSkgPQn49FEVCTQakxiHNFaYB/aAuUMdDv3vouK/hybR0xXFwbQNvLKSp4dPQ\ngOT2z0G8ZQcSil8pZYedGqWLaVEKuKIgaRtEZkKiDluUF5TZTz7b8yBsUY2tutVBvQrNr8yVBVmr\nB14FPV4nQ02qFZcA1eBWqYAgWXMMsAHS1DCoSgKiVJoBxXEAMg4DPaDnLtiTCBSAV7WqtucKAS4p\nAByUMsy8OtiTIvsioECF4c0pae3cKjhoIbRgtcDaQ1DggyQ74IWYrtJl0zCvXbar90qkYvgh6FMj\nu/y+EqrV4uiKAK+a2O17gFXQqw9sXQYXqmu34RqkIZsi49FF3ZMsWBMJgyol7eTUCeoAu8fLZ+PX\nhj5nbxWxMLZDwncJx+4ae5qsbh4CmozFrh3J1mFatLUijckTJ7N94/ajd84tQNIhhqbMAVh6nKvK\nqrmwcq6k79rbNS1wTgPMVvotf1E6LaPKwrez/h4q4sJf+9oKH78vf6dWw9ROkN8ZfpsI57oV3whC\n9yYfuR7tBdwM4DSKUMm1+t+9SUrzLy2EMTVwZgJ82Fd9zqgyOgB8C3c/CzufgJvWC4cpLDL8zDPQ\n1IQ+Y8YRomRhpkGr1hpchyKsET8OVNTWwoYNx7f9f2inOlLxa6BU1/XbdF3fqOv6AV3Xl7ZTKLwP\neFTX9c90Xd+ODNcsJDB5SsyopugysAuOrg5sGTYcvRx0GdSFex68h+YypQ70E4GKE9GpmPHoDJyt\nzqD06jU7JJ1x1XIkmdkKpMIVyyDKJyIwZmtqgxg7BPTj14JPjE2UfQ+F/P2Se794MEHEHwypzkcm\n1OskFQkiywvCxA8zLaQvYW7tuy8DUnwQvxkJsxZBarMsrkUDoSbbJPJkPOzj4e2P2onpnyYzGlPV\n1YK3Fezqf68T6VOgvGUciJ7BXqjRoF+VqG8WHYI6FyQmQ6dM+eyWsfI7cyMwDnq6YI0CL12rlRcK\nrEqRMGzvl5GQdSBUeVORBMSHOBXBslK1wKdVSvDE7bVAK3iVmmCBASqUHkBBnRKz0qWsE6TCxVEr\nvWWIFGnxiIACFSrUXh+l9BCMifc90ZYoNZelroJ1ii8yrFU+d0aFcEWWq3NssMln3RZJy6SVyuIS\n9xC844BqlVJx7QCvun72jUAJDNagfxU884kc+54liJBGKdjm2Mh0Z0rfDxd8d1D4O5cCzhSkd3IU\neNQ4dqQh4PAl0SFpKATtKw33eHd4+Ns439eRFORpsEYb+KYh6Z/PETA0ClgNh9V1dRipjELoVdyL\nIVcMEQG9Yyx2RCDzUCHwBVRFSfXQuXuPfTx7E+U+1MZIr4321icONit/65bvYeTB8C6mADdvhlvb\npUCubQz9nfdbePdO8PeDd+ySorrULEBmRGzg6H2HexAsKzX+P7cQpm2Rf7ekw7pogtwfc5kxt8Bd\nVuFX/Wsh7H7Sxqv157H6y5XiyGVlwZ//jPaPfzDEHTgyXWIaN5XVlXQf0p17H7oXf7OfNn8bx2Uj\nR8padYpSIKcaVFwMbNA07QNN0yo1TdukadptxpuapnVDHu+gKryu625gLaHCt5NqwRB86fOUektp\nGNeA/2Y/DZkNlNaX8vzHz/PAlFsBaIqK/oG9HadZ1JPzI8JT85fMDzHt66VrXwCYXA2WSGSRcMMv\nN8KSDNVQB4ITRrMLYpKOH1R4PB72lu2VQV4B3RWD/crFSHngG+pYiuV7iQQOwplNsCUSPuwDW9OE\nKxBmuuhLgJIPVlUD+xRZuVs9MAn+uhCeV2zwor6i65DcrKoXDMuHxrbG/xoBLJBeCw2mcHdDBCFB\npz7Ion8HYIPapJB4U3EOuCyQaIO05fLazm2y4GemQUwZpLeF2PNdvFCvA9WwdokEjcaqcmJyIUN5\no4dVx0ZDAyAY7taBKEjLghqrxi+m3QUJ4FGgwmjwlOEFAtCzTeSAIZSTt68TgaV4K9AQAiJ7VFt7\nWhWoaCKMA5QbC6WdCHnMpVB8BtRqMKJVPjesRIJk85Q36PXINayPkCqMtP1QFQGBaOA6qFHj3dUT\nvCoqY1djJUNJc6cFYFO8lBNSCRRCZEQku77ZRfeHu4MTvr8Ziq3Qyw21cUgDvIjQ9Yvvi0iiT5eS\nUm+KSKIH8gJB8mvYQjMNidGeBnPrSJqiCuJi40Sv433AB8XKn3F8BPwDuhV2Y+3Stbxf/D5Rgaij\nyzvrgBO0lzRZeBMBq1SBnFsS2uy5nqG/yxySjjWu4Zqc8N5IhiVmwX5VHt0QAatfDb3XW5X9vrIA\nhorAKpdeC4+aohZ3XUhIEKsnHBgH38XD1C2EAN576neAI1JBQTOAk7oG0zfA5xXwVTe47WJpFDZe\nR55rs3y+BgMqoVct3HIFDJuk0Zqdzc8WfIljwgRYsAB0Hf2uu2DAAGa5WrGYeqC0Hzf+W/zsP38/\ns5fM5rk7nmP/S/uPWh0SZjYbnHvu/7egojvSmaAQKdx5CXhO0zSlVUYGcusq232uUr13Usy8CAVD\n8GW6lFTlIo2b0hEPMwAJdtn+urt+8ZOQA39spELXdXw2n0QNYiDPJmz/2cMlzD6sGYiEycPgjDb4\nSzNypV8BXgYOgj86kpjA8YEKj8fDyHNH4rV5pfb+gMhD11qF/W83Ll8MUgEQDfjBsgomtcJX8dCy\nHwbeCSu6ttu50pfQNA1rq1UeohjYqxaxbhaItMF9XpiiHvri5JBYlEGgA+ThPy1JsqObywpe04Tc\n4OdIQSdFSDVUNQPA3t0Suk8sg05G6uhiqIyErBpIVbG9wxHg1mTOq/cDb0LDRbAxEiYY6ajRkLET\nWiySUiEXPIo7Eb8Fev0TtHeB1yFtO9TFRUhpdEQvvO1ExjL84Ngt5al7VEmokSJxHAKHHxJagSYo\nKJTFoNyITuUqoqZR3qlC6p3r4WAvZFIuJKitsc4GI9qAeDhjPWxNgZ2qUqGhST5fj9Ag0hwq5fE8\n8ApUq8fS1SXEc7AXAF7ISIfqGNWzLZOgfDd3QuO4RsZcMAarZhXV0mh4R11/p1EKmgueg6HrVzgT\nrn8Z7B5oqCMUQle6MO0XmtNlnniCaYr49Hj6RvdFG6PBz6BEgTVHHyAOXnn7Fer1ehaXLGbMmDFH\nl3cuEiCWlp0mIGoM0B0WR0GGSVzvtQnw8ET5O8cDX/YQ+WyAVZ075pmMOwT7lT7FPBOZtMQCuy1w\nuymV+uJQkeD+v4aQ5suCAsKtADa0QbdSQgDPSJ+eS4h02t6UToemw7NfiLLn8/FSjjp3EKxLgaca\nkXL9KsKe7Snbpevq0u6wYbjO5EQNvv0Wn8MBl1zCJnsM1/bL5PLGCrpW1TJ9MSHZbkNEztyD5gOg\nLwSmB/Bf6z9qdcgRNmkSrF8P1dUn3ek61aDCAmzUdf13uq5v0XX9nwindvopPo4OBaPufehePl3y\nqVRT7EGAxFwkXLgBARXTIFGFoQ+M9NB/TP//mBz4YzkVmqZhabNIHXQALmsQ0twjXcS7u9gPdIHf\nLIPvOsOK+xAodytC1OwM9vQ0YnxSyfJDNuPRGezO3x18uKIaIdsPL/aWXhLnGGS/gciC0ABEw9gx\nkKXDhzZEt8PIWUOH+hKJ9kTx3ldCdZScU/cmGFwuedc/JMKf7dAUEQIVqaZQZ0dqpafbXF3Aa/Ke\nGrKQp8DEH+B9IE2aigGURkHLWHD5ITEa0lSWrXqhaC5k5kGK8tRqU0KCRvUGOTcPlsfBhEYEoURB\nRk+oiEAqPcoh8KW6vhGwrVylsaZBeixU+GRMrPtqHRdOujrsfDJsUKA8/UJ1vJ4u8jveKjn5eA24\nCQp2QnGcigSARBbKILGV4MSb1CTpntJkhMxZTrAyZm0sDG8BXJDVBqVpqlcKop+BBu50iAmIPkVV\nKoIwzofq7ur6x5hARRVgg4wI2BUJ550DT0023QujNLrHLpxfO4Oe67tqlgyCitHgWy1CpZnRwv0Y\n0F3a3XujTfvrilTBtFtoTpcZkQF00aRZvXg1g3yDsL5jpVjJvDuqgCmQmJDIG1veINoWzRtPvdGh\nuBKFwOdgsVuoOlQlz3cPYAys3AQNJpXXG7fC30yxZqvJl/FZQuk5s527F8pSZQhPM71viQduhamm\n0tzbN8HOF2F/BKzoIumXg+2z0xo4LFAfz5HciZ4EdTmOMCXwlu+U9MumJHh4oOik6CXwUCQM98DV\nxQTl841rNGUHfNQb2pRMfJulDfeAAZzR5uT8czTaklp4f08t97RVsi0BHq/TSC+C7E+zsRZaw8dN\ne5Chjr2j6pD25h07FnSdXw7rc0z9i5/CTjWoOIz0dTPbLiQeAMIZ15Dl3Gzp6r2j2v33388ll1wS\n9vPuu+92uK3H42HExBHMLp8t9cCTpR54dulsyuvK5ebFImGxSCROYrqZxkLm6g3OUc7/vDum9cen\nP5LiksTVioShftiUDd5yWBohKYf4QUIgesWQOzYG4R7gC+jWvzcxbccXqQhyHdKBeOjaLAPnqyEi\nyzugkpDCog+ZBRphSiEciII1YxHym8o98yoSMdkGN0+9OUgSdTW6YJ2cE4mw1wbdfDB2s3i8f+kP\nf+gGFB0FVOyB4b2HHzEO7r///uO+rj+lNWrQOka1klbmTUfSQyb+AKOAC6FWRR+KNaAHuDQhPaY1\nQL0VWsZAVQp08kLKftm2tgmcKtRf34REiSywPFKAX/fN8l5mE1SkIuBvKpAti8zQZuEq9KgClkFa\nFZRb/GQPyGbGozN48JE/BY+9OEkag/VUtVp71gKF4FVlfoZnGusH23oo0GFPE6Jd8S/gfditWUgJ\nSLdUWqCzSnQeXIuEolHXphh2RECnACRMgkxdSL5l26HJqkpKdajvLR/pYYOqAMHndGM9PJEAmzKg\nQQ1x+2G5PhleqPDBsrFQ2QE/OZAXwF3shlzQSjR2W+CTHJE9BgS4ZYM7Gnqr+5jjFk6T1zh+kOqW\n9YT6UpxmC4KKYokOOhwOLrz9QnLuymGvIp5m5QJRUl3w2vevcVWfq8hOzWb14tXcmHIjvAlJHycR\nMSdC0ifToXlqM/ov9NB5RkklzzKTZPfPN4rYVLOa6n5p4kZkeiCzpuNjbrOGFqmfK9JmNxfcvAnO\n2i//n3m2cHcAnkyAM/d3EKUA0CG+DdxHo8LlI+XrZuC0B4k2jZY03s9GQN86+HZTBNkv2mA7LL8J\nPsuHx78KlXuDyN3n1cH7/UL7i/BH8MjMR9iVv5vF43RG3gaXXCvzWP96iA/ofLUdLvjjBUSkRISP\nmw4k6w0L5AWY/fpssgZm8Ytf/SIMLLjdbkZOu5xNSTA0vuYI/YuGhoaOd3qCdqqLm1baIDk1AAAg\nAElEQVQimNBsPRGeLLqu79M0rQLhxm8F0DQtHilceuFYO37mmWcYPHjwsTYJ2oO/f5BdXXZJCdQy\nZCaIAKLB1+ST3KAbkSTeiPw/miCj984KqW1v+k5en794PrOYdVzf3ZEFrD8u/QHg8roEVDTCoFZY\nlAXYYEMyTK6EQUrGemMbkkeNQLa3Q7+e/bDY44jx/TCoCPYQ8QC7gRilHwGUJEtutJ/ByjdQfjRY\n6+GqKnhjIKE23hONnQJF0LukN88+/mzwe/w2v6R0rEAA9jmgewPkFMKaZPCNQRae5VAzQnaVapTH\n7RG10o+//viISpZNmzYxZMiQ4762P5XVaUApeC9AACrQsBKZKPYgI78UabylQc15wJtQpCZ/V4RU\n12R4oVoBjeqtULAHUlRIvjYa6tSwqY9AiAc6rOwBgUqY8B3sjVcLqZ3ggk0leGJDHUk7bwAuhjQ7\nrC8Az3keXtj7AsuvW4rio7E5HfoVQc99EjHxTAdWgXe1vJ9pAk/x6VAQCW8ORHgISgp+UZKFCneA\n29bDfXWQq8qgD16FkFZ3AZuBFXAoAaiBnPWSbjlsB30/vH4GfNsk29avl89nNENVI8FOlS3R8Osz\n1LlukMtitwCtkNEqwkjHIh/qNh0Gg+UNC/54P5dr6vgMYl85uGOl9wpADyP336bOtQABH9cigMpM\nCDxN5okErVjDts7GzI0SHYywRtDqbw0SqHsofsK6Q+sodhbz8kUvA6IhM+L6Ebyd8jZX113NK9Wv\nhC9wFsSZMM7zbFhcBJOBL5JgvBt+uQbG3AobXw59rCgCMr+XtNpHBXCFmVMA9DHxKF6+EOao+z3X\n1JA4xyQX9Lq6H/PbrzIARRJIcEd18B7quAOITkU8Ml8aqqjzwOq2Unr+eCb0/IZvPo+jNDKOy5Pg\ni3lV/LqtjS11MN0Cs4uBfEl9VMXCN13VJSoRgcH5S+YTuCQQ/M4FvaQh2zU74L150LcRzv/tq6xv\niGCrcT0V0fmYYzZR5/Blh/lHyT94ZdArZPfOxlXiosnTROv4Vr6IgDs2ipS5blERDn0XL77y4lF2\nemJ2qiMVzwAjNU37jaZpeZqmTUWkVJ43bfMs8IimaRdrmtYfoQCWIf0MfxJ7+6O3ZaFzIIDibGQQ\nGfk0C7Kw5QPNkKPDoDeBZLi6EUY2w4MJyAQ4BxpaGv6zPNWPjFQcOnSI8vpyuAHivJDvh80WoBQ2\nnikchykroNkCuych3ukUYCREVkSy6KNF6DHRR41UmM/F6/VSX1UvYXOH7Ku7RRQfyx2wPQ36ViOD\n/oD6fQ4MPh/SWuCjeEJh7TflJ+LlCKZnTGft0rVBAKBpGpZWi3jaUUAWrM+AiS0wsQ1WRiH5xAig\nBVzfCP5IXQyO14+uVno6rS4ZWCM9CgxruBNhEy1CgIVpoqhVk2ORH9BFDdLRKqBtj2rcVVUHaRGQ\n4ldVGr5QWN6lEyxRrR8B31thbA5QBhkH4HAFcg8OAkkyuaapSE9OApAvUZGqOIJh1e09C2lWx7el\nCTIscMZe2Bmnjv0saJ4mehlZpgkvOVO89/2JhMk+N7l8/CsSbvweoofB/2PvzMOjqLL3/7nV3els\nnYSQQBK2AAHZFEVFwQWQRVzQGXVEVHAblVEHnU39DfgdR2RU3EdRccEN91FRUBZZZF8FZF8ChASS\nsASSdPbudP3+OFXd1Z1OSCAQnPF9njxJqqurblXduvfcc97znrYxUp48PxYJN/wEXA2MhH2GomX7\nLBH9yiuTc/5hGHx1LfAjFFt0AQ6a99IghdJH9uE8QyrdIMunFEG+NdskFDooj4K1UD2oWiYVQ96e\n9xFvW5VM0l2MZ9vJGDtKhhCcnuqU+xpUG6WJ4M6F3npvEm9L9L8nDs2Bx+fxlz/vaBgVUzdMJT0h\nnX7pARGI2btm06d1H+b8OMefpRUEa3qqE+ZcL38erII3HPDACvF2WbEiAtokQgsvzLEYB2Z10c1G\nCun2OozAN2bAB1GQapEG336UYI+DYdTGIRV4w0JHjArTw6KQKs93AzdBm9Q2zHt3HunDhnP2XR6q\nWjTni2X5jLkome4Tb+Tdc+CxMohbCuwQI+HLblCtBdJIx48dHzZ1VNckJTU3Vt7rSw44WZft5f0P\nDb0es0/XRZitQuautuCt9LI3fi9FNxZR5aiCTnJPk8vgPAsN0NfRx8JVC2s56PHhlBoVuq6vAX6L\n0GM2AmOBB3Vd/9Syz0TgFcReXInQ/67Qdb1RyvDouk5JWYkMOKsRg2Ih8v99CBO/0DhrFfzmKGza\nCz8egMgf4bFKqVT34/3G/lfCoX2HyMvLO/42NYBTkZubS8deHfFWeMEFPS+Xh7huF6BgnRHfvrka\nNirwvoEQNF8D2xwbu9fuJi0tDT0yMshTEcoxST8nndEPjeaCQRdQ4iuRyTxa7ksHj0wWPg9sKoTO\nhyBiKvI22IEMOK8UPBqsNclFZvCqAA5vPxxWXfQ3l/9GDDtD6fPpIpgbKZPB0ksJuO4fAN+DcCRa\n1MgP7TxUq1ppU6IwChgeUHT0AZ7Pbfy+1e/hdog+FI2t0OYfKPbHycpmBcAuw9OBaE5stAM6HCoV\ndc3mLjiigHg4arwZRUkIr2Um8APsjJSsEAZAihPyz0bu4WWAJ5BWCtDGBw6vZHkctHBAfB19lCCe\nkmy3lHMf6IG50YiB8gkwVTgO1sSe9kelX1qPRSfADu8kSL2SyxGJ7px40D0It6TK2M8JeVfIPetl\nGAN5ewkINzmBaCiy6Ccc1AkMum0R4ykayIeSKFEGtSdDcqV4PWqb6LVdGvGd4sWL1AUxiExvpYak\nAvvEKDN1HZoZv0tjECN6P8LHeg/aFrUlcWliMCehCVDcBW647wYqbAEZUIfNgafa4y9/3tFQDFq4\ndyG39bwNTckU4an2MH/PfIZ0GFK7noIhZmbWPNqWBtlx4EmB55tLeOj+kEVxXg/oeVhu6z5LeYpo\nSwn7vTaI9sF5IRoVJnLi4b4YyL8jsG3qbNBeQ8a+14EfgFTh+xSXhz8OO5BikFYC5wDACdpuzU8o\nf3PYm1SnpTDwThs7+p/Jc+/l8twCB//sLymrD7eACxaKIN3nRppyj909mPPlHOLi4motVT5kF6SV\nwGVtndzzXD+qnn2WK3LsbH8FXp8OaS2p3Tg1eB+AeIz7EdAWMYztla0ljHyF9RgKvKrhSs514ZQr\nauq6/r2u62fpuh6t63p3XdenhNnncV3X04x9Ltd1vdHsfH+2RgY098BXsyFpAKQkwu8+R9zrPmR1\nsgTeKYGNNojzwtg0iXtN6m0cTCEP7iqCKm42FA2pUnrF766gsn+lTL6ZcE6xrPS2VANFolWwq5lo\nBazriajA3Sm/W7VuRatWEhj2RQY8FdY02ixXFvsL9rO3fC+TP5rM1oytgZQqw1Lu6IRdDuAT2OyT\njzobjH+zFPa5eaIKWTkQeTkNmV3lUrVO/hMem4Dm1cRSyAbvSPhdKtzSR9jTQNBgdtgOzRuotXEq\nYdZZKDG8AaUR0OGhjjz3r+cgDmIGx3DfqPv8zPqyCGj5N1ieAiw1PA+IrsPGFGCLTO7xlSIPXGAD\niuCowaIvOgP4GZGGzoc8m8SrNZ8oEgYJj7WBYouZ3ro4wE8JMgQQgyHPIaqXIAPnzCEEPdeSaCFT\nmjDd6NZS2ChQUYpMBUc0CR20K4TseGQgvJAg/oHXBgdi4XxTuOtMZIA02fHOgOAXwME0AoNuX+OY\nNiBHyLKxzaCF4VnIV4jxZUyAQJBkfcqQlIAXyZwsv8cvP04L8RKFosRM5x6AvHcK9q7fS9aGLH/B\np+TFyTW/eApQ7IQoexRlngARKcIWgcfn8Xu7Oh3Bfz9u63mbf78V+1bgrnIztNPQWidFnIhHZx5+\n7tSISHi+GeSNgim94E+VkGV5h/PjA/VT8i39p7dF6OyZ5sIPmvmh/P++xTvlA248X3gzXYwU5lc7\nwtVumNgceQb3IUT1dMlMKsqnZrHHHcBiiMiNQG21NFAXETBrGYM4Zxyf/+5z1hRuZuiQg/x1MLSe\n/Akf/eDinZ7w59XwJ5sYrovuBe+9XjZ13MRlv72Mf839F8Uti8MaB3f/BOubQWmfrmx17ybyL38h\nMmcf3196EcPXa+xaCS9+pZG8gZpeGIP3AQRzLwwPRws3TPtU7nXQO6mD3de4LIj/qdofbrdka5jq\nflfp8NsyuLEYxr4Pn26F6JsQF7IXmu+ERB+8mARr7PD3zbKSnNMx5MCdYFNmaC3u+kM3q5TWEv6w\nehE27NgQWIEth3N2SAjCY8ZwM+EnQ+xnXSrSqTQknhgZKICmR0cR7ZHiaGPHj2VLuy3oq3V/hgsj\njPvQQu4VpUAb6LgO+pbDzkKgSsh0AN0LkDQtQ3b6vFz4ybp0NdzNMbaYWrMzXC4Xq+ethixjQySU\n3QQfHwBfJjWY5+7qCJIS5BpORxTmAvug8mZ5aUuNexVpl5nQ4/Pw6EOPEr84PjDIKSSu0woKLwgc\na1Mx8INUXQQRviqwATcZokxA0RLE2FyIrPSbS3XOlDlCxsxZj7jvFwDNwG1MsDvsYny0MrhdNYwK\nIFc3skeQwdJU8jQNALcX0iyeD9OoCDqWkXVAumg/dCoQT8XeeAIS7yEu3v0uOM+YvPO2I5lYKxCS\nYHGwK/tgGjK47kQMgpuMxkfIZB/bUsI3APlu5L2YA0wC9baizbSAZL09yh6oaWEIg3EQv/w4V4Lb\n0E0pt4zJJVbXupJz67oeVPBp5oenrg6DFUvbQrQjGo/P41djdGjCqdCtOkqfgu1DGy8+9aKf8Dd7\n12yaRzWnV2ovhg0aVmuKqcpWxEQYD70NLEuFbUeAqTDxoHh00i3P90yL5z0/NVCwzVrItW2JPKo8\nHxx2BpOzd7pg03LAC9d8JhlNf/PBg+fBX7YJQVQaBnSSDKViG9J/TE/bh4hnaSR4h3o5a99ZRHwU\nAW8Ar0H06mjcFW7Gjh/rvx+9Unvx/JDn2V+Qy/NVcEu7eHpucXPdOojSYXi2aPP4DFVVX0cf2ztt\nZ9wT40iwJ2CbbQsybFq6Ydh2+C4+hVF/uI2swiw81R5cLVty7Y9LaHbkKM7/+wcP2mPIme7glcnx\nJL6tBeTRhyP9NAz34soY2PiqjMlX3gyv9w58xk4oKrQUEWoE/E8ZFWPHj+Vo9VEZtDUYYJBer18N\n11fJzThrH/JgboYMo/NmKvg4Rj7/5ExZQQVBQbWjGp/vOFfMtRA13W43ox8aTfOOzXll/ytkXZ0l\nnINdgA3U76BvHqwrRSzfamA5rDUGtnWm6ocRT8zKywocPCqSaC/4fNV8Pftr9Dw9OF3J7JzTkcHV\nBqnxsPg7KHDAROPlP1oC+6Ok7hNXAj6I3CqSyqZx48cOuPW6W+u8Fb169WL7mu1olVrwgL6foEHA\ntcRFynk9SKqsX1rsqUaZHY52AwaAinVSpYmnQqGIsMkDqiitYMj1Qyi8oFAm1deRTIliYC8UGpoM\nXiQFEjscMuLGXQ5DQSyQA0fPlG1Fv0EYSg8CCvI6Q4IHOhtj/L5hiMHYGlgYmJAXJEvfPtdw4gUZ\nAptlHt0VB/kGa35WBjXc3yVeSLXk+Ps9FdZj7YDeF/WGfNipoNN+MSqy4wkMhNa4PCLaluKRrn2o\nN5KJ5UXc2clQlRXIKDhYhBjA84z7+AHSd8sMo8ILKUY6eL4LKegRB9igcHMh2euz/ZL1vgqfv5w6\nGO2Lk/tNBuCEYiPDYJ1FQcc0HIGAvkGIEd1UKc/748SoACj3SAzAYXPgLfeifWGZCkZA9a3VQfoH\ns3fNZnDHwWhKY8JjE8KmmGqZGt12d2PdynUSNtqH6CCPAmyQdWdIbQwkFm7iQCeYGzK2FkRCkg8m\ndYLL74AqT6A4GEBaGaRcBDjgGifMOUOczJOugpcvgFe/hyHGM1Q+8TgXeyztMjxtZpjD19HH0ZKj\nOB1OSRe4D0pvLiX72uwaehCjuowi+qtoaA2fjDpK7/vAbWn/pz0IRgbYd9rJSsii+vfVQTyzuyZr\n6JqNMQtX0qNND7w+L9lF2YHvxsWhHn8ctWcPzj/9iQeKqsg55ODvcYqYvtJ2uUj8hnmkB175Dr7b\nBKtscOZQmGmGRMyU4EVQdoU1he7E8T9lVHw18yv5oyPwM/T3iDv5skJINcKMZ5uSr0mQYdgIu9vD\nJzbYlAxvhksi0IEK0LTju51KaXg1goyK3Nxc2vVox+T/TMYz2CNxXRsSYgBoD79bAl3L4MPrEGMj\nAhgOM+zwYyT8vIggS7ZcLw+QMKNkLZC1ebsUJTMHSyDKdItXEajjYYO/LYRIDfp1k/eBZKAfbIqU\nUD6RwEg46wdZGfvVM40O3HVXVyb+c+Ix70fnzp25//b7A6sh051sDAJaX407RtyBL6kZSWWnp6fi\naGQg3OCwOSiNkAnHV+njwUcehPeh4q0KNnfYjN5Bl2TrwYib9m5AGZwMJJWtSgPi4aCR69/KDQUp\nwFw4YsTB/aGALYAb8gwm/fnGHJZj5tB3Aq4At3F7FxipesPXSGXOfXEEXMJzYEQL+H+j4HAprHTA\nB6bsNsbvbRIiifJKO6uAjHwh8xabq6ft0GxZM+wOO1wEO5OhawGkuQ2jwvRQmKEGI8Sx33CuHYyE\nqBUxtCtqRwwxYsBeJfsWOcRbUDIIkUYegGi4RBj3tBJKPBBbASk/i91xKNI4pwsiukQQFycnMr2C\nm57aJHFpsy3IcayrwGLDjbzaYjgFeSp2EohznyYwjQozBOLQHLAMfBeELIhUQP/gL4//hZ9yf+Ly\njiIF6nK5WD5nuT+c02pGK9Knp/u9PC0SWwRc8ab91ArYCRMuhTWx4nFwR0CCxRD1ngF5rYObsSQG\n+tvhAS/krYAEiz32m+FQGQFP7YOkS6HPfth5URf/M/rz5WIAf/E5dD9gFJQjhKgZat8pKDhagLuX\n+5h6EOOeHEfF+RX+/XY0hwvaSVVegAvNBarl2J4Yj5BcIwmMabfAHfhY36UTrrZtyUiUgTjzSJgY\nSfPm8MwzsHs39ttv5/9+1tn9Ajy0DJyGl5g46LkK1rwJd62DP1wFw8bAocPAFIicGontbZuMEyNp\ndMHA/xmjori4mNwDuQa1FtLnixvuH8YNzYkTDfdz8oH2wE7IsEG+BiWtJAZ75hCpNlgDmWC3208o\nA8Sr4Q9/uN1uuvbuylGfwXazWpeGS9VxITy1Eqa3goXtkAHPGPQ2Xw0DHoWKmwlY4REEydDqUTID\n3TN8pF/vgir4w1Qo/hf0nYKsmKMAJyRVwr2l8O80OHgAIVIYZdCX6nBxBWjVQBycez5UKdg4F79n\nIWZRTFC2x7FQ62poV6AYT1WzOJLKTk9OxX1XwStG+MKhOSiJkGJTe9/cy6S8SYES9Z2oKWoTCdgC\ng99GDRmkfXDIkmN/ZBdwKWSVySPMm4sQ0+YA0ZBruOd77xeD5qjVp9w5wAn40VhdDTgAczTwfYYY\no5sAh0heu+NBvxku7A0/biRIb8S+yE6FQ2IAxU4oioIObjgEwlH6EMgFV4KLDWs3QAbsrJIVqAZk\nr0aM5Z0EPFP75Hv7DO2OPB+8+p9XyVqXRXLzZD+Zk+GiKHrQcq7YRbFyH72ImNqtUHIIYnMgJUq8\nJ9U3IwZID/Bke3C73X5u0aS8Sfiiff5y6mZbqEDCgEZ/dJvPJ0fUSkG8UX6DbBYSrjmNEGpURNgi\njql/MG3ONHR0hnQc4t9uDefkrMphz097/F6eKEeUvw/7310vsAgyC+D8ZJjVGbYliWS3FUdCvJuL\ndcgogTMGAwdFA8XEjM7w94Fw+88w3ljUT5qX5deB8Wkw4gbY3Qy++zggGx+OC+OHDhWVFYH7ETKk\nW6uFWmsVmWNzcTVcdTM8cxG8MAfem2ZM9uY+PmoYMv33yjU+XyUvbJu4Njg0R3ijwkRKCtWvvEiv\nB2NZ1iqJZ+fAnokaf3nLxZ+KYOUs8Hjh3HvgjfMRsmkbje6tunPgpwO0adFGvDW1pdeeAP5njIqH\n//Ewuk+XiTcHBvjk+X5yHXzngDd7wdpUOMeDSM2ugAyPKAKyHJl0LSsoIIgkk5KcctxuTaUU1Zry\neyru+/N9FJcWC+HOKpyjjP8r4Mq90MELY1OQdE9TdCqE2evHThlQ/G2MlBnGjvGGlcDwt+C1TOkU\nA02PWDnQDu5LAp8P/n0uAes2AqiEBZEi0nS2kUN+0zYpGV11G+JevBAiIyIblJ1xrNWQy+XC0yxB\nPBWnYfhjX3ygJoZSipIIqVBadX4VPtMFZq56ww3q7cC3W/gLa7z4a3iU7w242Au6AN1hzbWQ9jc4\ncKuxXzugP+QZ9RR67ze8D9b+oOCHSHgxBg6shmKDFzB7MDKR9gEKwB4bwi0YTID4didwD8TExWBP\nklxBt1NEoSJ1OJRMkHvZa/eKFgmw02LgZF8P3I5wJUw+xABgJOQaBnVeG+kTft0U81qcUvnUei7d\nZoTyzHcnDkoSIDbWyIIxKpzyI7AcdE2n1VmtuHjoxWzN2CoThflsnIG2cDtimBvvmKl3sO9cIbJW\nAt7PCcToByEpsqcRohxy48u94vK0a3b/tb5zjqQ0BkFBKaX0SO5BmiuNcAgd9xya0UHbySKAYsTV\nbkeUiqpgY0s44zC82jv4WK+fD89YyLdroyWUePUeUAFKGDMzoNoG7/QSgbPRP8EKJ2S3rRAe2E7E\nQ7UMro4ARwl8ZaQEFEVRaxaFylQ4XU7pG+8TqA2yQI5nqmL6fD4qqay5nwa+7fDoYLjlOkkrXfge\npBYjhmYYz9XdP8G25rA0TkPXdWyajQ7NOtRtVABfbf2KLQkl9Fi9HPuOHaTcMJxn80p4IQumXBTD\nO6PupnxFOnwCif9JDB4766qIeoI41eJXTQK32807n7wjN7EZsFSkrNekScGhq88F0uCPkTBiPdht\n4B0OHV+A7ckEbv65yKplOQExqTagzldc1+66426fQlGtQUVZGQ89NJqpn00VS78TXDEPHntbBFTG\ndkPSXdvAkJ8k53vjMOMgcxBxKpP4ZMa9deQFWgS3XH9L4KRG+CMqAiFkHoIhVbA2QcLWF7qRGLIL\nSIHLV8KM1nCkADFiKpHe8zmsNMLPl62SuPWl2aIS5z/3CigsLWzwfTFXQy/zMrqu1xi8vM3jia+E\n0spyCB0MTyMoDKPCFGeSjTJB+QgvanMu8BH07W8QFM0shM9Ej6G9BwosruLDpgveDMN2gqPLhG/Q\nthjmtg85fgWs1mB1JHAr5PwbunthzkZEdq4NMBL0d3WZnA1BH8tFCXaIwdiyY3vIOkSxE6qNz0y9\nCwB0iPBFUOkRf7d1uPRzKoYjXpvlyLvlgNZdLgRWkBcHLWwOlFKB7APj2EWREmpByXWVlZdJW5fj\n36+kHGIdEm7Jj5b7SB/8wmNu3c2GKRvEaDKfTYVxjGwCnr72iDKsz2JU9IC8PVKhlZuCr5mTVG1a\nKXU/8FekJtLPwB91XV99rO+F9VQYoaffXxvmCzpUllcyNGNoQ9omf/SFjrM7snPWTglXmZ649yQz\nLK4KZmfA0/MC3z0cDc9FwSNGONrpgXkd4Ood8L7Fa7DQSJ33aTDmCljyLnwbTYC0aEzw9IP9/WFY\nHix6F6iG4jKwzbLJYqQz/nFS26XReUdnMgszRW6xP8Fj6GfAjaKKWVpayuF9h0VzJnS/mfL3x2fC\n9uaSdbHmdfid08ay0cELoMQyuH4rjL0MHIcj/PcuIzGDzKN1GxVT1k+hX7t+Ei5JBPXxx/DYY+Qe\nzuKvi2/gnl4x7HlpD+kvpTOixwieGvSU/7uh71Bj4n/CUzHmkTF4HV7/DWx5NVxdbqg9gqxEVsD6\nIzKXd1kLOCFDg13FwPnI6m8ekow/Ehk8RopLqdvebv50o+OBUgqvgtfeeJnJCybLABYJ3Q7B9weg\n1RH46zJo/TEwFCiFIXtgdhIBr8mlyPfKEAUQK7N5I3Ru2ZmJ4wN8Bj1SlgNRpi6EA7pEwSYPLPfB\nhToymfwWIn+A86pgsRPhXjiM83qBnuCpgMWRcFUsTFgF6yNg+lqC+Bx6lH78RFbCk9uqjdLz+uFa\nNH5PI+yNh72hxkNbhHQbKmpTib80epYbKgsJIq0eMt7aAmtqGMY+DgJGSjvIN1Z9ORZhISoRw3Aw\n0ByIhJxUWN8S8m8lEDKLRAhrxdTupVsGRw4eYcmK9QC4qwOTrTV1TdulMfTSoVQUV0AmHG0PBRGy\nT7kZ0zW8AlpfjeQeyTAKhj54FyDeBXMF7M8+MMpCP1UOz1QA7wJvgR6nB5M+dQk9xVaJfkZWBeEL\nfEXjr5KL27hHrQnWLchA3PorIH+tE7eCvQniUSoNFWhS8jwau4CTUmo48DzwD+AcxKiYrZRKqut7\nDpujJqfC5vDLkYeDtkujunV1UOijITh0+JBMvObkDWCDjabomqFH8Z1psO6Ew5aKpfHlMD0BLs6G\nByzHXZge+HtpO+g/CF7tTqD/t0fGROMZr02Dm6+HPQmQOxTuHnk3Y9qMqeEF7XdRP7yXe2vWBumE\n9JmZInE+dvxYPEM84fcbirwvb8JPi+C69NZUNkvhRzfctij4Pt+6AZQOU+MV1wy+xr89IzGjTk/F\nnqN7mL9nPneec2fwB127knbJFTze73H+verfrM1bS5v4NuxzB4t81JXBc6JoUqNCKfWoUsqnlHoh\nZPsTSqlcpVSZUuoHpdRxl+Nxu9289+l7MtnGAG1h1BJZTX1kru6cwJWwfosoA176I8RvguRyyLwE\nCdhmy34xi2JwfeAidUZqDXf88UKh8Hh1jiQeCghveeHqLZIi1Sse3Dr8DaArdBgKGdUw5yCB6qPv\nQ4yK4c4Rd+I66sJWZkMr03DpLkYPHM2aBWuC2qhFy8VHgV9+uEsRbHPBirMh0QOdSuWz3oMgQocl\nBcgK8gjixahAJJWbw3wN+mfD2eXwl5sIFo+JAFWhjpvIWht8CWbRi8ZNiQoHpaJqyKMAACAASURB\nVNT9Sqk9SqlypdQKpdT5Dfn+LdfDXxMINh5MUmIcwUt3k2NhZI/QjSClwkNGtkGBlSMBMqh5CCI9\n5hnRLX/sWkcqyV6KyIQb5K5HBsOd1xI8KVZAZVmllLO2cgtMYzVL9vdc5uFQd1laFhdDkXHOgzEE\naT/oSqf0olK55paSAZIdSZChYu7b9sq2UAmTPhUh3dztcMf1dzDm4TE8+tCjdN7WWVajhTAvChbF\nIKG6ywnIRZv3N1MqxcZWSd2IPRXUDDcZXg5/qekzCJqU/Pt0QgicraD1K7eQ0lbImXsTLAXHTNSS\n/dEI+BMwWdf1D3Rd34YUZCxDAlK1wqHVNCoibBFSxXZjSg2jUcvUSN6QTOSlkVzS7pKGt3IpFOqF\nwR4uAC/s+1lk6M88IMbYDx3wZ6lRDfnG2JyQBN/lC/H7H4YXrsxmySwzjNuFu6H0YqTvK4RJHnLe\nb7tAh4ekZtOsRbPCckJmL5xde/G3DHAccPDkuCeZPnd67ft1QhRZbwdughXr99J+dxaMGMF7y3Se\n+wxshmru3T/Bt60haV/wwjQjMYPdR3fXGtp9d/27uCJcXN/1+rCfP3ThQ3RP7s69M+4lNTaVnKKc\noM+DOGuNjCYzKoxB+R7wlxYwtz+CGKX3AL0RatRspdRxcVQffORB6Xga4IEbE2DMRviyFRTOJyCn\nOxPcUTC7GdwaBR0NFcTM9cjqvAPQF+665S6Kdxezf/X+IHLSiUApRbUPNJcuuXMVcr4rVsH8VCgY\nAS9Hwt2lEFcJQ3JErXLBHwiuPuqCt195m+LsYjy5Hrx7vRTvLg6vNmmGP4yYfrIdEr2wzQerjEnh\nwnIgEy45LCWzN/0RuAMR1LpQhIwwqgdObQ5vdYSzR8P8DtTgc/TICM2vOnFUxxnXVNjw0EpDcLwr\nQyuq7OBtR7DxYJISYxFhJTNvPZRjEZIRYaZ8FoRz0LQlYKQ4ITddNudsRYyBKeA46AgMuMZqfkMK\nrLOGzA1vRnVMdSBEY8nAYRQS/uoLdIYSg+zpbhkwKg5lyvkSliQw58s5MmB3Ma75AHwRDV9XIYbx\ne2B7w+Y30gH4DL7wfM/1v4NP7oAD1x1gUv4khlw/hPN7ni/vdA8CnoQY5LpMD4WF9FnikUyDZhWw\nx1pJ1Ao7AQ9GmEnJj87yeYTdSVm6nGvCJTD8dyH7WVUOGwlKKQcSHPMHDXRxhcw1Wl8ryr8rp2+/\nvrAAjhRKzq9Dc4ATnnv7uSCjMXVaKg+kPUDX+7vS/4z+fm2VY8HMnuF9pDgXyL02vEq8h/Snm2Bj\nFPRdIYJM+esI0lt48UL5arsjkGuJ2lYDyzTwvIkspt5EygMMR8bptoTVagiCgkMlhyguFjeJafTV\n4OuE+V5SqyRiYmKOuV+zlGbCH/kAWp7XkvZ9uvCXlASK/vlPHtqmmP9SJEPfhh6H4OAF19ZYmGYk\nZlBVXcW+4poyotW+at5b/x439bgpoAkSAofNwQv9X2DNR2v48tEvWTJxSVBlUitnLXVRaO7/iaFJ\njAqlVCziXPw9sja34kFgvK7rM3Rd34QMGWkIV7VBcLvdvPfFezJYNINrSuCzb2B3Gjyeigzms5BS\nZUeBSPjABn0K4LkjMpFus2ZQ9MDP/G3U1YcuHhL7HuTlc4GrBVxUBjPPBpbBu/EiqjJsO9ywBRa3\nBbc5OBrxvIqiCn+7lFJ1tlFFy4ol1qbBndDFcEdui4aiPNgaZWSFLYeLt8GyNhK/RCGT20rQK3WJ\nF7WF3PPgnqOwq4AaSnXaLI3vP/++8e6Xefi4U+apOK6VoXkfrDFm52pncEZLBGjtNbpkdGF0y9E0\n+6KZhJWsjy4kI+LQLtl8dLUKPlYFUjY8C3+p+TzjFuUMAc6BLildSGqVFMwTmktNhcHvgUuQkECI\ndoR/ktiB3/gxvavFyVBsTKSH+gB3QeHFhTz90tM1BuIXEmBCGn4PYou0Frz09Eu4XC72zdwHfcCX\n4eOr7qIUa03r+/SbTwNSxGY8O1QB00L6LOkXOO8ec/9QVOMvSHasSQkH2JUd+kLUmiiO5Cl2NA/c\nPy1TC1Y5bDwkIQGYAyHbDyD8ilqhD9HJuTYHWsPDdz+M2+2W8AeQ3jI9QEi9Cf4z/T889eRTLD+4\n3J9KeixYs2cYhYzudoI9QLcZ2yJgY2dJ6wfIu5KgLLUvDY2W3lVISMNAqR0WXYSQhe9EJOdzkTCi\neb8VATn3sDcCSstL6Xt536BqnkF8nVq+5/Q50TTtmPsdzTvqFxI8fO1hqQp64DUumvk5ldOmcak9\niu9yoSilGfd9+lWNRV9daaXz9swjpziHu865q5YGyLN46M6HoDX4RvqoHl4dVJnUNCxefuZlZnw0\no9bjHA+aylMxCZiu6/p860alVHvkxbBa4cVIDZA6rfBw+Otjf0V3GhOfF87uCgc06HcxZF6JdMoH\nEJZ2NFAO3yZAkVPK6t5/FZRYDXSD+dvYMVJN06Q4ZwFgg3ad4KGZ8i7NMuLu+zyw3AF//hEG7oEp\n54QcJBMinZH1b5vhqWgR6QIXdEmWuWyXDthhPjCkEiKug74HjdCH6fbeB9wIsc5YmVz6IGv3fsiT\nMtMNXwOmw5ZlW0hLC88cPxHo8SffqDjuleEM/IzwollF/nTfDqM7hM1oWTVvFa+/+DpPvPuEDLqh\nj9GShXDEKW6Blg938x8r9ZtUHO84RDDkD/hLzedtka8fWRDF6NTRrJq3CqfPKce3cDf8QjyGN0PL\n1WRFXmVcpZVTUWlcmyUzqcRYGrgjAnoZpkfF19HH9HnTZSC2TjCjkFouo4A2cHjfYUpKxPV1dKcx\nKC+gBgvf18qHB0+wN8ckV1q4J9aVd4ml1PaeUgLaEybM76mQY4WDEdZw2p0QAd3u7kbiz4nwOqgp\nyl/r4WSl7J0QjBBObo9cxj05TjwVlfDqM68G7vMH8PyE55m1eRaV1ZX15lOMHT9WsmcyfAGDrC1C\nXLRyWAwjdWPLQJE3v4S84d3ZlSjaIz85wLkjcI44LywySJr+dPsLkDpOwxEjPVMj0ZZYO2cgE+hA\nkOaEibq4BmaV0WPtx07QU/VadS7+39J5sHo1a9tGsOimPhAmLNwuvh02ZQtrVExZN4Vuyd3o3ap3\njc9MmM/iWFobJwOnPPtDKXUTcDaioh8KUwOywVZ4OHw87WOJGWtAB8jIhsxUZABdSSCDIwKJx8ZD\nRQX862JIKRX2bhB0Yc02doxUofDawa6ASFgyD1pXwzI77NmAEB8q4YsoeOEoHI2AL7sG2kQmsBya\nJzSvd9uUwano1qE9KvNnzkjU2bMHqhKAfTAjAu4vh7/+AHHVMG0EInZlHn473Hr9rbzx/hvidjSZ\n+zqSYVMJpIJ9v50zzjijMW5TTbhckvZdVHzMXU8Ada0Ma7+wqxH/WgWUzywXV20zyPRlMui3g9jw\n4wZiY2NrPC9NaX7inJ4RZlbLhNVnteTpylzscdG8/BfJjhnz8BhZIZoT7WD5yVkPvmlw6Q238OwL\nrwMyIE7aPQlfti8w2BsrQ3Mi9U31BSYA6/NdjpHqQyC7AiFCgqSUlhl/+9U0DWP86ouuZvLMyYFz\nEvicTuDVvYx7chwvPf0SPs0nhegsGRr+vv45AQPACtOjYmpYDDC2V0DJ2/JnqQMO/8E4BgQPuubq\nVoUcKxRbAQ3eeugt8MLaI2vRh+qQATo6Xrxs2r1JDLbhYb5/YjiM+FRahmxvSaBsX3jMQhZYSDvf\nOvAWiSmJ8Bl81vczMe6M+zxt1zQWjlxI2s1pdE3qWsdBA5g+d3qgpLeJvkjf/03Its9go6XcQV4s\ngRoWw6Ud36XCBUfgWkt2SKVNCmMFoTOisPolUA4JtgSWz17Odbddx2bv5qAMD3OsZDj4Inx8O/1b\nXuZl/6EmPDaB+UPms1U3UostmSFdM7vy5GtPHnM/2w82PHd5gtto9CtfR+Ocz7zM7Q93YmD7DIZR\nEw6bg/SE9BpGRUFZAV9v+5p/XfavOsf6sM8CYCP4Nvp468Bb7Nm6B4CiRl6UnVKjQinVGiltPkjX\ndc+x9m8I/vSnPxEfHx+0rbSkVKaDZKAlZKyE7a0IDFKGroP2vYbP5pNV3nyYmELYwcRqqTYmzOwP\nuw2S06D1Xri1C3yUh7j1fMCN8OX78ALwQTJUfEqNtNbftKt/hMgMfxzctRd9l04XH2yLQNznXlgQ\nKymQ//cz/JQIW02DwnwxZ8EzWc9QWlrKh7M+lNVufwL3dRewEEbdNKpR7lE4aDY7xU5Qlpfik08+\n4ZNPPgnar7FfmnphFmKs5iJGVjPgTPD08DBp9yTmD5kfluCrKU2Ic9+ncIADQQOWOSBGjTuH/5ed\ny4VaQBO4tkHk8+5SKXLv0rk8a2wzB8TN+zfLM7PCHKesZMfPjG39jc/fR96P/fgnXrdx6uIcKDVu\n98HZiHptH7BV2Vi4bKHcj1q6qd5JlwFXvYyv0CcexDDGBzqSQh2aEme2VSc4LDITSnrJd/YkIBOr\naSQthpioGJJjk4lvE8/G3Rvlnluv25KerbYpmAf6UJ2ijCKYC/r5eo3xwtfREMKZBtdsCh4zTqQ/\n6rruUUr9hIhIfwugZHYZCPy7zi8PJaiUbOKMRHbu3ukPM/mh5P8CvYBua7vVa6FSKx8hAun7YcJ5\nmxbJv2UK3FORvmJ4G9gOSw7D0xWiR7E0Etb0lNLsFY7gU/j1RHyAHY7EHeHF115k2exlpJ2ZRunK\n0qCx0l8ng4Dn2bxGk2sw7slxfDv9WzyaB4fPwTWDruHJ1570v6917fdF6y/Ii8yThdUyglOS20Kl\nXomu6yREJlBUWXtfCJdW+vHGj/HpPkb2HNnwZwFwpvwkzkjkm2++QSnF2rVrOffcxlNpO9WeinOR\nKX6tCvRUG3CpUuoBhMalEKvbujJsieQZ1IoXX3yRXr16+f/XdR1HmoPqDtUSY14GnXT4zoe4RB1A\nGUSUR1DtrJaHvhC4GHHX+Qi2cHdA1z0BS7UxoVBUe8Gmw5ntgOWwuhPiPfEYbSiE7Jvhuqmw6AKk\nc5jYAd32dOPJt+rfNpvdQaWC8pSjMBi6vwBf2JAYSCxUVkpl0Gu3w9RmBO6Z8WLGumKJi4tj0guT\nWLluJTs27gjW74iVNNaXnnqpEe5QLdeg2SiKBGdxIC46YsQIRowYAeAfLE7wpTm+leFQhKdwAWEn\nnK26uCBffubloM8UCpzwt5f+RtbMLP+AZfPYOOo5itvnZv7z86EM9nbbi/tGN7GxsTUHEWNAq8yG\nhRFgK8phzMNjmPDYBFwuF8tmLyO+Z3ztvIG2yMqxM8FeCjuBPmmZeEuS5W64k+Dg+VD5HzgwEhlQ\np0Jcqzg2Z2wW2fc6uAr+8KKNOtn19jl2vDu90j4TZtjjO3AtcxGXFIfD56CgqICSvtJH9jSz7DsA\n6A9J3yax56c9fk6Af/VpXvciEYlq1awVLqeLTUM3yTM1eSWDamlnhtyzb7/9NmhzIwziLwDvGcbF\nKoTzE43QIOsHnxh606ZPkyyFcMiAQ18dquXDYITTD5EP8GcYhRoWRYMheyN4SkEr1/Bt9cFucNld\ntDurHUs6bSJyA1xWDL9PgncuJ3zfMYn4PvyEzXc+foeJ4yeS3DyZ0mtKA20J+V44z/Ox9HGOtd+3\nP3wrYb5aPG2H50iYLyEygcKK2knmGYkZLNy7MGjblPVTGNZ5GC1iwkk7G5dZ27M4xnU3Fk41p2Iu\nMh2ejfgFeiLyMFOBnrqu70YG6oHmF5RSccjQvKwhJ1JKSfpUayACEuIgqQoyjyAW41GgCHat24XP\n6ZNX8nZEQEpD3GmTEG7A+xCzNIZls5edcKZHOFSUVuAF7A7osUMEi3aZxZGqkAFwOVAKX4+BggKk\nWNJU4HWRJW5oWmtZSRnlQHQCtKqA9EpYeTliVFQBGfBVgrTl09DiO2kS+gB5sdYsWMOYoWNIT0gn\nLTaN9IR0xgwdUyONtbFhUzaKnKAVB8If1oqubXq3oX2v9kx8+dj1RmqD4VEzV4ZA0Mqw9j5Zimjr\n1yF/bJJ+rdCUvJLRsdH+lLct87bginLhPscNt0H578phFOQl5NFnSB9KSkqCiWOVBPMWRkD1vcEF\nouLi4gIDXTj0AccPDiEcWhQu1fkKh9dRg7tQYhI128D0M+DMP0CpE5l8L4Gs/CwJ55gTTDgYgx0Q\nPrxhQkFEfARdd3ZF7VBBBFO1V9E1siv7N+wnZ1UOu9fsJi4pzl+TY09CzWN5bV5/JdEgFdcfWpHu\nTmfMiDEUbChg2XfL2LJ7izxT8x6HKpWGHPtk6FTouv45Inz1BLLYOgu4XNf1ui0ADwGOyoeQk5ND\nqb20zvbbnfUvP1Arz8A0UMNgQyzkxkBSWpJfpbV4dzGX3XsZ66+VmjKlCj4/A/F+hmurwZHgAmAK\nsA88/TyMe3JcoE1hvlcfz3O9w8mW/YYNGiaeylAtFDPMN1jCfPUxKnYd2eUvQ7Aubx3r89fX1KYI\ng/pyQ04GTqmnQtd1c6j1QylVChTour7V2PQSME4plYn4GMYjlKtvGnq+m6+7mclfThZlN8OLlJmA\nTNbVcOctd9K6dWu0So1qW7XoNZheJR9iXBjvU/K3yf6iQ42N2VNncwVgT4cem2FLHFQPQOLWkxCd\ngDMIVvNUSJGeFnBnhzsbPHk//czTjDeKQPXbK9sWdUBMvAigLXy4CuZebSFRAWwH5zwnEzMDE3V9\nLfvGhk2zURgJaQanwu12c8GgC9jaaStcgz8Uk7U660RP1fCV4beIXHA9VuXW+2UaFdZtD//jYTZ3\n3Bw2FLBVbfUPnpN2T5IVtrWWiGX/Gh6SOngD2j6Nu26+iwhnRA33buVNlby1+y05l7HiP7obOCpa\nDT4NdlqTbTtB+dLyY3IVzMFOKYWv1FfnSquypJKV61aGd1O/8WTQ++CodvjrdPg9FZZjWVdttfVl\nt9tNj7498MX5xOj+DJmkTVJtbSvok6NTga7rryFU6PpjDrJq7g/8CHpfPcCDCrOKB3BWO+vd/tp4\nBrREvL+KGkq/f9Ug+no4PO+wGDwXybE8Pg/VXimOeDgC3JcgK/9QD7KFI0EEwpVrLdum7ZzGpsWb\n6sWRaExMeGwCb3z4Bp5rw0f4zTDfVf2uYtPBTbUeJyMxg3JvOXnuPFrFteKdde+QEptSL3XT+nJD\nTgZOB5nuIDNY1/WJSqloYDIynS4GrtB1vSrcl+vCs+OfZeGyhWzbvo2MPNmWCdAcukR04aVnxDXf\nvWN3NpRuCB7sTCNPAds5qZbdppWbqI4EWxmc2Qw2lSAZFE5k4DqEcB0uJTgGvkMqPz45peEd5Pu5\n3/N3BVEe6JcFm5PhkAtx290AvA/6QMg9SFC4iCLYsHpDrUbMqSzrbFMS/tCKJWPgb//3N2E8t0U0\n+c1Yprv2Y9QHuq5/bmhSPIEMkes51srwYsTr1UAXpD8lmMBkNuXTKaJDEgYm8WvDjxsCg0i2ryZX\nImT/l3nZH77QlBZ24Jn42kSZZMNMsEuGLAkMWEBeNAy4zcLMt0IjuAppGK6CNbyo6zrKrtAza3IV\nAH+mU2xsbL2M2WGDhvFG7qvMT9dZkB7StDpWbdbjjR0/Vgr8+RD9gQsR/1UKtRM6dyAx/NMFZxJo\nZzbSR/YRaH8oB6AM4tvE+9MPj4W6eAYftfyIgn0FNUocbDfrCNl8cq8+g/y/5DN391xYKgXB2I+Q\nhW9EzPiV1MqRwIHfO1iwuIDY2Nh6cSQaE7GxsSS1SiJP5YXfwVhQxDvj6/RUdEqUh5V5JJPm0c35\naONH3HvuvVKv5RioLzfkZKDJjQpd1y8Ls+1x4PETPbbL5WLVvFWMe3Iczd95jUM2L82S0rlt0DU8\nOS5wY2d+MZP2PdtTVVBVk+S1A87YeQZPTj45ll1xcTFFpUV448BxALpXwJf9kUmpGonLz0ImyrnG\njxOoggRnApuWb2pwBykuLiavMI/yCIg6DP0Ow7z2xodxiILo7YhvyG2czw1EQNfOXencuXPY455q\naEqjyAmqsIgxD4/hzalvSm78pwTHMvcDb53YuRq8MmyDGGHHWJWHOU/Q/39/4u94YmohXRkGi0fz\n+AfPsePH8lr1a1Sr6hr7AUEeEjN8cVn+Zcz9cC4JrgQSbAlhBx7rBBtuwMovzOfH9Opa2xntiKZ0\nd2kwV8GcYMqgZ9ueLJ6z2H9OR5SDquXGOiK0jk2YTKe6jNkJj01g9sDZDLxoRyCHrIGrtm9/+FZ8\nUymIqNMAo/19CGSSmO2sQHQ+9gPNoX2v9gwbNMzPZ2kymEJcoZoeptdlDTU4ABt3b6TPkD71Dq/W\n5ukpqiji/YL35b6FGtpmiXjjPUm9LlW8tDnI/u0IGKJRBLzJ4bwrpqJmBlTOq0Qpdco9qUqpQNp2\nHQuKZlHNKKworLVN6QnpaEoj80gmeSV5FFYU1iv0YaKpPMj/9bU/zBvbp2sLjnRIDKuCmZaWxp6f\n99CjVQ/ULCVTx9vgeNPBXYl3sXr+6pM2GIx7chxUCsO5YwK4vLBpE6IX8BFCV7XBmCvHkN46nbQ2\nabRLaseY28aQvSn7uPQfHvjrA1AJ5XHQIQfOKIAf040Pr0EGxHzgVkRk5nZgMDg9TuZ+M/fEL7qR\nYNNsFDkgb/M2Xs19FT1SF79WHzjbCR+8Duo9xO3bFAhRwgTj93b85duPhRnzZgQyMSCgTPg+fu2G\n4gPFlJSU4HK5+PfEf9OmeRuZ2MJoPFAR4iGJgBF/HAEj4em3n663Smxo6etRN42qtfKjtkvjlutu\nCcgCWzka5ym6t+rO4pmLg86Z2CVRks5DpcH3GZlOQ+uf6eRyuZgxbQbsg4iPI8JWvK0Luq7jtXtl\nwjKUHmuk25rt/AhReeyBaODcTA3RoSaHoqamx0/ItTWiroF1EnvpiZdQKxQq0zKx6QTSSM9F+udS\nUFkK+4f2wKRs1R0xNUZq41aYhpMCZ5yzhpF+qibWWjkNOqhdiqGXDmXmWzMperOI1r1bB6ldmnDa\nnbSNb8vOgp1MWTeFi9teTOfmx7egO5Ue5Cb3VJwqtDxYyuGUhFqFBdLS0ti4YiMAPp/vmIqUjYVv\n5ghVxFsJ5x+VbRtHECCA7QS2wItPvcjLz5y4xZmbm8uH//kQbFBeDYOrhJv542qkEJkHWY3NAHu0\nHZ/Th1ap0b1jd75f9/1JEbE6XtiUjcLDEK150FsgE+lu4BK44Q0YWQhP3QdbvchAf6phDobWVbkH\nOArL99Y9mSmlAqlhJg+hLTWqa6JDSWZJ0Gry8ksvZ/LUycFpvuYqfypcNuwykVL+HKiEu9+4G6Lg\n71/8nc1XbW7wirqkpASf1xc2a8oaSgHCu2Nfr+mObXtFW/JfyEfrq+HrH0h39HsXGpDp5Ha7efa5\nZyEb9Cgdu9fOsMHDgryVdcHPpm+DTGw2ak+3nY8UF6iDz3Lb8Nvq3faThlBNDx+1ypIHhcyOEwnx\nCXR/oDv6Mp0tb2xBT9AD4YsrEdK5E4gGvUrH29IrxEyrYTGA4Htu9ShbuRXItubR9dftaWwEcRpa\n+wLVbjXQi3Xesb+D51IPjIJclQs6QanmICG3/G/yecH+Ap5yDwP7DcR9Q/1CUU2J/xmjovmRCnJ6\n1O9hNHbhq9qg6zoeuwd08BaDq0o0BfbHE2TFa2j+Np3oSzL0hqEii1wO5aVC1PyqCxy6iYC+xHLQ\nnBqePA8+n++U3Y+GwqbZKHJDvBepUKkjGgTL4ZxooBAuyYatTWEH5SCaAFYRJuOZ9tzbs9aBQbdQ\njPyTmeli30RYAqbeSfcTNl9+5mUZaC+tuZ8ZN/965tcUXlAok+NA/AqIR/QjdWpohIM/DTNjq1Tr\nWY7EvBU4Sh3cNeIuPzcDqLc71h5lh+FwW/ltLJi+4LhjwkHtGwUe5WGvvrfB1zls0DBezXkVfbkO\n8QQm5FCj8QiB5x0Cc3JuKqNC7VPoaUb/sk7OHTmmLHk4UnFD0b11d/KvzCd2YyzuG93iJ69EMjYG\nExw+moqwl0LDh5a0YeYgz0KnBrdC26XxmyENruzQaDBDhA8/9jDvvPMOnsGeIAPfk+mRPtMBf6aT\naXg+/NjDLF65WNRJRwS4Tgt2L2hQKKqpcHrOFo0NXSe5sAp3cvyx9z2FUEpRfKgY4qHaaNrSaoLl\nsM+FMzuHSnsePzbv2iyuz3goN5jwrxca55xa85ynq0EBYmwVRUiRNRWFDC4VQDacY2SZXrK3adrm\nWOEIFKsDv0GhZqsG1UEZNmgY2n5NBsyD1CtFdfbC2bUXwzoIR/seRc/Xw6a8NdTdHSTNHEmg6Nit\nUD2omghHRNgBsF6TkxP++fg/a1SSbMiAGlY6+jiuc8JjE+iW1Q11vpKaQTMRvpMllMO54t2rlw5H\nE6B9TvtArRgnQnzcJGFerchSQyYUjaRr0DWpK1sPb6Xz2Z1l8QJikA0kuB8uR7xsVxE2fKj2KrpH\nd2f/z/vpltQNra8mE7ZTPjcr3dYnvHgy4XK5cEQ4qL68Orj0u2ng96FGUrqvo4+PvvqoUfpsU+H0\nnTEaE4cPE+HVKTnNjIq1a9dSWlwKPcFbINuWXIroQYxEUkbn0GjFuHw+n2hyAPSEwsOwwwXz7jl5\n5zyZsGk2Cn2y4I5tDq1S4chhuLocUktgd4J4KpoC0z+ZTs+9PbFPtqO9q2F7wwYrocfDPRoUQjJL\nFKtsdUxNBI8mnqU6KyjmIANaaCVUC2rT0AiH6XOn+zNAQtvTkOPU/LpcQLgU24ag1vbRsPaZK88/\ntvsj6eXppLZLJXZJLK4PXKROTyV9ejpjWo8hrVnaSZ+cjxfvTXovuO7MnHTGXD6Ggh0F3D/yftSu\n8O1qLF2DLkldOFh6kL7D+2JbaRMDJ5uaBrDZN8PUcOFDiF0spOS0tDRW/LAibC2d02U1X1f/IwN5\nH61QUpa+MfpsU+G/Ovzhd9ftE2We0hahSepNB7fbzXmXnQeJwM9QnQTkRxQ/5AAAIABJREFUwdIV\niJu7AvBCcutkUlMbpzStpmmi0tkZWA2PDoTIzaC/gbzAFYAHRt4w8rTiTtQGm2ajqAVwCOKLYMBZ\n0Gw7vHpQPp/UC56fDy2/qVm442QjOTmZ9UvWA2LMHSo7RMrzKTib1a/ClDmpWjMtJs2dRLVee4aF\no9oRXEExHDve0GtoDHd3fUpFn6jb/EQm4MZuX21s+tC//XohITjZokPHQkxMTK3hpwmPTeCLS74g\nX88PyrZpTF2DrslSQ+Sg9yD2EXbuqbgnfKaStW+Ghg8VxM2IIzZWxHOaKsOhPqhP/8NB8Lvq45SE\nok4mTqmnQin1/5RSq5RSxUqpA0qpr5VSNeisSqknlFK5SqkypdQPSqnaBHtrIFRRMf2cdN4c/38A\nlLVIbMSrOTGMHT8W3WEsaW4ErweKFWxMRpbe3YB7ISYiptE6j67r2LGLOIwd8nMhyygLjw1IBXR4\n9YVXG+V8Jxs2ZaOoi/wdb4OLDNHsdj4ossOHa+X/Xt3Cf/9UQdM0bEadDlXraCEI5xo3B877Rt13\nYhUUFZLmCseswlmfFXV9SkWf6Mrc9FQcD05m+2pLZzU9S0El6U8jl7yJcNLU414dB/sg9rPYk7Lq\n79y8MwrFvuJ9VNoqeeHpFyRTyfp8rJkpNRpNnc/sdJtk69P//CmwBrTdGtFa9Gnr7aoPTnX44xLg\nFURQdRBip81RSkWZOyilHkGSse5BeNSlwGylVETNwwXDJGW9mv0qWa4s9hfsZ2/pXtbOmYEXePqJ\nKWFTd5oC02ZPkxi0kZaW1Qm+7wa+EUgK5wBgryH52khQSpHSMkW0Ls5HpMVAOnC1nC8tNe2kKYc2\nJnJzc+lzUR+KZsn/8RVwUTZ8cwZ4FKzX4dBVsKEF9N7XtG2FE5scTTz60KM4ZofhauwAxxwHjzz4\nCFD3xOYvCW2y/8O1tQEr6pMtB3wsI+xYONVyxTWkvk9Dl3xtaJ7QHAbATc/cdNwclroQaY+kfbP2\n7CuWF7KkqiT882mkvnk64Fgl0q3aIabhefNvbm4yie3GwCk1KnRdv1LX9Q91Xd+q6/pGZPpsi2Qp\nm3gQGK/r+gxd1zfhrzZRW23DAMaOH8uWdlvQV+vCBv4NUAyt0yE3DopvLD0tcsZ1XccX4ZNwQx9g\nOfytA4y4niDRLWbKBNGY+O2VvxWDZS1SwtlIcSQCGAg3XHNDo57vZCA3N5f0M9PZtWcXhYZiYXol\n9DgEX3WFCQkwJR5oA7MjoM+uOg93StBQbkC4/Z5+6WmqBlSJqJJVu2E/VA2o4pmXnwHqntg2Lt0o\nHI0UFZYE19AV9clamZvXf6LGWFN4DkI1PBp7cj5ZiHFIrXq7Zj9pK+GuSV3Z794PiFER9vn0QYo7\nbqeGvssZO844bbw99UGdBv6yRNoWtq1heD77xLO/CG9XbWhqTkUCctuOACil2iMqCfPMHXRdL1ZK\nrSRYuy4svp79teQ/n4dYutOBYdB6E+wzF98qTA2EUwy/W0wjIJ4TqmUQC4nxiY0+EPnzp/sYEstG\nPM8fO33v9O6wAEOuG4JHecABRYdl2+VGIcJl1fCBDQnpfA5zOsPA/xJPxfS509Gv0aGrscESi9V1\nPUhLoK5Ys8nRmLZtGgWLC6icV4kzzklSdBLXDrm2QSmbJ1sO+EQnt6aUK4bTzyVfF2IixKhw2EJr\nizceuiZ15bud3wHgrnTTOrl10PPJOpIlXtN2yNholeR2Qb/+/U5748yKOvvfBul/4fgRTdlnTxRN\nZlQYlR5fApboum4WGUtBhspQXt0BAgK7YXHw4EH2FeyT0spZyO84IANaL7MYFQYaQ9DlRDBs0DBe\n2f4KzEBSp/qDWQCLTOA7WL5qeaOft6kH2cbA5h2bpef6oCxOMmd+64H8GMg8ioSVioDBsDgdKhYi\nA1UTwqaEU1FrrBTz4/A7hCV9hfxdG4Gr1tLOFjG1EyF+nQyyXGj2x4ngdCbznU6IdkQD4NBOnlHR\nJamL/++SKqnZY30+WkcN/TY9uG+bxrMOs6bPOmltO1k4Vv8L1x9/yX22KT0VryF0xIsa42A33HaD\nTMge+fmsHFZFwPMKWrlhY8uQLzQxi9b0GGy+dLP4ZeYgk2EFaF6N1fNXn7QaG7/kDuvzGTmkkUgm\niy5VVLUyuPV6RExmEtKzM6BSwdpUJC2tieB2u3nkn4/AV7Auah3tX294LYgg0lcd2R8NfZb+AmaN\n1Acauy+dKKeixvF+QX39VMMMf5xUT0VyV//f7qrg8LOu69iddvFCWmHRajjdMx+OhRMlBf8S0CQ6\nFUqpVxFx1v66rltLueUjXSjUBGhpfFYrSo+UStGrI5BSDFOr4NxDcO9qaF1c01PR1Cxa02MwpusY\n0lul0yq9FW2at2HMnWMozC6kV69ep6Qdv7QOq5QKpL9GAW2h/wDofgEsqEakxksRT8UnwMfwWIPr\n2zYeTPLw5AOTRdHxRk+9eD3hJtNTTTpsSjQWp+JX1B9m+MOuTt5a0+qpcFcG932lFPZq+y868+FX\nNIFRYRgU1wIDdF0PkibSdX0PYjwMtOwfh2SLhGiPhaAZ0BK0eFn4P+CAwlR44zuRv65hVOw4ueXM\n64NQQlf2+uxfBKGrKeFfsZuhoj6waxMUtkY4KZFImfAoYARwMxQ2nVpvgxUd61Jb/KWkKzYmfp1A\nTg3cbjf/euJf8D78+8//PmlZcolRibSIaQEEwh9WdDirw39N5sf/Kk61TsVrwC3AzUCpUqql8RNp\n2e0lYJxSaphS6kzgA8R5/U2dB/cA7eBKHbpVw7hIuO9iuDQVnusKP3Qw9jMzK76H8WPHN/IVHj9+\nHTzrj5HXjYRkxFthEl0PIEbGPKRSJMhzbmI0lqIj/LLTFY8L+q+eilMB05v27uF3YRS4r3Of1Cy5\nrkkSAgkNfwBcc8c12FfaTzgr6Vc0HU41p2I00lV+DNl+B2I8oOv6RKVUNDAZyQ5ZDFyh63rdTmwv\nkArXr4ItdljtBJbD4ktg8QHgPwiLuEx+YqJjfhF6DL+iJl56+iUW9VtEpiMTZiPFiPoT8F7shE7b\nO2HfZWe7bTu+6Fpkck8yTkTRsTYj85fMh6kP3G43Y8ePZeW0laBB92+7c+2gaxtcOfVX1B9B3jQT\nJzFLrktSFxbuXRjWU9G+ZXuqb6yGpdB8fXMioyJ/cUTy/3Wcap0KTdd1W5ifD0L2e1zX9TRd16N1\nXb9c1/VaHGIWuMC+FK7xwpdGKAQfkuucgxgUVYgsthNG3jiy0a/vV5wauFwu1i5cy+jho4l1xoph\n8RqotxWuD1yMThnNTz/+xMq5K3kg7QFSFzWOzHlDcbIVJ/8bDYo+Q/owKW8SlTdXwgjIvia7yXVl\n/tvRmN60+sD0VBRXFNf4LM2Vhh6hwwB45oNnflE6H79C8N/jWzwDBhRBYjV8VYGhfEGweIqRltQ5\ntTMTx09skmb+isaBy+Xi9Zdex73Pje+wD98BH9XZ1RTvKeb1F17H5XL5V/UzPprRZO1sKLnSTClt\n7KyHXwIaq6Lor6g/GuJNawy43W4WvLsA3ocXH3qxBncjzRWoOeSw/UrK/CXiv8aosG2HP0fDbjus\njwAqkSyAbCQrpBRcPhejB45mzYI1v1q9/0VQSvl/Tjf8L5IrjxenesX8K/5/e/ceJ3dV33/89c5d\nAoQqEKAgl4pAKz8wASpVLoICaqHyE4GARdHWUmixUQvaqqit4g0iKrcqclFZC7bl0iKoiFoFRLKA\nCAn4g6TlGkQkJOS2O/P5/XHOJLOT2dmd2flmv5O8n4/HPJL5zvec+ezM2Z3PnO+5bJj9W2pqPVE3\nrrgRToHlb1u+3tiN+qRiysQRd2awEtpokorPTIbDfgN/uzWwNWnhq12ACTD41CDVx6pDvsWabQgd\nDa6Mje/Sxkg29DdmW2dDTVUeTU/UNtO3WbtQXJGLcFlxxnuZ7q7Z/0l4+/Fw016ksRSPAHfAhIkT\nmDhx4jhHZ5uy0QyurA1QvPqmq2EQPvCdD3D3m+/eZAYoFrW4l41s7dL9kZfuL2Dbc8g9Uce06Im6\n8QYu0AVsv8X2PP7C4+6p6FEbTU/Fn/0h3PAL0oJH3yRNQp0Ne79y7/ENzKzOcAlFbYDib4/7LcyB\nZ497dpMboLgpLe5VJhtiqnI7PVG1SyBOKnrTRtNTsXQH0hJZNb+GCd+dwE2/umm8QjIblQ09pa+s\nNtQ3Zltf0VOV2+mJ2mGLHdL9ApcLt+JsND0V/Iy058Nl6d8JN01gwZ0L2GGHHUYouL6+vr6uhdXN\nuspeX5ljK7ORBihefc3VXX2+sr7nW2yxBe//y/d37Ruz22P7+vr6uppQ1L9mI/VEHXXoUZx51pnc\n+vFb4dtw8ltPXm9Vz7K/p5tafc2UNqmQdIakRZJWSrpT0v4tC0wEpgArYca0GTz2wGMdb8hV1j+6\nZa+vzLF1StJiSdW6W0XSWd2qfzTdwst/t7yrAxTL/J5fd911Q5auH8saBRtjeyxaka9Zq5lQezy8\nBz/66Y+48KkLWXbCMpgDTx/79HqXAMv+nm5q9TVTyqRC0gnAecA5wKuB+4BbJG09bKEpsPmUzTnt\nlNN47MHHOuqhMGsigI+QllPbDtge+HK3Kh/NlD5FOafLFm1T/Jk3Zq3Gbhx84ME8vMfDXqNkI1DW\nMRVzgUtrK21KOg14C/BuoOmqVXffdDezZ8/ecBHapmR5RPymqMqPfsPRXPjohU0vgUx4ZALbbbNd\nUU9ttkENN3Zj11m7jjwzhI1/XNHGoHQ9FZImA7NJW0MBEKnv9wfAgS3KFR+cbao+JOlZSf2SPiip\nq3OUR1oga89X7tmyvFkvqv3N9holG5cy9lRsTRohsaTh+BJgjybnTwNYsGBB1wJYunQp/f39paur\n7PWVNba6tjGt1XnDuADoJy38/ifAZ0iXQT44zPkdtceLP3cxF33tIn78rz9mUINMikkccsAhnP65\n0/nIRz5Syte123V1u76yxjbG9tiJUbfJ8XrNqsuq8GTrx++5557Svqe9XF/X22NElOpGumZdBf64\n4fhngTuanH8S6fudb76NdDspt5lzSW1suFsFeOUw7fNdpEXgJw/zuNujb6O9nbSB/qa6Tfo2mltX\n2mMZeyqeJf1Rn9lwfCbwdJPzbwFOBhYDqwqNzHrVNNKi7bfk+18ALh+hzKPDHL+L1MO3C/DrJo+7\nPdpIGttj0dwmrZWutkeV8TqVpDuBn0fE+/J9kbYG+1JEfH5cg7NNmqSTgSuArSNi6TiHY2ZWKmXs\nqQA4H7hC0nzSN8O5wGakP+ZmG4Sk15DWab2NtNftn5Da5jecUJiZra+USUVEXJPXpPgk6bLHvcCR\nRU7rM2tiNXAiab2UqcAi0vop88YzKDOzsirl5Q8zMzPrPaVbp8LMzMx6U88nFW3vEZLKnNOwn0NV\n0oMN53xS0pOSVkj6vqRX1D12kKQbJD2Ry663J3Or8vnxqZIulPS8pMEc/3p1Sbq8Saw3DVPXi3lv\nigFJz0j6D0nrbYDSRmwj1tdmfMvr6ntB0u2SjuowtmclLZP0HUnbNv6M48Xt0e2xTO2xkaQPS7or\n/7xLOn1PWtT/ofyan99pfZJ2kPSN/JqukHSfpFmd1CdpgqR/kvRoPvf/SVpvze/h6uvy71bt53lS\n0lON9UmaJOmzkn6Z2+YTkq6UtH0n9TWJ85J8zpkt6ht7Gx7vdSnGOP/6BNIUqVOAPYFLSYsUbT1C\nuXOAXwLbANvm20vrHj871/OnwKuA64BHgCn58aNI4z3+jDT99ZiG+luWz+dcDDxGWhfhNmABaa5w\nY12XA//VEOuMhnMuJk0Xu5O0T8U9wHzgP/Pxl7QZ23U5lgfq6nsWWNGkvnbiOxs4I8f2C+CfSeMW\n9mrzdVsMHELaF+Z24L/Huy1uJO1xMfD3wL+UrD22U5/bY+u2dhPw58BewN6dvifD1L0/aSr2PcD5\nndQHbEUau/Q10srKOwNvAHbtsL5/AJ4h/Y68HPi/wAvA34ymPrr7u3VIbm+Pkf62DqkP2JI0rfNt\nwO7AAaQ2f9cw7bdlfQ1ljs3vy2PAmS3qG3MbHvdGPsZfkDuBC+ruC3gcOGuEcucA/XX338nQxY+C\nNNr/h7lRbQmsBI5vUle1SUN7Epjb0FjWls/3VwPvzQ3hFNJqoQF8oKGuy4F/b/Gz1Oo6tu7YHjmu\nN+Z/X9dmbGtyXAfX1Re5bGN9Y4nvAOC3wKltvm5N69pY2mOTx1u+Ll1sj42va1naYzv1uT2212a3\nbvc9GaaezYGHgMNIX5LO76Q+0oq1Px4h5nbquxH4asOx7wBXtVtfl3+3qs3qaxL/fqS/xTt2Wh/w\n+6QlGfYiJWxnNsTb1Tbcs5c/1OEeIXV2z91LjwB/RfoD+hHS9NUALiH9wt0EvA74+WjqlbQraRnn\n+rheaCi/H2nmzbeBl5CmKD6UH2u20cOhuatyoaSLJL207rHZua7653uI1IgOzj/Lc23GNmRvi1zf\n/5D+YK+trwvxnU6aKnx7m69bs7pG854XppvtUdI3Je2U6x3N69IqrrG8rlCO9jiq+roQ30bTHtuw\nFe2/J81cCNwYET+sP9hBfUcDd0u6Jr+H/ZL+Ygz13Q4cLmn3XH4f4LWkv+tj+v3qQhsZjdr783y+\n36r9NotRwFXA5yKi2TrtrerrqA33bFJB6z1CRtrW8U7ScstHAqfluiYAPyKtixGkVRcPBgaAOaOs\nl3xOjBDXTGBNRLwQEWvyh0/NVg3lvkvqyTgMOIvURXVTbiy151uTG3Pj880BfhoRD9adO5rYBpv8\nXEtI3fv19bUdn6RXSVpG6oo8gZQhP9RGbMP9rOO9lWc32+OuwE8kTWd0r0srY3ldoRztcbT1tR3f\nRtweR5Rfky/S/nvSWM+JwL7Ah5s83G59uwF/Ter1OILUNf8lSX/eYX2fAf4VWChpDelS1xcj4tsd\n1ldvrG2k5S6Ykqbm+K+OiOV1z9lOfR/K53+lxc/Q1TZcynUqihYR9cuR/kppUNHFpEZ8S915z0ta\nSfqQnVI7LumDpGtUe5DeyPMkTY6If6t/HklvBD5Guta2ObBS0qeAX+XHdyZ1R70r8jbvwFRJl5Ou\nI25D+gZxF6nL6gZJ95Ou2R1K6masPddMUgOslZtM6jY7sS6kfyclTwdL+gfSt9BHgd+RrrW18n/y\na3BQQ+wfJF0q+iKwI7CQ1I3cGN8ewKeA1+fYVpGu410l6eC65/mApLcCOwEvkn5p7x8htp7WpD3e\nReoZOp70epZGRFxTd/eB4dpjE7tQ1366oGl9HcS3ENgHuJ50rb2xPW7MLgL+kPTNvSOSdiT97r8h\nIga6ENME0hiCj+b790l6FSnZ/kYH9Z1A2vvkROBBUvJzgaQnI6KT+jYISZOAa0l//07vsI7ZwJmk\ncRIbTC/3VLS7R0grK/O/ryB92Ak4UNIlwHRSY66v90zSzpUfJb3pFeAaSW/K54jUdXQj6QP0o6QP\n74dIqzI+TfqDuHmTWA4gDQq6jJSxX5DPezlARCzKP3tthHGtruvryv00P/YYQ3eeq/VAfJXU/fch\nUk/Ma3OctfqGJJuSvkJa/GlpRDzVEO/JpMTiEuAfgR3ya7J7Q3x3kpKwc0mXmERKap4E3pfPmwB8\ngNQVdwZp4Fy1Lp6ngSmStmyIoZP3vNu61h4jrdb5MOk9rrWnTusdTfnhXldY1+06XKxN22N9Xbn9\nvIz0DbG+/XQUW4v62o4vIgYj4lFgC+Aa4D7WtcdOX7cytMeW8mv4ZuDQDt6TerNJX2L6lWbRDJB6\nh96XewZq36BHW99TpEHC9RaQ//51EN/ngM9ExLUR8UBEfIu0eF2tV2Usv19jbSNBE3UJxU7AEXW9\nFO3W9zrSe/NY3XuzM3C+pNreRt1vw50MxCjLjeYD4x4D/r7Net6b35D6gZpV0myHP2fd4Ju35/On\n1pWtAm8ljd7/fqwbvPMfpA+Z32tSvn6gZpWhAzWrwPtbxLpjrvdPG+qqAu8HvkL6xVxvoA2pZyGA\ny+qO1ZKAR+rqWztQs66+AJ6oK7dzfo5ngC3rjr8rn/vxuvqqpKRqUgwdCHQvqTfi6/n4APCrurqG\ne91KOTCui+1xc1IP1Rl17anZYLC3NynbzmCykV7XoGGgZhvt8dh8f9j22ElsI9XXbnyNbYiU0H69\nk9jK1h5bvCZfye1yt2Eeb6e9TSf1dtTf7gKuZN0smnbq+xYNAzVJScBPO4zvWeC9Dcc+DCxstz66\n+7vVdGAl6QvUf5CS25c2+XlGXR/ps6fxvXkc+DSwe1FteNwb+Bh/OY4nffDXpvBdT/pAfKrxBW4o\n93nSB+bOpJ6DX5H+gJ5LmnazIt9fRfqD9HPSjpT1U/gezG9GkEYTfxv4XX78ylwu8jnPkzPCuhgu\nIg2GqZIGOd2bzx8gje34I9Iv7OdI+0/sDBwO3E3K3CfX1XVJrucpUhfu/aQPuJn5Ni2ftyjH8lvS\ngKi9SVOgnsvxbpvPq00p/e+6+p4hdcnPJPV+1JKK+Q3x3ZPLnlnXsKv5Oa4h9fLck3/en+Rzj8vn\n/r8cx3vrYlv7ute9botI3dmzgZ9Rkil8Tdrjpfm13maEco3t8fukb3gvy4+f1eQ9q2+P00ld+Pvm\n1/rv8v2dRlO+4XU9itRVXGuPa+tqoz3W6rquVXvsILaW9XUQ3zeB9+Rz5pN+/weBwzqIrXTtcZi2\ndhHpcudBda9f2+/JCM9xG0Nnf4y6PtLAxtWkD/4/IF26WAac2GF9l5P+zr45t4ljSX/LPj2a+uju\n79ahpF7he0g93UPqIyUU15P+zu7d8P40a78t6xvmvVnE+lNKu9qGx72Rd+GX5HTStfmVpD8eX2WY\nOcV1ZfpIGdvK3ODuyOf/KWl66d6kjaN+S/rDOgjskcvuQko2osmtms85mDQ4aE1d+SrwT6xbGn0q\naYO0+vIV1vWUVEgfugvzL8Eq0rf9i2n4kMp1/aShrmquowKcUtegbgM+TsqwV5DGkJydzzsgn/eG\nujjq66vFdQrrkoqFpISpPr4q8NFc1/4M7QFqvFWAffK5B7EuoavmeN/c5Gf9MukbyDJSN+G2490O\nh2mPdwD7jaJMY3u8mrp5+fmcxvfsFXWPHdLwftduXx9N+YbX9fmG92ZtXaRk8uYm73ez9vjlJu/z\nkPbYQWwt6+sgvlV1r9szwPfICUUHsZWyPTZpa83aSdvvyQjP8UPqkop26yMlAL/M5z4AvLvJOaOq\nj5QUnE/6W/Ii6QP/E+Re05Hqo7u/W7W1fhrbb+33a+cmz1W7f3C79Q3zejzK+klFV9vwuDfygn95\nGruWppBmdTwOLCf90T+ElEhUgFlN6pmf37RaV9638v1bWTdi/1bgCaDSpPzr83OuzOW+z7rEotaI\nGn+hdyWNO7g5l3uO/ME7ws/cslz+xbqtSblTGZpUHNKkIV8OPFp3vxb7epdq8vGP5f//cb7/WdKI\n/Ga36XVlt8rvx7dISd0ATf6o+Oabb775Vr5bLw/U7MSFpA+540m9EdeSpqA1XZJUabnVXUjJQG1Q\n5SGkD7ojI+KKSCP3v0GaUrieiLgtP8cgaZW4w0iJxrAiYlFEzIuIo0gzR6aQBjC2NMpyzZaz3SP/\nu3ik5+hAbUDQQET8cJjbi7WTI+L5iLgyIk4mdQn+kvRNwMzMSm6TSSryYkLvIg2guT1/AJ9Pun50\nUMO5P8tTSR8irT2wmnUjkjcjJRn1MySCuimnuY6X53XU15BmgfwtaQCOSN1NzWJ8SZ6bXG8RqUuq\naZkOyu0g6di6sluSBqPeExHPDPccnYq0Xf2PgL+StN68Z6Ut7mv/r1+kiIhYQRpnMezPbmZm5bEp\nrVOxNylBeLhuIRxIycA9pA/7N0vai3SN+yekHo3dgFtj3bSe5aQu+lskXU0aRPN3TZ5vLumb/8/y\n+ReTPuT/l3VTPhu9ErhV0jWkgaCDpLXqt80xDaedcg8DX1Pa6GoJaaDatqRLDvVaLszSpjNIgz7v\nl/RVUu/FTNK0299n3TzqByX9iHTJ6TnSeIzjgC91MRYzMyvIppRUbE76sJ1FusZf782kD7BP1B1b\nRRqEeBkwR5IiIkg9AA+SLovMy/e/Q/q2X99bcT1p3MFbSJdGKqTLJodHxLK686Lu/4+RBukdDrwj\nx7uQ1LtyXYufrZ1yvyb1mnyBlIwsIq1T/4OG84L1NR6LFuetPR4RCyTtR9rj4p2kNQaeISVzn6wr\ndwFwDGlPh6mkUdD/kGM1M7OSqw0Y3OhIqgJvjYgb8v3dSR+0B0fEz9qo5xTSjJLNIqIi6TPAmyJi\nn7pzrga2iog3t6jnMtKI/sM6+4nGTtIi4P6IGHZ7XDMzs04VOqZCo9iLvkmZKZI+JWmxpFWSHpX0\nrlE+33RJ+0jaNx/aLd/fKSJ+Tfo2f5WkYyXtIukASR/KK2Ei6SRJb5e0p6RdJR1PWijk2xFRyXVe\nkuv9rKQ9JJ1O6qI/vy6OD0l6Q65jT0kfIPUglHZZWDMzs7Eq+vLHdNIiOpeR9p0YjWtJS4ueSlqz\nf3tGn/zsR1qHodb9fl4+fiXwbtJAzY+QutN/nzQv907SQEpIlw3OJi0xLVL3+5dIa9sDEBGLJb2F\ndOnjTNL01Pc0XD6YTpppsiNpaudC4OSI+M4ofw4zM7Oes8EufzRejhjmnKNIvQm7RUTLPQesfXm9\n9/sj4s/GOxYzM9v4lG1K6dGkJXPPlvS4pIckfV7StJEK2sgiYjcnFGZmVpSyzf7YjbRmxCrSJl1b\nk6ZivpQ09dHMzMxKqmxJxQTSdM+TautCSHo/cK2k0yNidWMBSS8jLZW9mJSMmDWaRpoCfEtE/Hac\nYzEz22iVLal4irS9dv3+8QtIgyZ3JA3cbHQkaZ8Is5GcTBqzY2ZmBShbUvEz4DhJm+UlmmHd3u6P\nD1NmMcA3v/lN9tprr64EMXfuXObNm1e6uspeX1ljW7BgAe94xztUTeEEAAAY0ElEQVSgmL1NzMws\nKzSpkDSdtIFVbcnn3STtAzwXEY9JOhfYISJqS0RfTZryebmkj5Omln4OuKzZpY9sFcBee+3FrFmz\nuhL3jBkzSllX2esrc2yZL4+ZmRWo6Nkf+5GWYq5tH34e0M+65bC3I+1ECUDerfKNpL0yfkFaLOp6\n4H0Fx2lmZmZjVGhPRUT8mBaJS0Sc2uTYw6RxEmZmZtZDyrZOhZmZmfUoJxVNzJkzp5R1lb2+Msdm\nZmbF6/ldSiXNAubPnz+/24P6bCPR39/P7NmzAWZHRP94x2NmtrFyT4WZmZl1hZMKMzMz64pCkwpJ\nB0m6QdITkqqSjmmj7GslDUhyd7WZmVkPKLqnYjpwL3A6aZ2KUZE0A7gS+EFBcZmZmVmXFZpURMTN\nEfGxiLiedatqjsYlpP087iwmMiur1ctXc+vnbxnvMMzMrAOlG1Mh6VRgV9atummbkC8e+SnedNbR\nPLf4ufEOxczM2lSqpELS7sCngZMjojre8diG98LvnmeAAZb9Ztl4h2JmZm0qzS6lkiaQLnmcExG1\nLc5Hfclk7ty5zJgxY8ixOXPmeAGlHlMZHARg9bLO9v7q6+ujr69vyLGlS5eOOS4zMxtZaZIKYAvS\nBmT7SrowH5sASNIa4IiI+NFwhefNm+fFrzYClUoFgDUrBjoq3yyRrFv8yszMClSmpOIF4FUNx84A\nXg+8DVi8oQOyDa+ak4rBVWvGORIzM2tXoUmFpOnAK1h3GWM3SfsAz0XEY5LOBXaIiHdGWi/8wYby\nzwCrImJBkXFaeVSqaShNpz0VZmY2foruqdgPuI20RkUA5+XjVwLvBrYDdio4BushtZ6KgVVOKszM\nek2hSUVE/JgWM0wi4tQRyn8CTy3dpFRzT8Xg6tXjHImZmbWrVFNKzSqVNPtjzYseU2Fm1mucVFip\nVKPWU+HLH2ZmvcZJhZVKpZrHVDipMDPrOU4qrFTWjakYHOdIzMysXaXa+lzSsZK+J+kZSUsl3S7p\niCJjtHJZe/ljjZMKM7NeU7atzw8Gvge8CZhFmo56Y17bwjYB1ciLX/nyh5lZzyl6SunNwM2Q1toe\nxflzGw79o6Q/A44G7ut+hFY2tcWvBryipplZzyn1mIqciGwBeB/sTUSl1lMx4MsfZma9ptRJBfD3\npEso14x3ILZh1AZqVpxUmJn1nDJtKDaEpJOAjwLHRMSz4x2PbRjVSENvnFSYmfWeUiYVkk4E/gU4\nLiJuG02ZuXPnMmPGjCHHmm2DbeVWJV3+6DSp6Ovro6+vb8ixpUuXjjkuMzMbWemSCklzgK8BJ+SB\nnqMyb948Zs2aVVxgtkFUck9Fp2MqmiWS/f39zJ49e8yxmZlZa6XZ+jyffxJwBXAm8AtJM3O5lRHx\nQpGxWjnUVtT0OhVmZr2n6IGa+wH3APNZt/V5P+t2Hm3c+vwvgYnAhcCTdbcvFhynlUSQB2oOOqkw\nM+s1pdr6PCJeX2Q8Vn6VqCUVlXGOxMzM2lX2KaW2iVk7+8M9FWZmPcdJhZVKtXb5o+KeCjOzXuOk\nwkqlllRUnVSYmfUcJxVWKrUxFV6m28ys9zipsFJZ21NRdU+FmVmvKTSpkHSQpBskPSGpKumYUZQ5\nVNJ8SaskPSzpnUXGaOWydvaHL3+YmfWconsqpgP3AqeT1qloSdIuwH8CtwL7ABcAX5P0xuJCtDLx\nmAozs95V9DoVNwM3w9ptzEfy18CjEXFWvv+QpNcBc4HvFxOllUk1556VvFupmZn1jrKNqXgN8IOG\nY7cAB45DLDYOKmunlHqgpplZrylbUrEdsKTh2BJgS0lTxyEe28Cq4YGaZma9qmxJhW3i1o2p8OUP\nM7NeU7atz58GZjYcmwm8EBGrWxWcO3cuM2bMGHKs2TbYVm61MRW1Hot29fX10dfXN+TY0qVLxxyX\nmZmNrGxJxR3AmxqOHZGPtzRv3jxmzZpVSFC24awdU9Hh5Y9miWR/fz+zZ88ec2xmZtZa0etUTJe0\nj6R986Hd8v2d8uPnSrqyrsgl+ZzPStpD0unAccD5RcZp5bFu8Stf/jAz6zVFj6nYD7gHmE9ap+I8\noB/4RH58O2Cn2skRsRh4C/AG0voWc4H3RETjjBDbSI21p8LMzMZP0etU/JgWiUtEnNrk2E8A91Vv\notb2VHQ4psLMzMaPZ39YqVTGOFDTzMzGj5MKK5VaT0UlfPnDzKzXOKmwUvFATTOz3uWkwkpl3ZiK\nEfefMzOzknFSYaVS8eUPM7OeVXhSIekMSYskrZR0p6T9Rzj/ZEn3SnpR0pOSLpP00qLjtHKoePaH\nmVnPKnrxqxNIa1OcA7wauA+4RdLWw5z/WuBK4KvAH5IWvjoA+Jci47TyWDdQ00mFmVmvKbqnYi5w\naURcFRELgdOAFcC7hzn/NcCiiLgwIv4nIm4HLiUlFrYJqCUVgZMKM7NeU1hSIWkyaRGrW2vHIiKA\nHwAHDlPsDmAnSW/KdcwE3g78V1FxWrlU3FNhZtaziuyp2BqYCCxpOL6EtDz3enLPxDuAf5W0BngK\n+B3wNwXGaSXi2R9mZr2rVLuUSvpD4ALg48D3gO2BL5AugfxFq7Le+nzjsLangs5mf3jrczOz8aMo\n6BthvvyxAnhbRNxQd/wKYEZEHNukzFXAtIg4vu7Ya4H/BraPiMZeDyTNAubPnz/fW59vBKZoCgMM\ncOjE2dw2eHdX6qzb+nx2RPR3pVIzM1tPYZc/ImKAtDvp4bVjkpTv3z5Msc2AwYZjVdIOpyogTCuZ\nWg+FL3+YmfWeomd/nA/8paRTJO0JXEJKHK4AkHSupCvrzr8ReJuk0yTtmnspLgB+HhFPFxyrlcDa\nMRWe/WFm1nOK3vr8mrwmxSeBmcC9wJER8Zt8ynbATnXnXylpc+AM0liK50mzRz5UZJxWDgOrBtb+\n37M/zMx6T+EDNSPiIuCiYR47tcmxC4ELi47Lymf18tVr/++eCjOz3uO9P6w0Vj2/au3/K04qzMx6\njpMKK43VK+p7KjxQ08ys1zipsNIYeDGNqZjMZG8oZmbWg5xUWGmsWZl6KiYzyWMqzMx6UBm3Pp8i\n6VOSFktaJelRSe8qOk4bf2tW1HoqJvnyh5lZDyp09kfd1ufvBe4i7Vp6i6RXRsSzwxS7FtgGOBV4\nhLRUt3tUNgGDq9YAMIlJHqhpZtaDip5SunbrcwBJpwFvIW19/rnGkyUdBRwE7BYRz+fD/1twjFYS\ntSmlk51UmJn1pLJtfX40cDdwtqTHJT0k6fOSphUVp5XHwNqeiokeU2Fm1oOK7KlotfX5HsOU2Y3U\nU7EKeGuu42LgpcB7ignTymJgVdr2ZYoHapqZ9aRSbX1O6jmpAidFxHIASe8HrpV0ekSsblnaelpt\nTMVkJrGKgRHONjOzsikyqXgWqJD2/Kg3Exhuc7CngCdqCUW2gLRD6Y6kgZtNzZ07lxkzZgw5NmfO\nHObMmdNm2DZeBlevm/2xgs7yx76+Pvr6+oYcW7p06ZhjMzOzkRWWVETEgKTa1uc3wJCtz780TLGf\nAcdJ2iwiVuRje5B6Lx5v9Xzz5s1j1qxZXYndxseaFevGVHQ6ULNZItnf38/s2bPHHJ+ZmbVWtq3P\nrwZ+C1wuaS9JB5NmiVzmSx8bv1pPxSR5oKaZWS8q29bnL0p6I/Bl4BekBONfgY8WGaeVw+CaNFDT\nK2qamfWmMm59/jBwZNFxWfkMrkk9FVM0iYr3/jAz6zleqdJKo9ZTMUnuqTAz60VOKqw0BgdqSYXH\nVJiZ9SInFVYag6vz7A95mW4zs17kpMJKozJQAWDyBCcVZma9yEmFlUbt8sfkCR5TYWbWiwpPKiSd\nIWmRpJWS7pS0/yjLvVbSgKT+omO0cqgM5qRi4mQnFWZmPajQpELSCcB5wDnAq4H7gFvy2hWtys0A\nriTtaGqbiLWXPyZOpkJlnKMxM7N2Fd1TMRe4NCKuioiFwGnACuDdI5S7BPgWcGfB8VmJ1HoqJk1M\nlz8qg04szMx6SWFJhaTJwGzg1tqxiAhS78OBLcqdCuwKfKKo2KycKgN5Q7GJkwEYzFuhm5lZbyiy\np2JrYCKwpOH4EtLy3OuRtDvwaeDkCC+puKmpVFLPxKTJKalYvdzbvZiZ9ZLCl+keLUkTSJc8zomI\n2hbnGm15b33e+2qXO6ZMngLAmuVr2q7DW5+bmY2fIpOKZ4EKaSOxejOBp5ucvwWwH7CvpAvzsQmk\nHdPXAEdExI+GezJvfd77aj0VU6ZOBWD1ivZ7Krz1uZnZ+Cns8kdEDADzgcNrxyQp37+9SZEXgFcB\n+wL75NslwML8/58XFauVQ62nYvKU1FMx8OLAeIZjZmZtKvryx/nAFZLmA3eRZoNsBlwBIOlcYIeI\neGcexPlgfWFJzwCrImJBwXFaCVSrQ5OKNSs9psLMrJcUmlRExDV5TYpPki573AscGRG/yadsB+xU\nZAzWO2pTSqdMTUnF6mVOKszMeknhAzUj4iLgomEeO3WEsp/AU0s3GZVKhQlMYGKe/bFmZfsDNc3M\nbPx47w8rjUq1ykQmMnHyRAAGV3lMhZlZL3FSYaVRreaeikmpA21glXsqzMx6iZMKK41aUjFpci2p\n8IqaZma9xEmFlUa1UmUiE+ouf7inwsyslzipsNKorO2pyAM1VzipMDPrJYUnFZLOkLRI0kpJd0ra\nv8W5x0r6nqRnJC2VdLukI4qO0cqhGhUmMoFJU/OGYqs9UNPMrJcUmlRIOgE4DzgHeDVwH3BLXrui\nmYOB7wFvAmYBtwE3StqnyDitHCrVauqpmJLGVDipMDPrLUX3VMwFLo2IqyJiIXAasAJ4d7OTI2Ju\nRHwhIuZHxCMR8Y/Ar4GjC47TSqBaTWMqJk3JPRVrPFDTzKyXFJZUSJoMzAZurR3LS3H/ADhwlHWI\ntNHYc0XEaOVSjYaeijXuqTAz6yVF9lRsDUwEljQcX0Janns0/h6YDlzTxbispNYmFVPdU2Fm1osK\nX6a7U5JOAj4KHBMRz450/ty5c5kxY8aQY822wbbySrM/NKaBmn19ffT19Q05tnTp0q7EZ2ZmrRWZ\nVDwLVEgbidWbCTzdqqCkE4F/AY6LiNtG82Tz5s1j1qxZncRpJVGJtEz3lM3ShmKDA+0nFc0Syf7+\nfmbPnt2VGM3MbHiFXf6IiAFgPnB47VgeI3E4cPtw5STNAS4DToyIm4uKz8qnGlUmIiZNS0lFZaAy\nzhGZmVk7ir78cT5whaT5wF2k2SCbAVcASDoX2CEi3pnvn5QfOxP4haRaL8fKiHih4FhtnNXGVEye\nlgdqDnhMhZlZLyk0qYiIa/KaFJ8kXfa4FzgyIn6TT9kO2KmuyF+SBndemG81VzLMNFTbeKxLKnJP\nxaCTCjOzXlL4QM2IuAi4aJjHTm24//qi47Hyqqy9/JEGavryh5lZb/HeH1YaVdJAzambTwOg0sFA\nTTMzGz9OKqw00uUPMWWz3FPhyx9mZj3FSYWVRiWPqZjykqnpfsWXP8zMeomTCiuNKlUmaAKTp9d6\nKpxUmJn1klJtfZ7PP1TSfEmrJD0s6Z1Fx2jlUCVd/pi6mXsqzMx6Uam2Ppe0C/CfpE3I9gEuAL4m\n6Y1FxmnlkGZ/TGDK5rXFrzymwsysl5Rq63Pgr4FHI+KsiHgoIi4EvpPrsY1clWACE3jJVi8B0l4g\nZmbWO8q29flr8uP1bmlxvm1EqlFloiYwOa9TUfXlDzOznlK2rc+3G+b8LSVN7W54VjZpTEVqkhOY\n4DEVZmY9prRbn7fr0P0PYpImjncYNgbLYgUH/t6eXLPwG0zWRC59/GqumHTtqMtvN2UrPt7/Kc57\nzT/z6+VPrT0+GE5OzMw2hLJtff70MOe/EBGrWz3Z9G1XMGXK0GO77QZ/8AejDdfK4DWveYBtnz6F\nsz8KTzwxAKwaddnNN1/G/d86hee2gS1mrDu+Zg0sG67FmZlZ1xSWVETEQN6d9HDgBhiy9fmXhil2\nB/CmhmNH5OMtve8rn2S3P9ql43itPJ4B/mgO/FGH5fc+eej9Rx9YzIeP+9hYwzIzsxGUautz4BLg\nDEmfBb5OSkCOA9480hMdsetbmLXnrK7/ANb7+lf082GcVJiZFa1UW59HxGJJbwHmAWcCjwPviYjG\nGSFmZmZWMqXa+jwf+wlpKqqZmZn1EO/9YWZmZl3hpMLMzMy6wkmFmZmZdYWTCjMzM+sKJxVN9PX1\nlbKustdX5tjMzKx4RW4o9nuSviVpqaTfSfqapOktzp8k6bOSfilpuaQnJF0pafuiYhzOpvRBuyn9\nrGZmVqwieyquBvYiLWD1FuBg4NIW528G7At8Ang1cCywB3B9gTGamZlZlxSyToWkPYEjgdkRcU8+\n9rfAf0n6YESstxNDRLyQy9TX8zfAzyXtGBGPFxGrmZmZdUdRPRUHAr+rJRTZD4AA/riNerbKZZ7v\nYmxmZmZWgKJW1NyOtC/UWhFRkfRcfmxEkqYCnwGujojlLU6dBrBgwYIOQ13f0qVL6e/vL11dZa+v\nrLHVtY1pY67MzMyGpYgY/clpA7CzW5wSpHEUbwNOiYi9GsovAT4WEa3GViBpEvDvwPbA61slFZJO\nAr41up/ANnEnR8TV4x2EmdnGqt2eii8Al49wzqPA08C29QclTQRemh8bVk4oriVtNHbYCL0UALcA\nJwOLgVUjnGubpmnALqS2YmZmBWmrp2LUlaaBmg8A+9UN1DwCuAnYsdlAzXxOLaHYjdRD8VzXgzMz\nM7NCFJJUAEi6idRb8dfAFODrwF0R8ed15ywEzo6I63NC8W+kaaV/ytAxGc9FxEAhgZqZmVlXFLn1\n+UnAV0izPqrAd4D3NZyzOzAj///3SckEwL35X5HGabwe+EmBsZqZmdkYFdZTYWZmZpsW7/1hZmZm\nXeGkwszMzLqi55MKSWdIWiRppaQ7Je0/ijLnSKo23B5sOOeTkp6UtELS9yW9ou6xgyTdkDc9q0o6\npslzDFs+Pz5V0oWSnpc0mONfry5JlzeJ9aZh6npRUkXSgKRnJP2HpFeOIbYR62szvuV19b0g6XZJ\nR3UY27OSlkn6jqQh05fNzGx89HRSIekE4DzgHNImZPcBt0jaehTFfwXMJK3wuR3wurp6zwb+Bngv\ncADwYq53Sj5lOmkw6emkgaSNcY1UHuCLpI3WPkWaGbOYNDC1me82xDqn4fFaXfeTXotfAY8Bk4Hv\nSXpJh7GNWF+b8f0TcCbwS+Ah4IfA9ZL26iC2t5E2qduBNGvIzMzGW0T07A24E7ig7r6Ax4GzRih3\nDtDf4vEngbl197cEVgLHNzm3ChzTTvl8fzVwbN05e5ASlA801HU58O8tYh2urirwxvzv67oQ23D1\njSW+A4DfAqd2IbYDxrs9+uabb75t6ree7amQNBmYDdxaOxYRQZrCeuAoqtg9X754RNI3Je2U692V\n9G27vt4XgJ+Ppt5Rlt+PNJ23/pyH8n/3bFLtoZKWSFoo6SJJL617bPYwdf0v6Zt8AM91Ibb16utC\nfKeTtry/vQuxjeY9NzOzAvVsUgFsDUwEljQcX8LIm5bdCbyLtNX6acCuwE8kTc9lo8N6GWX5mcCa\n/KHZaKuG+98FTgEOA84CDgFuklS7VLLdMHUtIV2G+GlEPFh3bqexNauv7fgkvUrSMuDlwAmkXoeH\nuhDbqDaqMzOz4hS5+FVpRUT9HhC/knQX8D/A8cDC8YmquYi4pu7uA5LuBx4BDgVua1F0F9JKpgd1\nKZSm9XUQ30JgH+B64AXgKkkHdylGMzMbR73cU/EsUCF9e603kxE2LWsUEUuBh4FX5LIaQ72jKf80\nMEXSlk3KPz9CrItIP3ttVsR6dUn6CvAy4IsR8dRYY2tRX9vxRcRgRDwKbAFcQxpc+75OY2tyjpmZ\njZOeTSoi7QUyHzi8dix3uR8O3N5OXZI2J30IPpk/FJ9uqHdL4I9HU+8oy88HBhvO2SP/t2VPiaQd\nSR/wtQ/3IXXlBOBtpPf2u2ONrVV9ncRX97O+HLgj1zt1jK9brS4zMxtP4z1SdCw30uWKFaRr+nsC\nl5JmE2wzQrnPkwYd7gz8CfB90nX5l+XHz8r1HA3sDVwH/BqYkh+fTurC35c08+Dv8v2dRlM+n3MR\nsAg4CjiRNEU16uvKz/M50gfrzqQP07uBBcDkJnVdR7qkcD9p3MjMfJtWd247sbWsr4P4vgm8J58z\nHziXlCQc1kFsh5IGgf4M+O/xbou++eabb75FbycVEQFpBsFi0tTDO0jbrY9Upo809XQlaebA1cCu\nDed8nDTFcQVwC/CKuscOyclEpeH29dGUz49PBb5MutwR+TakLmAacDPpG/wq4FHgYhqSprq6Ypi6\nThntz9ZOfR3Et6rudXsG+F4toeggtmeBZcC1wLbj3Q59880333wLbyhmZmZm3dGzYyrMzMysXJxU\nmJmZWVc4qTAzM7OucFJhZmZmXeGkwszMzLrCSYWZmZl1hZMKMzMz6wonFWZmZtYVTirMzMysK5xU\nmJmZWVc4qTAzM7Ou+P/H3/OqsRdkvgAAAABJRU5ErkJggg==\n",
      "text/plain": [
       "<matplotlib.figure.Figure at 0x109714f60>"
      ]
     },
     "metadata": {},
     "output_type": "display_data"
    }
   ],
   "source": [
    "fig = plt.figure()\n",
    "\n",
    "ax = fig.add_subplot(231)\n",
    "plt.plot(t, x, '-og')\n",
    "plt.plot(ipl_t, x_i, 'r')\n",
    "plt.xlim([0.0, max(t)])\n",
    "plt.title('Splined x(t)')\n",
    "\n",
    "ax = fig.add_subplot(232)\n",
    "plt.plot(t, y, '-og')\n",
    "plt.plot(ipl_t, y_i, 'r')\n",
    "plt.xlim([0.0, max(t)])\n",
    "plt.title('Splined y(t)')\n",
    "\n",
    "ax = fig.add_subplot(233)\n",
    "plt.plot(x, y, '-og')\n",
    "plt.plot(x_i, y_i, 'r')\n",
    "plt.xlim([min(x) - 0.3, max(x) + 0.3])\n",
    "plt.ylim([min(y) - 0.3, max(y) + 0.3])\n",
    "plt.title('Splined f(x(t), y(t))')\n",
    "\n",
    "ax = fig.add_subplot(234)\n",
    "for i in range(7):\n",
    "    vec = np.zeros(11)\n",
    "    vec[i] = 1.0\n",
    "    x_list = list(x_tup)\n",
    "    x_list[1] = vec.tolist()\n",
    "    x_i = si.splev(ipl_t, x_list)\n",
    "    plt.plot(ipl_t, x_i)\n",
    "plt.xlim([0.0, max(t)])\n",
    "plt.title('Basis splines')\n",
    "plt.show()"
   ]
  },
  {
   "cell_type": "markdown",
   "metadata": {},
   "source": [
    "## smooth splining"
   ]
  },
  {
   "cell_type": "code",
<<<<<<< HEAD
   "execution_count": 73,
=======
   "execution_count": 52,
>>>>>>> c25524c5840e1a7260ff406a16d78e53566ce623
   "metadata": {
    "collapsed": false
   },
   "outputs": [
    {
     "data": {
      "image/png": "iVBORw0KGgoAAAANSUhEUgAAAgwAAAFkCAYAAABMyWOlAAAABHNCSVQICAgIfAhkiAAAAAlwSFlz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\nGDAQERGRKQYMREREZOr/A+6kuLrexlU3AAAAAElFTkSuQmCC\n",
      "text/plain": [
<<<<<<< HEAD
       "<matplotlib.figure.Figure at 0x112e6a4e0>"
=======
       "<matplotlib.figure.Figure at 0x108e64320>"
>>>>>>> c25524c5840e1a7260ff406a16d78e53566ce623
      ]
     },
     "metadata": {},
     "output_type": "display_data"
    }
   ],
   "source": [
    "s = UnivariateSpline(x, y, s=1)\n",
    "xs = x\n",
    "ys = s(xs)\n",
<<<<<<< HEAD
    "plt.plot(x, y, '.-')\n",
    "#sorted(zip(xs, ys))\n",
    "xs1 = [x[0] for x in sorted(zip(xs, ys))]\n",
    "ys1 = [x[1] for x in sorted(zip(xs, ys))]\n",
    "plt.plot(xs, ys)\n",
=======
    "xs1 = [x[0] for x in sorted(zip(xs, ys))]\n",
    "ys1 = [x[1] for x in sorted(zip(xs, ys))]\n",
    "\n",
    "plt.plot(x, y, '.')\n",
    "plt.plot(xs1, ys1)\n",
>>>>>>> c25524c5840e1a7260ff406a16d78e53566ce623
    "plt.show()"
   ]
  },
  {
   "cell_type": "code",
   "execution_count": null,
   "metadata": {
<<<<<<< HEAD
=======
    "collapsed": false
   },
   "outputs": [],
   "source": []
  },
  {
   "cell_type": "code",
   "execution_count": null,
   "metadata": {
>>>>>>> c25524c5840e1a7260ff406a16d78e53566ce623
    "collapsed": true
   },
   "outputs": [],
   "source": []
  }
 ],
 "metadata": {
  "anaconda-cloud": {},
  "kernelspec": {
   "display_name": "Python [conda root]",
   "language": "python",
   "name": "conda-root-py"
  },
  "language_info": {
   "codemirror_mode": {
    "name": "ipython",
    "version": 3
   },
   "file_extension": ".py",
   "mimetype": "text/x-python",
   "name": "python",
   "nbconvert_exporter": "python",
   "pygments_lexer": "ipython3",
   "version": "3.5.2"
  }
 },
 "nbformat": 4,
 "nbformat_minor": 1
}
