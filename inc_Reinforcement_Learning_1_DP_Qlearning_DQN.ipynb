{
 "cells": [
  {
   "cell_type": "code",
   "execution_count": 1,
   "metadata": {
    "collapsed": true
   },
   "outputs": [],
   "source": [
    "import numpy as np\n",
    "import pandas as pd\n",
    "import tempfile\n",
    "import pprint\n",
    "import json\n",
    "import sys\n",
    "import gym\n",
    "import pandas as pd\n",
    "from IPython.core.debugger import Tracer\n",
    "import scipy.stats\n",
    "\n",
    "import matplotlib.pyplot as plt\n",
    "import seaborn as sns\n",
    "%matplotlib inline\n",
    "\n",
    "from gym import wrappers\n",
    "from subprocess import check_output\n",
    "from IPython.display import HTML"
   ]
  },
  {
   "cell_type": "markdown",
   "metadata": {
    "collapsed": true
   },
   "source": [
    "# Dynamic Programming Methods\n"
   ]
  },
  {
   "cell_type": "code",
   "execution_count": 3,
   "metadata": {
    "collapsed": false
   },
   "outputs": [
    {
     "name": "stderr",
     "output_type": "stream",
     "text": [
      "INFO:gym.envs.registration:Making new env: FrozenLake-v0\n",
      "[2017-07-16 14:32:03,972] Making new env: FrozenLake-v0\n",
      "INFO:gym.wrappers.monitoring:Clearing 2 monitor files from previous run (because force=True was provided)\n",
      "[2017-07-16 14:32:04,000] Clearing 2 monitor files from previous run (because force=True was provided)\n"
     ]
    },
    {
     "data": {
      "text/plain": [
       "'/tmp/FrozenLake-v0'"
      ]
     },
     "execution_count": 3,
     "metadata": {},
     "output_type": "execute_result"
    }
   ],
   "source": [
    "mdir = tempfile.mkdtemp()\n",
    "env = gym.make('FrozenLake-v0')\n",
    "env = wrappers.Monitor(env, '/tmp/FrozenLake-v0',force=True) #force=True, replaces data in the folder\n",
    "env.directory"
   ]
  },
  {
   "cell_type": "markdown",
   "metadata": {},
   "source": [
    "The env variable contains the problem specification. In DP methods, we assume these are known"
   ]
  },
  {
   "cell_type": "code",
   "execution_count": 4,
   "metadata": {
    "collapsed": false
   },
   "outputs": [
    {
     "data": {
      "text/plain": [
       "[(0.3333333333333333, 0, 0.0, False),\n",
       " (0.3333333333333333, 0, 0.0, False),\n",
       " (0.3333333333333333, 4, 0.0, False)]"
      ]
     },
     "execution_count": 4,
     "metadata": {},
     "output_type": "execute_result"
    }
   ],
   "source": [
    "A = range(env.action_space.n)\n",
    "S = range(env.observation_space.n)\n",
    "P = env.env.env.P\n",
    "P[0][0]"
   ]
  },
  {
   "cell_type": "markdown",
   "metadata": {},
   "source": [
    "Value iteration takes advantage of the bellman optimality equations. If you are following the optimal policy, the Bellman equations hold. If not, you can use the discrepancy between the current state's value and the next state's value to update the current state's value. Value iteration is the simplest form of this. \n",
    "\n",
    "For k iterations: \n",
    "$$ V(s)_k = max_a \\sum_{s'} P(s',a,s)(R(s)+ \\gamma V(s')_{k-1}) $$\n",
    "\n",
    "Stop when \n",
    "$$ V(s)_k-V(s)_{k-1} < \\epsilon$$"
   ]
  },
  {
   "cell_type": "code",
   "execution_count": 5,
   "metadata": {
    "collapsed": false
   },
   "outputs": [],
   "source": [
    "def value_iteration(A,S,P,epsilon = 0.0001,gamma = 0.99):\n",
    "    '''Full Solves a MDP given the model of the environment\n",
    "    Args:\n",
    "        A: list action numbers\n",
    "        S: list of state numbers \n",
    "        P: dictionary for transitions. keys are integers for states. P[s][a]. Then there is a list of tuples. \n",
    "        The tuple is (prob, next state, r, terminal?)\n",
    "    \n",
    "    '''\n",
    "\n",
    "    # intialize value function\n",
    "    V = np.random.random(len(S))\n",
    "    \n",
    "    for k in range(10000):\n",
    "        V_prev = V.copy() \n",
    "        Q = np.zeros((len(A),len(S)),dtype=float)\n",
    "        \n",
    "        for s in S: # sample states in order \n",
    "            for a in A:\n",
    "                for prob, s_prime, reward, done in P[s][a]:\n",
    "                    Q[a,s]+= prob*(reward +gamma*V_prev[s_prime]* (not done))\n",
    "                    \n",
    "            V[s]=np.max(Q[:,s])\n",
    "        \n",
    "        if np.all(np.abs(V_prev - V) < epsilon): # check if any previous values haven't changed that much \n",
    "            break\n",
    "            \n",
    "    pi = np.argmax(Q,axis=0)\n",
    "    return(pi,V)"
   ]
  },
  {
   "cell_type": "markdown",
   "metadata": {},
   "source": [
    "So here, I'll actually run value iteration on the MDP and print out the learned policy and value function"
   ]
  },
  {
   "cell_type": "code",
   "execution_count": 6,
   "metadata": {
    "collapsed": false
   },
   "outputs": [
    {
     "name": "stdout",
     "output_type": "stream",
     "text": [
      "optimal policy\n",
      "[0 3 3 3 0 0 0 0 3 1 0 0 0 2 1 0]\n"
     ]
    },
    {
     "data": {
      "text/plain": [
       "<matplotlib.text.Text at 0x10eaa4210>"
      ]
     },
     "execution_count": 6,
     "metadata": {},
     "output_type": "execute_result"
    },
    {
     "data": {
      "image/png": "[encoded data removed]",
      "text/plain": [
       "<matplotlib.figure.Figure at 0x10ea3ead0>"
      ]
     },
     "metadata": {},
     "output_type": "display_data"
    }
   ],
   "source": [
    "pi,V = value_iteration(A,S,P)\n",
    "print('optimal policy')\n",
    "print(pi)\n",
    "sns.set_style('white')\n",
    "sns.set_context('notebook')\n",
    "plt.bar(np.arange(len(V)),V)\n",
    "sns.despine()\n",
    "plt.xlabel('State')\n",
    "plt.ylabel('V(s)')"
   ]
  },
  {
   "cell_type": "markdown",
   "metadata": {},
   "source": [
    "Here I use the policy to interact with the environment. Because the Monitor was set up, it'll save out a video in a json format. "
   ]
  },
  {
   "cell_type": "code",
   "execution_count": 7,
   "metadata": {
    "collapsed": false
   },
   "outputs": [],
   "source": [
    "#P[state]"
   ]
  },
  {
   "cell_type": "code",
   "execution_count": 8,
   "metadata": {
    "collapsed": false
   },
   "outputs": [
    {
     "name": "stderr",
     "output_type": "stream",
     "text": [
      "INFO:gym.monitoring.video_recorder:Starting new video recorder writing to /tmp/FrozenLake-v0/openaigym.video.0.13655.video000000.json\n",
      "[2017-07-16 14:32:06,374] Starting new video recorder writing to /tmp/FrozenLake-v0/openaigym.video.0.13655.video000000.json\n",
      "INFO:gym.monitoring.video_recorder:Starting new video recorder writing to /tmp/FrozenLake-v0/openaigym.video.0.13655.video000001.json\n",
      "[2017-07-16 14:32:06,379] Starting new video recorder writing to /tmp/FrozenLake-v0/openaigym.video.0.13655.video000001.json\n",
      "INFO:gym.monitoring.video_recorder:Starting new video recorder writing to /tmp/FrozenLake-v0/openaigym.video.0.13655.video000008.json\n",
      "[2017-07-16 14:32:06,387] Starting new video recorder writing to /tmp/FrozenLake-v0/openaigym.video.0.13655.video000008.json\n",
      "INFO:gym.monitoring.video_recorder:Starting new video recorder writing to /tmp/FrozenLake-v0/openaigym.video.0.13655.video000027.json\n",
      "[2017-07-16 14:32:06,408] Starting new video recorder writing to /tmp/FrozenLake-v0/openaigym.video.0.13655.video000027.json\n",
      "INFO:gym.monitoring.video_recorder:Starting new video recorder writing to /tmp/FrozenLake-v0/openaigym.video.0.13655.video000064.json\n",
      "[2017-07-16 14:32:06,434] Starting new video recorder writing to /tmp/FrozenLake-v0/openaigym.video.0.13655.video000064.json\n",
      "INFO:gym.monitoring.video_recorder:Starting new video recorder writing to /tmp/FrozenLake-v0/openaigym.video.0.13655.video000125.json\n",
      "[2017-07-16 14:32:06,476] Starting new video recorder writing to /tmp/FrozenLake-v0/openaigym.video.0.13655.video000125.json\n",
      "INFO:gym.monitoring.video_recorder:Starting new video recorder writing to /tmp/FrozenLake-v0/openaigym.video.0.13655.video000216.json\n",
      "[2017-07-16 14:32:06,536] Starting new video recorder writing to /tmp/FrozenLake-v0/openaigym.video.0.13655.video000216.json\n",
      "INFO:gym.monitoring.video_recorder:Starting new video recorder writing to /tmp/FrozenLake-v0/openaigym.video.0.13655.video000343.json\n",
      "[2017-07-16 14:32:06,622] Starting new video recorder writing to /tmp/FrozenLake-v0/openaigym.video.0.13655.video000343.json\n",
      "INFO:gym.monitoring.video_recorder:Starting new video recorder writing to /tmp/FrozenLake-v0/openaigym.video.0.13655.video000512.json\n",
      "[2017-07-16 14:32:06,736] Starting new video recorder writing to /tmp/FrozenLake-v0/openaigym.video.0.13655.video000512.json\n",
      "INFO:gym.monitoring.video_recorder:Starting new video recorder writing to /tmp/FrozenLake-v0/openaigym.video.0.13655.video000729.json\n",
      "[2017-07-16 14:32:06,875] Starting new video recorder writing to /tmp/FrozenLake-v0/openaigym.video.0.13655.video000729.json\n",
      "INFO:gym.monitoring.video_recorder:Starting new video recorder writing to /tmp/FrozenLake-v0/openaigym.video.0.13655.video001000.json\n",
      "[2017-07-16 14:32:07,070] Starting new video recorder writing to /tmp/FrozenLake-v0/openaigym.video.0.13655.video001000.json\n"
     ]
    }
   ],
   "source": [
    "for _ in range(2000):\n",
    "    state = env.reset()\n",
    "    while True:\n",
    "        #env.render()\n",
    "        state, reward, done, info = env.step(pi[state])\n",
    "        if done:\n",
    "            break"
   ]
  },
  {
   "cell_type": "code",
   "execution_count": 12,
   "metadata": {
    "collapsed": false
   },
   "outputs": [
    {
     "name": "stderr",
     "output_type": "stream",
     "text": [
      "INFO:gym.wrappers.monitoring:Finished writing results. You can upload them to the scoreboard via gym.upload('/tmp/FrozenLake-v0')\n",
      "[2017-07-16 14:32:10,011] Finished writing results. You can upload them to the scoreboard via gym.upload('/tmp/FrozenLake-v0')\n",
      "INFO:gym.scoreboard.api:[FrozenLake-v0] Uploading 2000 episodes of training data\n",
      "[2017-07-16 14:32:10,017] [FrozenLake-v0] Uploading 2000 episodes of training data\n",
      "INFO:gym.scoreboard.api:[FrozenLake-v0] Uploading videos of 11 training episodes (1529 bytes)\n",
      "[2017-07-16 14:32:12,915] [FrozenLake-v0] Uploading videos of 11 training episodes (1529 bytes)\n",
      "INFO:gym.scoreboard.api:[FrozenLake-v0] Creating evaluation object from /tmp/FrozenLake-v0/ with learning curve and training video\n",
      "[2017-07-16 14:32:13,110] [FrozenLake-v0] Creating evaluation object from /tmp/FrozenLake-v0/ with learning curve and training video\n",
      "INFO:gym.scoreboard.api:\n",
      "****************************************************\n",
      "You successfully uploaded your evaluation on FrozenLake-v0 to\n",
      "OpenAI Gym! You can find it at:\n",
      "\n",
      "    https://gym.openai.com/evaluations/eval_TPkm2eeR8C4RBfnSrrLg\n",
      "\n",
      "****************************************************\n",
      "[2017-07-16 14:32:13,427] \n",
      "****************************************************\n",
      "You successfully uploaded your evaluation on FrozenLake-v0 to\n",
      "OpenAI Gym! You can find it at:\n",
      "\n",
      "    https://gym.openai.com/evaluations/eval_TPkm2eeR8C4RBfnSrrLg\n",
      "\n",
      "****************************************************\n"
     ]
    }
   ],
   "source": [
    "env.close()\n",
    "gym.upload('/tmp/FrozenLake-v0/',api_key='sk_PP2R5NblSSaI9sECHDhu1g')"
   ]
  },
  {
   "cell_type": "markdown",
   "metadata": {
    "collapsed": true
   },
   "source": [
    "# Q learning"
   ]
  },
  {
   "cell_type": "markdown",
   "metadata": {},
   "source": [
    "Here we will interact with the environment in an online fasion. We will have to act to get a new observation. \n"
   ]
  },
  {
   "cell_type": "code",
   "execution_count": 223,
   "metadata": {
    "collapsed": false
   },
   "outputs": [],
   "source": [
    "def Q_learning(env,alpha=0.9,gamma=0.9):\n",
    "    '''This learning will learn a policy online.\n",
    "    \n",
    "    args:\n",
    "        env: an RL environment\n",
    "\n",
    "    '''\n",
    "\n",
    "    # set-up\n",
    "    A = range(env.action_space.n)\n",
    "    S = range(env.observation_space.n)\n",
    "    Q = np.random.random((len(S),len(A)))*2\n",
    "    \n",
    "    n_episodes = 10000\n",
    "    rewards = np.zeros(n_episodes)\n",
    "    \n",
    "    epsilons = np.array([])\n",
    "    for epi,episode in enumerate(range(n_episodes//2, -n_episodes//2, -1)):\n",
    "        s = env.reset()\n",
    "\n",
    "        \n",
    "        # interact with environment until episode ends\n",
    "        while True:\n",
    "            \n",
    "            # choose action in epislon greedy fashion w.r.t policy \n",
    "            epsilon = max(0, np.float(episode)/np.float(n_episodes*2.0))\n",
    "            epp = scipy.stats.binom.rvs(p=epsilon,n=1)\n",
    "            if epp==1:\n",
    "                a = np.random.randint(len(A))\n",
    "            else:\n",
    "                a = np.argmax(Q[s,:])\n",
    "            \n",
    "            # act in the environment\n",
    "            s_prime, reward, done, info = env.step(a)\n",
    "\n",
    "            # update\n",
    "            Q[s,a]+= alpha*(reward + gamma*np.max(Q[s_prime,:])*(not done)-Q[s,a])\n",
    "\n",
    "            # go to next state \n",
    "            s = s_prime \n",
    "            \n",
    "            if done:\n",
    "                break\n",
    "        rewards[epi]=reward\n",
    "        epsilons = np.append(epsilons,epsilon)\n",
    "    \n",
    "    return(Q,rewards,epsilons)\n",
    "    \n",
    "    "
   ]
  },
  {
   "cell_type": "code",
   "execution_count": 224,
   "metadata": {
    "collapsed": false
   },
   "outputs": [],
   "source": [
    "# for ep in range(n_episodes):\n",
    "#     print(max(0, np.float(1)/(ep+1)))"
   ]
  },
  {
   "cell_type": "code",
   "execution_count": 225,
   "metadata": {
    "collapsed": false
   },
   "outputs": [],
   "source": [
    "#ep"
   ]
  },
  {
   "cell_type": "code",
   "execution_count": 226,
   "metadata": {
    "collapsed": false
   },
   "outputs": [],
   "source": [
    "# ep=100\n",
    "# max(0, np.float(ep)/np.float(n_episodes)*2)\n"
   ]
  },
  {
   "cell_type": "code",
   "execution_count": 227,
   "metadata": {
    "collapsed": false
   },
   "outputs": [],
   "source": [
    "# episilon = 0.05\n",
    "# ep = scipy.stats.binom.rvs(p=episilon,n=1)\n",
    "# a = np.random.randint(len(A))\n",
    "# a"
   ]
  },
  {
   "cell_type": "code",
   "execution_count": 228,
   "metadata": {
    "collapsed": false
   },
   "outputs": [
    {
     "name": "stderr",
     "output_type": "stream",
     "text": [
      "INFO:gym.envs.registration:Making new env: FrozenLake-v0\n",
      "[2017-07-16 16:40:09,003] Making new env: FrozenLake-v0\n",
      "INFO:gym.wrappers.monitoring:Finished writing results. You can upload them to the scoreboard via gym.upload('/tmp/FrozenLake-v0-Q-learning')\n",
      "[2017-07-16 16:40:09,076] Finished writing results. You can upload them to the scoreboard via gym.upload('/tmp/FrozenLake-v0-Q-learning')\n",
      "INFO:gym.wrappers.monitoring:Clearing 40 monitor files from previous run (because force=True was provided)\n",
      "[2017-07-16 16:40:09,077] Clearing 40 monitor files from previous run (because force=True was provided)\n"
     ]
    },
    {
     "data": {
      "text/plain": [
       "'/tmp/FrozenLake-v0-Q-learning'"
      ]
     },
     "execution_count": 228,
     "metadata": {},
     "output_type": "execute_result"
    }
   ],
   "source": [
    "mdir = tempfile.mkdtemp()\n",
    "env = gym.make('FrozenLake-v0')\n",
    "env = wrappers.Monitor(env, '/tmp/FrozenLake-v0-Q-learning',force=True) #force=True, replaces data in the folder\n",
    "env.directory"
   ]
  },
  {
   "cell_type": "code",
   "execution_count": 229,
   "metadata": {
    "collapsed": false
   },
   "outputs": [
    {
     "name": "stderr",
     "output_type": "stream",
     "text": [
      "INFO:gym.monitoring.video_recorder:Starting new video recorder writing to /tmp/FrozenLake-v0-Q-learning/openaigym.video.22.13975.video000000.json\n",
      "[2017-07-16 16:40:09,547] Starting new video recorder writing to /tmp/FrozenLake-v0-Q-learning/openaigym.video.22.13975.video000000.json\n",
      "INFO:gym.monitoring.video_recorder:Starting new video recorder writing to /tmp/FrozenLake-v0-Q-learning/openaigym.video.22.13975.video000001.json\n",
      "[2017-07-16 16:40:09,550] Starting new video recorder writing to /tmp/FrozenLake-v0-Q-learning/openaigym.video.22.13975.video000001.json\n",
      "INFO:gym.monitoring.video_recorder:Starting new video recorder writing to /tmp/FrozenLake-v0-Q-learning/openaigym.video.22.13975.video000008.json\n",
      "[2017-07-16 16:40:09,557] Starting new video recorder writing to /tmp/FrozenLake-v0-Q-learning/openaigym.video.22.13975.video000008.json\n",
      "INFO:gym.monitoring.video_recorder:Starting new video recorder writing to /tmp/FrozenLake-v0-Q-learning/openaigym.video.22.13975.video000027.json\n",
      "[2017-07-16 16:40:09,576] Starting new video recorder writing to /tmp/FrozenLake-v0-Q-learning/openaigym.video.22.13975.video000027.json\n",
      "INFO:gym.monitoring.video_recorder:Starting new video recorder writing to /tmp/FrozenLake-v0-Q-learning/openaigym.video.22.13975.video000064.json\n",
      "[2017-07-16 16:40:09,609] Starting new video recorder writing to /tmp/FrozenLake-v0-Q-learning/openaigym.video.22.13975.video000064.json\n",
      "INFO:gym.monitoring.video_recorder:Starting new video recorder writing to /tmp/FrozenLake-v0-Q-learning/openaigym.video.22.13975.video000125.json\n",
      "[2017-07-16 16:40:09,661] Starting new video recorder writing to /tmp/FrozenLake-v0-Q-learning/openaigym.video.22.13975.video000125.json\n",
      "INFO:gym.monitoring.video_recorder:Starting new video recorder writing to /tmp/FrozenLake-v0-Q-learning/openaigym.video.22.13975.video000216.json\n",
      "[2017-07-16 16:40:09,730] Starting new video recorder writing to /tmp/FrozenLake-v0-Q-learning/openaigym.video.22.13975.video000216.json\n",
      "INFO:gym.monitoring.video_recorder:Starting new video recorder writing to /tmp/FrozenLake-v0-Q-learning/openaigym.video.22.13975.video000343.json\n",
      "[2017-07-16 16:40:09,853] Starting new video recorder writing to /tmp/FrozenLake-v0-Q-learning/openaigym.video.22.13975.video000343.json\n",
      "INFO:gym.monitoring.video_recorder:Starting new video recorder writing to /tmp/FrozenLake-v0-Q-learning/openaigym.video.22.13975.video000512.json\n",
      "[2017-07-16 16:40:09,999] Starting new video recorder writing to /tmp/FrozenLake-v0-Q-learning/openaigym.video.22.13975.video000512.json\n",
      "INFO:gym.monitoring.video_recorder:Starting new video recorder writing to /tmp/FrozenLake-v0-Q-learning/openaigym.video.22.13975.video000729.json\n",
      "[2017-07-16 16:40:10,181] Starting new video recorder writing to /tmp/FrozenLake-v0-Q-learning/openaigym.video.22.13975.video000729.json\n",
      "INFO:gym.monitoring.video_recorder:Starting new video recorder writing to /tmp/FrozenLake-v0-Q-learning/openaigym.video.22.13975.video001000.json\n",
      "[2017-07-16 16:40:10,423] Starting new video recorder writing to /tmp/FrozenLake-v0-Q-learning/openaigym.video.22.13975.video001000.json\n",
      "INFO:gym.monitoring.video_recorder:Starting new video recorder writing to /tmp/FrozenLake-v0-Q-learning/openaigym.video.22.13975.video002000.json\n",
      "[2017-07-16 16:40:11,336] Starting new video recorder writing to /tmp/FrozenLake-v0-Q-learning/openaigym.video.22.13975.video002000.json\n",
      "INFO:gym.monitoring.video_recorder:Starting new video recorder writing to /tmp/FrozenLake-v0-Q-learning/openaigym.video.22.13975.video003000.json\n",
      "[2017-07-16 16:40:12,388] Starting new video recorder writing to /tmp/FrozenLake-v0-Q-learning/openaigym.video.22.13975.video003000.json\n",
      "INFO:gym.monitoring.video_recorder:Starting new video recorder writing to /tmp/FrozenLake-v0-Q-learning/openaigym.video.22.13975.video004000.json\n",
      "[2017-07-16 16:40:13,637] Starting new video recorder writing to /tmp/FrozenLake-v0-Q-learning/openaigym.video.22.13975.video004000.json\n",
      "INFO:gym.monitoring.video_recorder:Starting new video recorder writing to /tmp/FrozenLake-v0-Q-learning/openaigym.video.22.13975.video005000.json\n",
      "[2017-07-16 16:40:15,309] Starting new video recorder writing to /tmp/FrozenLake-v0-Q-learning/openaigym.video.22.13975.video005000.json\n",
      "INFO:gym.monitoring.video_recorder:Starting new video recorder writing to /tmp/FrozenLake-v0-Q-learning/openaigym.video.22.13975.video006000.json\n",
      "[2017-07-16 16:40:17,530] Starting new video recorder writing to /tmp/FrozenLake-v0-Q-learning/openaigym.video.22.13975.video006000.json\n",
      "INFO:gym.monitoring.video_recorder:Starting new video recorder writing to /tmp/FrozenLake-v0-Q-learning/openaigym.video.22.13975.video007000.json\n",
      "[2017-07-16 16:40:19,466] Starting new video recorder writing to /tmp/FrozenLake-v0-Q-learning/openaigym.video.22.13975.video007000.json\n",
      "INFO:gym.monitoring.video_recorder:Starting new video recorder writing to /tmp/FrozenLake-v0-Q-learning/openaigym.video.22.13975.video008000.json\n",
      "[2017-07-16 16:40:21,440] Starting new video recorder writing to /tmp/FrozenLake-v0-Q-learning/openaigym.video.22.13975.video008000.json\n",
      "INFO:gym.monitoring.video_recorder:Starting new video recorder writing to /tmp/FrozenLake-v0-Q-learning/openaigym.video.22.13975.video009000.json\n",
      "[2017-07-16 16:40:23,899] Starting new video recorder writing to /tmp/FrozenLake-v0-Q-learning/openaigym.video.22.13975.video009000.json\n"
     ]
    }
   ],
   "source": [
    "Q,rewards,epsilons = Q_learning(env)\n"
   ]
  },
  {
   "cell_type": "code",
   "execution_count": 230,
   "metadata": {
    "collapsed": false
   },
   "outputs": [
    {
     "data": {
      "text/plain": [
       "<Container object of 16 artists>"
      ]
     },
     "execution_count": 230,
     "metadata": {},
     "output_type": "execute_result"
    },
    {
     "data": {
      "image/png": "[encoded data removed]",
      "text/plain": [
       "<matplotlib.figure.Figure at 0x1155e0a10>"
      ]
     },
     "metadata": {},
     "output_type": "display_data"
    }
   ],
   "source": [
    "V = np.sum(Q,axis=1)\n",
    "plt.bar(np.arange(len(V)),V)\n"
   ]
  },
  {
   "cell_type": "code",
   "execution_count": 231,
   "metadata": {
    "collapsed": false
   },
   "outputs": [
    {
     "data": {
      "text/plain": [
       "[<matplotlib.lines.Line2D at 0x115946750>]"
      ]
     },
     "execution_count": 231,
     "metadata": {},
     "output_type": "execute_result"
    },
    {
     "data": {
      "image/png": "[encoded data removed]",
      "text/plain": [
       "<matplotlib.figure.Figure at 0x1155e0390>"
      ]
     },
     "metadata": {},
     "output_type": "display_data"
    }
   ],
   "source": [
    "plt.plot(epsilons)"
   ]
  },
  {
   "cell_type": "code",
   "execution_count": 236,
   "metadata": {
    "collapsed": false
   },
   "outputs": [
    {
     "name": "stdout",
     "output_type": "stream",
     "text": [
      "[0 3 3 3 0 0 0 3 3 1 0 1 3 2 1 2]\n"
     ]
    }
   ],
   "source": [
    "pi = np.argmax(Q,axis=1)\n",
    "print(pi)"
   ]
  },
  {
   "cell_type": "code",
   "execution_count": 233,
   "metadata": {
    "collapsed": false
   },
   "outputs": [
    {
     "data": {
      "text/plain": [
       "[<matplotlib.lines.Line2D at 0x115bf4d10>]"
      ]
     },
     "execution_count": 233,
     "metadata": {},
     "output_type": "execute_result"
    },
    {
     "data": {
      "image/png": "[encoded data removed]",
      "text/plain": [
       "<matplotlib.figure.Figure at 0x115b9e310>"
      ]
     },
     "metadata": {},
     "output_type": "display_data"
    }
   ],
   "source": [
    "plt.plot(pd.rolling_mean(rewards[0:10000],100))"
   ]
  },
  {
   "cell_type": "code",
   "execution_count": 235,
   "metadata": {
    "collapsed": false
   },
   "outputs": [
    {
     "name": "stderr",
     "output_type": "stream",
     "text": [
      "INFO:gym.scoreboard.api:[FrozenLake-v0] Uploading 10000 episodes of training data\n",
      "[2017-07-16 16:41:36,982] [FrozenLake-v0] Uploading 10000 episodes of training data\n",
      "INFO:gym.scoreboard.api:[FrozenLake-v0] Uploading videos of 19 training episodes (1962 bytes)\n",
      "[2017-07-16 16:41:38,407] [FrozenLake-v0] Uploading videos of 19 training episodes (1962 bytes)\n",
      "INFO:gym.scoreboard.api:[FrozenLake-v0] Creating evaluation object from /tmp/FrozenLake-v0-Q-learning/ with learning curve and training video\n",
      "[2017-07-16 16:41:38,588] [FrozenLake-v0] Creating evaluation object from /tmp/FrozenLake-v0-Q-learning/ with learning curve and training video\n",
      "INFO:gym.scoreboard.api:\n",
      "****************************************************\n",
      "You successfully uploaded your evaluation on FrozenLake-v0 to\n",
      "OpenAI Gym! You can find it at:\n",
      "\n",
      "    https://gym.openai.com/evaluations/eval_0MVqKTTBRFutuNvPUOKofA\n",
      "\n",
      "****************************************************\n",
      "[2017-07-16 16:41:39,345] \n",
      "****************************************************\n",
      "You successfully uploaded your evaluation on FrozenLake-v0 to\n",
      "OpenAI Gym! You can find it at:\n",
      "\n",
      "    https://gym.openai.com/evaluations/eval_0MVqKTTBRFutuNvPUOKofA\n",
      "\n",
      "****************************************************\n"
     ]
    }
   ],
   "source": [
    "env.close()\n",
    "gym.upload('/tmp/FrozenLake-v0-Q-learning/',api_key='sk_PP2R5NblSSaI9sECHDhu1g')"
   ]
  },
  {
   "cell_type": "markdown",
   "metadata": {
    "collapsed": true
   },
   "source": [
    "# Very Simple DQN "
   ]
  },
  {
   "cell_type": "code",
   "execution_count": null,
   "metadata": {
    "collapsed": true
   },
   "outputs": [],
   "source": []
  },
  {
   "cell_type": "markdown",
   "metadata": {
    "collapsed": true
   },
   "source": [
    "# Hindsight Experience Replay"
   ]
  },
  {
   "cell_type": "code",
   "execution_count": null,
   "metadata": {
    "collapsed": true
   },
   "outputs": [],
   "source": []
  }
 ],
 "metadata": {
  "_draft": {
   "nbviewer_url": "https://gist.github.com/2713050a70fa6ee77828a84e7588c99b"
  },
  "gist": {
   "data": {
    "description": "inc_Reinforcement_Learning_OpenAI_Universe_and_Approx_Methods.ipynb",
    "public": false
   },
   "id": "2713050a70fa6ee77828a84e7588c99b"
  },
  "hide_input": false,
  "kernelspec": {
   "display_name": "Python 2",
   "language": "python",
   "name": "python2"
  },
  "language_info": {
   "codemirror_mode": {
    "name": "ipython",
    "version": 2
   },
   "file_extension": ".py",
   "mimetype": "text/x-python",
   "name": "python",
   "nbconvert_exporter": "python",
   "pygments_lexer": "ipython2",
   "version": "2.7.11"
  },
  "toc": {
   "colors": {
    "hover_highlight": "#DAA520",
    "navigate_num": "#000000",
    "navigate_text": "#333333",
    "running_highlight": "#FF0000",
    "selected_highlight": "#FFD700",
    "sidebar_border": "#EEEEEE",
    "wrapper_background": "#FFFFFF"
   },
   "moveMenuLeft": true,
   "nav_menu": {
    "height": "83px",
    "width": "253px"
   },
   "navigate_menu": true,
   "number_sections": true,
   "sideBar": true,
   "threshold": 4,
   "toc_cell": false,
   "toc_section_display": "block",
   "toc_window_display": true,
   "widenNotebook": false
  }
 },
 "nbformat": 4,
 "nbformat_minor": 0
}
