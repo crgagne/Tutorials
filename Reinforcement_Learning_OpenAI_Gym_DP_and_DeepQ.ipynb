{
 "cells": [
  {
   "cell_type": "markdown",
   "metadata": {},
   "source": [
    "- try using the virtualenv on \"source ~/Desktop/virtenv_deeprl/bin/activate\" \n",
    "- using python3 so installed things using pip3"
   ]
  },
  {
   "cell_type": "markdown",
   "metadata": {},
   "source": [
    "# Tutorial Taken from \n",
    "\n",
    "https://github.com/mimoralea/applied-reinforcement-learning/blob/master/notebooks/"
   ]
  },
  {
   "cell_type": "code",
   "execution_count": 8,
   "metadata": {
    "collapsed": true
   },
   "outputs": [],
   "source": [
    "import inspect\n",
    "import numpy as np\n",
    "import pandas as pd\n",
    "import tempfile\n",
    "import pprint\n",
    "import json\n",
    "import sys\n",
    "import pandas as pd\n",
    "from IPython.core.debugger import Tracer\n",
    "import scipy.stats\n",
    "from subprocess import check_output\n",
    "import matplotlib.pyplot as plt\n",
    "import seaborn as sns\n",
    "%matplotlib inline"
   ]
  },
  {
   "cell_type": "code",
   "execution_count": 9,
   "metadata": {
    "collapsed": true
   },
   "outputs": [],
   "source": [
    "import gym\n",
    "from gym import wrappers\n"
   ]
  },
  {
   "cell_type": "markdown",
   "metadata": {
    "collapsed": true
   },
   "source": [
    "# Dynamic Programming Methods\n"
   ]
  },
  {
   "cell_type": "code",
   "execution_count": 7,
   "metadata": {},
   "outputs": [
    {
     "name": "stderr",
     "output_type": "stream",
     "text": [
      "[2017-08-27 12:24:44,411] Making new env: FrozenLake-v0\n",
      "[2017-08-27 12:24:44,435] Clearing 24 monitor files from previous run (because force=True was provided)\n"
     ]
    },
    {
     "data": {
      "text/plain": [
       "'/tmp/FrozenLake-v0'"
      ]
     },
     "execution_count": 7,
     "metadata": {},
     "output_type": "execute_result"
    }
   ],
   "source": [
    "mdir = tempfile.mkdtemp()\n",
    "env = gym.make('FrozenLake-v0')\n",
    "env = wrappers.Monitor(env, '/tmp/FrozenLake-v0',force=True) #force=True, replaces data in the folder\n",
    "env.directory"
   ]
  },
  {
   "cell_type": "markdown",
   "metadata": {},
   "source": [
    "The env variable contains the problem specification. In DP methods, we assume these are known"
   ]
  },
  {
   "cell_type": "code",
   "execution_count": 8,
   "metadata": {},
   "outputs": [
    {
     "data": {
      "text/plain": [
       "[(0.3333333333333333, 0, 0.0, False),\n",
       " (0.3333333333333333, 0, 0.0, False),\n",
       " (0.3333333333333333, 4, 0.0, False)]"
      ]
     },
     "execution_count": 8,
     "metadata": {},
     "output_type": "execute_result"
    }
   ],
   "source": [
    "A = range(env.action_space.n)\n",
    "S = range(env.observation_space.n)\n",
    "P = env.env.env.P\n",
    "P[0][0]"
   ]
  },
  {
   "cell_type": "markdown",
   "metadata": {},
   "source": [
    "Value iteration takes advantage of the bellman optimality equations. If you are following the optimal policy, the Bellman equations hold. If not, you can use the discrepancy between the current state's value and the next state's value to update the current state's value. Value iteration is the simplest form of this. \n",
    "\n",
    "For k iterations: \n",
    "$$ V(s)_k = max_a \\sum_{s'} P(s',a,s)(R(s)+ \\gamma V(s')_{k-1}) $$\n",
    "\n",
    "Stop when \n",
    "$$ V(s)_k-V(s)_{k-1} < \\epsilon$$"
   ]
  },
  {
   "cell_type": "code",
   "execution_count": 9,
   "metadata": {
    "collapsed": true
   },
   "outputs": [],
   "source": [
    "def value_iteration(A,S,P,epsilon = 0.0001,gamma = 0.99):\n",
    "    '''Full Solves a MDP given the model of the environment\n",
    "    Args:\n",
    "        A: list action numbers\n",
    "        S: list of state numbers \n",
    "        P: dictionary for transitions. keys are integers for states. P[s][a]. Then there is a list of tuples. \n",
    "        The tuple is (prob, next state, r, terminal?)\n",
    "    \n",
    "    '''\n",
    "\n",
    "    # intialize value function\n",
    "    V = np.random.random(len(S))\n",
    "    \n",
    "    for k in range(10000):\n",
    "        V_prev = V.copy() \n",
    "        Q = np.zeros((len(A),len(S)),dtype=float)\n",
    "        \n",
    "        for s in S: # sample states in order \n",
    "            for a in A:\n",
    "                for prob, s_prime, reward, done in P[s][a]:\n",
    "                    Q[a,s]+= prob*(reward +gamma*V_prev[s_prime]* (not done))\n",
    "                    \n",
    "            V[s]=np.max(Q[:,s])\n",
    "        \n",
    "        if np.all(np.abs(V_prev - V) < epsilon): # check if any previous values haven't changed that much \n",
    "            break\n",
    "            \n",
    "    pi = np.argmax(Q,axis=0)\n",
    "    return(pi,V)"
   ]
  },
  {
   "cell_type": "markdown",
   "metadata": {},
   "source": [
    "So here, I'll actually run value iteration on the MDP and print out the learned policy and value function"
   ]
  },
  {
   "cell_type": "code",
   "execution_count": 10,
   "metadata": {},
   "outputs": [
    {
     "name": "stdout",
     "output_type": "stream",
     "text": [
      "optimal policy\n",
      "[0 3 3 3 0 0 0 0 3 1 0 0 0 2 1 0]\n"
     ]
    },
    {
     "data": {
      "text/plain": [
       "<matplotlib.text.Text at 0x10c936550>"
      ]
     },
     "execution_count": 10,
     "metadata": {},
     "output_type": "execute_result"
    },
    {
     "data": {
      "image/png": "[encoded data removed]",
      "text/plain": [
       "<matplotlib.figure.Figure at 0x10c902320>"
      ]
     },
     "metadata": {},
     "output_type": "display_data"
    }
   ],
   "source": [
    "pi,V = value_iteration(A,S,P)\n",
    "print('optimal policy')\n",
    "print(pi)\n",
    "sns.set_style('white')\n",
    "sns.set_context('notebook')\n",
    "plt.bar(np.arange(len(V)),V)\n",
    "sns.despine()\n",
    "plt.xlabel('State')\n",
    "plt.ylabel('V(s)')"
   ]
  },
  {
   "cell_type": "markdown",
   "metadata": {},
   "source": [
    "Here I use the policy to interact with the environment. Because the Monitor was set up, it'll save out a video in a json format. "
   ]
  },
  {
   "cell_type": "code",
   "execution_count": 11,
   "metadata": {
    "collapsed": true
   },
   "outputs": [],
   "source": [
    "#P[state]"
   ]
  },
  {
   "cell_type": "code",
   "execution_count": 12,
   "metadata": {},
   "outputs": [
    {
     "name": "stderr",
     "output_type": "stream",
     "text": [
      "[2017-08-27 12:24:49,517] Starting new video recorder writing to /tmp/FrozenLake-v0/openaigym.video.0.59143.video000000.json\n",
      "[2017-08-27 12:24:49,523] Starting new video recorder writing to /tmp/FrozenLake-v0/openaigym.video.0.59143.video000001.json\n",
      "[2017-08-27 12:24:49,529] Starting new video recorder writing to /tmp/FrozenLake-v0/openaigym.video.0.59143.video000008.json\n",
      "[2017-08-27 12:24:49,548] Starting new video recorder writing to /tmp/FrozenLake-v0/openaigym.video.0.59143.video000027.json\n",
      "[2017-08-27 12:24:49,576] Starting new video recorder writing to /tmp/FrozenLake-v0/openaigym.video.0.59143.video000064.json\n",
      "[2017-08-27 12:24:49,631] Starting new video recorder writing to /tmp/FrozenLake-v0/openaigym.video.0.59143.video000125.json\n",
      "[2017-08-27 12:24:49,711] Starting new video recorder writing to /tmp/FrozenLake-v0/openaigym.video.0.59143.video000216.json\n",
      "[2017-08-27 12:24:49,829] Starting new video recorder writing to /tmp/FrozenLake-v0/openaigym.video.0.59143.video000343.json\n",
      "[2017-08-27 12:24:49,975] Starting new video recorder writing to /tmp/FrozenLake-v0/openaigym.video.0.59143.video000512.json\n",
      "[2017-08-27 12:24:50,161] Starting new video recorder writing to /tmp/FrozenLake-v0/openaigym.video.0.59143.video000729.json\n",
      "[2017-08-27 12:24:50,395] Starting new video recorder writing to /tmp/FrozenLake-v0/openaigym.video.0.59143.video001000.json\n"
     ]
    }
   ],
   "source": [
    "for _ in range(2000):\n",
    "    state = env.reset()\n",
    "    while True:\n",
    "        #env.render()\n",
    "        state, reward, done, info = env.step(pi[state])\n",
    "        if done:\n",
    "            break"
   ]
  },
  {
   "cell_type": "code",
   "execution_count": 13,
   "metadata": {},
   "outputs": [
    {
     "name": "stderr",
     "output_type": "stream",
     "text": [
      "[2017-08-27 12:24:52,385] Finished writing results. You can upload them to the scoreboard via gym.upload('/tmp/FrozenLake-v0')\n",
      "[2017-08-27 12:24:52,391] [FrozenLake-v0] Uploading 2000 episodes of training data\n",
      "[2017-08-27 12:24:54,676] [FrozenLake-v0] Uploading videos of 11 training episodes (1468 bytes)\n",
      "[2017-08-27 12:24:54,919] [FrozenLake-v0] Creating evaluation object from /tmp/FrozenLake-v0/ with learning curve and training video\n",
      "[2017-08-27 12:24:55,094] \n",
      "****************************************************\n",
      "You successfully uploaded your evaluation on FrozenLake-v0 to\n",
      "OpenAI Gym! You can find it at:\n",
      "\n",
      "    https://gym.openai.com/evaluations/eval_SijP6oVTGi35hCSjTttdA\n",
      "\n",
      "****************************************************\n"
     ]
    }
   ],
   "source": [
    "env.close()\n",
    "gym.upload('/tmp/FrozenLake-v0/',api_key='sk_PP2R5NblSSaI9sECHDhu1g')"
   ]
  },
  {
   "cell_type": "markdown",
   "metadata": {
    "collapsed": true
   },
   "source": [
    "# Q learning"
   ]
  },
  {
   "cell_type": "markdown",
   "metadata": {},
   "source": [
    "Here we will interact with the environment in an online fasion. We will have to act to get a new observation. \n"
   ]
  },
  {
   "cell_type": "code",
   "execution_count": 14,
   "metadata": {
    "collapsed": true
   },
   "outputs": [],
   "source": [
    "def Q_learning(env,alpha=0.9,gamma=0.9):\n",
    "    '''This learning will learn a policy online.\n",
    "    \n",
    "    args:\n",
    "        env: an RL environment\n",
    "\n",
    "    '''\n",
    "\n",
    "    # set-up\n",
    "    A = range(env.action_space.n)\n",
    "    S = range(env.observation_space.n)\n",
    "    Q = np.random.random((len(S),len(A)))*2\n",
    "    \n",
    "    n_episodes = 10000\n",
    "    rewards = np.zeros(n_episodes)\n",
    "    \n",
    "    epsilons = np.array([])\n",
    "    for epi,episode in enumerate(range(n_episodes//2, -n_episodes//2, -1)):\n",
    "        s = env.reset()\n",
    "\n",
    "        \n",
    "        # interact with environment until episode ends\n",
    "        while True:\n",
    "            \n",
    "            # choose action in epislon greedy fashion w.r.t policy \n",
    "            epsilon = max(0, np.float(episode)/np.float(n_episodes*2.0))\n",
    "            epp = scipy.stats.binom.rvs(p=epsilon,n=1)\n",
    "            if epp==1:\n",
    "                a = np.random.randint(len(A))\n",
    "            else:\n",
    "                a = np.argmax(Q[s,:])\n",
    "            \n",
    "            # act in the environment\n",
    "            s_prime, reward, done, info = env.step(a)\n",
    "\n",
    "            # update\n",
    "            Q[s,a]+= alpha*(reward + gamma*np.max(Q[s_prime,:])*(not done)-Q[s,a])\n",
    "\n",
    "            # go to next state \n",
    "            s = s_prime \n",
    "            \n",
    "            if done:\n",
    "                break\n",
    "        rewards[epi]=reward\n",
    "        epsilons = np.append(epsilons,epsilon)\n",
    "    \n",
    "    return(Q,rewards,epsilons)\n",
    "    \n",
    "    "
   ]
  },
  {
   "cell_type": "code",
   "execution_count": 15,
   "metadata": {},
   "outputs": [
    {
     "name": "stderr",
     "output_type": "stream",
     "text": [
      "[2017-08-27 12:24:57,476] Making new env: FrozenLake-v0\n",
      "[2017-08-27 12:24:57,486] Clearing 40 monitor files from previous run (because force=True was provided)\n"
     ]
    },
    {
     "data": {
      "text/plain": [
       "'/tmp/FrozenLake-v0-Q-learning'"
      ]
     },
     "execution_count": 15,
     "metadata": {},
     "output_type": "execute_result"
    }
   ],
   "source": [
    "mdir = tempfile.mkdtemp()\n",
    "env = gym.make('FrozenLake-v0')\n",
    "env = wrappers.Monitor(env, '/tmp/FrozenLake-v0-Q-learning',force=True) #force=True, replaces data in the folder\n",
    "env.directory"
   ]
  },
  {
   "cell_type": "code",
   "execution_count": 16,
   "metadata": {},
   "outputs": [
    {
     "name": "stderr",
     "output_type": "stream",
     "text": [
      "[2017-08-27 12:24:58,347] Starting new video recorder writing to /tmp/FrozenLake-v0-Q-learning/openaigym.video.1.59143.video000000.json\n",
      "[2017-08-27 12:24:58,353] Starting new video recorder writing to /tmp/FrozenLake-v0-Q-learning/openaigym.video.1.59143.video000001.json\n",
      "[2017-08-27 12:24:58,368] Starting new video recorder writing to /tmp/FrozenLake-v0-Q-learning/openaigym.video.1.59143.video000008.json\n",
      "[2017-08-27 12:24:58,395] Starting new video recorder writing to /tmp/FrozenLake-v0-Q-learning/openaigym.video.1.59143.video000027.json\n",
      "[2017-08-27 12:24:58,452] Starting new video recorder writing to /tmp/FrozenLake-v0-Q-learning/openaigym.video.1.59143.video000064.json\n",
      "[2017-08-27 12:24:58,536] Starting new video recorder writing to /tmp/FrozenLake-v0-Q-learning/openaigym.video.1.59143.video000125.json\n",
      "[2017-08-27 12:24:58,657] Starting new video recorder writing to /tmp/FrozenLake-v0-Q-learning/openaigym.video.1.59143.video000216.json\n",
      "[2017-08-27 12:24:58,846] Starting new video recorder writing to /tmp/FrozenLake-v0-Q-learning/openaigym.video.1.59143.video000343.json\n",
      "[2017-08-27 12:24:59,103] Starting new video recorder writing to /tmp/FrozenLake-v0-Q-learning/openaigym.video.1.59143.video000512.json\n",
      "[2017-08-27 12:24:59,424] Starting new video recorder writing to /tmp/FrozenLake-v0-Q-learning/openaigym.video.1.59143.video000729.json\n",
      "[2017-08-27 12:24:59,816] Starting new video recorder writing to /tmp/FrozenLake-v0-Q-learning/openaigym.video.1.59143.video001000.json\n",
      "[2017-08-27 12:25:01,413] Starting new video recorder writing to /tmp/FrozenLake-v0-Q-learning/openaigym.video.1.59143.video002000.json\n",
      "[2017-08-27 12:25:03,123] Starting new video recorder writing to /tmp/FrozenLake-v0-Q-learning/openaigym.video.1.59143.video003000.json\n",
      "[2017-08-27 12:25:05,308] Starting new video recorder writing to /tmp/FrozenLake-v0-Q-learning/openaigym.video.1.59143.video004000.json\n",
      "[2017-08-27 12:25:08,273] Starting new video recorder writing to /tmp/FrozenLake-v0-Q-learning/openaigym.video.1.59143.video005000.json\n",
      "[2017-08-27 12:25:12,117] Starting new video recorder writing to /tmp/FrozenLake-v0-Q-learning/openaigym.video.1.59143.video006000.json\n",
      "[2017-08-27 12:25:16,018] Starting new video recorder writing to /tmp/FrozenLake-v0-Q-learning/openaigym.video.1.59143.video007000.json\n",
      "[2017-08-27 12:25:20,312] Starting new video recorder writing to /tmp/FrozenLake-v0-Q-learning/openaigym.video.1.59143.video008000.json\n",
      "[2017-08-27 12:25:24,297] Starting new video recorder writing to /tmp/FrozenLake-v0-Q-learning/openaigym.video.1.59143.video009000.json\n"
     ]
    }
   ],
   "source": [
    "Q,rewards,epsilons = Q_learning(env)\n"
   ]
  },
  {
   "cell_type": "code",
   "execution_count": 17,
   "metadata": {},
   "outputs": [
    {
     "data": {
      "text/plain": [
       "<Container object of 16 artists>"
      ]
     },
     "execution_count": 17,
     "metadata": {},
     "output_type": "execute_result"
    },
    {
     "data": {
      "image/png": "[encoded data removed]",
      "text/plain": [
       "<matplotlib.figure.Figure at 0x10cabeb70>"
      ]
     },
     "metadata": {},
     "output_type": "display_data"
    }
   ],
   "source": [
    "V = np.sum(Q,axis=1)\n",
    "plt.bar(np.arange(len(V)),V)\n"
   ]
  },
  {
   "cell_type": "code",
   "execution_count": 18,
   "metadata": {},
   "outputs": [
    {
     "data": {
      "text/plain": [
       "[<matplotlib.lines.Line2D at 0x10f732898>]"
      ]
     },
     "execution_count": 18,
     "metadata": {},
     "output_type": "execute_result"
    },
    {
     "data": {
      "image/png": "[encoded data removed]",
      "text/plain": [
       "<matplotlib.figure.Figure at 0x10f5a1828>"
      ]
     },
     "metadata": {},
     "output_type": "display_data"
    }
   ],
   "source": [
    "plt.plot(epsilons)"
   ]
  },
  {
   "cell_type": "code",
   "execution_count": 19,
   "metadata": {},
   "outputs": [
    {
     "name": "stdout",
     "output_type": "stream",
     "text": [
      "[0 3 1 3 0 2 2 2 3 1 0 0 1 2 1 1]\n"
     ]
    }
   ],
   "source": [
    "pi = np.argmax(Q,axis=1)\n",
    "print(pi)"
   ]
  },
  {
   "cell_type": "code",
   "execution_count": 20,
   "metadata": {},
   "outputs": [
    {
     "name": "stderr",
     "output_type": "stream",
     "text": [
      "/Users/chris/Desktop/virtenv_deeprl/lib/python3.6/site-packages/ipykernel_launcher.py:1: FutureWarning: pd.rolling_mean is deprecated for ndarrays and will be removed in a future version\n",
      "  \"\"\"Entry point for launching an IPython kernel.\n"
     ]
    },
    {
     "data": {
      "text/plain": [
       "[<matplotlib.lines.Line2D at 0x10f80fd30>]"
      ]
     },
     "execution_count": 20,
     "metadata": {},
     "output_type": "execute_result"
    },
    {
     "data": {
      "image/png": "[encoded data removed]",
      "text/plain": [
       "<matplotlib.figure.Figure at 0x10f86d390>"
      ]
     },
     "metadata": {},
     "output_type": "display_data"
    }
   ],
   "source": [
    "plt.plot(pd.rolling_mean(rewards[0:10000],100))"
   ]
  },
  {
   "cell_type": "code",
   "execution_count": 21,
   "metadata": {},
   "outputs": [
    {
     "name": "stderr",
     "output_type": "stream",
     "text": [
      "[2017-08-27 12:25:47,159] Finished writing results. You can upload them to the scoreboard via gym.upload('/tmp/FrozenLake-v0-Q-learning')\n",
      "[2017-08-27 12:25:47,174] [FrozenLake-v0] Uploading 10000 episodes of training data\n",
      "[2017-08-27 12:25:50,818] [FrozenLake-v0] Uploading videos of 19 training episodes (2027 bytes)\n",
      "[2017-08-27 12:25:50,962] [FrozenLake-v0] Creating evaluation object from /tmp/FrozenLake-v0-Q-learning/ with learning curve and training video\n",
      "[2017-08-27 12:25:51,081] \n",
      "****************************************************\n",
      "You successfully uploaded your evaluation on FrozenLake-v0 to\n",
      "OpenAI Gym! You can find it at:\n",
      "\n",
      "    https://gym.openai.com/evaluations/eval_NbmYrxfTRTmxwcL7505I7g\n",
      "\n",
      "****************************************************\n"
     ]
    }
   ],
   "source": [
    "env.close()\n",
    "gym.upload('/tmp/FrozenLake-v0-Q-learning/',api_key='sk_PP2R5NblSSaI9sECHDhu1g')"
   ]
  },
  {
   "cell_type": "markdown",
   "metadata": {
    "collapsed": true
   },
   "source": [
    "# State Approximation"
   ]
  },
  {
   "cell_type": "code",
   "execution_count": 61,
   "metadata": {},
   "outputs": [
    {
     "name": "stderr",
     "output_type": "stream",
     "text": [
      "[2017-08-27 16:35:47,560] Making new env: CartPole-v0\n"
     ]
    },
    {
     "name": "stdout",
     "output_type": "stream",
     "text": [
      "[ 0.04553216 -0.02690051 -0.03901904  0.01043572]\n",
      "Discrete(2)\n"
     ]
    }
   ],
   "source": [
    "env = gym.make('CartPole-v0')\n",
    "observation = env.reset()\n",
    "actions = env.action_space\n",
    "env.close()\n",
    "print(observation)\n",
    "print(actions)"
   ]
  },
  {
   "cell_type": "markdown",
   "metadata": {},
   "source": [
    "- inspecting the action space and observation space"
   ]
  },
  {
   "cell_type": "code",
   "execution_count": 62,
   "metadata": {},
   "outputs": [
    {
     "name": "stdout",
     "output_type": "stream",
     "text": [
      "Episode finished after 10 timesteps\n",
      "Episode finished after 10 timesteps\n",
      "Episode finished after 9 timesteps\n",
      "Episode finished after 9 timesteps\n",
      "Episode finished after 9 timesteps\n",
      "Episode finished after 10 timesteps\n",
      "Episode finished after 9 timesteps\n",
      "Episode finished after 8 timesteps\n",
      "Episode finished after 9 timesteps\n",
      "Episode finished after 11 timesteps\n",
      "Episode finished after 10 timesteps\n",
      "Episode finished after 9 timesteps\n",
      "Episode finished after 9 timesteps\n",
      "Episode finished after 10 timesteps\n",
      "Episode finished after 9 timesteps\n",
      "Episode finished after 10 timesteps\n",
      "Episode finished after 8 timesteps\n",
      "Episode finished after 10 timesteps\n",
      "Episode finished after 9 timesteps\n",
      "Episode finished after 10 timesteps\n",
      "Episode finished after 10 timesteps\n",
      "Episode finished after 9 timesteps\n",
      "Episode finished after 9 timesteps\n",
      "Episode finished after 11 timesteps\n",
      "Episode finished after 9 timesteps\n",
      "Episode finished after 9 timesteps\n",
      "Episode finished after 10 timesteps\n",
      "Episode finished after 9 timesteps\n",
      "Episode finished after 9 timesteps\n",
      "Episode finished after 9 timesteps\n",
      "Episode finished after 10 timesteps\n",
      "Episode finished after 10 timesteps\n",
      "Episode finished after 9 timesteps\n",
      "Episode finished after 9 timesteps\n",
      "Episode finished after 9 timesteps\n",
      "Episode finished after 10 timesteps\n",
      "Episode finished after 9 timesteps\n",
      "Episode finished after 8 timesteps\n",
      "Episode finished after 9 timesteps\n",
      "Episode finished after 10 timesteps\n",
      "Episode finished after 9 timesteps\n",
      "Episode finished after 10 timesteps\n",
      "Episode finished after 10 timesteps\n",
      "Episode finished after 9 timesteps\n",
      "Episode finished after 10 timesteps\n",
      "Episode finished after 10 timesteps\n",
      "Episode finished after 8 timesteps\n",
      "Episode finished after 10 timesteps\n",
      "Episode finished after 9 timesteps\n",
      "Episode finished after 10 timesteps\n",
      "Episode finished after 15 timesteps\n",
      "Episode finished after 26 timesteps\n",
      "Episode finished after 11 timesteps\n",
      "Episode finished after 18 timesteps\n",
      "Episode finished after 16 timesteps\n",
      "Episode finished after 15 timesteps\n",
      "Episode finished after 13 timesteps\n",
      "Episode finished after 17 timesteps\n",
      "Episode finished after 16 timesteps\n",
      "Episode finished after 28 timesteps\n",
      "Episode finished after 11 timesteps\n",
      "Episode finished after 18 timesteps\n",
      "Episode finished after 14 timesteps\n",
      "Episode finished after 34 timesteps\n",
      "Episode finished after 36 timesteps\n",
      "Episode finished after 18 timesteps\n",
      "Episode finished after 16 timesteps\n",
      "Episode finished after 29 timesteps\n",
      "Episode finished after 17 timesteps\n",
      "Episode finished after 62 timesteps\n",
      "Episode finished after 60 timesteps\n",
      "Episode finished after 13 timesteps\n",
      "Episode finished after 21 timesteps\n",
      "Episode finished after 10 timesteps\n",
      "Episode finished after 16 timesteps\n",
      "Episode finished after 10 timesteps\n",
      "Episode finished after 45 timesteps\n",
      "Episode finished after 32 timesteps\n",
      "Episode finished after 16 timesteps\n",
      "Episode finished after 35 timesteps\n",
      "Episode finished after 39 timesteps\n",
      "Episode finished after 25 timesteps\n",
      "Episode finished after 20 timesteps\n",
      "Episode finished after 12 timesteps\n",
      "Episode finished after 23 timesteps\n",
      "Episode finished after 23 timesteps\n",
      "Episode finished after 29 timesteps\n",
      "Episode finished after 46 timesteps\n",
      "Episode finished after 14 timesteps\n",
      "Episode finished after 28 timesteps\n",
      "Episode finished after 20 timesteps\n",
      "Episode finished after 20 timesteps\n",
      "Episode finished after 19 timesteps\n",
      "Episode finished after 19 timesteps\n",
      "Episode finished after 15 timesteps\n",
      "Episode finished after 15 timesteps\n",
      "Episode finished after 11 timesteps\n",
      "Episode finished after 22 timesteps\n",
      "Episode finished after 16 timesteps\n",
      "Episode finished after 15 timesteps\n",
      "Episode finished after 32 timesteps\n",
      "Episode finished after 39 timesteps\n",
      "Episode finished after 19 timesteps\n",
      "Episode finished after 12 timesteps\n",
      "Episode finished after 24 timesteps\n",
      "Episode finished after 12 timesteps\n",
      "Episode finished after 29 timesteps\n",
      "Episode finished after 12 timesteps\n",
      "Episode finished after 12 timesteps\n",
      "Episode finished after 48 timesteps\n",
      "Episode finished after 26 timesteps\n",
      "Episode finished after 52 timesteps\n",
      "Episode finished after 26 timesteps\n",
      "Episode finished after 19 timesteps\n",
      "Episode finished after 23 timesteps\n",
      "Episode finished after 24 timesteps\n",
      "Episode finished after 51 timesteps\n",
      "Episode finished after 27 timesteps\n",
      "Episode finished after 33 timesteps\n",
      "Episode finished after 44 timesteps\n",
      "Episode finished after 21 timesteps\n",
      "Episode finished after 11 timesteps\n",
      "Episode finished after 15 timesteps\n",
      "Episode finished after 23 timesteps\n",
      "Episode finished after 38 timesteps\n",
      "Episode finished after 16 timesteps\n",
      "Episode finished after 21 timesteps\n",
      "Episode finished after 22 timesteps\n",
      "Episode finished after 12 timesteps\n",
      "Episode finished after 23 timesteps\n",
      "Episode finished after 20 timesteps\n",
      "Episode finished after 24 timesteps\n",
      "Episode finished after 9 timesteps\n",
      "Episode finished after 54 timesteps\n",
      "Episode finished after 44 timesteps\n",
      "Episode finished after 11 timesteps\n",
      "Episode finished after 23 timesteps\n",
      "Episode finished after 26 timesteps\n",
      "Episode finished after 25 timesteps\n",
      "Episode finished after 11 timesteps\n",
      "Episode finished after 25 timesteps\n",
      "Episode finished after 16 timesteps\n",
      "Episode finished after 19 timesteps\n",
      "Episode finished after 24 timesteps\n",
      "Episode finished after 22 timesteps\n",
      "Episode finished after 22 timesteps\n",
      "Episode finished after 40 timesteps\n",
      "Episode finished after 14 timesteps\n",
      "Episode finished after 35 timesteps\n",
      "Episode finished after 29 timesteps\n",
      "Episode finished after 12 timesteps\n",
      "Episode finished after 21 timesteps\n",
      "Episode finished after 54 timesteps\n",
      "Episode finished after 14 timesteps\n",
      "Episode finished after 15 timesteps\n",
      "Episode finished after 23 timesteps\n",
      "Episode finished after 16 timesteps\n",
      "Episode finished after 10 timesteps\n",
      "Episode finished after 36 timesteps\n",
      "Episode finished after 18 timesteps\n",
      "Episode finished after 10 timesteps\n",
      "Episode finished after 39 timesteps\n",
      "Episode finished after 30 timesteps\n",
      "Episode finished after 30 timesteps\n",
      "Episode finished after 60 timesteps\n",
      "Episode finished after 20 timesteps\n",
      "Episode finished after 28 timesteps\n",
      "Episode finished after 15 timesteps\n",
      "Episode finished after 56 timesteps\n",
      "Episode finished after 16 timesteps\n",
      "Episode finished after 20 timesteps\n",
      "Episode finished after 17 timesteps\n",
      "Episode finished after 27 timesteps\n",
      "Episode finished after 11 timesteps\n",
      "Episode finished after 30 timesteps\n",
      "Episode finished after 28 timesteps\n",
      "Episode finished after 12 timesteps\n",
      "Episode finished after 16 timesteps\n",
      "Episode finished after 9 timesteps\n",
      "Episode finished after 13 timesteps\n",
      "Episode finished after 22 timesteps\n",
      "Episode finished after 19 timesteps\n",
      "Episode finished after 17 timesteps\n",
      "Episode finished after 14 timesteps\n",
      "Episode finished after 24 timesteps\n",
      "Episode finished after 14 timesteps\n",
      "Episode finished after 12 timesteps\n",
      "Episode finished after 15 timesteps\n",
      "Episode finished after 13 timesteps\n",
      "Episode finished after 16 timesteps\n",
      "Episode finished after 16 timesteps\n",
      "Episode finished after 41 timesteps\n",
      "Episode finished after 17 timesteps\n",
      "Episode finished after 16 timesteps\n",
      "Episode finished after 27 timesteps\n",
      "Episode finished after 11 timesteps\n",
      "Episode finished after 16 timesteps\n",
      "Episode finished after 13 timesteps\n",
      "Episode finished after 18 timesteps\n",
      "Episode finished after 16 timesteps\n",
      "Episode finished after 13 timesteps\n",
      "Episode finished after 15 timesteps\n",
      "Episode finished after 24 timesteps\n",
      "Episode finished after 42 timesteps\n",
      "Episode finished after 11 timesteps\n",
      "Episode finished after 55 timesteps\n",
      "Episode finished after 19 timesteps\n",
      "Episode finished after 36 timesteps\n",
      "Episode finished after 19 timesteps\n",
      "Episode finished after 45 timesteps\n",
      "Episode finished after 15 timesteps\n",
      "Episode finished after 34 timesteps\n",
      "Episode finished after 43 timesteps\n",
      "Episode finished after 22 timesteps\n",
      "Episode finished after 16 timesteps\n",
      "Episode finished after 14 timesteps\n",
      "Episode finished after 10 timesteps\n",
      "Episode finished after 15 timesteps\n",
      "Episode finished after 13 timesteps\n",
      "Episode finished after 13 timesteps\n",
      "Episode finished after 16 timesteps\n",
      "Episode finished after 15 timesteps\n",
      "Episode finished after 12 timesteps\n",
      "Episode finished after 13 timesteps\n",
      "Episode finished after 42 timesteps\n",
      "Episode finished after 35 timesteps\n",
      "Episode finished after 19 timesteps\n",
      "Episode finished after 23 timesteps\n",
      "Episode finished after 12 timesteps\n",
      "Episode finished after 19 timesteps\n",
      "Episode finished after 26 timesteps\n",
      "Episode finished after 14 timesteps\n",
      "Episode finished after 31 timesteps\n",
      "Episode finished after 15 timesteps\n",
      "Episode finished after 34 timesteps\n",
      "Episode finished after 28 timesteps\n",
      "Episode finished after 27 timesteps\n",
      "Episode finished after 29 timesteps\n",
      "Episode finished after 11 timesteps\n",
      "Episode finished after 46 timesteps\n",
      "Episode finished after 15 timesteps\n",
      "Episode finished after 18 timesteps\n",
      "Episode finished after 10 timesteps\n",
      "Episode finished after 11 timesteps\n",
      "Episode finished after 17 timesteps\n",
      "Episode finished after 17 timesteps\n",
      "Episode finished after 16 timesteps\n",
      "Episode finished after 31 timesteps\n",
      "Episode finished after 12 timesteps\n",
      "Episode finished after 13 timesteps\n",
      "Episode finished after 9 timesteps\n",
      "Episode finished after 42 timesteps\n",
      "Episode finished after 43 timesteps\n",
      "Episode finished after 17 timesteps\n",
      "Episode finished after 17 timesteps\n",
      "Episode finished after 15 timesteps\n",
      "Episode finished after 24 timesteps\n",
      "Episode finished after 15 timesteps\n",
      "Episode finished after 23 timesteps\n",
      "Episode finished after 16 timesteps\n",
      "Episode finished after 39 timesteps\n",
      "Episode finished after 19 timesteps\n",
      "Episode finished after 12 timesteps\n",
      "Episode finished after 12 timesteps\n",
      "Episode finished after 11 timesteps\n",
      "Episode finished after 19 timesteps\n",
      "Episode finished after 12 timesteps\n",
      "Episode finished after 24 timesteps\n",
      "Episode finished after 17 timesteps\n",
      "Episode finished after 29 timesteps\n",
      "Episode finished after 12 timesteps\n",
      "Episode finished after 19 timesteps\n",
      "Episode finished after 29 timesteps\n",
      "Episode finished after 25 timesteps\n",
      "Episode finished after 19 timesteps\n",
      "Episode finished after 13 timesteps\n",
      "Episode finished after 16 timesteps\n",
      "Episode finished after 44 timesteps\n",
      "Episode finished after "
     ]
    },
    {
     "data": {
      "text/html": [
       "<b>limit_output extension: Maximum message size of 10000 exceeded with 10731 characters</b>"
      ]
     },
     "metadata": {},
     "output_type": "display_data"
    }
   ],
   "source": [
    "observations = []\n",
    "for episode in range(1000):\n",
    "    observation = env.reset()\n",
    "    for t in range(100):\n",
    "        #env.render()\n",
    "        observations.append(observation)\n",
    "        action = env.action_space.sample()\n",
    "        if episode < 25:\n",
    "            action = 1\n",
    "        elif episode < 50:\n",
    "            action = 0\n",
    "        observation, reward, done, info = env.step(action)\n",
    "        if done:\n",
    "            print(\"Episode finished after {} timesteps\".format(t+1))\n",
    "            break\n",
    "env.close()\n",
    "x_vals = np.array(observations)[:,0]\n",
    "xd_vals = np.array(observations)[:,1]\n",
    "a_vals = np.array(observations)[:,2]\n",
    "ad_vals = np.array(observations)[:,3]\n",
    "y = np.zeros_like(x_vals)"
   ]
  },
  {
   "cell_type": "code",
   "execution_count": 63,
   "metadata": {},
   "outputs": [
    {
     "data": {
      "text/plain": [
       "(-0.15, 0.15)"
      ]
     },
     "execution_count": 63,
     "metadata": {},
     "output_type": "execute_result"
    },
    {
     "data": {
      "image/png": "[encoded data removed]",
      "text/plain": [
       "<matplotlib.figure.Figure at 0x1234771d0>"
      ]
     },
     "metadata": {},
     "output_type": "display_data"
    }
   ],
   "source": [
    "plt.plot(x_vals, y + 0.10, '.')\n",
    "plt.plot(xd_vals, y + 0.05, '.')\n",
    "plt.plot(a_vals, y - 0.05, '.')\n",
    "plt.plot(ad_vals, y - 0.10, '.')\n",
    "\n",
    "plt.ylim([-0.15, 0.15])"
   ]
  },
  {
   "cell_type": "code",
   "execution_count": 64,
   "metadata": {},
   "outputs": [
    {
     "name": "stdout",
     "output_type": "stream",
     "text": [
      "(-2.3999999999999999, 2.3999999999999999) (-0.20943951023931953, 0.20943951023931953)\n"
     ]
    }
   ],
   "source": [
    "x_thres = ((env.env.observation_space.low/2)[0],\n",
    "           (env.env.observation_space.high/2)[0])\n",
    "a_thres = ((env.env.observation_space.low/2)[2],\n",
    "           (env.env.observation_space.high/2)[2])\n",
    "\n",
    "print(x_thres, a_thres)\n"
   ]
  },
  {
   "cell_type": "code",
   "execution_count": 65,
   "metadata": {},
   "outputs": [
    {
     "data": {
      "text/plain": [
       "[<matplotlib.lines.Line2D at 0x1225f60f0>]"
      ]
     },
     "execution_count": 65,
     "metadata": {},
     "output_type": "execute_result"
    },
    {
     "data": {
      "image/png": "[encoded data removed]",
      "text/plain": [
       "<matplotlib.figure.Figure at 0x121bae080>"
      ]
     },
     "metadata": {},
     "output_type": "display_data"
    }
   ],
   "source": [
    "x1 = np.linspace(x_thres[0] + .5, x_thres[1] - .5, \n",
    "                  4, endpoint=False)[1:]\n",
    "y1 = np.zeros(len(x1)) + 0.05\n",
    "\n",
    "plt.ylim([-0.075, 0.075])\n",
    "plt.plot(x1, y1, 'o')\n",
    "plt.plot(x_vals, y, '.')"
   ]
  },
  {
   "cell_type": "code",
   "execution_count": 66,
   "metadata": {},
   "outputs": [
    {
     "data": {
      "text/plain": [
       "[<matplotlib.lines.Line2D at 0x1224b77b8>]"
      ]
     },
     "execution_count": 66,
     "metadata": {},
     "output_type": "execute_result"
    },
    {
     "data": {
      "image/png": "[encoded data removed]",
      "text/plain": [
       "<matplotlib.figure.Figure at 0x12255de10>"
      ]
     },
     "metadata": {},
     "output_type": "display_data"
    }
   ],
   "source": [
    "xd1 = np.sort(np.append(np.linspace(-1.5, 1.5, 4, endpoint=True), 0))\n",
    "y1 = np.zeros(len(xd1)) + 0.05\n",
    "\n",
    "plt.ylim([-0.075, 0.075])\n",
    "plt.plot(xd1, y1, 'o')\n",
    "plt.plot(xd_vals, y, '.')"
   ]
  },
  {
   "cell_type": "code",
   "execution_count": 67,
   "metadata": {},
   "outputs": [
    {
     "data": {
      "text/plain": [
       "[<matplotlib.lines.Line2D at 0x122d76b38>]"
      ]
     },
     "execution_count": 67,
     "metadata": {},
     "output_type": "execute_result"
    },
    {
     "data": {
      "image/png": "[encoded data removed]",
      "text/plain": [
       "<matplotlib.figure.Figure at 0x122e345c0>"
      ]
     },
     "metadata": {},
     "output_type": "display_data"
    }
   ],
   "source": [
    "all_vals = np.sort(np.append(\n",
    "    (np.logspace(-7, 4, 6, endpoint=False, base=2)[1:],\n",
    "    -np.logspace(-7, 4, 6, endpoint=False, base=2)[1:]), 0))\n",
    "idxs = np.where(np.abs(all_vals) < 2)\n",
    "ad1 = all_vals[idxs]\n",
    "y1 = np.zeros(len(ad1)) + 0.05\n",
    "\n",
    "plt.ylim([-0.075, 0.075])\n",
    "plt.plot(ad1, y1, 'o')\n",
    "plt.plot(ad_vals, y, '.')"
   ]
  },
  {
   "cell_type": "code",
   "execution_count": 68,
   "metadata": {},
   "outputs": [
    {
     "data": {
      "text/plain": [
       "[<matplotlib.lines.Line2D at 0x12392f4e0>]"
      ]
     },
     "execution_count": 68,
     "metadata": {},
     "output_type": "execute_result"
    },
    {
     "data": {
      "image/png": "[encoded data removed]",
      "text/plain": [
       "<matplotlib.figure.Figure at 0x122d37da0>"
      ]
     },
     "metadata": {},
     "output_type": "display_data"
    }
   ],
   "source": [
    "\n",
    "a1 = np.sort(np.linspace(a_thres[0], a_thres[1],\n",
    "                         10, endpoint=False)[1:])\n",
    "y1 = np.zeros(len(a1)) + 0.05\n",
    "\n",
    "plt.ylim([-0.1, 0.1])\n",
    "plt.plot(a1, y1, 'o')\n",
    "plt.plot(a_vals, y, '.')"
   ]
  },
  {
   "cell_type": "code",
   "execution_count": 69,
   "metadata": {},
   "outputs": [
    {
     "data": {
      "text/plain": [
       "array(2)"
      ]
     },
     "execution_count": 69,
     "metadata": {},
     "output_type": "execute_result"
    }
   ],
   "source": [
    "np.digitize(-0.1, a1)"
   ]
  },
  {
   "cell_type": "code",
   "execution_count": 70,
   "metadata": {
    "collapsed": true
   },
   "outputs": [],
   "source": [
    "def learning_schedule(episode, n_episodes):\n",
    "    return max(0., min(0.8, 1 - episode/n_episodes))"
   ]
  },
  {
   "cell_type": "code",
   "execution_count": 71,
   "metadata": {
    "collapsed": true
   },
   "outputs": [],
   "source": [
    "def action_selection(state, Q, episode, n_episodes):\n",
    "    epsilon = 0.99 if episode < n_episodes//4 else 0.33 if episode < n_episodes//2 else 0.\n",
    "    if np.random.random() < epsilon:\n",
    "        action = np.random.randint(Q.shape[1])\n",
    "    else:\n",
    "        action = np.argmax(Q[state])\n",
    "    return action, epsilon"
   ]
  },
  {
   "cell_type": "code",
   "execution_count": 72,
   "metadata": {
    "collapsed": true
   },
   "outputs": [],
   "source": [
    "def observation_to_state(observation, bins):\n",
    "    ss = []\n",
    "    for i in range(len(observation)):\n",
    "        ss.append(int(np.digitize(observation[i], bins=bins[i])))\n",
    "    state = int(\"\".join(map(lambda feature: str(int(feature)), ss)))\n",
    "    return state"
   ]
  },
  {
   "cell_type": "code",
   "execution_count": 73,
   "metadata": {},
   "outputs": [
    {
     "name": "stdout",
     "output_type": "stream",
     "text": [
      "2375\n",
      "1375\n",
      "2275\n",
      "2325\n",
      "2378\n"
     ]
    }
   ],
   "source": [
    "sample_states = [[0.33, 0.2, 0.1, 0.], \n",
    "                 [-0.33, 0.2, 0.1, 0.], \n",
    "                 [0.33, -0.2, 0.1, 0.], \n",
    "                 [0.33, 0.2, -0.1, 0.], \n",
    "                 [0.33, 0.2, 0.1, .99]]\n",
    "for sample_state in sample_states:\n",
    "    print(observation_to_state(sample_state, (x1, xd1, a1, ad1)))"
   ]
  },
  {
   "cell_type": "code",
   "execution_count": 74,
   "metadata": {
    "collapsed": true
   },
   "outputs": [],
   "source": [
    "def q_learning(env, bins, gamma = 0.99):\n",
    "    nS = 10 * 10 * 10 * 10\n",
    "    nA = env.env.action_space.n\n",
    "    \n",
    "    Q = np.random.random((nS, nA)) - 0.5\n",
    "    n_episodes = 5000\n",
    "    \n",
    "    alphas = []\n",
    "    epsilons = []\n",
    "    states = []\n",
    "    actions = []\n",
    "    for episode in range(n_episodes):\n",
    "        observation = env.reset()\n",
    "        state = observation_to_state(observation, bins)\n",
    "    \n",
    "        done = False\n",
    "        while not done:\n",
    "            states.append(state)\n",
    "            \n",
    "            action, epsilon = action_selection(state, Q, episode, n_episodes)\n",
    "            epsilons.append(epsilon)\n",
    "            actions.append(action)\n",
    "            \n",
    "            observation, reward, done, info = env.step(action)\n",
    "            nstate = observation_to_state(observation, bins)\n",
    "            \n",
    "            alpha = learning_schedule(episode, n_episodes)\n",
    "            alphas.append(alpha)\n",
    "            \n",
    "            Q[state][action] += alpha * (reward + gamma * Q[nstate].max() * (not done) - Q[state][action])\n",
    "            state = nstate\n",
    "    return Q, (alphas, epsilons, states, actions)"
   ]
  },
  {
   "cell_type": "code",
   "execution_count": 75,
   "metadata": {},
   "outputs": [
    {
     "name": "stderr",
     "output_type": "stream",
     "text": [
      "[2017-08-27 16:35:56,378] Making new env: CartPole-v0\n",
      "[2017-08-27 16:35:56,386] Starting new video recorder writing to /var/folders/h5/n0m4g__513d80_1dp1xsxrb40000gn/T/tmp5zlau5au/openaigym.video.3.60986.video000000.mp4\n",
      "[2017-08-27 16:35:56,825] Starting new video recorder writing to /var/folders/h5/n0m4g__513d80_1dp1xsxrb40000gn/T/tmp5zlau5au/openaigym.video.3.60986.video000001.mp4\n",
      "[2017-08-27 16:35:57,156] Starting new video recorder writing to /var/folders/h5/n0m4g__513d80_1dp1xsxrb40000gn/T/tmp5zlau5au/openaigym.video.3.60986.video000008.mp4\n",
      "[2017-08-27 16:35:57,646] Starting new video recorder writing to /var/folders/h5/n0m4g__513d80_1dp1xsxrb40000gn/T/tmp5zlau5au/openaigym.video.3.60986.video000027.mp4\n",
      "[2017-08-27 16:35:58,146] Starting new video recorder writing to /var/folders/h5/n0m4g__513d80_1dp1xsxrb40000gn/T/tmp5zlau5au/openaigym.video.3.60986.video000064.mp4\n",
      "[2017-08-27 16:35:58,647] Starting new video recorder writing to /var/folders/h5/n0m4g__513d80_1dp1xsxrb40000gn/T/tmp5zlau5au/openaigym.video.3.60986.video000125.mp4\n",
      "[2017-08-27 16:35:59,129] Starting new video recorder writing to /var/folders/h5/n0m4g__513d80_1dp1xsxrb40000gn/T/tmp5zlau5au/openaigym.video.3.60986.video000216.mp4\n",
      "[2017-08-27 16:35:59,632] Starting new video recorder writing to /var/folders/h5/n0m4g__513d80_1dp1xsxrb40000gn/T/tmp5zlau5au/openaigym.video.3.60986.video000343.mp4\n",
      "[2017-08-27 16:36:00,308] Starting new video recorder writing to /var/folders/h5/n0m4g__513d80_1dp1xsxrb40000gn/T/tmp5zlau5au/openaigym.video.3.60986.video000512.mp4\n",
      "[2017-08-27 16:36:00,900] Starting new video recorder writing to /var/folders/h5/n0m4g__513d80_1dp1xsxrb40000gn/T/tmp5zlau5au/openaigym.video.3.60986.video000729.mp4\n",
      "[2017-08-27 16:36:01,541] Starting new video recorder writing to /var/folders/h5/n0m4g__513d80_1dp1xsxrb40000gn/T/tmp5zlau5au/openaigym.video.3.60986.video001000.mp4\n",
      "[2017-08-27 16:36:05,621] Starting new video recorder writing to /var/folders/h5/n0m4g__513d80_1dp1xsxrb40000gn/T/tmp5zlau5au/openaigym.video.3.60986.video002000.mp4\n",
      "[2017-08-27 16:36:12,051] Starting new video recorder writing to /var/folders/h5/n0m4g__513d80_1dp1xsxrb40000gn/T/tmp5zlau5au/openaigym.video.3.60986.video003000.mp4\n",
      "[2017-08-27 16:36:23,489] Starting new video recorder writing to /var/folders/h5/n0m4g__513d80_1dp1xsxrb40000gn/T/tmp5zlau5au/openaigym.video.3.60986.video004000.mp4\n"
     ]
    }
   ],
   "source": [
    "mdir = tempfile.mkdtemp()\n",
    "env = gym.make('CartPole-v0')\n",
    "env = wrappers.Monitor(env, mdir, force=True)\n",
    "\n",
    "Q, stats = q_learning(env, (x1, xd1, a1, ad1))\n",
    "env.render(close=True) ### NICE THIS WORKS "
   ]
  },
  {
   "cell_type": "code",
   "execution_count": 76,
   "metadata": {
    "collapsed": true
   },
   "outputs": [],
   "source": [
    "import io\n",
    "import base64\n",
    "from IPython.display import HTML"
   ]
  },
  {
   "cell_type": "code",
   "execution_count": 77,
   "metadata": {},
   "outputs": [
    {
     "data": {
      "text/plain": [
       "'/var/folders/h5/n0m4g__513d80_1dp1xsxrb40000gn/T/tmp5zlau5au/openaigym.video.3.60986.video001000.meta.json'"
      ]
     },
     "execution_count": 77,
     "metadata": {},
     "output_type": "execute_result"
    }
   ],
   "source": [
    "videos = np.array(env.videos)\n",
    "\n",
    "videos = videos[10,:]\n",
    "videos[1]"
   ]
  },
  {
   "cell_type": "code",
   "execution_count": 78,
   "metadata": {},
   "outputs": [
    {
     "data": {
      "text/html": [
       "\n",
       "    <h2>Episode 64<h2/>\n",
       "    <video width=\"960\" height=\"540\" controls>\n",
       "        <source src=\"data:video/mp4;base64,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\" type=\"video/mp4\" />\n",
       "    </video>"
      ],
      "text/plain": [
       "<IPython.core.display.HTML object>"
      ]
     },
     "execution_count": 78,
     "metadata": {},
     "output_type": "execute_result"
    }
   ],
   "source": [
    "videos = np.array(env.videos)\n",
    "\n",
    "videos = videos[np.random.randint(len(videos)),:]\n",
    "\n",
    "strm = ''\n",
    "for video_path, meta_path in [videos]:\n",
    "    video = io.open(video_path, 'r+b').read()\n",
    "    encoded = base64.b64encode(video)\n",
    "    \n",
    "    with open(meta_path) as data_file:    \n",
    "        meta = json.load(data_file)\n",
    "\n",
    "    html_tag = \"\"\"\n",
    "    <h2>{0}<h2/>\n",
    "    <video width=\"960\" height=\"540\" controls>\n",
    "        <source src=\"data:video/mp4;base64,{1}\" type=\"video/mp4\" />\n",
    "    </video>\"\"\"\n",
    "    strm += html_tag.format('Episode ' + str(meta['episode_id']), encoded.decode('ascii'))\n",
    "HTML(data=strm)"
   ]
  },
  {
   "cell_type": "code",
   "execution_count": 79,
   "metadata": {},
   "outputs": [
    {
     "data": {
      "text/plain": [
       "'\\n    <h2>Episode 64<h2/>\\n    <video width=\"960\" height=\"540\" controls>\\n        <source src=\"data:video/mp4;base64,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\" type=\"video/mp4\" />\\n    </video>'"
      ]
     },
     "execution_count": 79,
     "metadata": {},
     "output_type": "execute_result"
    }
   ],
   "source": [
    "strm"
   ]
  },
  {
   "cell_type": "code",
   "execution_count": 42,
   "metadata": {},
   "outputs": [
    {
     "data": {
      "text/plain": [
       "array([ 0.38440345,  2.89789467,  6.9182084 , ...,  0.14498346,\n",
       "        0.44190829, -0.37710781])"
      ]
     },
     "execution_count": 42,
     "metadata": {},
     "output_type": "execute_result"
    }
   ],
   "source": [
    "V = np.max(Q, axis=1)\n",
    "V\n"
   ]
  },
  {
   "cell_type": "code",
   "execution_count": 43,
   "metadata": {},
   "outputs": [
    {
     "data": {
      "text/plain": [
       "95.747616692314821"
      ]
     },
     "execution_count": 43,
     "metadata": {},
     "output_type": "execute_result"
    }
   ],
   "source": [
    "V.max()"
   ]
  },
  {
   "cell_type": "code",
   "execution_count": 44,
   "metadata": {},
   "outputs": [
    {
     "data": {
      "text/plain": [
       "array([1, 1, 0, ..., 1, 0, 1])"
      ]
     },
     "execution_count": 44,
     "metadata": {},
     "output_type": "execute_result"
    }
   ],
   "source": [
    "pi = np.argmax(Q, axis=1)\n",
    "pi"
   ]
  },
  {
   "cell_type": "code",
   "execution_count": 45,
   "metadata": {},
   "outputs": [
    {
     "data": {
      "text/plain": [
       "(10000, 2)"
      ]
     },
     "execution_count": 45,
     "metadata": {},
     "output_type": "execute_result"
    }
   ],
   "source": [
    "np.shape(Q)"
   ]
  },
  {
   "cell_type": "code",
   "execution_count": 46,
   "metadata": {},
   "outputs": [
    {
     "name": "stderr",
     "output_type": "stream",
     "text": [
      "[2017-08-27 12:26:57,992] Finished writing results. You can upload them to the scoreboard via gym.upload('/var/folders/h5/n0m4g__513d80_1dp1xsxrb40000gn/T/tmp_jvs508l')\n",
      "[2017-08-27 12:26:58,002] [CartPole-v0] Uploading 5000 episodes of training data\n",
      "[2017-08-27 12:27:00,730] [CartPole-v0] Uploading videos of 14 training episodes (66279 bytes)\n",
      "[2017-08-27 12:27:02,015] [CartPole-v0] Creating evaluation object from /var/folders/h5/n0m4g__513d80_1dp1xsxrb40000gn/T/tmp_jvs508l with learning curve and training video\n",
      "[2017-08-27 12:27:02,220] \n",
      "****************************************************\n",
      "You successfully uploaded your evaluation on CartPole-v0 to\n",
      "OpenAI Gym! You can find it at:\n",
      "\n",
      "    https://gym.openai.com/evaluations/eval_WSnhtKYITcmz9KFLxQhURw\n",
      "\n",
      "****************************************************\n"
     ]
    }
   ],
   "source": [
    "env.close()\n",
    "gym.upload(mdir, api_key='sk_PP2R5NblSSaI9sECHDhu1g')"
   ]
  },
  {
   "cell_type": "markdown",
   "metadata": {},
   "source": [
    "- he recommends better discretization etc. "
   ]
  },
  {
   "cell_type": "markdown",
   "metadata": {
    "collapsed": true
   },
   "source": [
    "# Very Simple DQN "
   ]
  },
  {
   "cell_type": "code",
   "execution_count": 1,
   "metadata": {},
   "outputs": [
    {
     "name": "stderr",
     "output_type": "stream",
     "text": [
      "Using TensorFlow backend.\n"
     ]
    }
   ],
   "source": [
    "from keras.models import Sequential\n",
    "from keras.layers import Dense\n",
    "from keras.optimizers import Adam\n"
   ]
  },
  {
   "cell_type": "code",
   "execution_count": 2,
   "metadata": {
    "collapsed": true
   },
   "outputs": [],
   "source": [
    "from collections import deque\n",
    "import random\n"
   ]
  },
  {
   "cell_type": "code",
   "execution_count": 3,
   "metadata": {
    "collapsed": true
   },
   "outputs": [],
   "source": [
    "def action_selection(state,model,episode,n_episodes):\n",
    "    epsilon = 0.99 if episode < n_episodes//4 else 0.33 if episode < n_episodes//2 else 0.\n",
    "    \n",
    "    # this is using the deep neural net to predict v(s+1)\n",
    "    values = model.predict(state.reshape(1, state.shape[0]))[0]\n",
    "    if np.random.random()<epsilon:\n",
    "        action = np.random.randint(len(values))\n",
    "    else:\n",
    "        action = np.argmax(values)\n",
    "    return action, epsilon\n",
    "    "
   ]
  },
  {
   "cell_type": "code",
   "execution_count": 4,
   "metadata": {
    "collapsed": true
   },
   "outputs": [],
   "source": [
    "def neuro_q_learning(env, gamma = 0.99):\n",
    "    nS = env.observation_space.shape[0]\n",
    "    nA = env.env.action_space.n\n",
    "    \n",
    "    # memory bank\n",
    "    memory_bank = deque()\n",
    "    memory_bank_size = 100000\n",
    "    \n",
    "    # function approximator\n",
    "    model = Sequential()\n",
    "    model.add(Dense(128, input_dim=nS, activation='relu'))\n",
    "    model.add(Dense(128, activation='relu'))\n",
    "    model.add(Dense(nA, activation='linear'))\n",
    "    model.compile(loss='mse', optimizer='adam')\n",
    "\n",
    "    # constant values\n",
    "    n_episodes = 50000\n",
    "    batch_size = 256\n",
    "    training_frequency = 20\n",
    "    \n",
    "    # for statistics\n",
    "    epsilons = []\n",
    "    states = []\n",
    "    actions = []\n",
    "    \n",
    "    # interactions\n",
    "    for episode in range(n_episodes):\n",
    "        state = env.reset()\n",
    "        done = False\n",
    "        \n",
    "        # each episode\n",
    "        while not done:\n",
    "            states.append(state)\n",
    "            \n",
    "            # select action\n",
    "            action, epsilon = action_selection(state, model, episode, n_episodes)\n",
    "            epsilons.append(epsilon)\n",
    "            actions.append(action)\n",
    "            \n",
    "            # save history in memory bank\n",
    "            nstate, reward, done, info = env.step(action)\n",
    "            memory_bank.append((state, action, reward, nstate, done))\n",
    "            if len(memory_bank) > memory_bank_size:\n",
    "                memory_bank.popleft()\n",
    "            \n",
    "            # iterate to next state\n",
    "            state = nstate\n",
    "\n",
    "        # only every few episodes enter training and update neural network weights\n",
    "        if episode % training_frequency == 0 and len(memory_bank) == memory_bank_size:\n",
    "            \n",
    "            # randomly select batches of samples from the history\n",
    "            # for training to prevent values spiking due to high \n",
    "            # correlation of sequential values\n",
    "            minibatch = np.array(random.sample(memory_bank, batch_size))\n",
    "\n",
    "            # extract values by type from the minibatch\n",
    "            state_batch = np.array(minibatch[:,0].tolist())\n",
    "            action_batch = np.array(minibatch[:,1].tolist())\n",
    "            rewards_batch = np.array(minibatch[:,2].tolist())\n",
    "            state_prime_batch = np.array(minibatch[:,3].tolist())\n",
    "            is_terminal_batch = np.array(minibatch[:,4].tolist())\n",
    "\n",
    "            # use the current neural network to predict \n",
    "            # current state values and next state values\n",
    "            state_value_batch = model.predict(state_batch)\n",
    "            next_state_value_batch = model.predict(state_prime_batch)\n",
    "\n",
    "            # update the state values given the batch\n",
    "            for i in range(len(minibatch)):\n",
    "                if is_terminal_batch[i]:\n",
    "                    state_value_batch[i, action_batch[i]] = rewards_batch[i]\n",
    "                else:\n",
    "                    state_value_batch[i, action_batch[i]] = rewards_batch[i] + gamma * np.max(next_state_value_batch[i])\n",
    "            \n",
    "            # update the neural network weights\n",
    "            model.train_on_batch(state_batch, state_value_batch)\n",
    "\n",
    "    return model, (epsilons, states, actions)"
   ]
  },
  {
   "cell_type": "code",
   "execution_count": 10,
   "metadata": {},
   "outputs": [
    {
     "name": "stderr",
     "output_type": "stream",
     "text": [
      "[2017-08-27 15:17:10,739] Making new env: CartPole-v0\n"
     ]
    }
   ],
   "source": [
    "mdir = tempfile.mkdtemp()\n",
    "env = gym.make('CartPole-v0')\n",
    "env = wrappers.Monitor(env, mdir, force=True)\n"
   ]
  },
  {
   "cell_type": "code",
   "execution_count": 11,
   "metadata": {},
   "outputs": [
    {
     "name": "stderr",
     "output_type": "stream",
     "text": [
      "[2017-08-27 15:17:13,107] Starting new video recorder writing to /var/folders/h5/n0m4g__513d80_1dp1xsxrb40000gn/T/tmpzm2iv98c/openaigym.video.0.60986.video000000.mp4\n",
      "[2017-08-27 15:17:14,956] Starting new video recorder writing to /var/folders/h5/n0m4g__513d80_1dp1xsxrb40000gn/T/tmpzm2iv98c/openaigym.video.0.60986.video000001.mp4\n",
      "[2017-08-27 15:17:15,301] Starting new video recorder writing to /var/folders/h5/n0m4g__513d80_1dp1xsxrb40000gn/T/tmpzm2iv98c/openaigym.video.0.60986.video000008.mp4\n",
      "[2017-08-27 15:17:16,035] Starting new video recorder writing to /var/folders/h5/n0m4g__513d80_1dp1xsxrb40000gn/T/tmpzm2iv98c/openaigym.video.0.60986.video000027.mp4\n",
      "[2017-08-27 15:17:16,754] Starting new video recorder writing to /var/folders/h5/n0m4g__513d80_1dp1xsxrb40000gn/T/tmpzm2iv98c/openaigym.video.0.60986.video000064.mp4\n",
      "[2017-08-27 15:17:17,728] Starting new video recorder writing to /var/folders/h5/n0m4g__513d80_1dp1xsxrb40000gn/T/tmpzm2iv98c/openaigym.video.0.60986.video000125.mp4\n",
      "[2017-08-27 15:17:19,068] Starting new video recorder writing to /var/folders/h5/n0m4g__513d80_1dp1xsxrb40000gn/T/tmpzm2iv98c/openaigym.video.0.60986.video000216.mp4\n",
      "[2017-08-27 15:17:21,321] Starting new video recorder writing to /var/folders/h5/n0m4g__513d80_1dp1xsxrb40000gn/T/tmpzm2iv98c/openaigym.video.0.60986.video000343.mp4\n",
      "[2017-08-27 15:17:23,165] Starting new video recorder writing to /var/folders/h5/n0m4g__513d80_1dp1xsxrb40000gn/T/tmpzm2iv98c/openaigym.video.0.60986.video000512.mp4\n",
      "[2017-08-27 15:17:25,499] Starting new video recorder writing to /var/folders/h5/n0m4g__513d80_1dp1xsxrb40000gn/T/tmpzm2iv98c/openaigym.video.0.60986.video000729.mp4\n",
      "[2017-08-27 15:17:28,802] Starting new video recorder writing to /var/folders/h5/n0m4g__513d80_1dp1xsxrb40000gn/T/tmpzm2iv98c/openaigym.video.0.60986.video001000.mp4\n",
      "[2017-08-27 15:17:39,728] Starting new video recorder writing to /var/folders/h5/n0m4g__513d80_1dp1xsxrb40000gn/T/tmpzm2iv98c/openaigym.video.0.60986.video002000.mp4\n",
      "[2017-08-27 15:17:49,654] Starting new video recorder writing to /var/folders/h5/n0m4g__513d80_1dp1xsxrb40000gn/T/tmpzm2iv98c/openaigym.video.0.60986.video003000.mp4\n",
      "[2017-08-27 15:18:00,617] Starting new video recorder writing to /var/folders/h5/n0m4g__513d80_1dp1xsxrb40000gn/T/tmpzm2iv98c/openaigym.video.0.60986.video004000.mp4\n",
      "[2017-08-27 15:18:12,024] Starting new video recorder writing to /var/folders/h5/n0m4g__513d80_1dp1xsxrb40000gn/T/tmpzm2iv98c/openaigym.video.0.60986.video005000.mp4\n",
      "[2017-08-27 15:18:22,913] Starting new video recorder writing to /var/folders/h5/n0m4g__513d80_1dp1xsxrb40000gn/T/tmpzm2iv98c/openaigym.video.0.60986.video006000.mp4\n",
      "[2017-08-27 15:18:33,858] Starting new video recorder writing to /var/folders/h5/n0m4g__513d80_1dp1xsxrb40000gn/T/tmpzm2iv98c/openaigym.video.0.60986.video007000.mp4\n",
      "[2017-08-27 15:18:45,470] Starting new video recorder writing to /var/folders/h5/n0m4g__513d80_1dp1xsxrb40000gn/T/tmpzm2iv98c/openaigym.video.0.60986.video008000.mp4\n",
      "[2017-08-27 15:18:56,353] Starting new video recorder writing to /var/folders/h5/n0m4g__513d80_1dp1xsxrb40000gn/T/tmpzm2iv98c/openaigym.video.0.60986.video009000.mp4\n",
      "[2017-08-27 15:19:06,953] Starting new video recorder writing to /var/folders/h5/n0m4g__513d80_1dp1xsxrb40000gn/T/tmpzm2iv98c/openaigym.video.0.60986.video010000.mp4\n",
      "[2017-08-27 15:19:17,336] Starting new video recorder writing to /var/folders/h5/n0m4g__513d80_1dp1xsxrb40000gn/T/tmpzm2iv98c/openaigym.video.0.60986.video011000.mp4\n",
      "[2017-08-27 15:19:28,600] Starting new video recorder writing to /var/folders/h5/n0m4g__513d80_1dp1xsxrb40000gn/T/tmpzm2iv98c/openaigym.video.0.60986.video012000.mp4\n",
      "[2017-08-27 15:19:37,463] Starting new video recorder writing to /var/folders/h5/n0m4g__513d80_1dp1xsxrb40000gn/T/tmpzm2iv98c/openaigym.video.0.60986.video013000.mp4\n",
      "[2017-08-27 15:19:43,307] Starting new video recorder writing to /var/folders/h5/n0m4g__513d80_1dp1xsxrb40000gn/T/tmpzm2iv98c/openaigym.video.0.60986.video014000.mp4\n",
      "[2017-08-27 15:19:49,477] Starting new video recorder writing to /var/folders/h5/n0m4g__513d80_1dp1xsxrb40000gn/T/tmpzm2iv98c/openaigym.video.0.60986.video015000.mp4\n",
      "[2017-08-27 15:19:55,982] Starting new video recorder writing to /var/folders/h5/n0m4g__513d80_1dp1xsxrb40000gn/T/tmpzm2iv98c/openaigym.video.0.60986.video016000.mp4\n",
      "[2017-08-27 15:20:03,640] Starting new video recorder writing to /var/folders/h5/n0m4g__513d80_1dp1xsxrb40000gn/T/tmpzm2iv98c/openaigym.video.0.60986.video017000.mp4\n",
      "[2017-08-27 15:20:13,094] Starting new video recorder writing to /var/folders/h5/n0m4g__513d80_1dp1xsxrb40000gn/T/tmpzm2iv98c/openaigym.video.0.60986.video018000.mp4\n",
      "[2017-08-27 15:20:24,979] Starting new video recorder writing to /var/folders/h5/n0m4g__513d80_1dp1xsxrb40000gn/T/tmpzm2iv98c/openaigym.video.0.60986.video019000.mp4\n",
      "[2017-08-27 15:20:42,053] Starting new video recorder writing to /var/folders/h5/n0m4g__513d80_1dp1xsxrb40000gn/T/tmpzm2iv98c/openaigym.video.0.60986.video020000.mp4\n",
      "[2017-08-27 15:21:11,147] Starting new video recorder writing to /var/folders/h5/n0m4g__513d80_1dp1xsxrb40000gn/T/tmpzm2iv98c/openaigym.video.0.60986.video021000.mp4\n",
      "[2017-08-27 15:21:31,485] Starting new video recorder writing to /var/folders/h5/n0m4g__513d80_1dp1xsxrb40000gn/T/tmpzm2iv98c/openaigym.video.0.60986.video022000.mp4\n",
      "[2017-08-27 15:21:55,544] Starting new video recorder writing to /var/folders/h5/n0m4g__513d80_1dp1xsxrb40000gn/T/tmpzm2iv98c/openaigym.video.0.60986.video023000.mp4\n",
      "[2017-08-27 15:22:17,360] Starting new video recorder writing to /var/folders/h5/n0m4g__513d80_1dp1xsxrb40000gn/T/tmpzm2iv98c/openaigym.video.0.60986.video024000.mp4\n",
      "[2017-08-27 15:22:41,136] Starting new video recorder writing to /var/folders/h5/n0m4g__513d80_1dp1xsxrb40000gn/T/tmpzm2iv98c/openaigym.video.0.60986.video025000.mp4\n",
      "[2017-08-27 15:23:08,266] Starting new video recorder writing to /var/folders/h5/n0m4g__513d80_1dp1xsxrb40000gn/T/tmpzm2iv98c/openaigym.video.0.60986.video026000.mp4\n",
      "[2017-08-27 15:23:57,844] Starting new video recorder writing to /var/folders/h5/n0m4g__513d80_1dp1xsxrb40000gn/T/tmpzm2iv98c/openaigym.video.0.60986.video027000.mp4\n",
      "[2017-08-27 15:24:45,192] Starting new video recorder writing to /var/folders/h5/n0m4g__513d80_1dp1xsxrb40000gn/T/tmpzm2iv98c/openaigym.video.0.60986.video028000.mp4\n",
      "[2017-08-27 15:25:13,049] Starting new video recorder writing to /var/folders/h5/n0m4g__513d80_1dp1xsxrb40000gn/T/tmpzm2iv98c/openaigym.video.0.60986.video029000.mp4\n",
      "[2017-08-27 15:25:49,452] Starting new video recorder writing to /var/folders/h5/n0m4g__513d80_1dp1xsxrb40000gn/T/tmpzm2iv98c/openaigym.video.0.60986.video030000.mp4\n",
      "[2017-08-27 15:26:42,611] Starting new video recorder writing to /var/folders/h5/n0m4g__513d80_1dp1xsxrb40000gn/T/tmpzm2iv98c/openaigym.video.0.60986.video031000.mp4\n",
      "[2017-08-27 15:27:39,189] Starting new video recorder writing to /var/folders/h5/n0m4g__513d80_1dp1xsxrb40000gn/T/tmpzm2iv98c/openaigym.video.0.60986.video032000.mp4\n",
      "[2017-08-27 15:28:56,528] Starting new video recorder writing to /var/folders/h5/n0m4g__513d80_1dp1xsxrb40000gn/T/tmpzm2iv98c/openaigym.video.0.60986.video033000.mp4\n",
      "[2017-08-27 15:29:47,074] Starting new video recorder writing to /var/folders/h5/n0m4g__513d80_1dp1xsxrb40000gn/T/tmpzm2iv98c/openaigym.video.0.60986.video034000.mp4\n",
      "[2017-08-27 15:30:38,687] Starting new video recorder writing to /var/folders/h5/n0m4g__513d80_1dp1xsxrb40000gn/T/tmpzm2iv98c/openaigym.video.0.60986.video035000.mp4\n",
      "[2017-08-27 15:31:16,817] Starting new video recorder writing to /var/folders/h5/n0m4g__513d80_1dp1xsxrb40000gn/T/tmpzm2iv98c/openaigym.video.0.60986.video036000.mp4\n",
      "[2017-08-27 15:31:57,439] Starting new video recorder writing to /var/folders/h5/n0m4g__513d80_1dp1xsxrb40000gn/T/tmpzm2iv98c/openaigym.video.0.60986.video037000.mp4\n",
      "[2017-08-27 15:32:19,361] Starting new video recorder writing to /var/folders/h5/n0m4g__513d80_1dp1xsxrb40000gn/T/tmpzm2iv98c/openaigym.video.0.60986.video038000.mp4\n",
      "[2017-08-27 15:32:50,675] Starting new video recorder writing to /var/folders/h5/n0m4g__513d80_1dp1xsxrb40000gn/T/tmpzm2iv98c/openaigym.video.0.60986.video039000.mp4\n",
      "[2017-08-27 15:33:16,593] Starting new video recorder writing to /var/folders/h5/n0m4g__513d80_1dp1xsxrb40000gn/T/tmpzm2iv98c/openaigym.video.0.60986.video040000.mp4\n"
     ]
    },
    {
     "name": "stderr",
     "output_type": "stream",
     "text": [
      "[2017-08-27 15:33:26,778] Starting new video recorder writing to /var/folders/h5/n0m4g__513d80_1dp1xsxrb40000gn/T/tmpzm2iv98c/openaigym.video.0.60986.video041000.mp4\n",
      "[2017-08-27 15:33:50,881] Starting new video recorder writing to /var/folders/h5/n0m4g__513d80_1dp1xsxrb40000gn/T/tmpzm2iv98c/openaigym.video.0.60986.video042000.mp4\n",
      "[2017-08-27 15:35:00,499] Starting new video recorder writing to /var/folders/h5/n0m4g__513d80_1dp1xsxrb40000gn/T/tmpzm2iv98c/openaigym.video.0.60986.video043000.mp4\n",
      "[2017-08-27 15:36:31,239] Starting new video recorder writing to /var/folders/h5/n0m4g__513d80_1dp1xsxrb40000gn/T/tmpzm2iv98c/openaigym.video.0.60986.video044000.mp4\n",
      "[2017-08-27 15:38:03,583] Starting new video recorder writing to /var/folders/h5/n0m4g__513d80_1dp1xsxrb40000gn/T/tmpzm2iv98c/openaigym.video.0.60986.video045000.mp4\n",
      "[2017-08-27 15:39:41,374] Starting new video recorder writing to /var/folders/h5/n0m4g__513d80_1dp1xsxrb40000gn/T/tmpzm2iv98c/openaigym.video.0.60986.video046000.mp4\n",
      "[2017-08-27 15:41:20,527] Starting new video recorder writing to /var/folders/h5/n0m4g__513d80_1dp1xsxrb40000gn/T/tmpzm2iv98c/openaigym.video.0.60986.video047000.mp4\n",
      "[2017-08-27 15:42:54,304] Starting new video recorder writing to /var/folders/h5/n0m4g__513d80_1dp1xsxrb40000gn/T/tmpzm2iv98c/openaigym.video.0.60986.video048000.mp4\n",
      "[2017-08-27 15:44:15,021] Starting new video recorder writing to /var/folders/h5/n0m4g__513d80_1dp1xsxrb40000gn/T/tmpzm2iv98c/openaigym.video.0.60986.video049000.mp4\n"
     ]
    }
   ],
   "source": [
    "model, stats = neuro_q_learning(env)"
   ]
  },
  {
   "cell_type": "code",
   "execution_count": 12,
   "metadata": {
    "collapsed": true
   },
   "outputs": [],
   "source": [
    "env.render(close=True) ### NICE THIS WORKS "
   ]
  },
  {
   "cell_type": "code",
   "execution_count": 19,
   "metadata": {},
   "outputs": [
    {
     "name": "stderr",
     "output_type": "stream",
     "text": [
      "[2017-08-27 16:26:07,487] Finished writing results. You can upload them to the scoreboard via gym.upload('/var/folders/h5/n0m4g__513d80_1dp1xsxrb40000gn/T/tmpzm2iv98c')\n"
     ]
    }
   ],
   "source": [
    "env.close()"
   ]
  },
  {
   "cell_type": "code",
   "execution_count": 20,
   "metadata": {},
   "outputs": [
    {
     "name": "stderr",
     "output_type": "stream",
     "text": [
      "[2017-08-27 16:26:18,965] [CartPole-v0] Uploading 50000 episodes of training data\n",
      "[2017-08-27 16:26:24,366] [CartPole-v0] Uploading videos of 59 training episodes (282393 bytes)\n",
      "[2017-08-27 16:26:24,970] [CartPole-v0] Creating evaluation object from /var/folders/h5/n0m4g__513d80_1dp1xsxrb40000gn/T/tmpzm2iv98c with learning curve and training video\n",
      "[2017-08-27 16:26:25,143] \n",
      "****************************************************\n",
      "You successfully uploaded your evaluation on CartPole-v0 to\n",
      "OpenAI Gym! You can find it at:\n",
      "\n",
      "    https://gym.openai.com/evaluations/eval_3TfbEYMCQLiEvL5D00pelQ\n",
      "\n",
      "****************************************************\n"
     ]
    }
   ],
   "source": [
    "gym.upload(mdir, api_key='sk_PP2R5NblSSaI9sECHDhu1g')"
   ]
  },
  {
   "cell_type": "code",
   "execution_count": 24,
   "metadata": {},
   "outputs": [],
   "source": [
    "epsilons, states, actions = stats"
   ]
  },
  {
   "cell_type": "code",
   "execution_count": 30,
   "metadata": {},
   "outputs": [
    {
     "data": {
      "text/plain": [
       "(3437140, 4)"
      ]
     },
     "execution_count": 30,
     "metadata": {},
     "output_type": "execute_result"
    }
   ],
   "source": [
    "np.shape(states)"
   ]
  },
  {
   "cell_type": "code",
   "execution_count": 81,
   "metadata": {},
   "outputs": [
    {
     "name": "stderr",
     "output_type": "stream",
     "text": [
      "[2017-08-27 16:37:39,795] Making new env: CartPole-v0\n",
      "[2017-08-27 16:37:39,840] Finished writing results. You can upload them to the scoreboard via gym.upload('/var/folders/h5/n0m4g__513d80_1dp1xsxrb40000gn/T/tmp5zlau5au')\n",
      "[2017-08-27 16:37:39,843] Starting new video recorder writing to /var/folders/h5/n0m4g__513d80_1dp1xsxrb40000gn/T/tmpyzfmabxu/openaigym.video.4.60986.video000000.mp4\n",
      "[2017-08-27 16:37:41,735] Starting new video recorder writing to /var/folders/h5/n0m4g__513d80_1dp1xsxrb40000gn/T/tmpyzfmabxu/openaigym.video.4.60986.video000001.mp4\n",
      "[2017-08-27 16:37:43,848] Starting new video recorder writing to /var/folders/h5/n0m4g__513d80_1dp1xsxrb40000gn/T/tmpyzfmabxu/openaigym.video.4.60986.video000008.mp4\n",
      "[2017-08-27 16:37:48,195] Starting new video recorder writing to /var/folders/h5/n0m4g__513d80_1dp1xsxrb40000gn/T/tmpyzfmabxu/openaigym.video.4.60986.video000027.mp4\n",
      "[2017-08-27 16:37:52,327] Starting new video recorder writing to /var/folders/h5/n0m4g__513d80_1dp1xsxrb40000gn/T/tmpyzfmabxu/openaigym.video.4.60986.video000064.mp4\n"
     ]
    }
   ],
   "source": [
    "mdir = tempfile.mkdtemp()\n",
    "env = gym.make('CartPole-v0')\n",
    "env = wrappers.Monitor(env, mdir, force=True)\n",
    "\n",
    "for episode in range(100):\n",
    "    state = env.reset()\n",
    "    done = False\n",
    "    while not done:\n",
    "        action = np.argmax(model.predict(state.reshape(1, 4))[0])\n",
    "        nstate, reward, done, info = env.step(action)\n",
    "        state = nstate"
   ]
  },
  {
   "cell_type": "code",
   "execution_count": 82,
   "metadata": {
    "collapsed": true
   },
   "outputs": [],
   "source": [
    "env.render(close=True) ### NICE THIS WORKS "
   ]
  },
  {
   "cell_type": "code",
   "execution_count": 83,
   "metadata": {
    "collapsed": true
   },
   "outputs": [],
   "source": [
    "import io\n",
    "import base64\n",
    "from IPython.display import HTML"
   ]
  },
  {
   "cell_type": "code",
   "execution_count": 84,
   "metadata": {},
   "outputs": [
    {
     "data": {
      "text/html": [
       "\n",
       "    <h2>Episode 8<h2/>\n",
       "    <video width=\"960\" height=\"540\" controls>\n",
       "        <source src=\"data:video/mp4;base64,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"
      ],
      "text/plain": [
       "<IPython.core.display.HTML object>"
      ]
     },
     "execution_count": 84,
     "metadata": {},
     "output_type": "execute_result"
    },
    {
     "data": {
      "text/html": [
       "<b>limit_output extension: Maximum message size of 10000 exceeded with 19919 characters</b>"
      ]
     },
     "metadata": {},
     "output_type": "display_data"
    }
   ],
   "source": [
    "videos = np.array(env.videos)\n",
    "\n",
    "videos = videos[np.random.randint(len(videos)),:]\n",
    "\n",
    "strm = ''\n",
    "for video_path, meta_path in [videos]:\n",
    "    video = io.open(video_path, 'r+b').read()\n",
    "    encoded = base64.b64encode(video)\n",
    "    \n",
    "    with open(meta_path) as data_file:    \n",
    "        meta = json.load(data_file)\n",
    "\n",
    "    html_tag = \"\"\"\n",
    "    <h2>{0}<h2/>\n",
    "    <video width=\"960\" height=\"540\" controls>\n",
    "        <source src=\"data:video/mp4;base64,{1}\" type=\"video/mp4\" />\n",
    "    </video>\"\"\"\n",
    "    strm += html_tag.format('Episode ' + str(meta['episode_id']), encoded.decode('ascii'))\n",
    "HTML(data=strm)"
   ]
  },
  {
   "cell_type": "code",
   "execution_count": 35,
   "metadata": {},
   "outputs": [
    {
     "name": "stderr",
     "output_type": "stream",
     "text": [
      "[2017-08-27 16:28:36,151] Finished writing results. You can upload them to the scoreboard via gym.upload('/var/folders/h5/n0m4g__513d80_1dp1xsxrb40000gn/T/tmp0qo4j8oq')\n"
     ]
    }
   ],
   "source": [
    "env.close()"
   ]
  },
  {
   "cell_type": "code",
   "execution_count": 36,
   "metadata": {},
   "outputs": [
    {
     "name": "stderr",
     "output_type": "stream",
     "text": [
      "[2017-08-27 16:28:41,751] [CartPole-v0] Uploading 100 episodes of training data\n",
      "[2017-08-27 16:28:42,710] [CartPole-v0] Uploading videos of 5 training episodes (51688 bytes)\n",
      "[2017-08-27 16:28:43,338] [CartPole-v0] Creating evaluation object from /var/folders/h5/n0m4g__513d80_1dp1xsxrb40000gn/T/tmp0qo4j8oq with learning curve and training video\n",
      "[2017-08-27 16:28:43,495] \n",
      "****************************************************\n",
      "You successfully uploaded your evaluation on CartPole-v0 to\n",
      "OpenAI Gym! You can find it at:\n",
      "\n",
      "    https://gym.openai.com/evaluations/eval_5Ef3ktEdS6S3ZVdZCSogg\n",
      "\n",
      "****************************************************\n"
     ]
    }
   ],
   "source": [
    "gym.upload(mdir, api_key='sk_PP2R5NblSSaI9sECHDhu1g')"
   ]
  }
 ],
 "metadata": {
  "_draft": {
   "nbviewer_url": "https://gist.github.com/2713050a70fa6ee77828a84e7588c99b"
  },
  "gist": {
   "data": {
    "description": "inc_Reinforcement_Learning_OpenAI_Universe_and_Approx_Methods.ipynb",
    "public": false
   },
   "id": "2713050a70fa6ee77828a84e7588c99b"
  },
  "hide_input": false,
  "kernelspec": {
   "display_name": "Python 3",
   "language": "python",
   "name": "python3"
  },
  "language_info": {
   "codemirror_mode": {
    "name": "ipython",
    "version": 3
   },
   "file_extension": ".py",
   "mimetype": "text/x-python",
   "name": "python",
   "nbconvert_exporter": "python",
   "pygments_lexer": "ipython3",
   "version": "3.6.1rc1"
  },
  "toc": {
   "colors": {
    "hover_highlight": "#DAA520",
    "navigate_num": "#000000",
    "navigate_text": "#333333",
    "running_highlight": "#FF0000",
    "selected_highlight": "#FFD700",
    "sidebar_border": "#EEEEEE",
    "wrapper_background": "#FFFFFF"
   },
   "moveMenuLeft": true,
   "nav_menu": {
    "height": "83px",
    "width": "253px"
   },
   "navigate_menu": true,
   "number_sections": false,
   "sideBar": true,
   "threshold": 4,
   "toc_cell": false,
   "toc_section_display": "block",
   "toc_window_display": true,
   "widenNotebook": false
  }
 },
 "nbformat": 4,
 "nbformat_minor": 1
}
