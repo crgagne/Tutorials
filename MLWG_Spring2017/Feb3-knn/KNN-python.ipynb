{
 "cells": [
  {
   "cell_type": "markdown",
   "metadata": {},
   "source": [
    "# KNN"
   ]
  },
  {
   "cell_type": "markdown",
   "metadata": {},
   "source": [
    "First we need to import the relevant libraries, namely the dataset, Python's `numpy`, a graphing library, and the machine learning library `scikit-learn`"
   ]
  },
  {
   "cell_type": "code",
   "execution_count": 1,
   "metadata": {
    "collapsed": true
   },
   "outputs": [],
   "source": [
    "from sklearn.datasets import load_boston\n",
    "import numpy as np\n",
    "import matplotlib.pyplot as plt\n",
    "from sklearn.utils import shuffle\n",
    "from sklearn.metrics import mean_squared_error\n",
    "from sklearn.model_selection import train_test_split\n",
    "from sklearn import neighbors, preprocessing\n",
    "from sklearn.model_selection import GridSearchCV"
   ]
  },
  {
   "cell_type": "code",
   "execution_count": 2,
   "metadata": {
    "collapsed": false
   },
   "outputs": [],
   "source": [
    "np.random.seed(1)"
   ]
  },
  {
   "cell_type": "markdown",
   "metadata": {},
   "source": [
    "## Regression"
   ]
  },
  {
   "cell_type": "markdown",
   "metadata": {},
   "source": [
    "The Boston dataset was originally devised for regression, so we'll first show a simple regression model in `scikit-learn`"
   ]
  },
  {
   "cell_type": "markdown",
   "metadata": {},
   "source": [
    "### Basic single model:"
   ]
  },
  {
   "cell_type": "markdown",
   "metadata": {},
   "source": [
    "Let's load the data and split into training and testing portions"
   ]
  },
  {
   "cell_type": "code",
   "execution_count": 3,
   "metadata": {
    "collapsed": false
   },
   "outputs": [],
   "source": [
    "boston = load_boston()\n",
    "\n",
    "X, y = shuffle(boston.data, boston.target, random_state=1)\n",
    "X_train, X_test, y_train, y_test = train_test_split(X, y, train_size=0.8, test_size=0.2)\n",
    "\n",
    "scaler = preprocessing.StandardScaler().fit(X_train)\n",
    "X_train = scaler.transform(X_train)\n",
    "X_test = scaler.transform(X_test)"
   ]
  },
  {
   "cell_type": "markdown",
   "metadata": {},
   "source": [
    "We'll keep with how we determined `k` in `R`, by taking the square root of the number of observations"
   ]
  },
  {
   "cell_type": "code",
   "execution_count": 4,
   "metadata": {
    "collapsed": false
   },
   "outputs": [
    {
     "name": "stdout",
     "output_type": "stream",
     "text": [
      "k: 20\n"
     ]
    }
   ],
   "source": [
    "k = int(len(X_train) ** (1/2))\n",
    "print(\"k: \" + str(k))"
   ]
  },
  {
   "cell_type": "markdown",
   "metadata": {},
   "source": [
    "We now define the parameters for the model, and given them to the model object, fit the model to the data, and calculate the MSE on the testing data"
   ]
  },
  {
   "cell_type": "code",
   "execution_count": 5,
   "metadata": {
    "collapsed": false
   },
   "outputs": [
    {
     "name": "stdout",
     "output_type": "stream",
     "text": [
      "MSE: 24.9820\n",
      "0.736265561435\n"
     ]
    }
   ],
   "source": [
    "params = {'n_neighbors': k, 'weights': \"uniform\"}\n",
    "\n",
    "kkn_r = neighbors.KNeighborsRegressor(**params)\n",
    "\n",
    "kkn_r.fit(X_train, y_train)\n",
    "mse = mean_squared_error(y_test, kkn_r.predict(X_test))\n",
    "print(\"MSE: %.4f\" % mse)\n",
    "print(kkn_r.score(X_test, y_test))"
   ]
  },
  {
   "cell_type": "markdown",
   "metadata": {},
   "source": [
    "## Grid search:"
   ]
  },
  {
   "cell_type": "markdown",
   "metadata": {},
   "source": [
    "A more thorough analysis allows for checking multiple values for any parameter, let's look for the best model by looking at a range of values for `k`"
   ]
  },
  {
   "cell_type": "code",
   "execution_count": 6,
   "metadata": {
    "collapsed": false
   },
   "outputs": [
    {
     "data": {
      "text/plain": [
       "GridSearchCV(cv=None, error_score='raise',\n",
       "       estimator=KNeighborsRegressor(algorithm='auto', leaf_size=30, metric='minkowski',\n",
       "          metric_params=None, n_jobs=1, n_neighbors=5, p=2,\n",
       "          weights='uniform'),\n",
       "       fit_params={}, iid=True, n_jobs=1,\n",
       "       param_grid={'weights': ['uniform', 'distance'], 'n_neighbors': array([ 1,  2,  3,  4,  5,  6,  7,  8,  9, 10, 11, 12, 13, 14, 15, 16, 17,\n",
       "       18, 19, 20, 21, 22, 23, 24, 25, 26, 27, 28, 29])},\n",
       "       pre_dispatch='2*n_jobs', refit=True, return_train_score=True,\n",
       "       scoring=None, verbose=0)"
      ]
     },
     "execution_count": 6,
     "metadata": {},
     "output_type": "execute_result"
    }
   ],
   "source": [
    "from sklearn.model_selection import GridSearchCV\n",
    "\n",
    "param_grid = {'n_neighbors': np.arange(1, int(k+(k/2)), 1),\n",
    "              'weights': [\"uniform\", \"distance\"]}\n",
    "\n",
    "knn_r = GridSearchCV(neighbors.KNeighborsRegressor(), param_grid)\n",
    "knn_r.fit(X_train, y_train)"
   ]
  },
  {
   "cell_type": "markdown",
   "metadata": {},
   "source": [
    "The cross-validated results come in the form of a dictionary with the following keys"
   ]
  },
  {
   "cell_type": "code",
   "execution_count": 7,
   "metadata": {
    "collapsed": false
   },
   "outputs": [
    {
     "data": {
      "text/plain": [
       "['mean_fit_time',\n",
       " 'mean_score_time',\n",
       " 'mean_test_score',\n",
       " 'mean_train_score',\n",
       " 'param_n_neighbors',\n",
       " 'param_weights',\n",
       " 'params',\n",
       " 'rank_test_score',\n",
       " 'split0_test_score',\n",
       " 'split0_train_score',\n",
       " 'split1_test_score',\n",
       " 'split1_train_score',\n",
       " 'split2_test_score',\n",
       " 'split2_train_score',\n",
       " 'std_fit_time',\n",
       " 'std_score_time',\n",
       " 'std_test_score',\n",
       " 'std_train_score']"
      ]
     },
     "execution_count": 7,
     "metadata": {},
     "output_type": "execute_result"
    }
   ],
   "source": [
    "sorted(knn_r.cv_results_.keys())"
   ]
  },
  {
   "cell_type": "markdown",
   "metadata": {},
   "source": [
    "If we want to know explicitly which parameter combinations were computed, we can check the `params` key"
   ]
  },
  {
   "cell_type": "code",
   "execution_count": 8,
   "metadata": {
    "collapsed": false
   },
   "outputs": [
    {
     "data": {
      "text/plain": [
       "({'n_neighbors': 1, 'weights': 'uniform'},\n",
       " {'n_neighbors': 1, 'weights': 'distance'},\n",
       " {'n_neighbors': 2, 'weights': 'uniform'},\n",
       " {'n_neighbors': 2, 'weights': 'distance'},\n",
       " {'n_neighbors': 3, 'weights': 'uniform'},\n",
       " {'n_neighbors': 3, 'weights': 'distance'},\n",
       " {'n_neighbors': 4, 'weights': 'uniform'},\n",
       " {'n_neighbors': 4, 'weights': 'distance'},\n",
       " {'n_neighbors': 5, 'weights': 'uniform'},\n",
       " {'n_neighbors': 5, 'weights': 'distance'},\n",
       " {'n_neighbors': 6, 'weights': 'uniform'},\n",
       " {'n_neighbors': 6, 'weights': 'distance'},\n",
       " {'n_neighbors': 7, 'weights': 'uniform'},\n",
       " {'n_neighbors': 7, 'weights': 'distance'},\n",
       " {'n_neighbors': 8, 'weights': 'uniform'},\n",
       " {'n_neighbors': 8, 'weights': 'distance'},\n",
       " {'n_neighbors': 9, 'weights': 'uniform'},\n",
       " {'n_neighbors': 9, 'weights': 'distance'},\n",
       " {'n_neighbors': 10, 'weights': 'uniform'},\n",
       " {'n_neighbors': 10, 'weights': 'distance'},\n",
       " {'n_neighbors': 11, 'weights': 'uniform'},\n",
       " {'n_neighbors': 11, 'weights': 'distance'},\n",
       " {'n_neighbors': 12, 'weights': 'uniform'},\n",
       " {'n_neighbors': 12, 'weights': 'distance'},\n",
       " {'n_neighbors': 13, 'weights': 'uniform'},\n",
       " {'n_neighbors': 13, 'weights': 'distance'},\n",
       " {'n_neighbors': 14, 'weights': 'uniform'},\n",
       " {'n_neighbors': 14, 'weights': 'distance'},\n",
       " {'n_neighbors': 15, 'weights': 'uniform'},\n",
       " {'n_neighbors': 15, 'weights': 'distance'},\n",
       " {'n_neighbors': 16, 'weights': 'uniform'},\n",
       " {'n_neighbors': 16, 'weights': 'distance'},\n",
       " {'n_neighbors': 17, 'weights': 'uniform'},\n",
       " {'n_neighbors': 17, 'weights': 'distance'},\n",
       " {'n_neighbors': 18, 'weights': 'uniform'},\n",
       " {'n_neighbors': 18, 'weights': 'distance'},\n",
       " {'n_neighbors': 19, 'weights': 'uniform'},\n",
       " {'n_neighbors': 19, 'weights': 'distance'},\n",
       " {'n_neighbors': 20, 'weights': 'uniform'},\n",
       " {'n_neighbors': 20, 'weights': 'distance'},\n",
       " {'n_neighbors': 21, 'weights': 'uniform'},\n",
       " {'n_neighbors': 21, 'weights': 'distance'},\n",
       " {'n_neighbors': 22, 'weights': 'uniform'},\n",
       " {'n_neighbors': 22, 'weights': 'distance'},\n",
       " {'n_neighbors': 23, 'weights': 'uniform'},\n",
       " {'n_neighbors': 23, 'weights': 'distance'},\n",
       " {'n_neighbors': 24, 'weights': 'uniform'},\n",
       " {'n_neighbors': 24, 'weights': 'distance'},\n",
       " {'n_neighbors': 25, 'weights': 'uniform'},\n",
       " {'n_neighbors': 25, 'weights': 'distance'},\n",
       " {'n_neighbors': 26, 'weights': 'uniform'},\n",
       " {'n_neighbors': 26, 'weights': 'distance'},\n",
       " {'n_neighbors': 27, 'weights': 'uniform'},\n",
       " {'n_neighbors': 27, 'weights': 'distance'},\n",
       " {'n_neighbors': 28, 'weights': 'uniform'},\n",
       " {'n_neighbors': 28, 'weights': 'distance'},\n",
       " {'n_neighbors': 29, 'weights': 'uniform'},\n",
       " {'n_neighbors': 29, 'weights': 'distance'})"
      ]
     },
     "execution_count": 8,
     "metadata": {},
     "output_type": "execute_result"
    }
   ],
   "source": [
    "knn_r.cv_results_[\"params\"]"
   ]
  },
  {
   "cell_type": "markdown",
   "metadata": {},
   "source": [
    "The `mean_test_score` key gives the score for each of the above combinations on the CV"
   ]
  },
  {
   "cell_type": "code",
   "execution_count": 9,
   "metadata": {
    "collapsed": false
   },
   "outputs": [
    {
     "data": {
      "text/plain": [
       "array([ 0.65196087,  0.65196087,  0.68616272,  0.70788426,  0.72378716,\n",
       "        0.75479941,  0.70218773,  0.74137525,  0.71139667,  0.74532754,\n",
       "        0.71158707,  0.74667568,  0.70462123,  0.74202155,  0.70471201,\n",
       "        0.73864603,  0.69630483,  0.73255173,  0.6917272 ,  0.72737057,\n",
       "        0.68728466,  0.72377333,  0.68379587,  0.72158735,  0.67545972,\n",
       "        0.71550431,  0.66517757,  0.70823355,  0.66014866,  0.70418569,\n",
       "        0.65604771,  0.70022502,  0.64678475,  0.69265114,  0.64227177,\n",
       "        0.68867076,  0.637639  ,  0.68481846,  0.63235158,  0.68043671,\n",
       "        0.62473719,  0.67383375,  0.6193789 ,  0.66944228,  0.61344146,\n",
       "        0.66430505,  0.60576799,  0.65794801,  0.59871414,  0.65225043,\n",
       "        0.59372617,  0.64816131,  0.58921686,  0.64458522,  0.58606534,\n",
       "        0.64094321,  0.5806255 ,  0.63642241])"
      ]
     },
     "execution_count": 9,
     "metadata": {},
     "output_type": "execute_result"
    }
   ],
   "source": [
    "knn_r.cv_results_[\"mean_test_score\"]"
   ]
  },
  {
   "cell_type": "markdown",
   "metadata": {},
   "source": [
    "We can identify the best scoring model with `numpy`'s `argmax` method"
   ]
  },
  {
   "cell_type": "code",
   "execution_count": 10,
   "metadata": {
    "collapsed": false
   },
   "outputs": [
    {
     "name": "stdout",
     "output_type": "stream",
     "text": [
      "{'weights': 'distance', 'n_neighbors': 3}\n",
      "\n",
      "0.754799410737\n"
     ]
    }
   ],
   "source": [
    "best_index = np.argmax(knn_r.cv_results_[\"mean_test_score\"])\n",
    "\n",
    "print(knn_r.cv_results_[\"params\"][best_index])\n",
    "print()\n",
    "print(max(knn_r.cv_results_[\"mean_test_score\"]))"
   ]
  },
  {
   "cell_type": "markdown",
   "metadata": {},
   "source": [
    "Score on testing data"
   ]
  },
  {
   "cell_type": "code",
   "execution_count": 11,
   "metadata": {
    "collapsed": false
   },
   "outputs": [
    {
     "data": {
      "text/plain": [
       "0.88741690895044401"
      ]
     },
     "execution_count": 11,
     "metadata": {},
     "output_type": "execute_result"
    }
   ],
   "source": [
    "knn_r.score(X_test, y_test)"
   ]
  },
  {
   "cell_type": "markdown",
   "metadata": {},
   "source": [
    "# Classification"
   ]
  },
  {
   "cell_type": "markdown",
   "metadata": {},
   "source": [
    "Following the `R` demonstration, we can also do classfication, first we'll need to convert the distances to three different groupings"
   ]
  },
  {
   "cell_type": "code",
   "execution_count": 12,
   "metadata": {
    "collapsed": false
   },
   "outputs": [
    {
     "data": {
      "text/plain": [
       "(240, 179, 87)"
      ]
     },
     "execution_count": 12,
     "metadata": {},
     "output_type": "execute_result"
    }
   ],
   "source": [
    "new_boston = {\"data\": [],\n",
    "              \"target\": []}\n",
    "\n",
    "for i, arr in enumerate(boston[\"data\"]):\n",
    "    \n",
    "    new_arr = arr\n",
    "    \n",
    "    if arr[7] < 3:\n",
    "        new_boston[\"target\"].append(\"short\")\n",
    "    elif arr[7] < 6:\n",
    "        new_boston[\"target\"].append(\"medium\")\n",
    "    else:\n",
    "        new_boston[\"target\"].append(\"long\")\n",
    "        \n",
    "    new_arr = np.delete(new_arr, 7)\n",
    "    new_arr = np.append(new_arr, boston[\"target\"][i])\n",
    "\n",
    "    new_boston[\"data\"].append(new_arr)\n",
    "    \n",
    "new_boston[\"target\"].count(\"short\"), new_boston[\"target\"].count(\"medium\"), new_boston[\"target\"].count(\"long\")"
   ]
  },
  {
   "cell_type": "markdown",
   "metadata": {},
   "source": [
    "Now we can reassign the new data to training and testing"
   ]
  },
  {
   "cell_type": "code",
   "execution_count": 13,
   "metadata": {
    "collapsed": false
   },
   "outputs": [],
   "source": [
    "X, y = shuffle(new_boston[\"data\"], new_boston[\"target\"], random_state=1)\n",
    "X_train, X_test, y_train, y_test = train_test_split(X, y, train_size=0.8, test_size=0.2)\n",
    "\n",
    "scaler = preprocessing.StandardScaler().fit(X_train)\n",
    "X_train = scaler.transform(X_train)\n",
    "X_test = scaler.transform(X_test)"
   ]
  },
  {
   "cell_type": "code",
   "execution_count": 14,
   "metadata": {
    "collapsed": false
   },
   "outputs": [
    {
     "data": {
      "text/plain": [
       "GridSearchCV(cv=None, error_score='raise',\n",
       "       estimator=KNeighborsClassifier(algorithm='auto', leaf_size=30, metric='minkowski',\n",
       "           metric_params=None, n_jobs=1, n_neighbors=5, p=2,\n",
       "           weights='uniform'),\n",
       "       fit_params={}, iid=True, n_jobs=1,\n",
       "       param_grid={'weights': ['uniform', 'distance'], 'n_neighbors': array([ 1,  2,  3,  4,  5,  6,  7,  8,  9, 10, 11, 12, 13, 14, 15, 16, 17,\n",
       "       18, 19, 20, 21, 22, 23, 24, 25, 26, 27, 28, 29])},\n",
       "       pre_dispatch='2*n_jobs', refit=True, return_train_score=True,\n",
       "       scoring=None, verbose=0)"
      ]
     },
     "execution_count": 14,
     "metadata": {},
     "output_type": "execute_result"
    }
   ],
   "source": [
    "param_grid = {'n_neighbors': np.arange(1, int(k+(k/2)), 1),\n",
    "              'weights': [\"uniform\", \"distance\"]}\n",
    "\n",
    "knn_c = GridSearchCV(neighbors.KNeighborsClassifier(), param_grid)\n",
    "knn_c.fit(X_train, y_train)"
   ]
  },
  {
   "cell_type": "code",
   "execution_count": 15,
   "metadata": {
    "collapsed": false
   },
   "outputs": [
    {
     "data": {
      "text/plain": [
       "['mean_fit_time',\n",
       " 'mean_score_time',\n",
       " 'mean_test_score',\n",
       " 'mean_train_score',\n",
       " 'param_n_neighbors',\n",
       " 'param_weights',\n",
       " 'params',\n",
       " 'rank_test_score',\n",
       " 'split0_test_score',\n",
       " 'split0_train_score',\n",
       " 'split1_test_score',\n",
       " 'split1_train_score',\n",
       " 'split2_test_score',\n",
       " 'split2_train_score',\n",
       " 'std_fit_time',\n",
       " 'std_score_time',\n",
       " 'std_test_score',\n",
       " 'std_train_score']"
      ]
     },
     "execution_count": 15,
     "metadata": {},
     "output_type": "execute_result"
    }
   ],
   "source": [
    "sorted(knn_c.cv_results_.keys())"
   ]
  },
  {
   "cell_type": "code",
   "execution_count": 16,
   "metadata": {
    "collapsed": false
   },
   "outputs": [
    {
     "data": {
      "text/plain": [
       "({'n_neighbors': 1, 'weights': 'uniform'},\n",
       " {'n_neighbors': 1, 'weights': 'distance'},\n",
       " {'n_neighbors': 2, 'weights': 'uniform'},\n",
       " {'n_neighbors': 2, 'weights': 'distance'},\n",
       " {'n_neighbors': 3, 'weights': 'uniform'},\n",
       " {'n_neighbors': 3, 'weights': 'distance'},\n",
       " {'n_neighbors': 4, 'weights': 'uniform'},\n",
       " {'n_neighbors': 4, 'weights': 'distance'},\n",
       " {'n_neighbors': 5, 'weights': 'uniform'},\n",
       " {'n_neighbors': 5, 'weights': 'distance'},\n",
       " {'n_neighbors': 6, 'weights': 'uniform'},\n",
       " {'n_neighbors': 6, 'weights': 'distance'},\n",
       " {'n_neighbors': 7, 'weights': 'uniform'},\n",
       " {'n_neighbors': 7, 'weights': 'distance'},\n",
       " {'n_neighbors': 8, 'weights': 'uniform'},\n",
       " {'n_neighbors': 8, 'weights': 'distance'},\n",
       " {'n_neighbors': 9, 'weights': 'uniform'},\n",
       " {'n_neighbors': 9, 'weights': 'distance'},\n",
       " {'n_neighbors': 10, 'weights': 'uniform'},\n",
       " {'n_neighbors': 10, 'weights': 'distance'},\n",
       " {'n_neighbors': 11, 'weights': 'uniform'},\n",
       " {'n_neighbors': 11, 'weights': 'distance'},\n",
       " {'n_neighbors': 12, 'weights': 'uniform'},\n",
       " {'n_neighbors': 12, 'weights': 'distance'},\n",
       " {'n_neighbors': 13, 'weights': 'uniform'},\n",
       " {'n_neighbors': 13, 'weights': 'distance'},\n",
       " {'n_neighbors': 14, 'weights': 'uniform'},\n",
       " {'n_neighbors': 14, 'weights': 'distance'},\n",
       " {'n_neighbors': 15, 'weights': 'uniform'},\n",
       " {'n_neighbors': 15, 'weights': 'distance'},\n",
       " {'n_neighbors': 16, 'weights': 'uniform'},\n",
       " {'n_neighbors': 16, 'weights': 'distance'},\n",
       " {'n_neighbors': 17, 'weights': 'uniform'},\n",
       " {'n_neighbors': 17, 'weights': 'distance'},\n",
       " {'n_neighbors': 18, 'weights': 'uniform'},\n",
       " {'n_neighbors': 18, 'weights': 'distance'},\n",
       " {'n_neighbors': 19, 'weights': 'uniform'},\n",
       " {'n_neighbors': 19, 'weights': 'distance'},\n",
       " {'n_neighbors': 20, 'weights': 'uniform'},\n",
       " {'n_neighbors': 20, 'weights': 'distance'},\n",
       " {'n_neighbors': 21, 'weights': 'uniform'},\n",
       " {'n_neighbors': 21, 'weights': 'distance'},\n",
       " {'n_neighbors': 22, 'weights': 'uniform'},\n",
       " {'n_neighbors': 22, 'weights': 'distance'},\n",
       " {'n_neighbors': 23, 'weights': 'uniform'},\n",
       " {'n_neighbors': 23, 'weights': 'distance'},\n",
       " {'n_neighbors': 24, 'weights': 'uniform'},\n",
       " {'n_neighbors': 24, 'weights': 'distance'},\n",
       " {'n_neighbors': 25, 'weights': 'uniform'},\n",
       " {'n_neighbors': 25, 'weights': 'distance'},\n",
       " {'n_neighbors': 26, 'weights': 'uniform'},\n",
       " {'n_neighbors': 26, 'weights': 'distance'},\n",
       " {'n_neighbors': 27, 'weights': 'uniform'},\n",
       " {'n_neighbors': 27, 'weights': 'distance'},\n",
       " {'n_neighbors': 28, 'weights': 'uniform'},\n",
       " {'n_neighbors': 28, 'weights': 'distance'},\n",
       " {'n_neighbors': 29, 'weights': 'uniform'},\n",
       " {'n_neighbors': 29, 'weights': 'distance'})"
      ]
     },
     "execution_count": 16,
     "metadata": {},
     "output_type": "execute_result"
    }
   ],
   "source": [
    "knn_c.cv_results_[\"params\"]"
   ]
  },
  {
   "cell_type": "code",
   "execution_count": 17,
   "metadata": {
    "collapsed": false
   },
   "outputs": [
    {
     "data": {
      "text/plain": [
       "array([ 0.8539604 ,  0.8539604 ,  0.83168317,  0.8539604 ,  0.85643564,\n",
       "        0.86138614,  0.83415842,  0.86633663,  0.83910891,  0.85148515,\n",
       "        0.81930693,  0.84653465,  0.80940594,  0.82673267,  0.7970297 ,\n",
       "        0.83168317,  0.7970297 ,  0.81683168,  0.79207921,  0.83168317,\n",
       "        0.80445545,  0.81930693,  0.79950495,  0.82425743,  0.78712871,\n",
       "        0.80940594,  0.79455446,  0.81683168,  0.78217822,  0.81188119,\n",
       "        0.78960396,  0.80693069,  0.7970297 ,  0.80693069,  0.77970297,\n",
       "        0.80693069,  0.77722772,  0.8019802 ,  0.77227723,  0.79950495,\n",
       "        0.77970297,  0.79455446,  0.76980198,  0.79207921,  0.77227723,\n",
       "        0.79207921,  0.75990099,  0.78960396,  0.7549505 ,  0.78465347,\n",
       "        0.75      ,  0.78465347,  0.75990099,  0.78960396,  0.75247525,\n",
       "        0.78960396,  0.75      ,  0.78960396])"
      ]
     },
     "execution_count": 17,
     "metadata": {},
     "output_type": "execute_result"
    }
   ],
   "source": [
    "knn_c.cv_results_[\"mean_test_score\"]"
   ]
  },
  {
   "cell_type": "code",
   "execution_count": 18,
   "metadata": {
    "collapsed": false
   },
   "outputs": [
    {
     "name": "stdout",
     "output_type": "stream",
     "text": [
      "{'weights': 'distance', 'n_neighbors': 4}\n",
      "\n",
      "0.866336633663\n"
     ]
    }
   ],
   "source": [
    "best_index = np.argmax(knn_c.cv_results_[\"mean_test_score\"])\n",
    "\n",
    "print(knn_c.cv_results_[\"params\"][best_index])\n",
    "print()\n",
    "print(max(knn_c.cv_results_[\"mean_test_score\"]))"
   ]
  },
  {
   "cell_type": "code",
   "execution_count": 19,
   "metadata": {
    "collapsed": false
   },
   "outputs": [
    {
     "data": {
      "text/plain": [
       "0.82352941176470584"
      ]
     },
     "execution_count": 19,
     "metadata": {},
     "output_type": "execute_result"
    }
   ],
   "source": [
    "knn_c.score(X_test, y_test)"
   ]
  },
  {
   "cell_type": "code",
   "execution_count": null,
   "metadata": {
    "collapsed": true
   },
   "outputs": [],
   "source": []
  }
 ],
 "metadata": {
  "anaconda-cloud": {},
  "kernelspec": {
   "display_name": "Python [conda root]",
   "language": "python",
   "name": "conda-root-py"
  },
  "language_info": {
   "codemirror_mode": {
    "name": "ipython",
    "version": 3
   },
   "file_extension": ".py",
   "mimetype": "text/x-python",
   "name": "python",
   "nbconvert_exporter": "python",
   "pygments_lexer": "ipython3",
   "version": "3.5.2"
  }
 },
 "nbformat": 4,
 "nbformat_minor": 1
}
