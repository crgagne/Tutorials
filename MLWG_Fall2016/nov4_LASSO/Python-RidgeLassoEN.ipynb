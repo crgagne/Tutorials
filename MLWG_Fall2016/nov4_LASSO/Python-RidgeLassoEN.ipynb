{
 "cells": [
  {
   "cell_type": "markdown",
   "metadata": {},
   "source": [
    "# Ridge, LASSO, and Elastic Net Regression"
   ]
  },
  {
   "cell_type": "code",
   "execution_count": 1,
   "metadata": {
    "collapsed": false
   },
   "outputs": [],
   "source": [
    "import numpy as np\n",
    "np.random.seed(1)"
   ]
  },
  {
   "cell_type": "markdown",
   "metadata": {},
   "source": [
    "### Dataset and prep"
   ]
  },
  {
   "cell_type": "code",
   "execution_count": 2,
   "metadata": {
    "collapsed": false
   },
   "outputs": [],
   "source": [
    "from sklearn.datasets import load_boston\n",
    "\n",
    "boston = load_boston()"
   ]
  },
  {
   "cell_type": "code",
   "execution_count": 3,
   "metadata": {
    "collapsed": false
   },
   "outputs": [
    {
     "name": "stdout",
     "output_type": "stream",
     "text": [
      "['CRIM' 'ZN' 'INDUS' 'CHAS' 'NOX' 'RM' 'AGE' 'DIS' 'RAD' 'TAX' 'PTRATIO'\n",
      " 'B' 'LSTAT']\n",
      "\n",
      "<class 'numpy.ndarray'>\n",
      "\n",
      "13\n"
     ]
    }
   ],
   "source": [
    "print(boston.feature_names)\n",
    "print()\n",
    "print(type(boston.feature_names))\n",
    "print()\n",
    "print(len(boston.feature_names))"
   ]
  },
  {
   "cell_type": "code",
   "execution_count": 4,
   "metadata": {
    "collapsed": false,
    "scrolled": true
   },
   "outputs": [
    {
     "name": "stdout",
     "output_type": "stream",
     "text": [
      "[[  6.32000000e-03   1.80000000e+01   2.31000000e+00 ...,   1.53000000e+01\n",
      "    3.96900000e+02   4.98000000e+00]\n",
      " [  2.73100000e-02   0.00000000e+00   7.07000000e+00 ...,   1.78000000e+01\n",
      "    3.96900000e+02   9.14000000e+00]\n",
      " [  2.72900000e-02   0.00000000e+00   7.07000000e+00 ...,   1.78000000e+01\n",
      "    3.92830000e+02   4.03000000e+00]\n",
      " ..., \n",
      " [  6.07600000e-02   0.00000000e+00   1.19300000e+01 ...,   2.10000000e+01\n",
      "    3.96900000e+02   5.64000000e+00]\n",
      " [  1.09590000e-01   0.00000000e+00   1.19300000e+01 ...,   2.10000000e+01\n",
      "    3.93450000e+02   6.48000000e+00]\n",
      " [  4.74100000e-02   0.00000000e+00   1.19300000e+01 ...,   2.10000000e+01\n",
      "    3.96900000e+02   7.88000000e+00]]\n",
      "\n",
      "<class 'numpy.ndarray'>\n",
      "\n",
      "506\n"
     ]
    }
   ],
   "source": [
    "print(boston.data)\n",
    "print()\n",
    "print(type(boston.data))\n",
    "print()\n",
    "print(len(boston.data))"
   ]
  },
  {
   "cell_type": "code",
   "execution_count": 5,
   "metadata": {
    "collapsed": false
   },
   "outputs": [
    {
     "name": "stdout",
     "output_type": "stream",
     "text": [
      "[ 24.   21.6  34.7  33.4  36.2  28.7  22.9  27.1  16.5  18.9  15.   18.9\n",
      "  21.7  20.4  18.2  19.9  23.1  17.5  20.2  18.2  13.6  19.6  15.2  14.5\n",
      "  15.6  13.9  16.6  14.8  18.4  21.   12.7  14.5  13.2  13.1  13.5  18.9\n",
      "  20.   21.   24.7  30.8  34.9  26.6  25.3  24.7  21.2  19.3  20.   16.6\n",
      "  14.4  19.4  19.7  20.5  25.   23.4  18.9  35.4  24.7  31.6  23.3  19.6\n",
      "  18.7  16.   22.2  25.   33.   23.5  19.4  22.   17.4  20.9  24.2  21.7\n",
      "  22.8  23.4  24.1  21.4  20.   20.8  21.2  20.3  28.   23.9  24.8  22.9\n",
      "  23.9  26.6  22.5  22.2  23.6  28.7  22.6  22.   22.9  25.   20.6  28.4\n",
      "  21.4  38.7  43.8  33.2  27.5  26.5  18.6  19.3  20.1  19.5  19.5  20.4\n",
      "  19.8  19.4  21.7  22.8  18.8  18.7  18.5  18.3  21.2  19.2  20.4  19.3\n",
      "  22.   20.3  20.5  17.3  18.8  21.4  15.7  16.2  18.   14.3  19.2  19.6\n",
      "  23.   18.4  15.6  18.1  17.4  17.1  13.3  17.8  14.   14.4  13.4  15.6\n",
      "  11.8  13.8  15.6  14.6  17.8  15.4  21.5  19.6  15.3  19.4  17.   15.6\n",
      "  13.1  41.3  24.3  23.3  27.   50.   50.   50.   22.7  25.   50.   23.8\n",
      "  23.8  22.3  17.4  19.1  23.1  23.6  22.6  29.4  23.2  24.6  29.9  37.2\n",
      "  39.8  36.2  37.9  32.5  26.4  29.6  50.   32.   29.8  34.9  37.   30.5\n",
      "  36.4  31.1  29.1  50.   33.3  30.3  34.6  34.9  32.9  24.1  42.3  48.5\n",
      "  50.   22.6  24.4  22.5  24.4  20.   21.7  19.3  22.4  28.1  23.7  25.\n",
      "  23.3  28.7  21.5  23.   26.7  21.7  27.5  30.1  44.8  50.   37.6  31.6\n",
      "  46.7  31.5  24.3  31.7  41.7  48.3  29.   24.   25.1  31.5  23.7  23.3\n",
      "  22.   20.1  22.2  23.7  17.6  18.5  24.3  20.5  24.5  26.2  24.4  24.8\n",
      "  29.6  42.8  21.9  20.9  44.   50.   36.   30.1  33.8  43.1  48.8  31.\n",
      "  36.5  22.8  30.7  50.   43.5  20.7  21.1  25.2  24.4  35.2  32.4  32.\n",
      "  33.2  33.1  29.1  35.1  45.4  35.4  46.   50.   32.2  22.   20.1  23.2\n",
      "  22.3  24.8  28.5  37.3  27.9  23.9  21.7  28.6  27.1  20.3  22.5  29.\n",
      "  24.8  22.   26.4  33.1  36.1  28.4  33.4  28.2  22.8  20.3  16.1  22.1\n",
      "  19.4  21.6  23.8  16.2  17.8  19.8  23.1  21.   23.8  23.1  20.4  18.5\n",
      "  25.   24.6  23.   22.2  19.3  22.6  19.8  17.1  19.4  22.2  20.7  21.1\n",
      "  19.5  18.5  20.6  19.   18.7  32.7  16.5  23.9  31.2  17.5  17.2  23.1\n",
      "  24.5  26.6  22.9  24.1  18.6  30.1  18.2  20.6  17.8  21.7  22.7  22.6\n",
      "  25.   19.9  20.8  16.8  21.9  27.5  21.9  23.1  50.   50.   50.   50.\n",
      "  50.   13.8  13.8  15.   13.9  13.3  13.1  10.2  10.4  10.9  11.3  12.3\n",
      "   8.8   7.2  10.5   7.4  10.2  11.5  15.1  23.2   9.7  13.8  12.7  13.1\n",
      "  12.5   8.5   5.    6.3   5.6   7.2  12.1   8.3   8.5   5.   11.9  27.9\n",
      "  17.2  27.5  15.   17.2  17.9  16.3   7.    7.2   7.5  10.4   8.8   8.4\n",
      "  16.7  14.2  20.8  13.4  11.7   8.3  10.2  10.9  11.    9.5  14.5  14.1\n",
      "  16.1  14.3  11.7  13.4   9.6   8.7   8.4  12.8  10.5  17.1  18.4  15.4\n",
      "  10.8  11.8  14.9  12.6  14.1  13.   13.4  15.2  16.1  17.8  14.9  14.1\n",
      "  12.7  13.5  14.9  20.   16.4  17.7  19.5  20.2  21.4  19.9  19.   19.1\n",
      "  19.1  20.1  19.9  19.6  23.2  29.8  13.8  13.3  16.7  12.   14.6  21.4\n",
      "  23.   23.7  25.   21.8  20.6  21.2  19.1  20.6  15.2   7.    8.1  13.6\n",
      "  20.1  21.8  24.5  23.1  19.7  18.3  21.2  17.5  16.8  22.4  20.6  23.9\n",
      "  22.   11.9]\n",
      "\n",
      "<class 'numpy.ndarray'>\n",
      "\n",
      "506\n"
     ]
    }
   ],
   "source": [
    "print(boston.target)\n",
    "print()\n",
    "print(type(boston.target))\n",
    "print()\n",
    "print(len(boston.target))"
   ]
  },
  {
   "cell_type": "markdown",
   "metadata": {},
   "source": [
    "### Train/Test Split"
   ]
  },
  {
   "cell_type": "code",
   "execution_count": 6,
   "metadata": {
    "collapsed": false
   },
   "outputs": [
    {
     "name": "stderr",
     "output_type": "stream",
     "text": [
      "/Users/chench/anaconda/lib/python3.5/site-packages/sklearn/cross_validation.py:44: DeprecationWarning: This module was deprecated in version 0.18 in favor of the model_selection module into which all the refactored classes and functions are moved. Also note that the interface of the new CV iterators are different from that of this module. This module will be removed in 0.20.\n",
      "  \"This module will be removed in 0.20.\", DeprecationWarning)\n"
     ]
    }
   ],
   "source": [
    "from sklearn.cross_validation import train_test_split\n",
    "from sklearn import preprocessing\n",
    "from sklearn.utils import shuffle\n",
    "\n",
    "X, y = shuffle(boston.data, boston.target, random_state=1)\n",
    "X_train, X_test, y_train, y_test = train_test_split(X, y, train_size=0.8, test_size=0.2)\n",
    "\n",
    "# scaler = preprocessing.StandardScaler().fit(X_train)\n",
    "# X_train = scaler.transform(X_train)\n",
    "# X_test = scaler.transform(X_test)"
   ]
  },
  {
   "cell_type": "markdown",
   "metadata": {},
   "source": [
    "### Models"
   ]
  },
  {
   "cell_type": "code",
   "execution_count": 7,
   "metadata": {
    "collapsed": false
   },
   "outputs": [
    {
     "name": "stdout",
     "output_type": "stream",
     "text": [
      "Linear R2:\n",
      "\n",
      "0.777301549269\n",
      "\n",
      "Ridge R2:\n",
      "\n",
      "0.777411603058\n",
      "\n",
      "Lasso R2:\n",
      "\n",
      "0.76449364932\n",
      "\n",
      "Elastic Net R2:\n",
      "\n",
      "0.76449364932\n"
     ]
    },
    {
     "name": "stderr",
     "output_type": "stream",
     "text": [
      "/Users/chench/anaconda/lib/python3.5/site-packages/scipy/linalg/basic.py:884: RuntimeWarning: internal gelsd driver lwork query error, required iwork dimension not returned. This is likely the result of LAPACK bug 0038, fixed in LAPACK 3.2.2 (released July 21, 2010). Falling back to 'gelss' driver.\n",
      "  warnings.warn(mesg, RuntimeWarning)\n"
     ]
    }
   ],
   "source": [
    "from sklearn.linear_model import Ridge, Lasso, ElasticNet, LinearRegression\n",
    "import numpy as np\n",
    "\n",
    "np.random.seed(50)\n",
    "\n",
    "lin_reg = LinearRegression()\n",
    "\n",
    "ridge_reg = Ridge(alpha=.1,  # regularization (L2) strength\n",
    "                  max_iter=1000,\n",
    "                  tol=0.0001,  # when to stop\n",
    "                  random_state=40,\n",
    "                  solver='auto')  # or ‘svd’, ‘cholesky’, ‘lsqr’, ‘sparse_cg’, ‘sag’\n",
    "\n",
    "lasso_reg = Lasso(alpha=.1,  # multiples L1 penalty, a 0 is linreg\n",
    "                  max_iter=1000,\n",
    "                  tol=0.0001,  # when to stop\n",
    "                  random_state=40,\n",
    "                  selection='cyclic')  # how to update coefficients, also 'random'\n",
    "\n",
    "en_reg = ElasticNet(alpha=.1,  # multiplies penalty, 0 is linreg\n",
    "                    l1_ratio=0.5,  # ratio of L1 in penalty, 0 would be pure L2 penalty, mix of ridge and lasso\n",
    "                    max_iter=1000,\n",
    "                    tol=0.0001,  # when to stop\n",
    "                    random_state=40,\n",
    "                    selection='cyclic')  # how to update coefficients, also 'random'\n",
    "\n",
    "lin_model = lin_reg.fit(X_train, y_train)\n",
    "ridge_model = ridge_reg.fit(X_train, y_train)\n",
    "lasso_model = lasso_reg.fit(X_train, y_train)\n",
    "en_model = lasso_reg.fit(X_train, y_train)\n",
    "\n",
    "\n",
    "print(\"Linear R2:\\n\")\n",
    "print(lin_model.score(X_test, y_test))  # R2\n",
    "print()\n",
    "print(\"Ridge R2:\\n\")\n",
    "print(ridge_model.score(X_test, y_test))  # R2\n",
    "print()\n",
    "print(\"Lasso R2:\\n\")\n",
    "print(lasso_model.score(X_test, y_test))  # R2\n",
    "print()\n",
    "print(\"Elastic Net R2:\\n\")\n",
    "print(en_model.score(X_test, y_test))  # R2"
   ]
  },
  {
   "cell_type": "markdown",
   "metadata": {},
   "source": [
    "### Compare coefficients"
   ]
  },
  {
   "cell_type": "code",
   "execution_count": 8,
   "metadata": {
    "collapsed": false
   },
   "outputs": [
    {
     "name": "stdout",
     "output_type": "stream",
     "text": [
      "LinearRegression(copy_X=True, fit_intercept=True, n_jobs=1, normalize=False)\n",
      "\n",
      "[ -1.03578977e-01   5.42378069e-02   2.82037138e-02   2.81223056e+00\n",
      "  -1.81392223e+01   3.29310982e+00   4.06700288e-03  -1.46741131e+00\n",
      "   2.80749840e-01  -1.02891108e-02  -1.00676378e+00   1.03776202e-02\n",
      "  -5.54939684e-01]\n",
      "\n",
      "Ridge(alpha=0.1, copy_X=True, fit_intercept=True, max_iter=1000,\n",
      "   normalize=False, random_state=40, solver='auto', tol=0.0001)\n",
      "\n",
      "[ -1.03197704e-01   5.44079954e-02   2.23811201e-02   2.78714859e+00\n",
      "  -1.68141771e+01   3.30407096e+00   2.77771168e-03  -1.45001489e+00\n",
      "   2.77579633e-01  -1.04007327e-02  -9.91299646e-01   1.04473186e-02\n",
      "  -5.56186469e-01]\n",
      "\n",
      "Lasso(alpha=0.1, copy_X=True, fit_intercept=True, max_iter=1000,\n",
      "   normalize=False, positive=False, precompute=False, random_state=40,\n",
      "   selection='cyclic', tol=0.0001, warm_start=False)\n",
      "\n",
      "[-0.09747232  0.05741137 -0.03371913  1.04143348 -0.          3.2049459\n",
      " -0.00902377 -1.17808084  0.24726673 -0.01259232 -0.80293305  0.01149443\n",
      " -0.5924096 ]\n",
      "\n",
      "Lasso(alpha=0.1, copy_X=True, fit_intercept=True, max_iter=1000,\n",
      "   normalize=False, positive=False, precompute=False, random_state=40,\n",
      "   selection='cyclic', tol=0.0001, warm_start=False)\n",
      "\n",
      "[-0.09747232  0.05741137 -0.03371913  1.04143348 -0.          3.2049459\n",
      " -0.00902377 -1.17808084  0.24726673 -0.01259232 -0.80293305  0.01149443\n",
      " -0.5924096 ]\n",
      "\n"
     ]
    }
   ],
   "source": [
    "for model in (lin_model, ridge_model, lasso_model, en_model):\n",
    "    print(model)\n",
    "    print()\n",
    "    print (model.coef_)\n",
    "    print()"
   ]
  },
  {
   "cell_type": "code",
   "execution_count": 9,
   "metadata": {
    "collapsed": false
   },
   "outputs": [
    {
     "data": {
      "image/png": "[encoded data removed]",
      "text/plain": [
       "<matplotlib.figure.Figure at 0x108b99470>"
      ]
     },
     "metadata": {},
     "output_type": "display_data"
    }
   ],
   "source": [
    "% matplotlib inline\n",
    "import matplotlib.pyplot as plt\n",
    "from sklearn.metrics import r2_score\n",
    "\n",
    "y_pred_lin = lin_reg.fit(X_train, y_train).predict(X_test)\n",
    "y_pred_en = en_reg.fit(X_train, y_train).predict(X_test)\n",
    "y_pred_lasso = lasso_reg.fit(X_train, y_train).predict(X_test)\n",
    "y_pred_ridge = ridge_reg.fit(X_train, y_train).predict(X_test)\n",
    "\n",
    "plt.plot(ridge_model.coef_, color='green', linewidth=2, label='Linear Reg. coefficients')\n",
    "plt.plot(ridge_model.coef_, color='blue', linewidth=2, label='Ridge coefficients')\n",
    "plt.plot(lasso_model.coef_, color='gold', linewidth=2, label='Lasso coefficients')\n",
    "plt.plot(en_model.coef_, color='red', linewidth=2, label='Elastic Net coefficients')\n",
    "\n",
    "# plt.plot(coef, '--', color='navy', label='original coefficients')\n",
    "plt.legend(loc='best')\n",
    "plt.title(\"Linear Reg. R^2: %f, Ridge Net R^2: %f, Lasso R^2: %f, Elastic Net R^2: %f\"\n",
    "          % (r2_score(y_test, y_pred_lin), r2_score(y_test, y_pred_ridge), r2_score(y_test, y_pred_lasso), r2_score(y_test, y_pred_en)))\n",
    "plt.show()"
   ]
  },
  {
   "cell_type": "markdown",
   "metadata": {},
   "source": [
    "### CV Models"
   ]
  },
  {
   "cell_type": "code",
   "execution_count": 10,
   "metadata": {
    "collapsed": false
   },
   "outputs": [
    {
     "name": "stdout",
     "output_type": "stream",
     "text": [
      "Linear Reg. CV R2:\n",
      "\n",
      "[ 0.63861069  0.71334432  0.58645134  0.07842495 -0.26312455] ---Average: 0.350741350933\n",
      "\n",
      "Ridge CV R2:\n",
      "\n",
      "[ 0.64270074  0.72281614  0.59446504  0.07907754 -0.24666381] ---Average: 0.358479131388\n",
      "\n",
      "Lasso CV R2:\n",
      "\n",
      "[ 0.67465461  0.73260743  0.63221137  0.09407457 -0.12839199] ---Average: 0.401031199074\n",
      "\n",
      "Elastic Net CV R2:\n",
      "\n",
      "[ 0.66149155  0.72486107  0.62129923  0.21353879 -0.00841982] ---Average: 0.442554165173\n"
     ]
    }
   ],
   "source": [
    "from sklearn.model_selection import cross_val_score\n",
    "lin_scores = cross_val_score(lin_reg, boston.data, boston.target, cv=5)\n",
    "ridge_scores = cross_val_score(ridge_reg, boston.data, boston.target, cv=5)\n",
    "lasso_scores = cross_val_score(lasso_reg, boston.data, boston.target, cv=5)\n",
    "en_scores = cross_val_score(en_reg, boston.data, boston.target, cv=5)\n",
    "\n",
    "print(\"Linear Reg. CV R2:\\n\")\n",
    "print(lin_scores, \"---Average:\", np.mean(lin_scores))  # R2\n",
    "print()\n",
    "print(\"Ridge CV R2:\\n\")\n",
    "print(ridge_scores, \"---Average:\", np.mean(ridge_scores))  # R2\n",
    "print()\n",
    "print(\"Lasso CV R2:\\n\")\n",
    "print(lasso_scores, \"---Average:\", np.mean(lasso_scores))  # R2\n",
    "print()\n",
    "print(\"Elastic Net CV R2:\\n\")\n",
    "print(en_scores, \"---Average:\", np.mean(en_scores))  # R2"
   ]
  },
  {
   "cell_type": "markdown",
   "metadata": {},
   "source": [
    "## Grid Search"
   ]
  },
  {
   "cell_type": "code",
   "execution_count": 11,
   "metadata": {
    "collapsed": false
   },
   "outputs": [
    {
     "name": "stdout",
     "output_type": "stream",
     "text": [
      "GridSearchCV(cv=None, error_score='raise',\n",
      "       estimator=Ridge(alpha=1.0, copy_X=True, fit_intercept=True, max_iter=None,\n",
      "   normalize=False, random_state=None, solver='auto', tol=0.001),\n",
      "       fit_params={}, iid=True, n_jobs=1,\n",
      "       param_grid={'alpha': array([ 0.01,  0.02, ...,  0.98,  0.99])},\n",
      "       pre_dispatch='2*n_jobs', refit=True, return_train_score=True,\n",
      "       scoring=None, verbose=0)\n",
      "{'alpha': 0.050000000000000003}\n",
      "0.703900909882\n",
      "0.777372002641\n",
      "------------------------------\n",
      "GridSearchCV(cv=None, error_score='raise',\n",
      "       estimator=Lasso(alpha=1.0, copy_X=True, fit_intercept=True, max_iter=1000,\n",
      "   normalize=False, positive=False, precompute=False, random_state=None,\n",
      "   selection='cyclic', tol=0.0001, warm_start=False),\n",
      "       fit_params={}, iid=True, n_jobs=1,\n",
      "       param_grid={'alpha': array([ 0.01,  0.02, ...,  0.98,  0.99])},\n",
      "       pre_dispatch='2*n_jobs', refit=True, return_train_score=True,\n",
      "       scoring=None, verbose=0)\n",
      "{'alpha': 0.01}\n",
      "0.703588046464\n",
      "0.777085897164\n",
      "------------------------------\n",
      "GridSearchCV(cv=None, error_score='raise',\n",
      "       estimator=ElasticNet(alpha=1.0, copy_X=True, fit_intercept=True, l1_ratio=0.5,\n",
      "      max_iter=1000, normalize=False, positive=False, precompute=False,\n",
      "      random_state=None, selection='cyclic', tol=0.0001, warm_start=False),\n",
      "       fit_params={}, iid=True, n_jobs=1,\n",
      "       param_grid={'alpha': array([ 0.01,  0.02, ...,  0.98,  0.99])},\n",
      "       pre_dispatch='2*n_jobs', refit=True, return_train_score=True,\n",
      "       scoring=None, verbose=0)\n",
      "{'alpha': 0.01}\n",
      "0.698986390717\n",
      "0.774042067725\n",
      "------------------------------\n"
     ]
    }
   ],
   "source": [
    "from sklearn.model_selection import GridSearchCV\n",
    "\n",
    "for m in [Ridge(), Lasso(), ElasticNet()]:\n",
    "\n",
    "    param_grid = {'alpha': np.arange(.01, 1, .01)}\n",
    "\n",
    "    model_r = GridSearchCV(m, param_grid)\n",
    "    model_r.fit(X_train, y_train)\n",
    "    \n",
    "    print(model_r)\n",
    "\n",
    "    best_index = np.argmax(model_r.cv_results_[\"mean_test_score\"])\n",
    "\n",
    "    print(model_r.cv_results_[\"params\"][best_index])\n",
    "    print(max(model_r.cv_results_[\"mean_test_score\"]))\n",
    "    print(model_r.score(X_test, y_test))\n",
    "    print(\"---\"*10)"
   ]
  },
  {
   "cell_type": "code",
   "execution_count": null,
   "metadata": {
    "collapsed": true
   },
   "outputs": [],
   "source": []
  }
 ],
 "metadata": {
  "anaconda-cloud": {},
  "kernelspec": {
   "display_name": "Python [default]",
   "language": "python",
   "name": "python3"
  },
  "language_info": {
   "codemirror_mode": {
    "name": "ipython",
    "version": 3
   },
   "file_extension": ".py",
   "mimetype": "text/x-python",
   "name": "python",
   "nbconvert_exporter": "python",
   "pygments_lexer": "ipython3",
   "version": "3.5.2"
  }
 },
 "nbformat": 4,
 "nbformat_minor": 0
}
